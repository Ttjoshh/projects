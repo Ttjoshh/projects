{
 "cells": [
  {
   "cell_type": "markdown",
   "metadata": {},
   "source": [
    "Installing Required Libraries"
   ]
  },
  {
   "cell_type": "code",
   "execution_count": 3,
   "metadata": {},
   "outputs": [
    {
     "name": "stdout",
     "output_type": "stream",
     "text": [
      "Requirement already satisfied: yfinance in c:\\users\\khupmuanlian tunglut\\appdata\\local\\programs\\python\\python311\\lib\\site-packages (0.2.44)\n",
      "Requirement already satisfied: cufflinks in c:\\users\\khupmuanlian tunglut\\appdata\\local\\programs\\python\\python311\\lib\\site-packages (0.17.3)\n",
      "Requirement already satisfied: mercury in c:\\users\\khupmuanlian tunglut\\appdata\\local\\programs\\python\\python311\\lib\\site-packages (2.4.3)Note: you may need to restart the kernel to use updated packages.\n",
      "\n",
      "Requirement already satisfied: pandas>=1.3.0 in c:\\users\\khupmuanlian tunglut\\appdata\\local\\programs\\python\\python311\\lib\\site-packages (from yfinance) (2.2.2)\n",
      "Requirement already satisfied: numpy>=1.16.5 in c:\\users\\khupmuanlian tunglut\\appdata\\local\\programs\\python\\python311\\lib\\site-packages (from yfinance) (1.26.4)\n",
      "Requirement already satisfied: requests>=2.31 in c:\\users\\khupmuanlian tunglut\\appdata\\local\\programs\\python\\python311\\lib\\site-packages (from yfinance) (2.32.3)\n",
      "Requirement already satisfied: multitasking>=0.0.7 in c:\\users\\khupmuanlian tunglut\\appdata\\local\\programs\\python\\python311\\lib\\site-packages (from yfinance) (0.0.11)\n"
     ]
    },
    {
     "name": "stdout",
     "output_type": "stream",
     "text": [
      "Requirement already satisfied: lxml>=4.9.1 in c:\\users\\khupmuanlian tunglut\\appdata\\local\\programs\\python\\python311\\lib\\site-packages (from yfinance) (5.3.0)\n",
      "Requirement already satisfied: platformdirs>=2.0.0 in c:\\users\\khupmuanlian tunglut\\appdata\\roaming\\python\\python311\\site-packages (from yfinance) (4.3.6)\n",
      "Requirement already satisfied: pytz>=2022.5 in c:\\users\\khupmuanlian tunglut\\appdata\\local\\programs\\python\\python311\\lib\\site-packages (from yfinance) (2024.1)\n",
      "Requirement already satisfied: frozendict>=2.3.4 in c:\\users\\khupmuanlian tunglut\\appdata\\local\\programs\\python\\python311\\lib\\site-packages (from yfinance) (2.4.5)\n",
      "Requirement already satisfied: peewee>=3.16.2 in c:\\users\\khupmuanlian tunglut\\appdata\\local\\programs\\python\\python311\\lib\\site-packages (from yfinance) (3.17.6)\n",
      "Requirement already satisfied: beautifulsoup4>=4.11.1 in c:\\users\\khupmuanlian tunglut\\appdata\\local\\programs\\python\\python311\\lib\\site-packages (from yfinance) (4.12.3)\n",
      "Requirement already satisfied: html5lib>=1.1 in c:\\users\\khupmuanlian tunglut\\appdata\\local\\programs\\python\\python311\\lib\\site-packages (from yfinance) (1.1)\n",
      "Requirement already satisfied: plotly>=4.1.1 in c:\\users\\khupmuanlian tunglut\\appdata\\local\\programs\\python\\python311\\lib\\site-packages (from cufflinks) (5.24.1)\n",
      "Requirement already satisfied: six>=1.9.0 in c:\\users\\khupmuanlian tunglut\\appdata\\local\\programs\\python\\python311\\lib\\site-packages (from cufflinks) (1.16.0)\n",
      "Requirement already satisfied: colorlover>=0.2.1 in c:\\users\\khupmuanlian tunglut\\appdata\\local\\programs\\python\\python311\\lib\\site-packages (from cufflinks) (0.3.0)\n",
      "Requirement already satisfied: setuptools>=34.4.1 in c:\\users\\khupmuanlian tunglut\\appdata\\local\\programs\\python\\python311\\lib\\site-packages (from cufflinks) (65.5.0)\n",
      "Requirement already satisfied: ipython>=5.3.0 in c:\\users\\khupmuanlian tunglut\\appdata\\roaming\\python\\python311\\site-packages (from cufflinks) (8.28.0)\n",
      "Requirement already satisfied: ipywidgets>=7.0.0 in c:\\users\\khupmuanlian tunglut\\appdata\\local\\programs\\python\\python311\\lib\\site-packages (from cufflinks) (8.0.3)\n",
      "Requirement already satisfied: django==4.2.7 in c:\\users\\khupmuanlian tunglut\\appdata\\local\\programs\\python\\python311\\lib\\site-packages (from mercury) (4.2.7)\n",
      "Requirement already satisfied: djangorestframework==3.14.0 in c:\\users\\khupmuanlian tunglut\\appdata\\local\\programs\\python\\python311\\lib\\site-packages (from mercury) (3.14.0)\n",
      "Requirement already satisfied: django-filter==21.1 in c:\\users\\khupmuanlian tunglut\\appdata\\local\\programs\\python\\python311\\lib\\site-packages (from mercury) (21.1)\n",
      "Requirement already satisfied: markdown==3.3.6 in c:\\users\\khupmuanlian tunglut\\appdata\\local\\programs\\python\\python311\\lib\\site-packages (from mercury) (3.3.6)\n",
      "Requirement already satisfied: celery>=5.1.2 in c:\\users\\khupmuanlian tunglut\\appdata\\local\\programs\\python\\python311\\lib\\site-packages (from mercury) (5.4.0)\n",
      "Requirement already satisfied: sqlalchemy==1.4.27 in c:\\users\\khupmuanlian tunglut\\appdata\\local\\programs\\python\\python311\\lib\\site-packages (from mercury) (1.4.27)\n",
      "Requirement already satisfied: gevent in c:\\users\\khupmuanlian tunglut\\appdata\\local\\programs\\python\\python311\\lib\\site-packages (from mercury) (24.2.1)\n",
      "Requirement already satisfied: nbconvert>=7.8.0 in c:\\users\\khupmuanlian tunglut\\appdata\\local\\programs\\python\\python311\\lib\\site-packages (from mercury) (7.16.4)\n",
      "Requirement already satisfied: ipython-genutils in c:\\users\\khupmuanlian tunglut\\appdata\\local\\programs\\python\\python311\\lib\\site-packages (from mercury) (0.2.0)\n",
      "Requirement already satisfied: django-cors-headers==3.10.1 in c:\\users\\khupmuanlian tunglut\\appdata\\local\\programs\\python\\python311\\lib\\site-packages (from mercury) (3.10.1)\n",
      "Requirement already satisfied: ipykernel>=6.6.0 in c:\\users\\khupmuanlian tunglut\\appdata\\roaming\\python\\python311\\site-packages (from mercury) (6.29.5)\n",
      "Requirement already satisfied: psutil>=5.8.0 in c:\\users\\khupmuanlian tunglut\\appdata\\roaming\\python\\python311\\site-packages (from mercury) (6.0.0)\n",
      "Requirement already satisfied: whitenoise>=5.3.0 in c:\\users\\khupmuanlian tunglut\\appdata\\local\\programs\\python\\python311\\lib\\site-packages (from mercury) (6.7.0)\n",
      "Requirement already satisfied: python-dotenv>=0.19.2 in c:\\users\\khupmuanlian tunglut\\appdata\\local\\programs\\python\\python311\\lib\\site-packages (from mercury) (1.0.1)\n",
      "Requirement already satisfied: django-drf-filepond==0.4.1 in c:\\users\\khupmuanlian tunglut\\appdata\\local\\programs\\python\\python311\\lib\\site-packages (from mercury) (0.4.1)\n",
      "Requirement already satisfied: croniter>=1.3.5 in c:\\users\\khupmuanlian tunglut\\appdata\\local\\programs\\python\\python311\\lib\\site-packages (from mercury) (3.0.3)\n",
      "Requirement already satisfied: pyppeteer==1.0.2 in c:\\users\\khupmuanlian tunglut\\appdata\\local\\programs\\python\\python311\\lib\\site-packages (from mercury) (1.0.2)\n",
      "Requirement already satisfied: channels>=4.0.0 in c:\\users\\khupmuanlian tunglut\\appdata\\local\\programs\\python\\python311\\lib\\site-packages (from channels[daphne]>=4.0.0->mercury) (4.1.0)\n",
      "Requirement already satisfied: websocket-client>=1.4.2 in c:\\users\\khupmuanlian tunglut\\appdata\\local\\programs\\python\\python311\\lib\\site-packages (from mercury) (1.8.0)\n",
      "Requirement already satisfied: execnb in c:\\users\\khupmuanlian tunglut\\appdata\\local\\programs\\python\\python311\\lib\\site-packages (from mercury) (0.1.6)\n",
      "Requirement already satisfied: dj-rest-auth==3.0.0 in c:\\users\\khupmuanlian tunglut\\appdata\\local\\programs\\python\\python311\\lib\\site-packages (from dj-rest-auth[with_social]==3.0.0->mercury) (3.0.0)\n",
      "Requirement already satisfied: boto3==1.26.83 in c:\\users\\khupmuanlian tunglut\\appdata\\local\\programs\\python\\python311\\lib\\site-packages (from mercury) (1.26.83)\n",
      "Requirement already satisfied: cryptography in c:\\users\\khupmuanlian tunglut\\appdata\\local\\programs\\python\\python311\\lib\\site-packages (from mercury) (43.0.1)\n",
      "Requirement already satisfied: pyopenssl>=23.1.1 in c:\\users\\khupmuanlian tunglut\\appdata\\local\\programs\\python\\python311\\lib\\site-packages (from mercury) (24.2.1)\n",
      "Requirement already satisfied: bleach>=6.0.0 in c:\\users\\khupmuanlian tunglut\\appdata\\local\\programs\\python\\python311\\lib\\site-packages (from mercury) (6.1.0)\n",
      "Requirement already satisfied: itables>=2.0.0 in c:\\users\\khupmuanlian tunglut\\appdata\\local\\programs\\python\\python311\\lib\\site-packages (from mercury) (2.2.2)\n",
      "Requirement already satisfied: botocore<1.30.0,>=1.29.83 in c:\\users\\khupmuanlian tunglut\\appdata\\local\\programs\\python\\python311\\lib\\site-packages (from boto3==1.26.83->mercury) (1.29.165)\n",
      "Requirement already satisfied: jmespath<2.0.0,>=0.7.1 in c:\\users\\khupmuanlian tunglut\\appdata\\local\\programs\\python\\python311\\lib\\site-packages (from boto3==1.26.83->mercury) (1.0.1)\n",
      "Requirement already satisfied: s3transfer<0.7.0,>=0.6.0 in c:\\users\\khupmuanlian tunglut\\appdata\\local\\programs\\python\\python311\\lib\\site-packages (from boto3==1.26.83->mercury) (0.6.2)\n",
      "Requirement already satisfied: django-allauth<0.53.0,>=0.40.0 in c:\\users\\khupmuanlian tunglut\\appdata\\local\\programs\\python\\python311\\lib\\site-packages (from dj-rest-auth[with_social]==3.0.0->mercury) (0.52.0)\n",
      "Requirement already satisfied: asgiref<4,>=3.6.0 in c:\\users\\khupmuanlian tunglut\\appdata\\local\\programs\\python\\python311\\lib\\site-packages (from django==4.2.7->mercury) (3.8.1)\n",
      "Requirement already satisfied: sqlparse>=0.3.1 in c:\\users\\khupmuanlian tunglut\\appdata\\local\\programs\\python\\python311\\lib\\site-packages (from django==4.2.7->mercury) (0.5.1)\n",
      "Requirement already satisfied: tzdata in c:\\users\\khupmuanlian tunglut\\appdata\\local\\programs\\python\\python311\\lib\\site-packages (from django==4.2.7->mercury) (2024.1)\n",
      "Requirement already satisfied: shortuuid>=0.5.0 in c:\\users\\khupmuanlian tunglut\\appdata\\local\\programs\\python\\python311\\lib\\site-packages (from django-drf-filepond==0.4.1->mercury) (1.0.13)\n",
      "Requirement already satisfied: django-storages>=1.9.1 in c:\\users\\khupmuanlian tunglut\\appdata\\local\\programs\\python\\python311\\lib\\site-packages (from django-drf-filepond==0.4.1->mercury) (1.14.4)\n",
      "Requirement already satisfied: traitlets>=4.3.1 in c:\\users\\khupmuanlian tunglut\\appdata\\roaming\\python\\python311\\site-packages (from ipywidgets>=7.0.0->cufflinks) (5.14.3)\n",
      "Requirement already satisfied: widgetsnbextension~=4.0 in c:\\users\\khupmuanlian tunglut\\appdata\\local\\programs\\python\\python311\\lib\\site-packages (from ipywidgets>=7.0.0->cufflinks) (4.0.13)\n",
      "Requirement already satisfied: jupyterlab-widgets~=3.0 in c:\\users\\khupmuanlian tunglut\\appdata\\local\\programs\\python\\python311\\lib\\site-packages (from ipywidgets>=7.0.0->cufflinks) (3.0.13)\n",
      "Requirement already satisfied: appdirs<2.0.0,>=1.4.3 in c:\\users\\khupmuanlian tunglut\\appdata\\local\\programs\\python\\python311\\lib\\site-packages (from pyppeteer==1.0.2->mercury) (1.4.4)\n",
      "Requirement already satisfied: certifi>=2021 in c:\\users\\khupmuanlian tunglut\\appdata\\local\\programs\\python\\python311\\lib\\site-packages (from pyppeteer==1.0.2->mercury) (2024.8.30)\n",
      "Requirement already satisfied: importlib-metadata>=1.4 in c:\\users\\khupmuanlian tunglut\\appdata\\local\\programs\\python\\python311\\lib\\site-packages (from pyppeteer==1.0.2->mercury) (8.5.0)\n",
      "Requirement already satisfied: pyee<9.0.0,>=8.1.0 in c:\\users\\khupmuanlian tunglut\\appdata\\local\\programs\\python\\python311\\lib\\site-packages (from pyppeteer==1.0.2->mercury) (8.2.2)\n",
      "Requirement already satisfied: tqdm<5.0.0,>=4.42.1 in c:\\users\\khupmuanlian tunglut\\appdata\\local\\programs\\python\\python311\\lib\\site-packages (from pyppeteer==1.0.2->mercury) (4.66.5)\n",
      "Requirement already satisfied: urllib3<2.0.0,>=1.25.8 in c:\\users\\khupmuanlian tunglut\\appdata\\local\\programs\\python\\python311\\lib\\site-packages (from pyppeteer==1.0.2->mercury) (1.26.20)\n",
      "Requirement already satisfied: websockets<11.0,>=10.0 in c:\\users\\khupmuanlian tunglut\\appdata\\local\\programs\\python\\python311\\lib\\site-packages (from pyppeteer==1.0.2->mercury) (10.4)\n",
      "Requirement already satisfied: greenlet!=0.4.17 in c:\\users\\khupmuanlian tunglut\\appdata\\local\\programs\\python\\python311\\lib\\site-packages (from sqlalchemy==1.4.27->mercury) (3.1.1)\n",
      "Requirement already satisfied: soupsieve>1.2 in c:\\users\\khupmuanlian tunglut\\appdata\\local\\programs\\python\\python311\\lib\\site-packages (from beautifulsoup4>=4.11.1->yfinance) (2.6)\n",
      "Requirement already satisfied: webencodings in c:\\users\\khupmuanlian tunglut\\appdata\\local\\programs\\python\\python311\\lib\\site-packages (from bleach>=6.0.0->mercury) (0.5.1)\n",
      "Requirement already satisfied: billiard<5.0,>=4.2.0 in c:\\users\\khupmuanlian tunglut\\appdata\\local\\programs\\python\\python311\\lib\\site-packages (from celery>=5.1.2->mercury) (4.2.1)\n",
      "Requirement already satisfied: kombu<6.0,>=5.3.4 in c:\\users\\khupmuanlian tunglut\\appdata\\local\\programs\\python\\python311\\lib\\site-packages (from celery>=5.1.2->mercury) (5.4.2)\n",
      "Requirement already satisfied: vine<6.0,>=5.1.0 in c:\\users\\khupmuanlian tunglut\\appdata\\local\\programs\\python\\python311\\lib\\site-packages (from celery>=5.1.2->mercury) (5.1.0)\n",
      "Requirement already satisfied: click<9.0,>=8.1.2 in c:\\users\\khupmuanlian tunglut\\appdata\\local\\programs\\python\\python311\\lib\\site-packages (from celery>=5.1.2->mercury) (8.1.7)\n",
      "Requirement already satisfied: click-didyoumean>=0.3.0 in c:\\users\\khupmuanlian tunglut\\appdata\\local\\programs\\python\\python311\\lib\\site-packages (from celery>=5.1.2->mercury) (0.3.1)\n",
      "Requirement already satisfied: click-repl>=0.2.0 in c:\\users\\khupmuanlian tunglut\\appdata\\local\\programs\\python\\python311\\lib\\site-packages (from celery>=5.1.2->mercury) (0.3.0)\n",
      "Requirement already satisfied: click-plugins>=1.1.1 in c:\\users\\khupmuanlian tunglut\\appdata\\local\\programs\\python\\python311\\lib\\site-packages (from celery>=5.1.2->mercury) (1.1.1)\n",
      "Requirement already satisfied: python-dateutil>=2.8.2 in c:\\users\\khupmuanlian tunglut\\appdata\\local\\programs\\python\\python311\\lib\\site-packages (from celery>=5.1.2->mercury) (2.9.0.post0)\n",
      "Requirement already satisfied: daphne>=4.0.0 in c:\\users\\khupmuanlian tunglut\\appdata\\local\\programs\\python\\python311\\lib\\site-packages (from channels[daphne]>=4.0.0->mercury) (4.1.2)\n",
      "Requirement already satisfied: comm>=0.1.1 in c:\\users\\khupmuanlian tunglut\\appdata\\roaming\\python\\python311\\site-packages (from ipykernel>=6.6.0->mercury) (0.2.2)\n",
      "Requirement already satisfied: debugpy>=1.6.5 in c:\\users\\khupmuanlian tunglut\\appdata\\roaming\\python\\python311\\site-packages (from ipykernel>=6.6.0->mercury) (1.8.6)\n",
      "Requirement already satisfied: jupyter-client>=6.1.12 in c:\\users\\khupmuanlian tunglut\\appdata\\roaming\\python\\python311\\site-packages (from ipykernel>=6.6.0->mercury) (8.6.3)\n",
      "Requirement already satisfied: jupyter-core!=5.0.*,>=4.12 in c:\\users\\khupmuanlian tunglut\\appdata\\roaming\\python\\python311\\site-packages (from ipykernel>=6.6.0->mercury) (5.7.2)\n",
      "Requirement already satisfied: matplotlib-inline>=0.1 in c:\\users\\khupmuanlian tunglut\\appdata\\roaming\\python\\python311\\site-packages (from ipykernel>=6.6.0->mercury) (0.1.7)\n",
      "Requirement already satisfied: nest-asyncio in c:\\users\\khupmuanlian tunglut\\appdata\\roaming\\python\\python311\\site-packages (from ipykernel>=6.6.0->mercury) (1.6.0)\n",
      "Requirement already satisfied: packaging in c:\\users\\khupmuanlian tunglut\\appdata\\local\\programs\\python\\python311\\lib\\site-packages (from ipykernel>=6.6.0->mercury) (24.1)\n",
      "Requirement already satisfied: pyzmq>=24 in c:\\users\\khupmuanlian tunglut\\appdata\\roaming\\python\\python311\\site-packages (from ipykernel>=6.6.0->mercury) (26.2.0)\n",
      "Requirement already satisfied: tornado>=6.1 in c:\\users\\khupmuanlian tunglut\\appdata\\roaming\\python\\python311\\site-packages (from ipykernel>=6.6.0->mercury) (6.4.1)\n",
      "Requirement already satisfied: decorator in c:\\users\\khupmuanlian tunglut\\appdata\\roaming\\python\\python311\\site-packages (from ipython>=5.3.0->cufflinks) (5.1.1)\n",
      "Requirement already satisfied: jedi>=0.16 in c:\\users\\khupmuanlian tunglut\\appdata\\roaming\\python\\python311\\site-packages (from ipython>=5.3.0->cufflinks) (0.19.1)\n",
      "Requirement already satisfied: prompt-toolkit<3.1.0,>=3.0.41 in c:\\users\\khupmuanlian tunglut\\appdata\\roaming\\python\\python311\\site-packages (from ipython>=5.3.0->cufflinks) (3.0.48)\n",
      "Requirement already satisfied: pygments>=2.4.0 in c:\\users\\khupmuanlian tunglut\\appdata\\local\\programs\\python\\python311\\lib\\site-packages (from ipython>=5.3.0->cufflinks) (2.18.0)\n",
      "Requirement already satisfied: stack-data in c:\\users\\khupmuanlian tunglut\\appdata\\roaming\\python\\python311\\site-packages (from ipython>=5.3.0->cufflinks) (0.6.3)\n",
      "Requirement already satisfied: typing-extensions>=4.6 in c:\\users\\khupmuanlian tunglut\\appdata\\local\\programs\\python\\python311\\lib\\site-packages (from ipython>=5.3.0->cufflinks) (4.12.2)\n",
      "Requirement already satisfied: colorama in c:\\users\\khupmuanlian tunglut\\appdata\\roaming\\python\\python311\\site-packages (from ipython>=5.3.0->cufflinks) (0.4.6)\n",
      "Requirement already satisfied: defusedxml in c:\\users\\khupmuanlian tunglut\\appdata\\local\\programs\\python\\python311\\lib\\site-packages (from nbconvert>=7.8.0->mercury) (0.7.1)\n",
      "Requirement already satisfied: jinja2>=3.0 in c:\\users\\khupmuanlian tunglut\\appdata\\local\\programs\\python\\python311\\lib\\site-packages (from nbconvert>=7.8.0->mercury) (3.1.4)\n",
      "Requirement already satisfied: jupyterlab-pygments in c:\\users\\khupmuanlian tunglut\\appdata\\local\\programs\\python\\python311\\lib\\site-packages (from nbconvert>=7.8.0->mercury) (0.3.0)\n",
      "Requirement already satisfied: markupsafe>=2.0 in c:\\users\\khupmuanlian tunglut\\appdata\\local\\programs\\python\\python311\\lib\\site-packages (from nbconvert>=7.8.0->mercury) (2.1.5)\n",
      "Requirement already satisfied: mistune<4,>=2.0.3 in c:\\users\\khupmuanlian tunglut\\appdata\\local\\programs\\python\\python311\\lib\\site-packages (from nbconvert>=7.8.0->mercury) (3.0.2)\n",
      "Requirement already satisfied: nbclient>=0.5.0 in c:\\users\\khupmuanlian tunglut\\appdata\\local\\programs\\python\\python311\\lib\\site-packages (from nbconvert>=7.8.0->mercury) (0.10.0)\n",
      "Requirement already satisfied: nbformat>=5.7 in c:\\users\\khupmuanlian tunglut\\appdata\\local\\programs\\python\\python311\\lib\\site-packages (from nbconvert>=7.8.0->mercury) (5.10.4)\n",
      "Requirement already satisfied: pandocfilters>=1.4.1 in c:\\users\\khupmuanlian tunglut\\appdata\\local\\programs\\python\\python311\\lib\\site-packages (from nbconvert>=7.8.0->mercury) (1.5.1)\n",
      "Requirement already satisfied: tinycss2 in c:\\users\\khupmuanlian tunglut\\appdata\\local\\programs\\python\\python311\\lib\\site-packages (from nbconvert>=7.8.0->mercury) (1.3.0)\n",
      "Requirement already satisfied: tenacity>=6.2.0 in c:\\users\\khupmuanlian tunglut\\appdata\\local\\programs\\python\\python311\\lib\\site-packages (from plotly>=4.1.1->cufflinks) (9.0.0)\n",
      "Requirement already satisfied: cffi>=1.12 in c:\\users\\khupmuanlian tunglut\\appdata\\local\\programs\\python\\python311\\lib\\site-packages (from cryptography->mercury) (1.17.1)\n",
      "Requirement already satisfied: charset-normalizer<4,>=2 in c:\\users\\khupmuanlian tunglut\\appdata\\local\\programs\\python\\python311\\lib\\site-packages (from requests>=2.31->yfinance) (3.3.2)\n",
      "Requirement already satisfied: idna<4,>=2.5 in c:\\users\\khupmuanlian tunglut\\appdata\\local\\programs\\python\\python311\\lib\\site-packages (from requests>=2.31->yfinance) (3.10)\n",
      "Requirement already satisfied: fastcore>=1.5.5 in c:\\users\\khupmuanlian tunglut\\appdata\\local\\programs\\python\\python311\\lib\\site-packages (from execnb->mercury) (1.7.12)\n",
      "Requirement already satisfied: zope.event in c:\\users\\khupmuanlian tunglut\\appdata\\local\\programs\\python\\python311\\lib\\site-packages (from gevent->mercury) (5.0)\n",
      "Requirement already satisfied: zope.interface in c:\\users\\khupmuanlian tunglut\\appdata\\local\\programs\\python\\python311\\lib\\site-packages (from gevent->mercury) (7.0.3)\n",
      "Requirement already satisfied: pycparser in c:\\users\\khupmuanlian tunglut\\appdata\\local\\programs\\python\\python311\\lib\\site-packages (from cffi>=1.12->cryptography->mercury) (2.22)\n",
      "Requirement already satisfied: autobahn>=22.4.2 in c:\\users\\khupmuanlian tunglut\\appdata\\local\\programs\\python\\python311\\lib\\site-packages (from daphne>=4.0.0->channels[daphne]>=4.0.0->mercury) (24.4.2)\n",
      "Requirement already satisfied: twisted>=22.4 in c:\\users\\khupmuanlian tunglut\\appdata\\local\\programs\\python\\python311\\lib\\site-packages (from twisted[tls]>=22.4->daphne>=4.0.0->channels[daphne]>=4.0.0->mercury) (24.7.0)\n",
      "Requirement already satisfied: python3-openid>=3.0.8 in c:\\users\\khupmuanlian tunglut\\appdata\\local\\programs\\python\\python311\\lib\\site-packages (from django-allauth<0.53.0,>=0.40.0->dj-rest-auth[with_social]==3.0.0->mercury) (3.2.0)\n",
      "Requirement already satisfied: requests-oauthlib>=0.3.0 in c:\\users\\khupmuanlian tunglut\\appdata\\local\\programs\\python\\python311\\lib\\site-packages (from django-allauth<0.53.0,>=0.40.0->dj-rest-auth[with_social]==3.0.0->mercury) (2.0.0)\n",
      "Requirement already satisfied: pyjwt>=1.7 in c:\\users\\khupmuanlian tunglut\\appdata\\local\\programs\\python\\python311\\lib\\site-packages (from pyjwt[crypto]>=1.7->django-allauth<0.53.0,>=0.40.0->dj-rest-auth[with_social]==3.0.0->mercury) (2.9.0)\n",
      "Requirement already satisfied: zipp>=3.20 in c:\\users\\khupmuanlian tunglut\\appdata\\local\\programs\\python\\python311\\lib\\site-packages (from importlib-metadata>=1.4->pyppeteer==1.0.2->mercury) (3.20.2)\n",
      "Requirement already satisfied: parso<0.9.0,>=0.8.3 in c:\\users\\khupmuanlian tunglut\\appdata\\roaming\\python\\python311\\site-packages (from jedi>=0.16->ipython>=5.3.0->cufflinks) (0.8.4)\n",
      "Requirement already satisfied: pywin32>=300 in c:\\users\\khupmuanlian tunglut\\appdata\\roaming\\python\\python311\\site-packages (from jupyter-core!=5.0.*,>=4.12->ipykernel>=6.6.0->mercury) (307)\n",
      "Requirement already satisfied: amqp<6.0.0,>=5.1.1 in c:\\users\\khupmuanlian tunglut\\appdata\\local\\programs\\python\\python311\\lib\\site-packages (from kombu<6.0,>=5.3.4->celery>=5.1.2->mercury) (5.2.0)\n",
      "Requirement already satisfied: fastjsonschema>=2.15 in c:\\users\\khupmuanlian tunglut\\appdata\\local\\programs\\python\\python311\\lib\\site-packages (from nbformat>=5.7->nbconvert>=7.8.0->mercury) (2.20.0)\n",
      "Requirement already satisfied: jsonschema>=2.6 in c:\\users\\khupmuanlian tunglut\\appdata\\local\\programs\\python\\python311\\lib\\site-packages (from nbformat>=5.7->nbconvert>=7.8.0->mercury) (4.23.0)\n",
      "Requirement already satisfied: wcwidth in c:\\users\\khupmuanlian tunglut\\appdata\\roaming\\python\\python311\\site-packages (from prompt-toolkit<3.1.0,>=3.0.41->ipython>=5.3.0->cufflinks) (0.2.13)\n",
      "Requirement already satisfied: executing>=1.2.0 in c:\\users\\khupmuanlian tunglut\\appdata\\roaming\\python\\python311\\site-packages (from stack-data->ipython>=5.3.0->cufflinks) (2.1.0)\n",
      "Requirement already satisfied: asttokens>=2.1.0 in c:\\users\\khupmuanlian tunglut\\appdata\\roaming\\python\\python311\\site-packages (from stack-data->ipython>=5.3.0->cufflinks) (2.4.1)\n",
      "Requirement already satisfied: pure-eval in c:\\users\\khupmuanlian tunglut\\appdata\\roaming\\python\\python311\\site-packages (from stack-data->ipython>=5.3.0->cufflinks) (0.2.3)\n",
      "Requirement already satisfied: txaio>=21.2.1 in c:\\users\\khupmuanlian tunglut\\appdata\\local\\programs\\python\\python311\\lib\\site-packages (from autobahn>=22.4.2->daphne>=4.0.0->channels[daphne]>=4.0.0->mercury) (23.1.1)\n",
      "Requirement already satisfied: hyperlink>=21.0.0 in c:\\users\\khupmuanlian tunglut\\appdata\\local\\programs\\python\\python311\\lib\\site-packages (from autobahn>=22.4.2->daphne>=4.0.0->channels[daphne]>=4.0.0->mercury) (21.0.0)\n",
      "Requirement already satisfied: attrs>=22.2.0 in c:\\users\\khupmuanlian tunglut\\appdata\\local\\programs\\python\\python311\\lib\\site-packages (from jsonschema>=2.6->nbformat>=5.7->nbconvert>=7.8.0->mercury) (24.2.0)\n",
      "Requirement already satisfied: jsonschema-specifications>=2023.03.6 in c:\\users\\khupmuanlian tunglut\\appdata\\local\\programs\\python\\python311\\lib\\site-packages (from jsonschema>=2.6->nbformat>=5.7->nbconvert>=7.8.0->mercury) (2024.10.1)\n",
      "Requirement already satisfied: referencing>=0.28.4 in c:\\users\\khupmuanlian tunglut\\appdata\\local\\programs\\python\\python311\\lib\\site-packages (from jsonschema>=2.6->nbformat>=5.7->nbconvert>=7.8.0->mercury) (0.35.1)\n",
      "Requirement already satisfied: rpds-py>=0.7.1 in c:\\users\\khupmuanlian tunglut\\appdata\\local\\programs\\python\\python311\\lib\\site-packages (from jsonschema>=2.6->nbformat>=5.7->nbconvert>=7.8.0->mercury) (0.20.0)\n",
      "Requirement already satisfied: oauthlib>=3.0.0 in c:\\users\\khupmuanlian tunglut\\appdata\\local\\programs\\python\\python311\\lib\\site-packages (from requests-oauthlib>=0.3.0->django-allauth<0.53.0,>=0.40.0->dj-rest-auth[with_social]==3.0.0->mercury) (3.2.2)\n",
      "Requirement already satisfied: automat>=0.8.0 in c:\\users\\khupmuanlian tunglut\\appdata\\local\\programs\\python\\python311\\lib\\site-packages (from twisted>=22.4->twisted[tls]>=22.4->daphne>=4.0.0->channels[daphne]>=4.0.0->mercury) (24.8.1)\n",
      "Requirement already satisfied: constantly>=15.1 in c:\\users\\khupmuanlian tunglut\\appdata\\local\\programs\\python\\python311\\lib\\site-packages (from twisted>=22.4->twisted[tls]>=22.4->daphne>=4.0.0->channels[daphne]>=4.0.0->mercury) (23.10.4)\n",
      "Requirement already satisfied: incremental>=24.7.0 in c:\\users\\khupmuanlian tunglut\\appdata\\local\\programs\\python\\python311\\lib\\site-packages (from twisted>=22.4->twisted[tls]>=22.4->daphne>=4.0.0->channels[daphne]>=4.0.0->mercury) (24.7.2)\n",
      "Requirement already satisfied: service-identity>=18.1.0 in c:\\users\\khupmuanlian tunglut\\appdata\\local\\programs\\python\\python311\\lib\\site-packages (from twisted[tls]>=22.4->daphne>=4.0.0->channels[daphne]>=4.0.0->mercury) (24.1.0)\n",
      "Requirement already satisfied: pyasn1 in c:\\users\\khupmuanlian tunglut\\appdata\\local\\programs\\python\\python311\\lib\\site-packages (from service-identity>=18.1.0->twisted[tls]>=22.4->daphne>=4.0.0->channels[daphne]>=4.0.0->mercury) (0.6.1)\n",
      "Requirement already satisfied: pyasn1-modules in c:\\users\\khupmuanlian tunglut\\appdata\\local\\programs\\python\\python311\\lib\\site-packages (from service-identity>=18.1.0->twisted[tls]>=22.4->daphne>=4.0.0->channels[daphne]>=4.0.0->mercury) (0.4.1)\n"
     ]
    }
   ],
   "source": [
    "pip install yfinance cufflinks mercury\n"
   ]
  },
  {
   "cell_type": "markdown",
   "metadata": {},
   "source": [
    "Importing Required Libraries"
   ]
  },
  {
   "cell_type": "code",
   "execution_count": 4,
   "metadata": {},
   "outputs": [
    {
     "data": {
      "text/html": [
       "        <script type=\"text/javascript\">\n",
       "        window.PlotlyConfig = {MathJaxConfig: 'local'};\n",
       "        if (window.MathJax && window.MathJax.Hub && window.MathJax.Hub.Config) {window.MathJax.Hub.Config({SVG: {font: \"STIX-Web\"}});}\n",
       "        if (typeof require !== 'undefined') {\n",
       "        require.undef(\"plotly\");\n",
       "        requirejs.config({\n",
       "            paths: {\n",
       "                'plotly': ['https://cdn.plot.ly/plotly-2.35.2.min']\n",
       "            }\n",
       "        });\n",
       "        require(['plotly'], function(Plotly) {\n",
       "            window._Plotly = Plotly;\n",
       "        });\n",
       "        }\n",
       "        </script>\n",
       "        "
      ]
     },
     "metadata": {},
     "output_type": "display_data"
    }
   ],
   "source": [
    "import pandas as pd\n",
    "import cufflinks as cf\n",
    "cf.go_offline() # Configure Plotly to work in offline mode\n",
    "import numpy as np\n",
    "import yfinance as yf\n",
    "from datetime import date\n",
    "import warnings\n",
    "warnings.simplefilter(action='ignore', category=FutureWarning)\n",
    "import mercury as mr\n",
    "from dateutil.relativedelta import relativedelta"
   ]
  },
  {
   "cell_type": "code",
   "execution_count": 5,
   "metadata": {},
   "outputs": [
    {
     "data": {
      "application/mercury+json": {
       "allow_download": true,
       "allow_share": true,
       "code_uid": "App.0.50.110.1-rand84fe0427",
       "continuous_update": true,
       "description": "Dashboard with financial data",
       "full_screen": true,
       "model_id": "mercury-app",
       "notify": "{}",
       "output": "app",
       "schedule": "",
       "show_code": false,
       "show_prompt": false,
       "show_sidebar": true,
       "static_notebook": false,
       "stop_on_error": false,
       "title": "📈 Stock Price Dashboard",
       "widget": "App"
      },
      "text/html": [
       "<h3>Mercury Application</h3><small>This output won't appear in the web app.</small>"
      ],
      "text/plain": [
       "mercury.App"
      ]
     },
     "metadata": {},
     "output_type": "display_data"
    }
   ],
   "source": [
    "app = mr.App(title=\"📈 Stock Price Dashboard\", description=\"Dashboard with financial data\", show_code=False)"
   ]
  },
  {
   "cell_type": "markdown",
   "metadata": {},
   "source": [
    "Selecting Preferred Stock (Here AMD as my laptop runs on AMD)"
   ]
  },
  {
   "cell_type": "code",
   "execution_count": 15,
   "metadata": {},
   "outputs": [
    {
     "data": {
      "application/mercury+json": {
       "choices": [
        "NVDA",
        "INTC",
        "AMD",
        "TSM",
        "MU"
       ],
       "code_uid": "Select.0.50.104.1-rand5fdb9e77",
       "disabled": false,
       "hidden": false,
       "label": "Please select ticker",
       "model_id": "4aa0d5b7c07a4c6aa05746682a225b1a",
       "url_key": "",
       "value": "AMD",
       "widget": "Select"
      },
      "application/vnd.jupyter.widget-view+json": {
       "model_id": "4aa0d5b7c07a4c6aa05746682a225b1a",
       "version_major": 2,
       "version_minor": 0
      },
      "text/plain": [
       "mercury.Select"
      ]
     },
     "metadata": {},
     "output_type": "display_data"
    }
   ],
   "source": [
    "ticker = mr.Select(label=\"Please select ticker\", value='AMD', \n",
    "                   choices=['NVDA', 'INTC', 'AMD', 'TSM', 'MU'])"
   ]
  },
  {
   "cell_type": "code",
   "execution_count": 16,
   "metadata": {},
   "outputs": [
    {
     "data": {
      "text/markdown": [
       "# Selected ticker: AMD"
      ],
      "text/plain": [
       "<IPython.core.display.Markdown object>"
      ]
     },
     "metadata": {},
     "output_type": "display_data"
    }
   ],
   "source": [
    "mr.Md(f\"# Selected ticker: {ticker.value}\")"
   ]
  },
  {
   "cell_type": "markdown",
   "metadata": {},
   "source": [
    "Customizing the Time Period"
   ]
  },
  {
   "cell_type": "code",
   "execution_count": 17,
   "metadata": {},
   "outputs": [
    {
     "data": {
      "application/mercury+json": {
       "code_uid": "Numeric.0.50.101.1-rand8f44d83c",
       "disabled": false,
       "hidden": false,
       "label": "Past Month(s)",
       "max": 12,
       "min": 1,
       "model_id": "77a37a1d61da499fbc386041b6ec5736",
       "step": 1,
       "url_key": "",
       "value": 3,
       "widget": "Numeric"
      },
      "application/vnd.jupyter.widget-view+json": {
       "model_id": "77a37a1d61da499fbc386041b6ec5736",
       "version_major": 2,
       "version_minor": 0
      },
      "text/plain": [
       "mercury.Numeric"
      ]
     },
     "metadata": {},
     "output_type": "display_data"
    }
   ],
   "source": [
    "period = mr.Numeric(label=\"Past Month(s)\", value=3, min=1, max=12)"
   ]
  },
  {
   "cell_type": "markdown",
   "metadata": {},
   "source": [
    "Downloading AMD stock data for analysis"
   ]
  },
  {
   "cell_type": "code",
   "execution_count": 18,
   "metadata": {},
   "outputs": [
    {
     "name": "stderr",
     "output_type": "stream",
     "text": [
      "[*********************100%***********************]  1 of 1 completed\n"
     ]
    }
   ],
   "source": [
    "stock_data = yf.download(ticker.value, start=date.today() - relativedelta(months=+period.value), end=date.today())"
   ]
  },
  {
   "cell_type": "markdown",
   "metadata": {},
   "source": [
    "Creating and displaying an interactive line plot of AMD's Adjusted Close Prices"
   ]
  },
  {
   "cell_type": "code",
   "execution_count": 19,
   "metadata": {},
   "outputs": [
    {
     "data": {
      "application/vnd.plotly.v1+json": {
       "config": {
        "linkText": "Export to plot.ly",
        "plotlyServerURL": "https://plot.ly",
        "showLink": true
       },
       "data": [
        {
         "line": {
          "color": "rgba(0, 128, 0, 1.0)",
          "dash": "solid",
          "shape": "linear",
          "width": 1.3
         },
         "mode": "lines",
         "name": "Adj Close",
         "text": "",
         "type": "scatter",
         "x": [
          "2024-07-09",
          "2024-07-10",
          "2024-07-11",
          "2024-07-12",
          "2024-07-15",
          "2024-07-16",
          "2024-07-17",
          "2024-07-18",
          "2024-07-19",
          "2024-07-22",
          "2024-07-23",
          "2024-07-24",
          "2024-07-25",
          "2024-07-26",
          "2024-07-29",
          "2024-07-30",
          "2024-07-31",
          "2024-08-01",
          "2024-08-02",
          "2024-08-05",
          "2024-08-06",
          "2024-08-07",
          "2024-08-08",
          "2024-08-09",
          "2024-08-12",
          "2024-08-13",
          "2024-08-14",
          "2024-08-15",
          "2024-08-16",
          "2024-08-19",
          "2024-08-20",
          "2024-08-21",
          "2024-08-22",
          "2024-08-23",
          "2024-08-26",
          "2024-08-27",
          "2024-08-28",
          "2024-08-29",
          "2024-08-30",
          "2024-09-03",
          "2024-09-04",
          "2024-09-05",
          "2024-09-06",
          "2024-09-09",
          "2024-09-10",
          "2024-09-11",
          "2024-09-12",
          "2024-09-13",
          "2024-09-16",
          "2024-09-17",
          "2024-09-18",
          "2024-09-19",
          "2024-09-20",
          "2024-09-23",
          "2024-09-24",
          "2024-09-25",
          "2024-09-26",
          "2024-09-27",
          "2024-09-30",
          "2024-10-01",
          "2024-10-02",
          "2024-10-03",
          "2024-10-04",
          "2024-10-07",
          "2024-10-08"
         ],
         "y": [
          177.10000610351562,
          183.9600067138672,
          181.94000244140625,
          181.61000061035156,
          179.8300018310547,
          177.5500030517578,
          159.42999267578125,
          155.77000427246094,
          151.5800018310547,
          155.8699951171875,
          154,
          144.6300048828125,
          138.32000732421875,
          139.99000549316406,
          139.75,
          138.44000244140625,
          144.47999572753906,
          132.5399932861328,
          132.5,
          134.82000732421875,
          130.17999267578125,
          128.6699981689453,
          136.32000732421875,
          134.27000427246094,
          136.77000427246094,
          141.1300048828125,
          140.75,
          147.36000061035156,
          148.55999755859375,
          155.27999877929688,
          156.39999389648438,
          157.80999755859375,
          151.6999969482422,
          154.97999572753906,
          149.99000549316406,
          150.5,
          146.36000061035156,
          145.49000549316406,
          148.55999755859375,
          136.94000244140625,
          140.8699951171875,
          139.44000244140625,
          134.35000610351562,
          138.14999389648438,
          142.83999633789062,
          149.86000061035156,
          150.77000427246094,
          152.30999755859375,
          152.0800018310547,
          150.82000732421875,
          148.2899932861328,
          156.74000549316406,
          155.9499969482422,
          156.75,
          158.32000732421875,
          162.02000427246094,
          167.49000549316406,
          164.35000610351562,
          164.0800018310547,
          159.75,
          159.77999877929688,
          162.85000610351562,
          170.89999389648438,
          170.97000122070312,
          172.8000030517578
         ]
        }
       ],
       "layout": {
        "legend": {
         "bgcolor": "#F5F6F9",
         "font": {
          "color": "#4D5663"
         }
        },
        "paper_bgcolor": "#F5F6F9",
        "plot_bgcolor": "#F5F6F9",
        "template": {
         "data": {
          "bar": [
           {
            "error_x": {
             "color": "#2a3f5f"
            },
            "error_y": {
             "color": "#2a3f5f"
            },
            "marker": {
             "line": {
              "color": "#E5ECF6",
              "width": 0.5
             },
             "pattern": {
              "fillmode": "overlay",
              "size": 10,
              "solidity": 0.2
             }
            },
            "type": "bar"
           }
          ],
          "barpolar": [
           {
            "marker": {
             "line": {
              "color": "#E5ECF6",
              "width": 0.5
             },
             "pattern": {
              "fillmode": "overlay",
              "size": 10,
              "solidity": 0.2
             }
            },
            "type": "barpolar"
           }
          ],
          "carpet": [
           {
            "aaxis": {
             "endlinecolor": "#2a3f5f",
             "gridcolor": "white",
             "linecolor": "white",
             "minorgridcolor": "white",
             "startlinecolor": "#2a3f5f"
            },
            "baxis": {
             "endlinecolor": "#2a3f5f",
             "gridcolor": "white",
             "linecolor": "white",
             "minorgridcolor": "white",
             "startlinecolor": "#2a3f5f"
            },
            "type": "carpet"
           }
          ],
          "choropleth": [
           {
            "colorbar": {
             "outlinewidth": 0,
             "ticks": ""
            },
            "type": "choropleth"
           }
          ],
          "contour": [
           {
            "colorbar": {
             "outlinewidth": 0,
             "ticks": ""
            },
            "colorscale": [
             [
              0,
              "#0d0887"
             ],
             [
              0.1111111111111111,
              "#46039f"
             ],
             [
              0.2222222222222222,
              "#7201a8"
             ],
             [
              0.3333333333333333,
              "#9c179e"
             ],
             [
              0.4444444444444444,
              "#bd3786"
             ],
             [
              0.5555555555555556,
              "#d8576b"
             ],
             [
              0.6666666666666666,
              "#ed7953"
             ],
             [
              0.7777777777777778,
              "#fb9f3a"
             ],
             [
              0.8888888888888888,
              "#fdca26"
             ],
             [
              1,
              "#f0f921"
             ]
            ],
            "type": "contour"
           }
          ],
          "contourcarpet": [
           {
            "colorbar": {
             "outlinewidth": 0,
             "ticks": ""
            },
            "type": "contourcarpet"
           }
          ],
          "heatmap": [
           {
            "colorbar": {
             "outlinewidth": 0,
             "ticks": ""
            },
            "colorscale": [
             [
              0,
              "#0d0887"
             ],
             [
              0.1111111111111111,
              "#46039f"
             ],
             [
              0.2222222222222222,
              "#7201a8"
             ],
             [
              0.3333333333333333,
              "#9c179e"
             ],
             [
              0.4444444444444444,
              "#bd3786"
             ],
             [
              0.5555555555555556,
              "#d8576b"
             ],
             [
              0.6666666666666666,
              "#ed7953"
             ],
             [
              0.7777777777777778,
              "#fb9f3a"
             ],
             [
              0.8888888888888888,
              "#fdca26"
             ],
             [
              1,
              "#f0f921"
             ]
            ],
            "type": "heatmap"
           }
          ],
          "heatmapgl": [
           {
            "colorbar": {
             "outlinewidth": 0,
             "ticks": ""
            },
            "colorscale": [
             [
              0,
              "#0d0887"
             ],
             [
              0.1111111111111111,
              "#46039f"
             ],
             [
              0.2222222222222222,
              "#7201a8"
             ],
             [
              0.3333333333333333,
              "#9c179e"
             ],
             [
              0.4444444444444444,
              "#bd3786"
             ],
             [
              0.5555555555555556,
              "#d8576b"
             ],
             [
              0.6666666666666666,
              "#ed7953"
             ],
             [
              0.7777777777777778,
              "#fb9f3a"
             ],
             [
              0.8888888888888888,
              "#fdca26"
             ],
             [
              1,
              "#f0f921"
             ]
            ],
            "type": "heatmapgl"
           }
          ],
          "histogram": [
           {
            "marker": {
             "pattern": {
              "fillmode": "overlay",
              "size": 10,
              "solidity": 0.2
             }
            },
            "type": "histogram"
           }
          ],
          "histogram2d": [
           {
            "colorbar": {
             "outlinewidth": 0,
             "ticks": ""
            },
            "colorscale": [
             [
              0,
              "#0d0887"
             ],
             [
              0.1111111111111111,
              "#46039f"
             ],
             [
              0.2222222222222222,
              "#7201a8"
             ],
             [
              0.3333333333333333,
              "#9c179e"
             ],
             [
              0.4444444444444444,
              "#bd3786"
             ],
             [
              0.5555555555555556,
              "#d8576b"
             ],
             [
              0.6666666666666666,
              "#ed7953"
             ],
             [
              0.7777777777777778,
              "#fb9f3a"
             ],
             [
              0.8888888888888888,
              "#fdca26"
             ],
             [
              1,
              "#f0f921"
             ]
            ],
            "type": "histogram2d"
           }
          ],
          "histogram2dcontour": [
           {
            "colorbar": {
             "outlinewidth": 0,
             "ticks": ""
            },
            "colorscale": [
             [
              0,
              "#0d0887"
             ],
             [
              0.1111111111111111,
              "#46039f"
             ],
             [
              0.2222222222222222,
              "#7201a8"
             ],
             [
              0.3333333333333333,
              "#9c179e"
             ],
             [
              0.4444444444444444,
              "#bd3786"
             ],
             [
              0.5555555555555556,
              "#d8576b"
             ],
             [
              0.6666666666666666,
              "#ed7953"
             ],
             [
              0.7777777777777778,
              "#fb9f3a"
             ],
             [
              0.8888888888888888,
              "#fdca26"
             ],
             [
              1,
              "#f0f921"
             ]
            ],
            "type": "histogram2dcontour"
           }
          ],
          "mesh3d": [
           {
            "colorbar": {
             "outlinewidth": 0,
             "ticks": ""
            },
            "type": "mesh3d"
           }
          ],
          "parcoords": [
           {
            "line": {
             "colorbar": {
              "outlinewidth": 0,
              "ticks": ""
             }
            },
            "type": "parcoords"
           }
          ],
          "pie": [
           {
            "automargin": true,
            "type": "pie"
           }
          ],
          "scatter": [
           {
            "fillpattern": {
             "fillmode": "overlay",
             "size": 10,
             "solidity": 0.2
            },
            "type": "scatter"
           }
          ],
          "scatter3d": [
           {
            "line": {
             "colorbar": {
              "outlinewidth": 0,
              "ticks": ""
             }
            },
            "marker": {
             "colorbar": {
              "outlinewidth": 0,
              "ticks": ""
             }
            },
            "type": "scatter3d"
           }
          ],
          "scattercarpet": [
           {
            "marker": {
             "colorbar": {
              "outlinewidth": 0,
              "ticks": ""
             }
            },
            "type": "scattercarpet"
           }
          ],
          "scattergeo": [
           {
            "marker": {
             "colorbar": {
              "outlinewidth": 0,
              "ticks": ""
             }
            },
            "type": "scattergeo"
           }
          ],
          "scattergl": [
           {
            "marker": {
             "colorbar": {
              "outlinewidth": 0,
              "ticks": ""
             }
            },
            "type": "scattergl"
           }
          ],
          "scattermapbox": [
           {
            "marker": {
             "colorbar": {
              "outlinewidth": 0,
              "ticks": ""
             }
            },
            "type": "scattermapbox"
           }
          ],
          "scatterpolar": [
           {
            "marker": {
             "colorbar": {
              "outlinewidth": 0,
              "ticks": ""
             }
            },
            "type": "scatterpolar"
           }
          ],
          "scatterpolargl": [
           {
            "marker": {
             "colorbar": {
              "outlinewidth": 0,
              "ticks": ""
             }
            },
            "type": "scatterpolargl"
           }
          ],
          "scatterternary": [
           {
            "marker": {
             "colorbar": {
              "outlinewidth": 0,
              "ticks": ""
             }
            },
            "type": "scatterternary"
           }
          ],
          "surface": [
           {
            "colorbar": {
             "outlinewidth": 0,
             "ticks": ""
            },
            "colorscale": [
             [
              0,
              "#0d0887"
             ],
             [
              0.1111111111111111,
              "#46039f"
             ],
             [
              0.2222222222222222,
              "#7201a8"
             ],
             [
              0.3333333333333333,
              "#9c179e"
             ],
             [
              0.4444444444444444,
              "#bd3786"
             ],
             [
              0.5555555555555556,
              "#d8576b"
             ],
             [
              0.6666666666666666,
              "#ed7953"
             ],
             [
              0.7777777777777778,
              "#fb9f3a"
             ],
             [
              0.8888888888888888,
              "#fdca26"
             ],
             [
              1,
              "#f0f921"
             ]
            ],
            "type": "surface"
           }
          ],
          "table": [
           {
            "cells": {
             "fill": {
              "color": "#EBF0F8"
             },
             "line": {
              "color": "white"
             }
            },
            "header": {
             "fill": {
              "color": "#C8D4E3"
             },
             "line": {
              "color": "white"
             }
            },
            "type": "table"
           }
          ]
         },
         "layout": {
          "annotationdefaults": {
           "arrowcolor": "#2a3f5f",
           "arrowhead": 0,
           "arrowwidth": 1
          },
          "autotypenumbers": "strict",
          "coloraxis": {
           "colorbar": {
            "outlinewidth": 0,
            "ticks": ""
           }
          },
          "colorscale": {
           "diverging": [
            [
             0,
             "#8e0152"
            ],
            [
             0.1,
             "#c51b7d"
            ],
            [
             0.2,
             "#de77ae"
            ],
            [
             0.3,
             "#f1b6da"
            ],
            [
             0.4,
             "#fde0ef"
            ],
            [
             0.5,
             "#f7f7f7"
            ],
            [
             0.6,
             "#e6f5d0"
            ],
            [
             0.7,
             "#b8e186"
            ],
            [
             0.8,
             "#7fbc41"
            ],
            [
             0.9,
             "#4d9221"
            ],
            [
             1,
             "#276419"
            ]
           ],
           "sequential": [
            [
             0,
             "#0d0887"
            ],
            [
             0.1111111111111111,
             "#46039f"
            ],
            [
             0.2222222222222222,
             "#7201a8"
            ],
            [
             0.3333333333333333,
             "#9c179e"
            ],
            [
             0.4444444444444444,
             "#bd3786"
            ],
            [
             0.5555555555555556,
             "#d8576b"
            ],
            [
             0.6666666666666666,
             "#ed7953"
            ],
            [
             0.7777777777777778,
             "#fb9f3a"
            ],
            [
             0.8888888888888888,
             "#fdca26"
            ],
            [
             1,
             "#f0f921"
            ]
           ],
           "sequentialminus": [
            [
             0,
             "#0d0887"
            ],
            [
             0.1111111111111111,
             "#46039f"
            ],
            [
             0.2222222222222222,
             "#7201a8"
            ],
            [
             0.3333333333333333,
             "#9c179e"
            ],
            [
             0.4444444444444444,
             "#bd3786"
            ],
            [
             0.5555555555555556,
             "#d8576b"
            ],
            [
             0.6666666666666666,
             "#ed7953"
            ],
            [
             0.7777777777777778,
             "#fb9f3a"
            ],
            [
             0.8888888888888888,
             "#fdca26"
            ],
            [
             1,
             "#f0f921"
            ]
           ]
          },
          "colorway": [
           "#636efa",
           "#EF553B",
           "#00cc96",
           "#ab63fa",
           "#FFA15A",
           "#19d3f3",
           "#FF6692",
           "#B6E880",
           "#FF97FF",
           "#FECB52"
          ],
          "font": {
           "color": "#2a3f5f"
          },
          "geo": {
           "bgcolor": "white",
           "lakecolor": "white",
           "landcolor": "#E5ECF6",
           "showlakes": true,
           "showland": true,
           "subunitcolor": "white"
          },
          "hoverlabel": {
           "align": "left"
          },
          "hovermode": "closest",
          "mapbox": {
           "style": "light"
          },
          "paper_bgcolor": "white",
          "plot_bgcolor": "#E5ECF6",
          "polar": {
           "angularaxis": {
            "gridcolor": "white",
            "linecolor": "white",
            "ticks": ""
           },
           "bgcolor": "#E5ECF6",
           "radialaxis": {
            "gridcolor": "white",
            "linecolor": "white",
            "ticks": ""
           }
          },
          "scene": {
           "xaxis": {
            "backgroundcolor": "#E5ECF6",
            "gridcolor": "white",
            "gridwidth": 2,
            "linecolor": "white",
            "showbackground": true,
            "ticks": "",
            "zerolinecolor": "white"
           },
           "yaxis": {
            "backgroundcolor": "#E5ECF6",
            "gridcolor": "white",
            "gridwidth": 2,
            "linecolor": "white",
            "showbackground": true,
            "ticks": "",
            "zerolinecolor": "white"
           },
           "zaxis": {
            "backgroundcolor": "#E5ECF6",
            "gridcolor": "white",
            "gridwidth": 2,
            "linecolor": "white",
            "showbackground": true,
            "ticks": "",
            "zerolinecolor": "white"
           }
          },
          "shapedefaults": {
           "line": {
            "color": "#2a3f5f"
           }
          },
          "ternary": {
           "aaxis": {
            "gridcolor": "white",
            "linecolor": "white",
            "ticks": ""
           },
           "baxis": {
            "gridcolor": "white",
            "linecolor": "white",
            "ticks": ""
           },
           "bgcolor": "#E5ECF6",
           "caxis": {
            "gridcolor": "white",
            "linecolor": "white",
            "ticks": ""
           }
          },
          "title": {
           "x": 0.05
          },
          "xaxis": {
           "automargin": true,
           "gridcolor": "white",
           "linecolor": "white",
           "ticks": "",
           "title": {
            "standoff": 15
           },
           "zerolinecolor": "white",
           "zerolinewidth": 2
          },
          "yaxis": {
           "automargin": true,
           "gridcolor": "white",
           "linecolor": "white",
           "ticks": "",
           "title": {
            "standoff": 15
           },
           "zerolinecolor": "white",
           "zerolinewidth": 2
          }
         }
        },
        "title": {
         "font": {
          "color": "#4D5663"
         },
         "text": "Adjusted Close"
        },
        "xaxis": {
         "gridcolor": "#E1E5ED",
         "showgrid": true,
         "tickfont": {
          "color": "#4D5663"
         },
         "title": {
          "font": {
           "color": "#4D5663"
          },
          "text": ""
         },
         "zerolinecolor": "#E1E5ED"
        },
        "yaxis": {
         "gridcolor": "#E1E5ED",
         "showgrid": true,
         "tickfont": {
          "color": "#4D5663"
         },
         "title": {
          "font": {
           "color": "#4D5663"
          },
          "text": ""
         },
         "zerolinecolor": "#E1E5ED"
        }
       }
      },
      "text/html": [
       "<div>                            <div id=\"366b55e8-4a68-4ea8-81b7-1da19df79533\" class=\"plotly-graph-div\" style=\"height:525px; width:100%;\"></div>            <script type=\"text/javascript\">                require([\"plotly\"], function(Plotly) {                    window.PLOTLYENV=window.PLOTLYENV || {};\n",
       "                    window.PLOTLYENV.BASE_URL='https://plot.ly';                                    if (document.getElementById(\"366b55e8-4a68-4ea8-81b7-1da19df79533\")) {                    Plotly.newPlot(                        \"366b55e8-4a68-4ea8-81b7-1da19df79533\",                        [{\"line\":{\"color\":\"rgba(0, 128, 0, 1.0)\",\"dash\":\"solid\",\"shape\":\"linear\",\"width\":1.3},\"mode\":\"lines\",\"name\":\"Adj Close\",\"text\":\"\",\"x\":[\"2024-07-09\",\"2024-07-10\",\"2024-07-11\",\"2024-07-12\",\"2024-07-15\",\"2024-07-16\",\"2024-07-17\",\"2024-07-18\",\"2024-07-19\",\"2024-07-22\",\"2024-07-23\",\"2024-07-24\",\"2024-07-25\",\"2024-07-26\",\"2024-07-29\",\"2024-07-30\",\"2024-07-31\",\"2024-08-01\",\"2024-08-02\",\"2024-08-05\",\"2024-08-06\",\"2024-08-07\",\"2024-08-08\",\"2024-08-09\",\"2024-08-12\",\"2024-08-13\",\"2024-08-14\",\"2024-08-15\",\"2024-08-16\",\"2024-08-19\",\"2024-08-20\",\"2024-08-21\",\"2024-08-22\",\"2024-08-23\",\"2024-08-26\",\"2024-08-27\",\"2024-08-28\",\"2024-08-29\",\"2024-08-30\",\"2024-09-03\",\"2024-09-04\",\"2024-09-05\",\"2024-09-06\",\"2024-09-09\",\"2024-09-10\",\"2024-09-11\",\"2024-09-12\",\"2024-09-13\",\"2024-09-16\",\"2024-09-17\",\"2024-09-18\",\"2024-09-19\",\"2024-09-20\",\"2024-09-23\",\"2024-09-24\",\"2024-09-25\",\"2024-09-26\",\"2024-09-27\",\"2024-09-30\",\"2024-10-01\",\"2024-10-02\",\"2024-10-03\",\"2024-10-04\",\"2024-10-07\",\"2024-10-08\"],\"y\":[177.10000610351562,183.9600067138672,181.94000244140625,181.61000061035156,179.8300018310547,177.5500030517578,159.42999267578125,155.77000427246094,151.5800018310547,155.8699951171875,154.0,144.6300048828125,138.32000732421875,139.99000549316406,139.75,138.44000244140625,144.47999572753906,132.5399932861328,132.5,134.82000732421875,130.17999267578125,128.6699981689453,136.32000732421875,134.27000427246094,136.77000427246094,141.1300048828125,140.75,147.36000061035156,148.55999755859375,155.27999877929688,156.39999389648438,157.80999755859375,151.6999969482422,154.97999572753906,149.99000549316406,150.5,146.36000061035156,145.49000549316406,148.55999755859375,136.94000244140625,140.8699951171875,139.44000244140625,134.35000610351562,138.14999389648438,142.83999633789062,149.86000061035156,150.77000427246094,152.30999755859375,152.0800018310547,150.82000732421875,148.2899932861328,156.74000549316406,155.9499969482422,156.75,158.32000732421875,162.02000427246094,167.49000549316406,164.35000610351562,164.0800018310547,159.75,159.77999877929688,162.85000610351562,170.89999389648438,170.97000122070312,172.8000030517578],\"type\":\"scatter\"}],                        {\"legend\":{\"bgcolor\":\"#F5F6F9\",\"font\":{\"color\":\"#4D5663\"}},\"paper_bgcolor\":\"#F5F6F9\",\"plot_bgcolor\":\"#F5F6F9\",\"template\":{\"data\":{\"barpolar\":[{\"marker\":{\"line\":{\"color\":\"#E5ECF6\",\"width\":0.5},\"pattern\":{\"fillmode\":\"overlay\",\"size\":10,\"solidity\":0.2}},\"type\":\"barpolar\"}],\"bar\":[{\"error_x\":{\"color\":\"#2a3f5f\"},\"error_y\":{\"color\":\"#2a3f5f\"},\"marker\":{\"line\":{\"color\":\"#E5ECF6\",\"width\":0.5},\"pattern\":{\"fillmode\":\"overlay\",\"size\":10,\"solidity\":0.2}},\"type\":\"bar\"}],\"carpet\":[{\"aaxis\":{\"endlinecolor\":\"#2a3f5f\",\"gridcolor\":\"white\",\"linecolor\":\"white\",\"minorgridcolor\":\"white\",\"startlinecolor\":\"#2a3f5f\"},\"baxis\":{\"endlinecolor\":\"#2a3f5f\",\"gridcolor\":\"white\",\"linecolor\":\"white\",\"minorgridcolor\":\"white\",\"startlinecolor\":\"#2a3f5f\"},\"type\":\"carpet\"}],\"choropleth\":[{\"colorbar\":{\"outlinewidth\":0,\"ticks\":\"\"},\"type\":\"choropleth\"}],\"contourcarpet\":[{\"colorbar\":{\"outlinewidth\":0,\"ticks\":\"\"},\"type\":\"contourcarpet\"}],\"contour\":[{\"colorbar\":{\"outlinewidth\":0,\"ticks\":\"\"},\"colorscale\":[[0.0,\"#0d0887\"],[0.1111111111111111,\"#46039f\"],[0.2222222222222222,\"#7201a8\"],[0.3333333333333333,\"#9c179e\"],[0.4444444444444444,\"#bd3786\"],[0.5555555555555556,\"#d8576b\"],[0.6666666666666666,\"#ed7953\"],[0.7777777777777778,\"#fb9f3a\"],[0.8888888888888888,\"#fdca26\"],[1.0,\"#f0f921\"]],\"type\":\"contour\"}],\"heatmapgl\":[{\"colorbar\":{\"outlinewidth\":0,\"ticks\":\"\"},\"colorscale\":[[0.0,\"#0d0887\"],[0.1111111111111111,\"#46039f\"],[0.2222222222222222,\"#7201a8\"],[0.3333333333333333,\"#9c179e\"],[0.4444444444444444,\"#bd3786\"],[0.5555555555555556,\"#d8576b\"],[0.6666666666666666,\"#ed7953\"],[0.7777777777777778,\"#fb9f3a\"],[0.8888888888888888,\"#fdca26\"],[1.0,\"#f0f921\"]],\"type\":\"heatmapgl\"}],\"heatmap\":[{\"colorbar\":{\"outlinewidth\":0,\"ticks\":\"\"},\"colorscale\":[[0.0,\"#0d0887\"],[0.1111111111111111,\"#46039f\"],[0.2222222222222222,\"#7201a8\"],[0.3333333333333333,\"#9c179e\"],[0.4444444444444444,\"#bd3786\"],[0.5555555555555556,\"#d8576b\"],[0.6666666666666666,\"#ed7953\"],[0.7777777777777778,\"#fb9f3a\"],[0.8888888888888888,\"#fdca26\"],[1.0,\"#f0f921\"]],\"type\":\"heatmap\"}],\"histogram2dcontour\":[{\"colorbar\":{\"outlinewidth\":0,\"ticks\":\"\"},\"colorscale\":[[0.0,\"#0d0887\"],[0.1111111111111111,\"#46039f\"],[0.2222222222222222,\"#7201a8\"],[0.3333333333333333,\"#9c179e\"],[0.4444444444444444,\"#bd3786\"],[0.5555555555555556,\"#d8576b\"],[0.6666666666666666,\"#ed7953\"],[0.7777777777777778,\"#fb9f3a\"],[0.8888888888888888,\"#fdca26\"],[1.0,\"#f0f921\"]],\"type\":\"histogram2dcontour\"}],\"histogram2d\":[{\"colorbar\":{\"outlinewidth\":0,\"ticks\":\"\"},\"colorscale\":[[0.0,\"#0d0887\"],[0.1111111111111111,\"#46039f\"],[0.2222222222222222,\"#7201a8\"],[0.3333333333333333,\"#9c179e\"],[0.4444444444444444,\"#bd3786\"],[0.5555555555555556,\"#d8576b\"],[0.6666666666666666,\"#ed7953\"],[0.7777777777777778,\"#fb9f3a\"],[0.8888888888888888,\"#fdca26\"],[1.0,\"#f0f921\"]],\"type\":\"histogram2d\"}],\"histogram\":[{\"marker\":{\"pattern\":{\"fillmode\":\"overlay\",\"size\":10,\"solidity\":0.2}},\"type\":\"histogram\"}],\"mesh3d\":[{\"colorbar\":{\"outlinewidth\":0,\"ticks\":\"\"},\"type\":\"mesh3d\"}],\"parcoords\":[{\"line\":{\"colorbar\":{\"outlinewidth\":0,\"ticks\":\"\"}},\"type\":\"parcoords\"}],\"pie\":[{\"automargin\":true,\"type\":\"pie\"}],\"scatter3d\":[{\"line\":{\"colorbar\":{\"outlinewidth\":0,\"ticks\":\"\"}},\"marker\":{\"colorbar\":{\"outlinewidth\":0,\"ticks\":\"\"}},\"type\":\"scatter3d\"}],\"scattercarpet\":[{\"marker\":{\"colorbar\":{\"outlinewidth\":0,\"ticks\":\"\"}},\"type\":\"scattercarpet\"}],\"scattergeo\":[{\"marker\":{\"colorbar\":{\"outlinewidth\":0,\"ticks\":\"\"}},\"type\":\"scattergeo\"}],\"scattergl\":[{\"marker\":{\"colorbar\":{\"outlinewidth\":0,\"ticks\":\"\"}},\"type\":\"scattergl\"}],\"scattermapbox\":[{\"marker\":{\"colorbar\":{\"outlinewidth\":0,\"ticks\":\"\"}},\"type\":\"scattermapbox\"}],\"scatterpolargl\":[{\"marker\":{\"colorbar\":{\"outlinewidth\":0,\"ticks\":\"\"}},\"type\":\"scatterpolargl\"}],\"scatterpolar\":[{\"marker\":{\"colorbar\":{\"outlinewidth\":0,\"ticks\":\"\"}},\"type\":\"scatterpolar\"}],\"scatter\":[{\"fillpattern\":{\"fillmode\":\"overlay\",\"size\":10,\"solidity\":0.2},\"type\":\"scatter\"}],\"scatterternary\":[{\"marker\":{\"colorbar\":{\"outlinewidth\":0,\"ticks\":\"\"}},\"type\":\"scatterternary\"}],\"surface\":[{\"colorbar\":{\"outlinewidth\":0,\"ticks\":\"\"},\"colorscale\":[[0.0,\"#0d0887\"],[0.1111111111111111,\"#46039f\"],[0.2222222222222222,\"#7201a8\"],[0.3333333333333333,\"#9c179e\"],[0.4444444444444444,\"#bd3786\"],[0.5555555555555556,\"#d8576b\"],[0.6666666666666666,\"#ed7953\"],[0.7777777777777778,\"#fb9f3a\"],[0.8888888888888888,\"#fdca26\"],[1.0,\"#f0f921\"]],\"type\":\"surface\"}],\"table\":[{\"cells\":{\"fill\":{\"color\":\"#EBF0F8\"},\"line\":{\"color\":\"white\"}},\"header\":{\"fill\":{\"color\":\"#C8D4E3\"},\"line\":{\"color\":\"white\"}},\"type\":\"table\"}]},\"layout\":{\"annotationdefaults\":{\"arrowcolor\":\"#2a3f5f\",\"arrowhead\":0,\"arrowwidth\":1},\"autotypenumbers\":\"strict\",\"coloraxis\":{\"colorbar\":{\"outlinewidth\":0,\"ticks\":\"\"}},\"colorscale\":{\"diverging\":[[0,\"#8e0152\"],[0.1,\"#c51b7d\"],[0.2,\"#de77ae\"],[0.3,\"#f1b6da\"],[0.4,\"#fde0ef\"],[0.5,\"#f7f7f7\"],[0.6,\"#e6f5d0\"],[0.7,\"#b8e186\"],[0.8,\"#7fbc41\"],[0.9,\"#4d9221\"],[1,\"#276419\"]],\"sequential\":[[0.0,\"#0d0887\"],[0.1111111111111111,\"#46039f\"],[0.2222222222222222,\"#7201a8\"],[0.3333333333333333,\"#9c179e\"],[0.4444444444444444,\"#bd3786\"],[0.5555555555555556,\"#d8576b\"],[0.6666666666666666,\"#ed7953\"],[0.7777777777777778,\"#fb9f3a\"],[0.8888888888888888,\"#fdca26\"],[1.0,\"#f0f921\"]],\"sequentialminus\":[[0.0,\"#0d0887\"],[0.1111111111111111,\"#46039f\"],[0.2222222222222222,\"#7201a8\"],[0.3333333333333333,\"#9c179e\"],[0.4444444444444444,\"#bd3786\"],[0.5555555555555556,\"#d8576b\"],[0.6666666666666666,\"#ed7953\"],[0.7777777777777778,\"#fb9f3a\"],[0.8888888888888888,\"#fdca26\"],[1.0,\"#f0f921\"]]},\"colorway\":[\"#636efa\",\"#EF553B\",\"#00cc96\",\"#ab63fa\",\"#FFA15A\",\"#19d3f3\",\"#FF6692\",\"#B6E880\",\"#FF97FF\",\"#FECB52\"],\"font\":{\"color\":\"#2a3f5f\"},\"geo\":{\"bgcolor\":\"white\",\"lakecolor\":\"white\",\"landcolor\":\"#E5ECF6\",\"showlakes\":true,\"showland\":true,\"subunitcolor\":\"white\"},\"hoverlabel\":{\"align\":\"left\"},\"hovermode\":\"closest\",\"mapbox\":{\"style\":\"light\"},\"paper_bgcolor\":\"white\",\"plot_bgcolor\":\"#E5ECF6\",\"polar\":{\"angularaxis\":{\"gridcolor\":\"white\",\"linecolor\":\"white\",\"ticks\":\"\"},\"bgcolor\":\"#E5ECF6\",\"radialaxis\":{\"gridcolor\":\"white\",\"linecolor\":\"white\",\"ticks\":\"\"}},\"scene\":{\"xaxis\":{\"backgroundcolor\":\"#E5ECF6\",\"gridcolor\":\"white\",\"gridwidth\":2,\"linecolor\":\"white\",\"showbackground\":true,\"ticks\":\"\",\"zerolinecolor\":\"white\"},\"yaxis\":{\"backgroundcolor\":\"#E5ECF6\",\"gridcolor\":\"white\",\"gridwidth\":2,\"linecolor\":\"white\",\"showbackground\":true,\"ticks\":\"\",\"zerolinecolor\":\"white\"},\"zaxis\":{\"backgroundcolor\":\"#E5ECF6\",\"gridcolor\":\"white\",\"gridwidth\":2,\"linecolor\":\"white\",\"showbackground\":true,\"ticks\":\"\",\"zerolinecolor\":\"white\"}},\"shapedefaults\":{\"line\":{\"color\":\"#2a3f5f\"}},\"ternary\":{\"aaxis\":{\"gridcolor\":\"white\",\"linecolor\":\"white\",\"ticks\":\"\"},\"baxis\":{\"gridcolor\":\"white\",\"linecolor\":\"white\",\"ticks\":\"\"},\"bgcolor\":\"#E5ECF6\",\"caxis\":{\"gridcolor\":\"white\",\"linecolor\":\"white\",\"ticks\":\"\"}},\"title\":{\"x\":0.05},\"xaxis\":{\"automargin\":true,\"gridcolor\":\"white\",\"linecolor\":\"white\",\"ticks\":\"\",\"title\":{\"standoff\":15},\"zerolinecolor\":\"white\",\"zerolinewidth\":2},\"yaxis\":{\"automargin\":true,\"gridcolor\":\"white\",\"linecolor\":\"white\",\"ticks\":\"\",\"title\":{\"standoff\":15},\"zerolinecolor\":\"white\",\"zerolinewidth\":2}}},\"title\":{\"font\":{\"color\":\"#4D5663\"},\"text\":\"Adjusted Close\"},\"xaxis\":{\"gridcolor\":\"#E1E5ED\",\"showgrid\":true,\"tickfont\":{\"color\":\"#4D5663\"},\"title\":{\"font\":{\"color\":\"#4D5663\"},\"text\":\"\"},\"zerolinecolor\":\"#E1E5ED\"},\"yaxis\":{\"gridcolor\":\"#E1E5ED\",\"showgrid\":true,\"tickfont\":{\"color\":\"#4D5663\"},\"title\":{\"font\":{\"color\":\"#4D5663\"},\"text\":\"\"},\"zerolinecolor\":\"#E1E5ED\"}},                        {\"showLink\": true, \"linkText\": \"Export to plot.ly\", \"plotlyServerURL\": \"https://plot.ly\", \"responsive\": true}                    ).then(function(){\n",
       "                            \n",
       "var gd = document.getElementById('366b55e8-4a68-4ea8-81b7-1da19df79533');\n",
       "var x = new MutationObserver(function (mutations, observer) {{\n",
       "        var display = window.getComputedStyle(gd).display;\n",
       "        if (!display || display === 'none') {{\n",
       "            console.log([gd, 'removed!']);\n",
       "            Plotly.purge(gd);\n",
       "            observer.disconnect();\n",
       "        }}\n",
       "}});\n",
       "\n",
       "// Listen for the removal of the full notebook cells\n",
       "var notebookContainer = gd.closest('#notebook-container');\n",
       "if (notebookContainer) {{\n",
       "    x.observe(notebookContainer, {childList: true});\n",
       "}}\n",
       "\n",
       "// Listen for the clearing of the current output cell\n",
       "var outputEl = gd.closest('.output');\n",
       "if (outputEl) {{\n",
       "    x.observe(outputEl, {childList: true});\n",
       "}}\n",
       "\n",
       "                        })                };                });            </script>        </div>"
      ]
     },
     "metadata": {},
     "output_type": "display_data"
    }
   ],
   "source": [
    "stock_data['Adj Close'].iplot(title='Adjusted Close', colors=['green'])"
   ]
  },
  {
   "cell_type": "markdown",
   "metadata": {},
   "source": [
    "Creating and displaying an interactive filled area plot of AMD's Adjusted Close Prices"
   ]
  },
  {
   "cell_type": "code",
   "execution_count": 20,
   "metadata": {},
   "outputs": [
    {
     "data": {
      "application/vnd.plotly.v1+json": {
       "config": {
        "linkText": "Export to plot.ly",
        "plotlyServerURL": "https://plot.ly",
        "showLink": true
       },
       "data": [
        {
         "fill": "tozeroy",
         "fillcolor": "rgba(0, 128, 0, 0.3)",
         "line": {
          "color": "rgba(0, 128, 0, 1.0)",
          "dash": "solid",
          "shape": "linear",
          "width": 1.3
         },
         "mode": "lines",
         "name": "Adj Close",
         "text": "",
         "type": "scatter",
         "x": [
          "2024-07-09",
          "2024-07-10",
          "2024-07-11",
          "2024-07-12",
          "2024-07-15",
          "2024-07-16",
          "2024-07-17",
          "2024-07-18",
          "2024-07-19",
          "2024-07-22",
          "2024-07-23",
          "2024-07-24",
          "2024-07-25",
          "2024-07-26",
          "2024-07-29",
          "2024-07-30",
          "2024-07-31",
          "2024-08-01",
          "2024-08-02",
          "2024-08-05",
          "2024-08-06",
          "2024-08-07",
          "2024-08-08",
          "2024-08-09",
          "2024-08-12",
          "2024-08-13",
          "2024-08-14",
          "2024-08-15",
          "2024-08-16",
          "2024-08-19",
          "2024-08-20",
          "2024-08-21",
          "2024-08-22",
          "2024-08-23",
          "2024-08-26",
          "2024-08-27",
          "2024-08-28",
          "2024-08-29",
          "2024-08-30",
          "2024-09-03",
          "2024-09-04",
          "2024-09-05",
          "2024-09-06",
          "2024-09-09",
          "2024-09-10",
          "2024-09-11",
          "2024-09-12",
          "2024-09-13",
          "2024-09-16",
          "2024-09-17",
          "2024-09-18",
          "2024-09-19",
          "2024-09-20",
          "2024-09-23",
          "2024-09-24",
          "2024-09-25",
          "2024-09-26",
          "2024-09-27",
          "2024-09-30",
          "2024-10-01",
          "2024-10-02",
          "2024-10-03",
          "2024-10-04",
          "2024-10-07",
          "2024-10-08"
         ],
         "y": [
          177.10000610351562,
          183.9600067138672,
          181.94000244140625,
          181.61000061035156,
          179.8300018310547,
          177.5500030517578,
          159.42999267578125,
          155.77000427246094,
          151.5800018310547,
          155.8699951171875,
          154,
          144.6300048828125,
          138.32000732421875,
          139.99000549316406,
          139.75,
          138.44000244140625,
          144.47999572753906,
          132.5399932861328,
          132.5,
          134.82000732421875,
          130.17999267578125,
          128.6699981689453,
          136.32000732421875,
          134.27000427246094,
          136.77000427246094,
          141.1300048828125,
          140.75,
          147.36000061035156,
          148.55999755859375,
          155.27999877929688,
          156.39999389648438,
          157.80999755859375,
          151.6999969482422,
          154.97999572753906,
          149.99000549316406,
          150.5,
          146.36000061035156,
          145.49000549316406,
          148.55999755859375,
          136.94000244140625,
          140.8699951171875,
          139.44000244140625,
          134.35000610351562,
          138.14999389648438,
          142.83999633789062,
          149.86000061035156,
          150.77000427246094,
          152.30999755859375,
          152.0800018310547,
          150.82000732421875,
          148.2899932861328,
          156.74000549316406,
          155.9499969482422,
          156.75,
          158.32000732421875,
          162.02000427246094,
          167.49000549316406,
          164.35000610351562,
          164.0800018310547,
          159.75,
          159.77999877929688,
          162.85000610351562,
          170.89999389648438,
          170.97000122070312,
          172.8000030517578
         ]
        }
       ],
       "layout": {
        "legend": {
         "bgcolor": "#F5F6F9",
         "font": {
          "color": "#4D5663"
         }
        },
        "paper_bgcolor": "#F5F6F9",
        "plot_bgcolor": "#F5F6F9",
        "template": {
         "data": {
          "bar": [
           {
            "error_x": {
             "color": "#2a3f5f"
            },
            "error_y": {
             "color": "#2a3f5f"
            },
            "marker": {
             "line": {
              "color": "#E5ECF6",
              "width": 0.5
             },
             "pattern": {
              "fillmode": "overlay",
              "size": 10,
              "solidity": 0.2
             }
            },
            "type": "bar"
           }
          ],
          "barpolar": [
           {
            "marker": {
             "line": {
              "color": "#E5ECF6",
              "width": 0.5
             },
             "pattern": {
              "fillmode": "overlay",
              "size": 10,
              "solidity": 0.2
             }
            },
            "type": "barpolar"
           }
          ],
          "carpet": [
           {
            "aaxis": {
             "endlinecolor": "#2a3f5f",
             "gridcolor": "white",
             "linecolor": "white",
             "minorgridcolor": "white",
             "startlinecolor": "#2a3f5f"
            },
            "baxis": {
             "endlinecolor": "#2a3f5f",
             "gridcolor": "white",
             "linecolor": "white",
             "minorgridcolor": "white",
             "startlinecolor": "#2a3f5f"
            },
            "type": "carpet"
           }
          ],
          "choropleth": [
           {
            "colorbar": {
             "outlinewidth": 0,
             "ticks": ""
            },
            "type": "choropleth"
           }
          ],
          "contour": [
           {
            "colorbar": {
             "outlinewidth": 0,
             "ticks": ""
            },
            "colorscale": [
             [
              0,
              "#0d0887"
             ],
             [
              0.1111111111111111,
              "#46039f"
             ],
             [
              0.2222222222222222,
              "#7201a8"
             ],
             [
              0.3333333333333333,
              "#9c179e"
             ],
             [
              0.4444444444444444,
              "#bd3786"
             ],
             [
              0.5555555555555556,
              "#d8576b"
             ],
             [
              0.6666666666666666,
              "#ed7953"
             ],
             [
              0.7777777777777778,
              "#fb9f3a"
             ],
             [
              0.8888888888888888,
              "#fdca26"
             ],
             [
              1,
              "#f0f921"
             ]
            ],
            "type": "contour"
           }
          ],
          "contourcarpet": [
           {
            "colorbar": {
             "outlinewidth": 0,
             "ticks": ""
            },
            "type": "contourcarpet"
           }
          ],
          "heatmap": [
           {
            "colorbar": {
             "outlinewidth": 0,
             "ticks": ""
            },
            "colorscale": [
             [
              0,
              "#0d0887"
             ],
             [
              0.1111111111111111,
              "#46039f"
             ],
             [
              0.2222222222222222,
              "#7201a8"
             ],
             [
              0.3333333333333333,
              "#9c179e"
             ],
             [
              0.4444444444444444,
              "#bd3786"
             ],
             [
              0.5555555555555556,
              "#d8576b"
             ],
             [
              0.6666666666666666,
              "#ed7953"
             ],
             [
              0.7777777777777778,
              "#fb9f3a"
             ],
             [
              0.8888888888888888,
              "#fdca26"
             ],
             [
              1,
              "#f0f921"
             ]
            ],
            "type": "heatmap"
           }
          ],
          "heatmapgl": [
           {
            "colorbar": {
             "outlinewidth": 0,
             "ticks": ""
            },
            "colorscale": [
             [
              0,
              "#0d0887"
             ],
             [
              0.1111111111111111,
              "#46039f"
             ],
             [
              0.2222222222222222,
              "#7201a8"
             ],
             [
              0.3333333333333333,
              "#9c179e"
             ],
             [
              0.4444444444444444,
              "#bd3786"
             ],
             [
              0.5555555555555556,
              "#d8576b"
             ],
             [
              0.6666666666666666,
              "#ed7953"
             ],
             [
              0.7777777777777778,
              "#fb9f3a"
             ],
             [
              0.8888888888888888,
              "#fdca26"
             ],
             [
              1,
              "#f0f921"
             ]
            ],
            "type": "heatmapgl"
           }
          ],
          "histogram": [
           {
            "marker": {
             "pattern": {
              "fillmode": "overlay",
              "size": 10,
              "solidity": 0.2
             }
            },
            "type": "histogram"
           }
          ],
          "histogram2d": [
           {
            "colorbar": {
             "outlinewidth": 0,
             "ticks": ""
            },
            "colorscale": [
             [
              0,
              "#0d0887"
             ],
             [
              0.1111111111111111,
              "#46039f"
             ],
             [
              0.2222222222222222,
              "#7201a8"
             ],
             [
              0.3333333333333333,
              "#9c179e"
             ],
             [
              0.4444444444444444,
              "#bd3786"
             ],
             [
              0.5555555555555556,
              "#d8576b"
             ],
             [
              0.6666666666666666,
              "#ed7953"
             ],
             [
              0.7777777777777778,
              "#fb9f3a"
             ],
             [
              0.8888888888888888,
              "#fdca26"
             ],
             [
              1,
              "#f0f921"
             ]
            ],
            "type": "histogram2d"
           }
          ],
          "histogram2dcontour": [
           {
            "colorbar": {
             "outlinewidth": 0,
             "ticks": ""
            },
            "colorscale": [
             [
              0,
              "#0d0887"
             ],
             [
              0.1111111111111111,
              "#46039f"
             ],
             [
              0.2222222222222222,
              "#7201a8"
             ],
             [
              0.3333333333333333,
              "#9c179e"
             ],
             [
              0.4444444444444444,
              "#bd3786"
             ],
             [
              0.5555555555555556,
              "#d8576b"
             ],
             [
              0.6666666666666666,
              "#ed7953"
             ],
             [
              0.7777777777777778,
              "#fb9f3a"
             ],
             [
              0.8888888888888888,
              "#fdca26"
             ],
             [
              1,
              "#f0f921"
             ]
            ],
            "type": "histogram2dcontour"
           }
          ],
          "mesh3d": [
           {
            "colorbar": {
             "outlinewidth": 0,
             "ticks": ""
            },
            "type": "mesh3d"
           }
          ],
          "parcoords": [
           {
            "line": {
             "colorbar": {
              "outlinewidth": 0,
              "ticks": ""
             }
            },
            "type": "parcoords"
           }
          ],
          "pie": [
           {
            "automargin": true,
            "type": "pie"
           }
          ],
          "scatter": [
           {
            "fillpattern": {
             "fillmode": "overlay",
             "size": 10,
             "solidity": 0.2
            },
            "type": "scatter"
           }
          ],
          "scatter3d": [
           {
            "line": {
             "colorbar": {
              "outlinewidth": 0,
              "ticks": ""
             }
            },
            "marker": {
             "colorbar": {
              "outlinewidth": 0,
              "ticks": ""
             }
            },
            "type": "scatter3d"
           }
          ],
          "scattercarpet": [
           {
            "marker": {
             "colorbar": {
              "outlinewidth": 0,
              "ticks": ""
             }
            },
            "type": "scattercarpet"
           }
          ],
          "scattergeo": [
           {
            "marker": {
             "colorbar": {
              "outlinewidth": 0,
              "ticks": ""
             }
            },
            "type": "scattergeo"
           }
          ],
          "scattergl": [
           {
            "marker": {
             "colorbar": {
              "outlinewidth": 0,
              "ticks": ""
             }
            },
            "type": "scattergl"
           }
          ],
          "scattermapbox": [
           {
            "marker": {
             "colorbar": {
              "outlinewidth": 0,
              "ticks": ""
             }
            },
            "type": "scattermapbox"
           }
          ],
          "scatterpolar": [
           {
            "marker": {
             "colorbar": {
              "outlinewidth": 0,
              "ticks": ""
             }
            },
            "type": "scatterpolar"
           }
          ],
          "scatterpolargl": [
           {
            "marker": {
             "colorbar": {
              "outlinewidth": 0,
              "ticks": ""
             }
            },
            "type": "scatterpolargl"
           }
          ],
          "scatterternary": [
           {
            "marker": {
             "colorbar": {
              "outlinewidth": 0,
              "ticks": ""
             }
            },
            "type": "scatterternary"
           }
          ],
          "surface": [
           {
            "colorbar": {
             "outlinewidth": 0,
             "ticks": ""
            },
            "colorscale": [
             [
              0,
              "#0d0887"
             ],
             [
              0.1111111111111111,
              "#46039f"
             ],
             [
              0.2222222222222222,
              "#7201a8"
             ],
             [
              0.3333333333333333,
              "#9c179e"
             ],
             [
              0.4444444444444444,
              "#bd3786"
             ],
             [
              0.5555555555555556,
              "#d8576b"
             ],
             [
              0.6666666666666666,
              "#ed7953"
             ],
             [
              0.7777777777777778,
              "#fb9f3a"
             ],
             [
              0.8888888888888888,
              "#fdca26"
             ],
             [
              1,
              "#f0f921"
             ]
            ],
            "type": "surface"
           }
          ],
          "table": [
           {
            "cells": {
             "fill": {
              "color": "#EBF0F8"
             },
             "line": {
              "color": "white"
             }
            },
            "header": {
             "fill": {
              "color": "#C8D4E3"
             },
             "line": {
              "color": "white"
             }
            },
            "type": "table"
           }
          ]
         },
         "layout": {
          "annotationdefaults": {
           "arrowcolor": "#2a3f5f",
           "arrowhead": 0,
           "arrowwidth": 1
          },
          "autotypenumbers": "strict",
          "coloraxis": {
           "colorbar": {
            "outlinewidth": 0,
            "ticks": ""
           }
          },
          "colorscale": {
           "diverging": [
            [
             0,
             "#8e0152"
            ],
            [
             0.1,
             "#c51b7d"
            ],
            [
             0.2,
             "#de77ae"
            ],
            [
             0.3,
             "#f1b6da"
            ],
            [
             0.4,
             "#fde0ef"
            ],
            [
             0.5,
             "#f7f7f7"
            ],
            [
             0.6,
             "#e6f5d0"
            ],
            [
             0.7,
             "#b8e186"
            ],
            [
             0.8,
             "#7fbc41"
            ],
            [
             0.9,
             "#4d9221"
            ],
            [
             1,
             "#276419"
            ]
           ],
           "sequential": [
            [
             0,
             "#0d0887"
            ],
            [
             0.1111111111111111,
             "#46039f"
            ],
            [
             0.2222222222222222,
             "#7201a8"
            ],
            [
             0.3333333333333333,
             "#9c179e"
            ],
            [
             0.4444444444444444,
             "#bd3786"
            ],
            [
             0.5555555555555556,
             "#d8576b"
            ],
            [
             0.6666666666666666,
             "#ed7953"
            ],
            [
             0.7777777777777778,
             "#fb9f3a"
            ],
            [
             0.8888888888888888,
             "#fdca26"
            ],
            [
             1,
             "#f0f921"
            ]
           ],
           "sequentialminus": [
            [
             0,
             "#0d0887"
            ],
            [
             0.1111111111111111,
             "#46039f"
            ],
            [
             0.2222222222222222,
             "#7201a8"
            ],
            [
             0.3333333333333333,
             "#9c179e"
            ],
            [
             0.4444444444444444,
             "#bd3786"
            ],
            [
             0.5555555555555556,
             "#d8576b"
            ],
            [
             0.6666666666666666,
             "#ed7953"
            ],
            [
             0.7777777777777778,
             "#fb9f3a"
            ],
            [
             0.8888888888888888,
             "#fdca26"
            ],
            [
             1,
             "#f0f921"
            ]
           ]
          },
          "colorway": [
           "#636efa",
           "#EF553B",
           "#00cc96",
           "#ab63fa",
           "#FFA15A",
           "#19d3f3",
           "#FF6692",
           "#B6E880",
           "#FF97FF",
           "#FECB52"
          ],
          "font": {
           "color": "#2a3f5f"
          },
          "geo": {
           "bgcolor": "white",
           "lakecolor": "white",
           "landcolor": "#E5ECF6",
           "showlakes": true,
           "showland": true,
           "subunitcolor": "white"
          },
          "hoverlabel": {
           "align": "left"
          },
          "hovermode": "closest",
          "mapbox": {
           "style": "light"
          },
          "paper_bgcolor": "white",
          "plot_bgcolor": "#E5ECF6",
          "polar": {
           "angularaxis": {
            "gridcolor": "white",
            "linecolor": "white",
            "ticks": ""
           },
           "bgcolor": "#E5ECF6",
           "radialaxis": {
            "gridcolor": "white",
            "linecolor": "white",
            "ticks": ""
           }
          },
          "scene": {
           "xaxis": {
            "backgroundcolor": "#E5ECF6",
            "gridcolor": "white",
            "gridwidth": 2,
            "linecolor": "white",
            "showbackground": true,
            "ticks": "",
            "zerolinecolor": "white"
           },
           "yaxis": {
            "backgroundcolor": "#E5ECF6",
            "gridcolor": "white",
            "gridwidth": 2,
            "linecolor": "white",
            "showbackground": true,
            "ticks": "",
            "zerolinecolor": "white"
           },
           "zaxis": {
            "backgroundcolor": "#E5ECF6",
            "gridcolor": "white",
            "gridwidth": 2,
            "linecolor": "white",
            "showbackground": true,
            "ticks": "",
            "zerolinecolor": "white"
           }
          },
          "shapedefaults": {
           "line": {
            "color": "#2a3f5f"
           }
          },
          "ternary": {
           "aaxis": {
            "gridcolor": "white",
            "linecolor": "white",
            "ticks": ""
           },
           "baxis": {
            "gridcolor": "white",
            "linecolor": "white",
            "ticks": ""
           },
           "bgcolor": "#E5ECF6",
           "caxis": {
            "gridcolor": "white",
            "linecolor": "white",
            "ticks": ""
           }
          },
          "title": {
           "x": 0.05
          },
          "xaxis": {
           "automargin": true,
           "gridcolor": "white",
           "linecolor": "white",
           "ticks": "",
           "title": {
            "standoff": 15
           },
           "zerolinecolor": "white",
           "zerolinewidth": 2
          },
          "yaxis": {
           "automargin": true,
           "gridcolor": "white",
           "linecolor": "white",
           "ticks": "",
           "title": {
            "standoff": 15
           },
           "zerolinecolor": "white",
           "zerolinewidth": 2
          }
         }
        },
        "title": {
         "font": {
          "color": "#4D5663"
         },
         "text": "Adjusted Close (Filled Area)"
        },
        "xaxis": {
         "gridcolor": "#E1E5ED",
         "showgrid": true,
         "tickfont": {
          "color": "#4D5663"
         },
         "title": {
          "font": {
           "color": "#4D5663"
          },
          "text": ""
         },
         "zerolinecolor": "#E1E5ED"
        },
        "yaxis": {
         "gridcolor": "#E1E5ED",
         "showgrid": true,
         "tickfont": {
          "color": "#4D5663"
         },
         "title": {
          "font": {
           "color": "#4D5663"
          },
          "text": ""
         },
         "zerolinecolor": "#E1E5ED"
        }
       }
      },
      "text/html": [
       "<div>                            <div id=\"df032d69-8f23-4c24-bb88-d951de2e1666\" class=\"plotly-graph-div\" style=\"height:525px; width:100%;\"></div>            <script type=\"text/javascript\">                require([\"plotly\"], function(Plotly) {                    window.PLOTLYENV=window.PLOTLYENV || {};\n",
       "                    window.PLOTLYENV.BASE_URL='https://plot.ly';                                    if (document.getElementById(\"df032d69-8f23-4c24-bb88-d951de2e1666\")) {                    Plotly.newPlot(                        \"df032d69-8f23-4c24-bb88-d951de2e1666\",                        [{\"fill\":\"tozeroy\",\"fillcolor\":\"rgba(0, 128, 0, 0.3)\",\"line\":{\"color\":\"rgba(0, 128, 0, 1.0)\",\"dash\":\"solid\",\"shape\":\"linear\",\"width\":1.3},\"mode\":\"lines\",\"name\":\"Adj Close\",\"text\":\"\",\"x\":[\"2024-07-09\",\"2024-07-10\",\"2024-07-11\",\"2024-07-12\",\"2024-07-15\",\"2024-07-16\",\"2024-07-17\",\"2024-07-18\",\"2024-07-19\",\"2024-07-22\",\"2024-07-23\",\"2024-07-24\",\"2024-07-25\",\"2024-07-26\",\"2024-07-29\",\"2024-07-30\",\"2024-07-31\",\"2024-08-01\",\"2024-08-02\",\"2024-08-05\",\"2024-08-06\",\"2024-08-07\",\"2024-08-08\",\"2024-08-09\",\"2024-08-12\",\"2024-08-13\",\"2024-08-14\",\"2024-08-15\",\"2024-08-16\",\"2024-08-19\",\"2024-08-20\",\"2024-08-21\",\"2024-08-22\",\"2024-08-23\",\"2024-08-26\",\"2024-08-27\",\"2024-08-28\",\"2024-08-29\",\"2024-08-30\",\"2024-09-03\",\"2024-09-04\",\"2024-09-05\",\"2024-09-06\",\"2024-09-09\",\"2024-09-10\",\"2024-09-11\",\"2024-09-12\",\"2024-09-13\",\"2024-09-16\",\"2024-09-17\",\"2024-09-18\",\"2024-09-19\",\"2024-09-20\",\"2024-09-23\",\"2024-09-24\",\"2024-09-25\",\"2024-09-26\",\"2024-09-27\",\"2024-09-30\",\"2024-10-01\",\"2024-10-02\",\"2024-10-03\",\"2024-10-04\",\"2024-10-07\",\"2024-10-08\"],\"y\":[177.10000610351562,183.9600067138672,181.94000244140625,181.61000061035156,179.8300018310547,177.5500030517578,159.42999267578125,155.77000427246094,151.5800018310547,155.8699951171875,154.0,144.6300048828125,138.32000732421875,139.99000549316406,139.75,138.44000244140625,144.47999572753906,132.5399932861328,132.5,134.82000732421875,130.17999267578125,128.6699981689453,136.32000732421875,134.27000427246094,136.77000427246094,141.1300048828125,140.75,147.36000061035156,148.55999755859375,155.27999877929688,156.39999389648438,157.80999755859375,151.6999969482422,154.97999572753906,149.99000549316406,150.5,146.36000061035156,145.49000549316406,148.55999755859375,136.94000244140625,140.8699951171875,139.44000244140625,134.35000610351562,138.14999389648438,142.83999633789062,149.86000061035156,150.77000427246094,152.30999755859375,152.0800018310547,150.82000732421875,148.2899932861328,156.74000549316406,155.9499969482422,156.75,158.32000732421875,162.02000427246094,167.49000549316406,164.35000610351562,164.0800018310547,159.75,159.77999877929688,162.85000610351562,170.89999389648438,170.97000122070312,172.8000030517578],\"type\":\"scatter\"}],                        {\"legend\":{\"bgcolor\":\"#F5F6F9\",\"font\":{\"color\":\"#4D5663\"}},\"paper_bgcolor\":\"#F5F6F9\",\"plot_bgcolor\":\"#F5F6F9\",\"template\":{\"data\":{\"barpolar\":[{\"marker\":{\"line\":{\"color\":\"#E5ECF6\",\"width\":0.5},\"pattern\":{\"fillmode\":\"overlay\",\"size\":10,\"solidity\":0.2}},\"type\":\"barpolar\"}],\"bar\":[{\"error_x\":{\"color\":\"#2a3f5f\"},\"error_y\":{\"color\":\"#2a3f5f\"},\"marker\":{\"line\":{\"color\":\"#E5ECF6\",\"width\":0.5},\"pattern\":{\"fillmode\":\"overlay\",\"size\":10,\"solidity\":0.2}},\"type\":\"bar\"}],\"carpet\":[{\"aaxis\":{\"endlinecolor\":\"#2a3f5f\",\"gridcolor\":\"white\",\"linecolor\":\"white\",\"minorgridcolor\":\"white\",\"startlinecolor\":\"#2a3f5f\"},\"baxis\":{\"endlinecolor\":\"#2a3f5f\",\"gridcolor\":\"white\",\"linecolor\":\"white\",\"minorgridcolor\":\"white\",\"startlinecolor\":\"#2a3f5f\"},\"type\":\"carpet\"}],\"choropleth\":[{\"colorbar\":{\"outlinewidth\":0,\"ticks\":\"\"},\"type\":\"choropleth\"}],\"contourcarpet\":[{\"colorbar\":{\"outlinewidth\":0,\"ticks\":\"\"},\"type\":\"contourcarpet\"}],\"contour\":[{\"colorbar\":{\"outlinewidth\":0,\"ticks\":\"\"},\"colorscale\":[[0.0,\"#0d0887\"],[0.1111111111111111,\"#46039f\"],[0.2222222222222222,\"#7201a8\"],[0.3333333333333333,\"#9c179e\"],[0.4444444444444444,\"#bd3786\"],[0.5555555555555556,\"#d8576b\"],[0.6666666666666666,\"#ed7953\"],[0.7777777777777778,\"#fb9f3a\"],[0.8888888888888888,\"#fdca26\"],[1.0,\"#f0f921\"]],\"type\":\"contour\"}],\"heatmapgl\":[{\"colorbar\":{\"outlinewidth\":0,\"ticks\":\"\"},\"colorscale\":[[0.0,\"#0d0887\"],[0.1111111111111111,\"#46039f\"],[0.2222222222222222,\"#7201a8\"],[0.3333333333333333,\"#9c179e\"],[0.4444444444444444,\"#bd3786\"],[0.5555555555555556,\"#d8576b\"],[0.6666666666666666,\"#ed7953\"],[0.7777777777777778,\"#fb9f3a\"],[0.8888888888888888,\"#fdca26\"],[1.0,\"#f0f921\"]],\"type\":\"heatmapgl\"}],\"heatmap\":[{\"colorbar\":{\"outlinewidth\":0,\"ticks\":\"\"},\"colorscale\":[[0.0,\"#0d0887\"],[0.1111111111111111,\"#46039f\"],[0.2222222222222222,\"#7201a8\"],[0.3333333333333333,\"#9c179e\"],[0.4444444444444444,\"#bd3786\"],[0.5555555555555556,\"#d8576b\"],[0.6666666666666666,\"#ed7953\"],[0.7777777777777778,\"#fb9f3a\"],[0.8888888888888888,\"#fdca26\"],[1.0,\"#f0f921\"]],\"type\":\"heatmap\"}],\"histogram2dcontour\":[{\"colorbar\":{\"outlinewidth\":0,\"ticks\":\"\"},\"colorscale\":[[0.0,\"#0d0887\"],[0.1111111111111111,\"#46039f\"],[0.2222222222222222,\"#7201a8\"],[0.3333333333333333,\"#9c179e\"],[0.4444444444444444,\"#bd3786\"],[0.5555555555555556,\"#d8576b\"],[0.6666666666666666,\"#ed7953\"],[0.7777777777777778,\"#fb9f3a\"],[0.8888888888888888,\"#fdca26\"],[1.0,\"#f0f921\"]],\"type\":\"histogram2dcontour\"}],\"histogram2d\":[{\"colorbar\":{\"outlinewidth\":0,\"ticks\":\"\"},\"colorscale\":[[0.0,\"#0d0887\"],[0.1111111111111111,\"#46039f\"],[0.2222222222222222,\"#7201a8\"],[0.3333333333333333,\"#9c179e\"],[0.4444444444444444,\"#bd3786\"],[0.5555555555555556,\"#d8576b\"],[0.6666666666666666,\"#ed7953\"],[0.7777777777777778,\"#fb9f3a\"],[0.8888888888888888,\"#fdca26\"],[1.0,\"#f0f921\"]],\"type\":\"histogram2d\"}],\"histogram\":[{\"marker\":{\"pattern\":{\"fillmode\":\"overlay\",\"size\":10,\"solidity\":0.2}},\"type\":\"histogram\"}],\"mesh3d\":[{\"colorbar\":{\"outlinewidth\":0,\"ticks\":\"\"},\"type\":\"mesh3d\"}],\"parcoords\":[{\"line\":{\"colorbar\":{\"outlinewidth\":0,\"ticks\":\"\"}},\"type\":\"parcoords\"}],\"pie\":[{\"automargin\":true,\"type\":\"pie\"}],\"scatter3d\":[{\"line\":{\"colorbar\":{\"outlinewidth\":0,\"ticks\":\"\"}},\"marker\":{\"colorbar\":{\"outlinewidth\":0,\"ticks\":\"\"}},\"type\":\"scatter3d\"}],\"scattercarpet\":[{\"marker\":{\"colorbar\":{\"outlinewidth\":0,\"ticks\":\"\"}},\"type\":\"scattercarpet\"}],\"scattergeo\":[{\"marker\":{\"colorbar\":{\"outlinewidth\":0,\"ticks\":\"\"}},\"type\":\"scattergeo\"}],\"scattergl\":[{\"marker\":{\"colorbar\":{\"outlinewidth\":0,\"ticks\":\"\"}},\"type\":\"scattergl\"}],\"scattermapbox\":[{\"marker\":{\"colorbar\":{\"outlinewidth\":0,\"ticks\":\"\"}},\"type\":\"scattermapbox\"}],\"scatterpolargl\":[{\"marker\":{\"colorbar\":{\"outlinewidth\":0,\"ticks\":\"\"}},\"type\":\"scatterpolargl\"}],\"scatterpolar\":[{\"marker\":{\"colorbar\":{\"outlinewidth\":0,\"ticks\":\"\"}},\"type\":\"scatterpolar\"}],\"scatter\":[{\"fillpattern\":{\"fillmode\":\"overlay\",\"size\":10,\"solidity\":0.2},\"type\":\"scatter\"}],\"scatterternary\":[{\"marker\":{\"colorbar\":{\"outlinewidth\":0,\"ticks\":\"\"}},\"type\":\"scatterternary\"}],\"surface\":[{\"colorbar\":{\"outlinewidth\":0,\"ticks\":\"\"},\"colorscale\":[[0.0,\"#0d0887\"],[0.1111111111111111,\"#46039f\"],[0.2222222222222222,\"#7201a8\"],[0.3333333333333333,\"#9c179e\"],[0.4444444444444444,\"#bd3786\"],[0.5555555555555556,\"#d8576b\"],[0.6666666666666666,\"#ed7953\"],[0.7777777777777778,\"#fb9f3a\"],[0.8888888888888888,\"#fdca26\"],[1.0,\"#f0f921\"]],\"type\":\"surface\"}],\"table\":[{\"cells\":{\"fill\":{\"color\":\"#EBF0F8\"},\"line\":{\"color\":\"white\"}},\"header\":{\"fill\":{\"color\":\"#C8D4E3\"},\"line\":{\"color\":\"white\"}},\"type\":\"table\"}]},\"layout\":{\"annotationdefaults\":{\"arrowcolor\":\"#2a3f5f\",\"arrowhead\":0,\"arrowwidth\":1},\"autotypenumbers\":\"strict\",\"coloraxis\":{\"colorbar\":{\"outlinewidth\":0,\"ticks\":\"\"}},\"colorscale\":{\"diverging\":[[0,\"#8e0152\"],[0.1,\"#c51b7d\"],[0.2,\"#de77ae\"],[0.3,\"#f1b6da\"],[0.4,\"#fde0ef\"],[0.5,\"#f7f7f7\"],[0.6,\"#e6f5d0\"],[0.7,\"#b8e186\"],[0.8,\"#7fbc41\"],[0.9,\"#4d9221\"],[1,\"#276419\"]],\"sequential\":[[0.0,\"#0d0887\"],[0.1111111111111111,\"#46039f\"],[0.2222222222222222,\"#7201a8\"],[0.3333333333333333,\"#9c179e\"],[0.4444444444444444,\"#bd3786\"],[0.5555555555555556,\"#d8576b\"],[0.6666666666666666,\"#ed7953\"],[0.7777777777777778,\"#fb9f3a\"],[0.8888888888888888,\"#fdca26\"],[1.0,\"#f0f921\"]],\"sequentialminus\":[[0.0,\"#0d0887\"],[0.1111111111111111,\"#46039f\"],[0.2222222222222222,\"#7201a8\"],[0.3333333333333333,\"#9c179e\"],[0.4444444444444444,\"#bd3786\"],[0.5555555555555556,\"#d8576b\"],[0.6666666666666666,\"#ed7953\"],[0.7777777777777778,\"#fb9f3a\"],[0.8888888888888888,\"#fdca26\"],[1.0,\"#f0f921\"]]},\"colorway\":[\"#636efa\",\"#EF553B\",\"#00cc96\",\"#ab63fa\",\"#FFA15A\",\"#19d3f3\",\"#FF6692\",\"#B6E880\",\"#FF97FF\",\"#FECB52\"],\"font\":{\"color\":\"#2a3f5f\"},\"geo\":{\"bgcolor\":\"white\",\"lakecolor\":\"white\",\"landcolor\":\"#E5ECF6\",\"showlakes\":true,\"showland\":true,\"subunitcolor\":\"white\"},\"hoverlabel\":{\"align\":\"left\"},\"hovermode\":\"closest\",\"mapbox\":{\"style\":\"light\"},\"paper_bgcolor\":\"white\",\"plot_bgcolor\":\"#E5ECF6\",\"polar\":{\"angularaxis\":{\"gridcolor\":\"white\",\"linecolor\":\"white\",\"ticks\":\"\"},\"bgcolor\":\"#E5ECF6\",\"radialaxis\":{\"gridcolor\":\"white\",\"linecolor\":\"white\",\"ticks\":\"\"}},\"scene\":{\"xaxis\":{\"backgroundcolor\":\"#E5ECF6\",\"gridcolor\":\"white\",\"gridwidth\":2,\"linecolor\":\"white\",\"showbackground\":true,\"ticks\":\"\",\"zerolinecolor\":\"white\"},\"yaxis\":{\"backgroundcolor\":\"#E5ECF6\",\"gridcolor\":\"white\",\"gridwidth\":2,\"linecolor\":\"white\",\"showbackground\":true,\"ticks\":\"\",\"zerolinecolor\":\"white\"},\"zaxis\":{\"backgroundcolor\":\"#E5ECF6\",\"gridcolor\":\"white\",\"gridwidth\":2,\"linecolor\":\"white\",\"showbackground\":true,\"ticks\":\"\",\"zerolinecolor\":\"white\"}},\"shapedefaults\":{\"line\":{\"color\":\"#2a3f5f\"}},\"ternary\":{\"aaxis\":{\"gridcolor\":\"white\",\"linecolor\":\"white\",\"ticks\":\"\"},\"baxis\":{\"gridcolor\":\"white\",\"linecolor\":\"white\",\"ticks\":\"\"},\"bgcolor\":\"#E5ECF6\",\"caxis\":{\"gridcolor\":\"white\",\"linecolor\":\"white\",\"ticks\":\"\"}},\"title\":{\"x\":0.05},\"xaxis\":{\"automargin\":true,\"gridcolor\":\"white\",\"linecolor\":\"white\",\"ticks\":\"\",\"title\":{\"standoff\":15},\"zerolinecolor\":\"white\",\"zerolinewidth\":2},\"yaxis\":{\"automargin\":true,\"gridcolor\":\"white\",\"linecolor\":\"white\",\"ticks\":\"\",\"title\":{\"standoff\":15},\"zerolinecolor\":\"white\",\"zerolinewidth\":2}}},\"title\":{\"font\":{\"color\":\"#4D5663\"},\"text\":\"Adjusted Close (Filled Area)\"},\"xaxis\":{\"gridcolor\":\"#E1E5ED\",\"showgrid\":true,\"tickfont\":{\"color\":\"#4D5663\"},\"title\":{\"font\":{\"color\":\"#4D5663\"},\"text\":\"\"},\"zerolinecolor\":\"#E1E5ED\"},\"yaxis\":{\"gridcolor\":\"#E1E5ED\",\"showgrid\":true,\"tickfont\":{\"color\":\"#4D5663\"},\"title\":{\"font\":{\"color\":\"#4D5663\"},\"text\":\"\"},\"zerolinecolor\":\"#E1E5ED\"}},                        {\"showLink\": true, \"linkText\": \"Export to plot.ly\", \"plotlyServerURL\": \"https://plot.ly\", \"responsive\": true}                    ).then(function(){\n",
       "                            \n",
       "var gd = document.getElementById('df032d69-8f23-4c24-bb88-d951de2e1666');\n",
       "var x = new MutationObserver(function (mutations, observer) {{\n",
       "        var display = window.getComputedStyle(gd).display;\n",
       "        if (!display || display === 'none') {{\n",
       "            console.log([gd, 'removed!']);\n",
       "            Plotly.purge(gd);\n",
       "            observer.disconnect();\n",
       "        }}\n",
       "}});\n",
       "\n",
       "// Listen for the removal of the full notebook cells\n",
       "var notebookContainer = gd.closest('#notebook-container');\n",
       "if (notebookContainer) {{\n",
       "    x.observe(notebookContainer, {childList: true});\n",
       "}}\n",
       "\n",
       "// Listen for the clearing of the current output cell\n",
       "var outputEl = gd.closest('.output');\n",
       "if (outputEl) {{\n",
       "    x.observe(outputEl, {childList: true});\n",
       "}}\n",
       "\n",
       "                        })                };                });            </script>        </div>"
      ]
     },
     "metadata": {},
     "output_type": "display_data"
    }
   ],
   "source": [
    "stock_data['Adj Close'].iplot(title='Adjusted Close (Filled Area)', fill=True, colors=['green'])"
   ]
  },
  {
   "cell_type": "markdown",
   "metadata": {},
   "source": [
    "Creating and displaying an interative line plot of AMD's Returns with a best-fit line"
   ]
  },
  {
   "cell_type": "code",
   "execution_count": 26,
   "metadata": {},
   "outputs": [
    {
     "data": {
      "application/vnd.plotly.v1+json": {
       "config": {
        "linkText": "Export to plot.ly",
        "plotlyServerURL": "https://plot.ly",
        "showLink": true
       },
       "data": [
        {
         "line": {
          "color": "rgba(255, 153, 51, 1.0)",
          "dash": "solid",
          "shape": "linear",
          "width": 1.3
         },
         "mode": "lines",
         "name": "Adj Close",
         "text": "",
         "type": "scatter",
         "x": [
          "2024-07-09",
          "2024-07-10",
          "2024-07-11",
          "2024-07-12",
          "2024-07-15",
          "2024-07-16",
          "2024-07-17",
          "2024-07-18",
          "2024-07-19",
          "2024-07-22",
          "2024-07-23",
          "2024-07-24",
          "2024-07-25",
          "2024-07-26",
          "2024-07-29",
          "2024-07-30",
          "2024-07-31",
          "2024-08-01",
          "2024-08-02",
          "2024-08-05",
          "2024-08-06",
          "2024-08-07",
          "2024-08-08",
          "2024-08-09",
          "2024-08-12",
          "2024-08-13",
          "2024-08-14",
          "2024-08-15",
          "2024-08-16",
          "2024-08-19",
          "2024-08-20",
          "2024-08-21",
          "2024-08-22",
          "2024-08-23",
          "2024-08-26",
          "2024-08-27",
          "2024-08-28",
          "2024-08-29",
          "2024-08-30",
          "2024-09-03",
          "2024-09-04",
          "2024-09-05",
          "2024-09-06",
          "2024-09-09",
          "2024-09-10",
          "2024-09-11",
          "2024-09-12",
          "2024-09-13",
          "2024-09-16",
          "2024-09-17",
          "2024-09-18",
          "2024-09-19",
          "2024-09-20",
          "2024-09-23",
          "2024-09-24",
          "2024-09-25",
          "2024-09-26",
          "2024-09-27",
          "2024-09-30",
          "2024-10-01",
          "2024-10-02",
          "2024-10-03",
          "2024-10-04",
          "2024-10-07",
          "2024-10-08"
         ],
         "y": [
          177.10000610351562,
          183.9600067138672,
          181.94000244140625,
          181.61000061035156,
          179.8300018310547,
          177.5500030517578,
          159.42999267578125,
          155.77000427246094,
          151.5800018310547,
          155.8699951171875,
          154,
          144.6300048828125,
          138.32000732421875,
          139.99000549316406,
          139.75,
          138.44000244140625,
          144.47999572753906,
          132.5399932861328,
          132.5,
          134.82000732421875,
          130.17999267578125,
          128.6699981689453,
          136.32000732421875,
          134.27000427246094,
          136.77000427246094,
          141.1300048828125,
          140.75,
          147.36000061035156,
          148.55999755859375,
          155.27999877929688,
          156.39999389648438,
          157.80999755859375,
          151.6999969482422,
          154.97999572753906,
          149.99000549316406,
          150.5,
          146.36000061035156,
          145.49000549316406,
          148.55999755859375,
          136.94000244140625,
          140.8699951171875,
          139.44000244140625,
          134.35000610351562,
          138.14999389648438,
          142.83999633789062,
          149.86000061035156,
          150.77000427246094,
          152.30999755859375,
          152.0800018310547,
          150.82000732421875,
          148.2899932861328,
          156.74000549316406,
          155.9499969482422,
          156.75,
          158.32000732421875,
          162.02000427246094,
          167.49000549316406,
          164.35000610351562,
          164.0800018310547,
          159.75,
          159.77999877929688,
          162.85000610351562,
          170.89999389648438,
          170.97000122070312,
          172.8000030517578
         ]
        },
        {
         "line": {
          "color": "rgba(55, 128, 191, 1.0)",
          "dash": "dash",
          "shape": "linear",
          "width": 3
         },
         "mode": "lines",
         "name": "0.04*x+150.72",
         "type": "scatter",
         "x": [
          "2024-07-09",
          "2024-07-10",
          "2024-07-11",
          "2024-07-12",
          "2024-07-15",
          "2024-07-16",
          "2024-07-17",
          "2024-07-18",
          "2024-07-19",
          "2024-07-22",
          "2024-07-23",
          "2024-07-24",
          "2024-07-25",
          "2024-07-26",
          "2024-07-29",
          "2024-07-30",
          "2024-07-31",
          "2024-08-01",
          "2024-08-02",
          "2024-08-05",
          "2024-08-06",
          "2024-08-07",
          "2024-08-08",
          "2024-08-09",
          "2024-08-12",
          "2024-08-13",
          "2024-08-14",
          "2024-08-15",
          "2024-08-16",
          "2024-08-19",
          "2024-08-20",
          "2024-08-21",
          "2024-08-22",
          "2024-08-23",
          "2024-08-26",
          "2024-08-27",
          "2024-08-28",
          "2024-08-29",
          "2024-08-30",
          "2024-09-03",
          "2024-09-04",
          "2024-09-05",
          "2024-09-06",
          "2024-09-09",
          "2024-09-10",
          "2024-09-11",
          "2024-09-12",
          "2024-09-13",
          "2024-09-16",
          "2024-09-17",
          "2024-09-18",
          "2024-09-19",
          "2024-09-20",
          "2024-09-23",
          "2024-09-24",
          "2024-09-25",
          "2024-09-26",
          "2024-09-27",
          "2024-09-30",
          "2024-10-01",
          "2024-10-02",
          "2024-10-03",
          "2024-10-04",
          "2024-10-07",
          "2024-10-08"
         ],
         "y": [
          150.75642068502785,
          150.79752295434056,
          150.83862522365328,
          150.879727492966,
          150.92082976227871,
          150.96193203159143,
          151.00303430090415,
          151.04413657021686,
          151.08523883952958,
          151.1263411088423,
          151.167443378155,
          151.20854564746773,
          151.24964791678045,
          151.29075018609316,
          151.33185245540588,
          151.3729547247186,
          151.4140569940313,
          151.45515926334403,
          151.49626153265675,
          151.53736380196946,
          151.57846607128218,
          151.6195683405949,
          151.6606706099076,
          151.70177287922033,
          151.74287514853307,
          151.7839774178458,
          151.8250796871585,
          151.86618195647122,
          151.90728422578394,
          151.94838649509666,
          151.98948876440937,
          152.0305910337221,
          152.0716933030348,
          152.11279557234752,
          152.15389784166024,
          152.19500011097296,
          152.23610238028567,
          152.2772046495984,
          152.3183069189111,
          152.35940918822382,
          152.40051145753654,
          152.44161372684925,
          152.48271599616197,
          152.5238182654747,
          152.5649205347874,
          152.60602280410012,
          152.64712507341284,
          152.68822734272555,
          152.72932961203827,
          152.770431881351,
          152.8115341506637,
          152.85263641997642,
          152.89373868928914,
          152.93484095860185,
          152.97594322791457,
          153.0170454972273,
          153.05814776654,
          153.09925003585272,
          153.14035230516544,
          153.18145457447815,
          153.22255684379087,
          153.26365911310359,
          153.3047613824163,
          153.34586365172902,
          153.38696592104174
         ]
        }
       ],
       "layout": {
        "legend": {
         "bgcolor": "#F5F6F9",
         "font": {
          "color": "#4D5663"
         }
        },
        "paper_bgcolor": "#F5F6F9",
        "plot_bgcolor": "#F5F6F9",
        "template": {
         "data": {
          "bar": [
           {
            "error_x": {
             "color": "#2a3f5f"
            },
            "error_y": {
             "color": "#2a3f5f"
            },
            "marker": {
             "line": {
              "color": "#E5ECF6",
              "width": 0.5
             },
             "pattern": {
              "fillmode": "overlay",
              "size": 10,
              "solidity": 0.2
             }
            },
            "type": "bar"
           }
          ],
          "barpolar": [
           {
            "marker": {
             "line": {
              "color": "#E5ECF6",
              "width": 0.5
             },
             "pattern": {
              "fillmode": "overlay",
              "size": 10,
              "solidity": 0.2
             }
            },
            "type": "barpolar"
           }
          ],
          "carpet": [
           {
            "aaxis": {
             "endlinecolor": "#2a3f5f",
             "gridcolor": "white",
             "linecolor": "white",
             "minorgridcolor": "white",
             "startlinecolor": "#2a3f5f"
            },
            "baxis": {
             "endlinecolor": "#2a3f5f",
             "gridcolor": "white",
             "linecolor": "white",
             "minorgridcolor": "white",
             "startlinecolor": "#2a3f5f"
            },
            "type": "carpet"
           }
          ],
          "choropleth": [
           {
            "colorbar": {
             "outlinewidth": 0,
             "ticks": ""
            },
            "type": "choropleth"
           }
          ],
          "contour": [
           {
            "colorbar": {
             "outlinewidth": 0,
             "ticks": ""
            },
            "colorscale": [
             [
              0,
              "#0d0887"
             ],
             [
              0.1111111111111111,
              "#46039f"
             ],
             [
              0.2222222222222222,
              "#7201a8"
             ],
             [
              0.3333333333333333,
              "#9c179e"
             ],
             [
              0.4444444444444444,
              "#bd3786"
             ],
             [
              0.5555555555555556,
              "#d8576b"
             ],
             [
              0.6666666666666666,
              "#ed7953"
             ],
             [
              0.7777777777777778,
              "#fb9f3a"
             ],
             [
              0.8888888888888888,
              "#fdca26"
             ],
             [
              1,
              "#f0f921"
             ]
            ],
            "type": "contour"
           }
          ],
          "contourcarpet": [
           {
            "colorbar": {
             "outlinewidth": 0,
             "ticks": ""
            },
            "type": "contourcarpet"
           }
          ],
          "heatmap": [
           {
            "colorbar": {
             "outlinewidth": 0,
             "ticks": ""
            },
            "colorscale": [
             [
              0,
              "#0d0887"
             ],
             [
              0.1111111111111111,
              "#46039f"
             ],
             [
              0.2222222222222222,
              "#7201a8"
             ],
             [
              0.3333333333333333,
              "#9c179e"
             ],
             [
              0.4444444444444444,
              "#bd3786"
             ],
             [
              0.5555555555555556,
              "#d8576b"
             ],
             [
              0.6666666666666666,
              "#ed7953"
             ],
             [
              0.7777777777777778,
              "#fb9f3a"
             ],
             [
              0.8888888888888888,
              "#fdca26"
             ],
             [
              1,
              "#f0f921"
             ]
            ],
            "type": "heatmap"
           }
          ],
          "heatmapgl": [
           {
            "colorbar": {
             "outlinewidth": 0,
             "ticks": ""
            },
            "colorscale": [
             [
              0,
              "#0d0887"
             ],
             [
              0.1111111111111111,
              "#46039f"
             ],
             [
              0.2222222222222222,
              "#7201a8"
             ],
             [
              0.3333333333333333,
              "#9c179e"
             ],
             [
              0.4444444444444444,
              "#bd3786"
             ],
             [
              0.5555555555555556,
              "#d8576b"
             ],
             [
              0.6666666666666666,
              "#ed7953"
             ],
             [
              0.7777777777777778,
              "#fb9f3a"
             ],
             [
              0.8888888888888888,
              "#fdca26"
             ],
             [
              1,
              "#f0f921"
             ]
            ],
            "type": "heatmapgl"
           }
          ],
          "histogram": [
           {
            "marker": {
             "pattern": {
              "fillmode": "overlay",
              "size": 10,
              "solidity": 0.2
             }
            },
            "type": "histogram"
           }
          ],
          "histogram2d": [
           {
            "colorbar": {
             "outlinewidth": 0,
             "ticks": ""
            },
            "colorscale": [
             [
              0,
              "#0d0887"
             ],
             [
              0.1111111111111111,
              "#46039f"
             ],
             [
              0.2222222222222222,
              "#7201a8"
             ],
             [
              0.3333333333333333,
              "#9c179e"
             ],
             [
              0.4444444444444444,
              "#bd3786"
             ],
             [
              0.5555555555555556,
              "#d8576b"
             ],
             [
              0.6666666666666666,
              "#ed7953"
             ],
             [
              0.7777777777777778,
              "#fb9f3a"
             ],
             [
              0.8888888888888888,
              "#fdca26"
             ],
             [
              1,
              "#f0f921"
             ]
            ],
            "type": "histogram2d"
           }
          ],
          "histogram2dcontour": [
           {
            "colorbar": {
             "outlinewidth": 0,
             "ticks": ""
            },
            "colorscale": [
             [
              0,
              "#0d0887"
             ],
             [
              0.1111111111111111,
              "#46039f"
             ],
             [
              0.2222222222222222,
              "#7201a8"
             ],
             [
              0.3333333333333333,
              "#9c179e"
             ],
             [
              0.4444444444444444,
              "#bd3786"
             ],
             [
              0.5555555555555556,
              "#d8576b"
             ],
             [
              0.6666666666666666,
              "#ed7953"
             ],
             [
              0.7777777777777778,
              "#fb9f3a"
             ],
             [
              0.8888888888888888,
              "#fdca26"
             ],
             [
              1,
              "#f0f921"
             ]
            ],
            "type": "histogram2dcontour"
           }
          ],
          "mesh3d": [
           {
            "colorbar": {
             "outlinewidth": 0,
             "ticks": ""
            },
            "type": "mesh3d"
           }
          ],
          "parcoords": [
           {
            "line": {
             "colorbar": {
              "outlinewidth": 0,
              "ticks": ""
             }
            },
            "type": "parcoords"
           }
          ],
          "pie": [
           {
            "automargin": true,
            "type": "pie"
           }
          ],
          "scatter": [
           {
            "fillpattern": {
             "fillmode": "overlay",
             "size": 10,
             "solidity": 0.2
            },
            "type": "scatter"
           }
          ],
          "scatter3d": [
           {
            "line": {
             "colorbar": {
              "outlinewidth": 0,
              "ticks": ""
             }
            },
            "marker": {
             "colorbar": {
              "outlinewidth": 0,
              "ticks": ""
             }
            },
            "type": "scatter3d"
           }
          ],
          "scattercarpet": [
           {
            "marker": {
             "colorbar": {
              "outlinewidth": 0,
              "ticks": ""
             }
            },
            "type": "scattercarpet"
           }
          ],
          "scattergeo": [
           {
            "marker": {
             "colorbar": {
              "outlinewidth": 0,
              "ticks": ""
             }
            },
            "type": "scattergeo"
           }
          ],
          "scattergl": [
           {
            "marker": {
             "colorbar": {
              "outlinewidth": 0,
              "ticks": ""
             }
            },
            "type": "scattergl"
           }
          ],
          "scattermapbox": [
           {
            "marker": {
             "colorbar": {
              "outlinewidth": 0,
              "ticks": ""
             }
            },
            "type": "scattermapbox"
           }
          ],
          "scatterpolar": [
           {
            "marker": {
             "colorbar": {
              "outlinewidth": 0,
              "ticks": ""
             }
            },
            "type": "scatterpolar"
           }
          ],
          "scatterpolargl": [
           {
            "marker": {
             "colorbar": {
              "outlinewidth": 0,
              "ticks": ""
             }
            },
            "type": "scatterpolargl"
           }
          ],
          "scatterternary": [
           {
            "marker": {
             "colorbar": {
              "outlinewidth": 0,
              "ticks": ""
             }
            },
            "type": "scatterternary"
           }
          ],
          "surface": [
           {
            "colorbar": {
             "outlinewidth": 0,
             "ticks": ""
            },
            "colorscale": [
             [
              0,
              "#0d0887"
             ],
             [
              0.1111111111111111,
              "#46039f"
             ],
             [
              0.2222222222222222,
              "#7201a8"
             ],
             [
              0.3333333333333333,
              "#9c179e"
             ],
             [
              0.4444444444444444,
              "#bd3786"
             ],
             [
              0.5555555555555556,
              "#d8576b"
             ],
             [
              0.6666666666666666,
              "#ed7953"
             ],
             [
              0.7777777777777778,
              "#fb9f3a"
             ],
             [
              0.8888888888888888,
              "#fdca26"
             ],
             [
              1,
              "#f0f921"
             ]
            ],
            "type": "surface"
           }
          ],
          "table": [
           {
            "cells": {
             "fill": {
              "color": "#EBF0F8"
             },
             "line": {
              "color": "white"
             }
            },
            "header": {
             "fill": {
              "color": "#C8D4E3"
             },
             "line": {
              "color": "white"
             }
            },
            "type": "table"
           }
          ]
         },
         "layout": {
          "annotationdefaults": {
           "arrowcolor": "#2a3f5f",
           "arrowhead": 0,
           "arrowwidth": 1
          },
          "autotypenumbers": "strict",
          "coloraxis": {
           "colorbar": {
            "outlinewidth": 0,
            "ticks": ""
           }
          },
          "colorscale": {
           "diverging": [
            [
             0,
             "#8e0152"
            ],
            [
             0.1,
             "#c51b7d"
            ],
            [
             0.2,
             "#de77ae"
            ],
            [
             0.3,
             "#f1b6da"
            ],
            [
             0.4,
             "#fde0ef"
            ],
            [
             0.5,
             "#f7f7f7"
            ],
            [
             0.6,
             "#e6f5d0"
            ],
            [
             0.7,
             "#b8e186"
            ],
            [
             0.8,
             "#7fbc41"
            ],
            [
             0.9,
             "#4d9221"
            ],
            [
             1,
             "#276419"
            ]
           ],
           "sequential": [
            [
             0,
             "#0d0887"
            ],
            [
             0.1111111111111111,
             "#46039f"
            ],
            [
             0.2222222222222222,
             "#7201a8"
            ],
            [
             0.3333333333333333,
             "#9c179e"
            ],
            [
             0.4444444444444444,
             "#bd3786"
            ],
            [
             0.5555555555555556,
             "#d8576b"
            ],
            [
             0.6666666666666666,
             "#ed7953"
            ],
            [
             0.7777777777777778,
             "#fb9f3a"
            ],
            [
             0.8888888888888888,
             "#fdca26"
            ],
            [
             1,
             "#f0f921"
            ]
           ],
           "sequentialminus": [
            [
             0,
             "#0d0887"
            ],
            [
             0.1111111111111111,
             "#46039f"
            ],
            [
             0.2222222222222222,
             "#7201a8"
            ],
            [
             0.3333333333333333,
             "#9c179e"
            ],
            [
             0.4444444444444444,
             "#bd3786"
            ],
            [
             0.5555555555555556,
             "#d8576b"
            ],
            [
             0.6666666666666666,
             "#ed7953"
            ],
            [
             0.7777777777777778,
             "#fb9f3a"
            ],
            [
             0.8888888888888888,
             "#fdca26"
            ],
            [
             1,
             "#f0f921"
            ]
           ]
          },
          "colorway": [
           "#636efa",
           "#EF553B",
           "#00cc96",
           "#ab63fa",
           "#FFA15A",
           "#19d3f3",
           "#FF6692",
           "#B6E880",
           "#FF97FF",
           "#FECB52"
          ],
          "font": {
           "color": "#2a3f5f"
          },
          "geo": {
           "bgcolor": "white",
           "lakecolor": "white",
           "landcolor": "#E5ECF6",
           "showlakes": true,
           "showland": true,
           "subunitcolor": "white"
          },
          "hoverlabel": {
           "align": "left"
          },
          "hovermode": "closest",
          "mapbox": {
           "style": "light"
          },
          "paper_bgcolor": "white",
          "plot_bgcolor": "#E5ECF6",
          "polar": {
           "angularaxis": {
            "gridcolor": "white",
            "linecolor": "white",
            "ticks": ""
           },
           "bgcolor": "#E5ECF6",
           "radialaxis": {
            "gridcolor": "white",
            "linecolor": "white",
            "ticks": ""
           }
          },
          "scene": {
           "xaxis": {
            "backgroundcolor": "#E5ECF6",
            "gridcolor": "white",
            "gridwidth": 2,
            "linecolor": "white",
            "showbackground": true,
            "ticks": "",
            "zerolinecolor": "white"
           },
           "yaxis": {
            "backgroundcolor": "#E5ECF6",
            "gridcolor": "white",
            "gridwidth": 2,
            "linecolor": "white",
            "showbackground": true,
            "ticks": "",
            "zerolinecolor": "white"
           },
           "zaxis": {
            "backgroundcolor": "#E5ECF6",
            "gridcolor": "white",
            "gridwidth": 2,
            "linecolor": "white",
            "showbackground": true,
            "ticks": "",
            "zerolinecolor": "white"
           }
          },
          "shapedefaults": {
           "line": {
            "color": "#2a3f5f"
           }
          },
          "ternary": {
           "aaxis": {
            "gridcolor": "white",
            "linecolor": "white",
            "ticks": ""
           },
           "baxis": {
            "gridcolor": "white",
            "linecolor": "white",
            "ticks": ""
           },
           "bgcolor": "#E5ECF6",
           "caxis": {
            "gridcolor": "white",
            "linecolor": "white",
            "ticks": ""
           }
          },
          "title": {
           "x": 0.05
          },
          "xaxis": {
           "automargin": true,
           "gridcolor": "white",
           "linecolor": "white",
           "ticks": "",
           "title": {
            "standoff": 15
           },
           "zerolinecolor": "white",
           "zerolinewidth": 2
          },
          "yaxis": {
           "automargin": true,
           "gridcolor": "white",
           "linecolor": "white",
           "ticks": "",
           "title": {
            "standoff": 15
           },
           "zerolinecolor": "white",
           "zerolinewidth": 2
          }
         }
        },
        "title": {
         "font": {
          "color": "#4D5663"
         },
         "text": "Returns"
        },
        "xaxis": {
         "gridcolor": "#E1E5ED",
         "showgrid": true,
         "tickfont": {
          "color": "#4D5663"
         },
         "title": {
          "font": {
           "color": "#4D5663"
          },
          "text": ""
         },
         "zerolinecolor": "#E1E5ED"
        },
        "yaxis": {
         "gridcolor": "#E1E5ED",
         "showgrid": true,
         "tickfont": {
          "color": "#4D5663"
         },
         "title": {
          "font": {
           "color": "#4D5663"
          },
          "text": ""
         },
         "zerolinecolor": "#E1E5ED"
        }
       }
      },
      "text/html": [
       "<div>                            <div id=\"1010f09e-0afc-4e16-8d22-67d79277e9e8\" class=\"plotly-graph-div\" style=\"height:525px; width:100%;\"></div>            <script type=\"text/javascript\">                require([\"plotly\"], function(Plotly) {                    window.PLOTLYENV=window.PLOTLYENV || {};\n",
       "                    window.PLOTLYENV.BASE_URL='https://plot.ly';                                    if (document.getElementById(\"1010f09e-0afc-4e16-8d22-67d79277e9e8\")) {                    Plotly.newPlot(                        \"1010f09e-0afc-4e16-8d22-67d79277e9e8\",                        [{\"line\":{\"color\":\"rgba(255, 153, 51, 1.0)\",\"dash\":\"solid\",\"shape\":\"linear\",\"width\":1.3},\"mode\":\"lines\",\"name\":\"Adj Close\",\"text\":\"\",\"x\":[\"2024-07-09\",\"2024-07-10\",\"2024-07-11\",\"2024-07-12\",\"2024-07-15\",\"2024-07-16\",\"2024-07-17\",\"2024-07-18\",\"2024-07-19\",\"2024-07-22\",\"2024-07-23\",\"2024-07-24\",\"2024-07-25\",\"2024-07-26\",\"2024-07-29\",\"2024-07-30\",\"2024-07-31\",\"2024-08-01\",\"2024-08-02\",\"2024-08-05\",\"2024-08-06\",\"2024-08-07\",\"2024-08-08\",\"2024-08-09\",\"2024-08-12\",\"2024-08-13\",\"2024-08-14\",\"2024-08-15\",\"2024-08-16\",\"2024-08-19\",\"2024-08-20\",\"2024-08-21\",\"2024-08-22\",\"2024-08-23\",\"2024-08-26\",\"2024-08-27\",\"2024-08-28\",\"2024-08-29\",\"2024-08-30\",\"2024-09-03\",\"2024-09-04\",\"2024-09-05\",\"2024-09-06\",\"2024-09-09\",\"2024-09-10\",\"2024-09-11\",\"2024-09-12\",\"2024-09-13\",\"2024-09-16\",\"2024-09-17\",\"2024-09-18\",\"2024-09-19\",\"2024-09-20\",\"2024-09-23\",\"2024-09-24\",\"2024-09-25\",\"2024-09-26\",\"2024-09-27\",\"2024-09-30\",\"2024-10-01\",\"2024-10-02\",\"2024-10-03\",\"2024-10-04\",\"2024-10-07\",\"2024-10-08\"],\"y\":[177.10000610351562,183.9600067138672,181.94000244140625,181.61000061035156,179.8300018310547,177.5500030517578,159.42999267578125,155.77000427246094,151.5800018310547,155.8699951171875,154.0,144.6300048828125,138.32000732421875,139.99000549316406,139.75,138.44000244140625,144.47999572753906,132.5399932861328,132.5,134.82000732421875,130.17999267578125,128.6699981689453,136.32000732421875,134.27000427246094,136.77000427246094,141.1300048828125,140.75,147.36000061035156,148.55999755859375,155.27999877929688,156.39999389648438,157.80999755859375,151.6999969482422,154.97999572753906,149.99000549316406,150.5,146.36000061035156,145.49000549316406,148.55999755859375,136.94000244140625,140.8699951171875,139.44000244140625,134.35000610351562,138.14999389648438,142.83999633789062,149.86000061035156,150.77000427246094,152.30999755859375,152.0800018310547,150.82000732421875,148.2899932861328,156.74000549316406,155.9499969482422,156.75,158.32000732421875,162.02000427246094,167.49000549316406,164.35000610351562,164.0800018310547,159.75,159.77999877929688,162.85000610351562,170.89999389648438,170.97000122070312,172.8000030517578],\"type\":\"scatter\"},{\"line\":{\"color\":\"rgba(55, 128, 191, 1.0)\",\"dash\":\"dash\",\"shape\":\"linear\",\"width\":3},\"mode\":\"lines\",\"name\":\"0.04*x+150.72\",\"x\":[\"2024-07-09\",\"2024-07-10\",\"2024-07-11\",\"2024-07-12\",\"2024-07-15\",\"2024-07-16\",\"2024-07-17\",\"2024-07-18\",\"2024-07-19\",\"2024-07-22\",\"2024-07-23\",\"2024-07-24\",\"2024-07-25\",\"2024-07-26\",\"2024-07-29\",\"2024-07-30\",\"2024-07-31\",\"2024-08-01\",\"2024-08-02\",\"2024-08-05\",\"2024-08-06\",\"2024-08-07\",\"2024-08-08\",\"2024-08-09\",\"2024-08-12\",\"2024-08-13\",\"2024-08-14\",\"2024-08-15\",\"2024-08-16\",\"2024-08-19\",\"2024-08-20\",\"2024-08-21\",\"2024-08-22\",\"2024-08-23\",\"2024-08-26\",\"2024-08-27\",\"2024-08-28\",\"2024-08-29\",\"2024-08-30\",\"2024-09-03\",\"2024-09-04\",\"2024-09-05\",\"2024-09-06\",\"2024-09-09\",\"2024-09-10\",\"2024-09-11\",\"2024-09-12\",\"2024-09-13\",\"2024-09-16\",\"2024-09-17\",\"2024-09-18\",\"2024-09-19\",\"2024-09-20\",\"2024-09-23\",\"2024-09-24\",\"2024-09-25\",\"2024-09-26\",\"2024-09-27\",\"2024-09-30\",\"2024-10-01\",\"2024-10-02\",\"2024-10-03\",\"2024-10-04\",\"2024-10-07\",\"2024-10-08\"],\"y\":[150.75642068502785,150.79752295434056,150.83862522365328,150.879727492966,150.92082976227871,150.96193203159143,151.00303430090415,151.04413657021686,151.08523883952958,151.1263411088423,151.167443378155,151.20854564746773,151.24964791678045,151.29075018609316,151.33185245540588,151.3729547247186,151.4140569940313,151.45515926334403,151.49626153265675,151.53736380196946,151.57846607128218,151.6195683405949,151.6606706099076,151.70177287922033,151.74287514853307,151.7839774178458,151.8250796871585,151.86618195647122,151.90728422578394,151.94838649509666,151.98948876440937,152.0305910337221,152.0716933030348,152.11279557234752,152.15389784166024,152.19500011097296,152.23610238028567,152.2772046495984,152.3183069189111,152.35940918822382,152.40051145753654,152.44161372684925,152.48271599616197,152.5238182654747,152.5649205347874,152.60602280410012,152.64712507341284,152.68822734272555,152.72932961203827,152.770431881351,152.8115341506637,152.85263641997642,152.89373868928914,152.93484095860185,152.97594322791457,153.0170454972273,153.05814776654,153.09925003585272,153.14035230516544,153.18145457447815,153.22255684379087,153.26365911310359,153.3047613824163,153.34586365172902,153.38696592104174],\"type\":\"scatter\"}],                        {\"legend\":{\"bgcolor\":\"#F5F6F9\",\"font\":{\"color\":\"#4D5663\"}},\"paper_bgcolor\":\"#F5F6F9\",\"plot_bgcolor\":\"#F5F6F9\",\"template\":{\"data\":{\"barpolar\":[{\"marker\":{\"line\":{\"color\":\"#E5ECF6\",\"width\":0.5},\"pattern\":{\"fillmode\":\"overlay\",\"size\":10,\"solidity\":0.2}},\"type\":\"barpolar\"}],\"bar\":[{\"error_x\":{\"color\":\"#2a3f5f\"},\"error_y\":{\"color\":\"#2a3f5f\"},\"marker\":{\"line\":{\"color\":\"#E5ECF6\",\"width\":0.5},\"pattern\":{\"fillmode\":\"overlay\",\"size\":10,\"solidity\":0.2}},\"type\":\"bar\"}],\"carpet\":[{\"aaxis\":{\"endlinecolor\":\"#2a3f5f\",\"gridcolor\":\"white\",\"linecolor\":\"white\",\"minorgridcolor\":\"white\",\"startlinecolor\":\"#2a3f5f\"},\"baxis\":{\"endlinecolor\":\"#2a3f5f\",\"gridcolor\":\"white\",\"linecolor\":\"white\",\"minorgridcolor\":\"white\",\"startlinecolor\":\"#2a3f5f\"},\"type\":\"carpet\"}],\"choropleth\":[{\"colorbar\":{\"outlinewidth\":0,\"ticks\":\"\"},\"type\":\"choropleth\"}],\"contourcarpet\":[{\"colorbar\":{\"outlinewidth\":0,\"ticks\":\"\"},\"type\":\"contourcarpet\"}],\"contour\":[{\"colorbar\":{\"outlinewidth\":0,\"ticks\":\"\"},\"colorscale\":[[0.0,\"#0d0887\"],[0.1111111111111111,\"#46039f\"],[0.2222222222222222,\"#7201a8\"],[0.3333333333333333,\"#9c179e\"],[0.4444444444444444,\"#bd3786\"],[0.5555555555555556,\"#d8576b\"],[0.6666666666666666,\"#ed7953\"],[0.7777777777777778,\"#fb9f3a\"],[0.8888888888888888,\"#fdca26\"],[1.0,\"#f0f921\"]],\"type\":\"contour\"}],\"heatmapgl\":[{\"colorbar\":{\"outlinewidth\":0,\"ticks\":\"\"},\"colorscale\":[[0.0,\"#0d0887\"],[0.1111111111111111,\"#46039f\"],[0.2222222222222222,\"#7201a8\"],[0.3333333333333333,\"#9c179e\"],[0.4444444444444444,\"#bd3786\"],[0.5555555555555556,\"#d8576b\"],[0.6666666666666666,\"#ed7953\"],[0.7777777777777778,\"#fb9f3a\"],[0.8888888888888888,\"#fdca26\"],[1.0,\"#f0f921\"]],\"type\":\"heatmapgl\"}],\"heatmap\":[{\"colorbar\":{\"outlinewidth\":0,\"ticks\":\"\"},\"colorscale\":[[0.0,\"#0d0887\"],[0.1111111111111111,\"#46039f\"],[0.2222222222222222,\"#7201a8\"],[0.3333333333333333,\"#9c179e\"],[0.4444444444444444,\"#bd3786\"],[0.5555555555555556,\"#d8576b\"],[0.6666666666666666,\"#ed7953\"],[0.7777777777777778,\"#fb9f3a\"],[0.8888888888888888,\"#fdca26\"],[1.0,\"#f0f921\"]],\"type\":\"heatmap\"}],\"histogram2dcontour\":[{\"colorbar\":{\"outlinewidth\":0,\"ticks\":\"\"},\"colorscale\":[[0.0,\"#0d0887\"],[0.1111111111111111,\"#46039f\"],[0.2222222222222222,\"#7201a8\"],[0.3333333333333333,\"#9c179e\"],[0.4444444444444444,\"#bd3786\"],[0.5555555555555556,\"#d8576b\"],[0.6666666666666666,\"#ed7953\"],[0.7777777777777778,\"#fb9f3a\"],[0.8888888888888888,\"#fdca26\"],[1.0,\"#f0f921\"]],\"type\":\"histogram2dcontour\"}],\"histogram2d\":[{\"colorbar\":{\"outlinewidth\":0,\"ticks\":\"\"},\"colorscale\":[[0.0,\"#0d0887\"],[0.1111111111111111,\"#46039f\"],[0.2222222222222222,\"#7201a8\"],[0.3333333333333333,\"#9c179e\"],[0.4444444444444444,\"#bd3786\"],[0.5555555555555556,\"#d8576b\"],[0.6666666666666666,\"#ed7953\"],[0.7777777777777778,\"#fb9f3a\"],[0.8888888888888888,\"#fdca26\"],[1.0,\"#f0f921\"]],\"type\":\"histogram2d\"}],\"histogram\":[{\"marker\":{\"pattern\":{\"fillmode\":\"overlay\",\"size\":10,\"solidity\":0.2}},\"type\":\"histogram\"}],\"mesh3d\":[{\"colorbar\":{\"outlinewidth\":0,\"ticks\":\"\"},\"type\":\"mesh3d\"}],\"parcoords\":[{\"line\":{\"colorbar\":{\"outlinewidth\":0,\"ticks\":\"\"}},\"type\":\"parcoords\"}],\"pie\":[{\"automargin\":true,\"type\":\"pie\"}],\"scatter3d\":[{\"line\":{\"colorbar\":{\"outlinewidth\":0,\"ticks\":\"\"}},\"marker\":{\"colorbar\":{\"outlinewidth\":0,\"ticks\":\"\"}},\"type\":\"scatter3d\"}],\"scattercarpet\":[{\"marker\":{\"colorbar\":{\"outlinewidth\":0,\"ticks\":\"\"}},\"type\":\"scattercarpet\"}],\"scattergeo\":[{\"marker\":{\"colorbar\":{\"outlinewidth\":0,\"ticks\":\"\"}},\"type\":\"scattergeo\"}],\"scattergl\":[{\"marker\":{\"colorbar\":{\"outlinewidth\":0,\"ticks\":\"\"}},\"type\":\"scattergl\"}],\"scattermapbox\":[{\"marker\":{\"colorbar\":{\"outlinewidth\":0,\"ticks\":\"\"}},\"type\":\"scattermapbox\"}],\"scatterpolargl\":[{\"marker\":{\"colorbar\":{\"outlinewidth\":0,\"ticks\":\"\"}},\"type\":\"scatterpolargl\"}],\"scatterpolar\":[{\"marker\":{\"colorbar\":{\"outlinewidth\":0,\"ticks\":\"\"}},\"type\":\"scatterpolar\"}],\"scatter\":[{\"fillpattern\":{\"fillmode\":\"overlay\",\"size\":10,\"solidity\":0.2},\"type\":\"scatter\"}],\"scatterternary\":[{\"marker\":{\"colorbar\":{\"outlinewidth\":0,\"ticks\":\"\"}},\"type\":\"scatterternary\"}],\"surface\":[{\"colorbar\":{\"outlinewidth\":0,\"ticks\":\"\"},\"colorscale\":[[0.0,\"#0d0887\"],[0.1111111111111111,\"#46039f\"],[0.2222222222222222,\"#7201a8\"],[0.3333333333333333,\"#9c179e\"],[0.4444444444444444,\"#bd3786\"],[0.5555555555555556,\"#d8576b\"],[0.6666666666666666,\"#ed7953\"],[0.7777777777777778,\"#fb9f3a\"],[0.8888888888888888,\"#fdca26\"],[1.0,\"#f0f921\"]],\"type\":\"surface\"}],\"table\":[{\"cells\":{\"fill\":{\"color\":\"#EBF0F8\"},\"line\":{\"color\":\"white\"}},\"header\":{\"fill\":{\"color\":\"#C8D4E3\"},\"line\":{\"color\":\"white\"}},\"type\":\"table\"}]},\"layout\":{\"annotationdefaults\":{\"arrowcolor\":\"#2a3f5f\",\"arrowhead\":0,\"arrowwidth\":1},\"autotypenumbers\":\"strict\",\"coloraxis\":{\"colorbar\":{\"outlinewidth\":0,\"ticks\":\"\"}},\"colorscale\":{\"diverging\":[[0,\"#8e0152\"],[0.1,\"#c51b7d\"],[0.2,\"#de77ae\"],[0.3,\"#f1b6da\"],[0.4,\"#fde0ef\"],[0.5,\"#f7f7f7\"],[0.6,\"#e6f5d0\"],[0.7,\"#b8e186\"],[0.8,\"#7fbc41\"],[0.9,\"#4d9221\"],[1,\"#276419\"]],\"sequential\":[[0.0,\"#0d0887\"],[0.1111111111111111,\"#46039f\"],[0.2222222222222222,\"#7201a8\"],[0.3333333333333333,\"#9c179e\"],[0.4444444444444444,\"#bd3786\"],[0.5555555555555556,\"#d8576b\"],[0.6666666666666666,\"#ed7953\"],[0.7777777777777778,\"#fb9f3a\"],[0.8888888888888888,\"#fdca26\"],[1.0,\"#f0f921\"]],\"sequentialminus\":[[0.0,\"#0d0887\"],[0.1111111111111111,\"#46039f\"],[0.2222222222222222,\"#7201a8\"],[0.3333333333333333,\"#9c179e\"],[0.4444444444444444,\"#bd3786\"],[0.5555555555555556,\"#d8576b\"],[0.6666666666666666,\"#ed7953\"],[0.7777777777777778,\"#fb9f3a\"],[0.8888888888888888,\"#fdca26\"],[1.0,\"#f0f921\"]]},\"colorway\":[\"#636efa\",\"#EF553B\",\"#00cc96\",\"#ab63fa\",\"#FFA15A\",\"#19d3f3\",\"#FF6692\",\"#B6E880\",\"#FF97FF\",\"#FECB52\"],\"font\":{\"color\":\"#2a3f5f\"},\"geo\":{\"bgcolor\":\"white\",\"lakecolor\":\"white\",\"landcolor\":\"#E5ECF6\",\"showlakes\":true,\"showland\":true,\"subunitcolor\":\"white\"},\"hoverlabel\":{\"align\":\"left\"},\"hovermode\":\"closest\",\"mapbox\":{\"style\":\"light\"},\"paper_bgcolor\":\"white\",\"plot_bgcolor\":\"#E5ECF6\",\"polar\":{\"angularaxis\":{\"gridcolor\":\"white\",\"linecolor\":\"white\",\"ticks\":\"\"},\"bgcolor\":\"#E5ECF6\",\"radialaxis\":{\"gridcolor\":\"white\",\"linecolor\":\"white\",\"ticks\":\"\"}},\"scene\":{\"xaxis\":{\"backgroundcolor\":\"#E5ECF6\",\"gridcolor\":\"white\",\"gridwidth\":2,\"linecolor\":\"white\",\"showbackground\":true,\"ticks\":\"\",\"zerolinecolor\":\"white\"},\"yaxis\":{\"backgroundcolor\":\"#E5ECF6\",\"gridcolor\":\"white\",\"gridwidth\":2,\"linecolor\":\"white\",\"showbackground\":true,\"ticks\":\"\",\"zerolinecolor\":\"white\"},\"zaxis\":{\"backgroundcolor\":\"#E5ECF6\",\"gridcolor\":\"white\",\"gridwidth\":2,\"linecolor\":\"white\",\"showbackground\":true,\"ticks\":\"\",\"zerolinecolor\":\"white\"}},\"shapedefaults\":{\"line\":{\"color\":\"#2a3f5f\"}},\"ternary\":{\"aaxis\":{\"gridcolor\":\"white\",\"linecolor\":\"white\",\"ticks\":\"\"},\"baxis\":{\"gridcolor\":\"white\",\"linecolor\":\"white\",\"ticks\":\"\"},\"bgcolor\":\"#E5ECF6\",\"caxis\":{\"gridcolor\":\"white\",\"linecolor\":\"white\",\"ticks\":\"\"}},\"title\":{\"x\":0.05},\"xaxis\":{\"automargin\":true,\"gridcolor\":\"white\",\"linecolor\":\"white\",\"ticks\":\"\",\"title\":{\"standoff\":15},\"zerolinecolor\":\"white\",\"zerolinewidth\":2},\"yaxis\":{\"automargin\":true,\"gridcolor\":\"white\",\"linecolor\":\"white\",\"ticks\":\"\",\"title\":{\"standoff\":15},\"zerolinecolor\":\"white\",\"zerolinewidth\":2}}},\"title\":{\"font\":{\"color\":\"#4D5663\"},\"text\":\"Returns\"},\"xaxis\":{\"gridcolor\":\"#E1E5ED\",\"showgrid\":true,\"tickfont\":{\"color\":\"#4D5663\"},\"title\":{\"font\":{\"color\":\"#4D5663\"},\"text\":\"\"},\"zerolinecolor\":\"#E1E5ED\"},\"yaxis\":{\"gridcolor\":\"#E1E5ED\",\"showgrid\":true,\"tickfont\":{\"color\":\"#4D5663\"},\"title\":{\"font\":{\"color\":\"#4D5663\"},\"text\":\"\"},\"zerolinecolor\":\"#E1E5ED\"}},                        {\"showLink\": true, \"linkText\": \"Export to plot.ly\", \"plotlyServerURL\": \"https://plot.ly\", \"responsive\": true}                    ).then(function(){\n",
       "                            \n",
       "var gd = document.getElementById('1010f09e-0afc-4e16-8d22-67d79277e9e8');\n",
       "var x = new MutationObserver(function (mutations, observer) {{\n",
       "        var display = window.getComputedStyle(gd).display;\n",
       "        if (!display || display === 'none') {{\n",
       "            console.log([gd, 'removed!']);\n",
       "            Plotly.purge(gd);\n",
       "            observer.disconnect();\n",
       "        }}\n",
       "}});\n",
       "\n",
       "// Listen for the removal of the full notebook cells\n",
       "var notebookContainer = gd.closest('#notebook-container');\n",
       "if (notebookContainer) {{\n",
       "    x.observe(notebookContainer, {childList: true});\n",
       "}}\n",
       "\n",
       "// Listen for the clearing of the current output cell\n",
       "var outputEl = gd.closest('.output');\n",
       "if (outputEl) {{\n",
       "    x.observe(outputEl, {childList: true});\n",
       "}}\n",
       "\n",
       "                        })                };                });            </script>        </div>"
      ]
     },
     "metadata": {},
     "output_type": "display_data"
    }
   ],
   "source": [
    "stock_data['Adj Close'].iplot(title='Returns', bestfit=True, bestfit_colors=['blue'])"
   ]
  },
  {
   "cell_type": "markdown",
   "metadata": {},
   "source": [
    "Creating a Quanitative Figure for the AMD stock data"
   ]
  },
  {
   "cell_type": "code",
   "execution_count": 59,
   "metadata": {},
   "outputs": [
    {
     "data": {
      "application/vnd.plotly.v1+json": {
       "config": {
        "plotlyServerURL": "https://plot.ly"
       },
       "data": [
        {
         "legendgroup": " SMA([10, 20])",
         "line": {
          "color": "rgba(0, 128, 0, 1.0)",
          "dash": "solid",
          "shape": "linear",
          "width": 2
         },
         "mode": "lines",
         "name": " SMA([10, 20])",
         "showlegend": true,
         "text": "",
         "type": "scatter",
         "x": [
          "2024-07-09",
          "2024-07-10",
          "2024-07-11",
          "2024-07-12",
          "2024-07-15",
          "2024-07-16",
          "2024-07-17",
          "2024-07-18",
          "2024-07-19",
          "2024-07-22",
          "2024-07-23",
          "2024-07-24",
          "2024-07-25",
          "2024-07-26",
          "2024-07-29",
          "2024-07-30",
          "2024-07-31",
          "2024-08-01",
          "2024-08-02",
          "2024-08-05",
          "2024-08-06",
          "2024-08-07",
          "2024-08-08",
          "2024-08-09",
          "2024-08-12",
          "2024-08-13",
          "2024-08-14",
          "2024-08-15",
          "2024-08-16",
          "2024-08-19",
          "2024-08-20",
          "2024-08-21",
          "2024-08-22",
          "2024-08-23",
          "2024-08-26",
          "2024-08-27",
          "2024-08-28",
          "2024-08-29",
          "2024-08-30",
          "2024-09-03",
          "2024-09-04",
          "2024-09-05",
          "2024-09-06",
          "2024-09-09",
          "2024-09-10",
          "2024-09-11",
          "2024-09-12",
          "2024-09-13",
          "2024-09-16",
          "2024-09-17",
          "2024-09-18",
          "2024-09-19",
          "2024-09-20",
          "2024-09-23",
          "2024-09-24",
          "2024-09-25",
          "2024-09-26",
          "2024-09-27",
          "2024-09-30",
          "2024-10-01",
          "2024-10-02",
          "2024-10-03",
          "2024-10-04",
          "2024-10-07",
          "2024-10-08"
         ],
         "y": [
          "",
          "",
          "",
          "",
          "",
          "",
          "",
          "",
          "",
          170.46400146484376,
          168.15400085449218,
          164.22100067138672,
          159.85900115966797,
          155.6970016479492,
          151.68900146484376,
          147.7780014038086,
          146.2830017089844,
          143.96000061035156,
          142.0520004272461,
          139.9470016479492,
          137.56500091552735,
          135.96900024414063,
          135.7690002441406,
          135.1970001220703,
          134.8990005493164,
          135.16800079345703,
          134.7950012207031,
          136.277001953125,
          137.88300170898438,
          139.9290008544922,
          142.5510009765625,
          145.46500091552736,
          147.00299987792968,
          149.0739990234375,
          150.3959991455078,
          151.33299865722657,
          151.8939987182617,
          151.70699920654297,
          151.70699920654297,
          149.8729995727539,
          148.31999969482422,
          146.48300018310547,
          144.7480010986328,
          143.06500091552735,
          142.35,
          142.28600006103517,
          142.72700042724608,
          143.40899963378905,
          143.76100006103516,
          145.1490005493164,
          145.89100036621093,
          147.62100067138672,
          149.78099975585937,
          151.64100036621093,
          153.18900146484376,
          154.40500183105468,
          156.077001953125,
          157.2810028076172,
          158.4810028076172,
          159.3740020751953,
          160.52300262451172,
          161.13400268554688,
          162.6290023803711,
          164.0510025024414,
          165.4990020751953
         ],
         "yaxis": "y2"
        },
        {
         "legendgroup": " SMA([10, 20])",
         "line": {
          "color": "rgba(144, 238, 144, 1.0)",
          "dash": "solid",
          "shape": "linear",
          "width": 2
         },
         "mode": "lines",
         "name": " SMA(20)",
         "showlegend": false,
         "text": "",
         "type": "scatter",
         "x": [
          "2024-07-09",
          "2024-07-10",
          "2024-07-11",
          "2024-07-12",
          "2024-07-15",
          "2024-07-16",
          "2024-07-17",
          "2024-07-18",
          "2024-07-19",
          "2024-07-22",
          "2024-07-23",
          "2024-07-24",
          "2024-07-25",
          "2024-07-26",
          "2024-07-29",
          "2024-07-30",
          "2024-07-31",
          "2024-08-01",
          "2024-08-02",
          "2024-08-05",
          "2024-08-06",
          "2024-08-07",
          "2024-08-08",
          "2024-08-09",
          "2024-08-12",
          "2024-08-13",
          "2024-08-14",
          "2024-08-15",
          "2024-08-16",
          "2024-08-19",
          "2024-08-20",
          "2024-08-21",
          "2024-08-22",
          "2024-08-23",
          "2024-08-26",
          "2024-08-27",
          "2024-08-28",
          "2024-08-29",
          "2024-08-30",
          "2024-09-03",
          "2024-09-04",
          "2024-09-05",
          "2024-09-06",
          "2024-09-09",
          "2024-09-10",
          "2024-09-11",
          "2024-09-12",
          "2024-09-13",
          "2024-09-16",
          "2024-09-17",
          "2024-09-18",
          "2024-09-19",
          "2024-09-20",
          "2024-09-23",
          "2024-09-24",
          "2024-09-25",
          "2024-09-26",
          "2024-09-27",
          "2024-09-30",
          "2024-10-01",
          "2024-10-02",
          "2024-10-03",
          "2024-10-04",
          "2024-10-07",
          "2024-10-08"
         ],
         "y": [
          "",
          "",
          "",
          "",
          "",
          "",
          "",
          "",
          "",
          "",
          "",
          "",
          "",
          "",
          "",
          "",
          "",
          "",
          "",
          155.20550155639648,
          152.85950088500977,
          150.09500045776366,
          147.8140007019043,
          145.44700088500977,
          143.29400100708008,
          141.4730010986328,
          140.53900146484375,
          140.11850128173828,
          139.96750106811524,
          139.9380012512207,
          140.05800094604493,
          140.71700057983398,
          141.38600006103516,
          142.1354995727539,
          142.64749984741212,
          143.2504997253418,
          143.34449996948243,
          143.99200057983398,
          144.79500045776368,
          144.90100021362304,
          145.43550033569335,
          145.9740005493164,
          145.87550048828126,
          146.06949996948242,
          146.3729995727539,
          146.80949935913085,
          147.3104995727539,
          147.55799942016603,
          147.73399963378907,
          147.51100006103516,
          147.1055000305176,
          147.0520004272461,
          147.2645004272461,
          147.35300064086914,
          147.76950073242188,
          148.34550094604492,
          149.40200119018556,
          150.34500122070312,
          151.12100143432616,
          152.26150131225586,
          153.20700149536134,
          154.37750167846679,
          156.20500106811522,
          157.84600143432618,
          159.34400177001953
         ],
         "yaxis": "y2"
        },
        {
         "legendgroup": "BOLL(Close,20)",
         "line": {
          "color": "rgba(55, 128, 191, 1.0)",
          "dash": "solid",
          "shape": "linear",
          "width": 1.3
         },
         "mode": "lines",
         "name": "BOLL(Close,20)",
         "showlegend": true,
         "text": "",
         "type": "scatter",
         "x": [
          "2024-07-09",
          "2024-07-10",
          "2024-07-11",
          "2024-07-12",
          "2024-07-15",
          "2024-07-16",
          "2024-07-17",
          "2024-07-18",
          "2024-07-19",
          "2024-07-22",
          "2024-07-23",
          "2024-07-24",
          "2024-07-25",
          "2024-07-26",
          "2024-07-29",
          "2024-07-30",
          "2024-07-31",
          "2024-08-01",
          "2024-08-02",
          "2024-08-05",
          "2024-08-06",
          "2024-08-07",
          "2024-08-08",
          "2024-08-09",
          "2024-08-12",
          "2024-08-13",
          "2024-08-14",
          "2024-08-15",
          "2024-08-16",
          "2024-08-19",
          "2024-08-20",
          "2024-08-21",
          "2024-08-22",
          "2024-08-23",
          "2024-08-26",
          "2024-08-27",
          "2024-08-28",
          "2024-08-29",
          "2024-08-30",
          "2024-09-03",
          "2024-09-04",
          "2024-09-05",
          "2024-09-06",
          "2024-09-09",
          "2024-09-10",
          "2024-09-11",
          "2024-09-12",
          "2024-09-13",
          "2024-09-16",
          "2024-09-17",
          "2024-09-18",
          "2024-09-19",
          "2024-09-20",
          "2024-09-23",
          "2024-09-24",
          "2024-09-25",
          "2024-09-26",
          "2024-09-27",
          "2024-09-30",
          "2024-10-01",
          "2024-10-02",
          "2024-10-03",
          "2024-10-04",
          "2024-10-07",
          "2024-10-08"
         ],
         "y": [
          "",
          "",
          "",
          "",
          "",
          "",
          "",
          "",
          "",
          "",
          "",
          "",
          "",
          "",
          "",
          "",
          "",
          "",
          "",
          155.20550155639648,
          152.85950088500977,
          150.09500045776366,
          147.8140007019043,
          145.44700088500977,
          143.29400100708008,
          141.4730010986328,
          140.53900146484375,
          140.11850128173828,
          139.96750106811524,
          139.9380012512207,
          140.05800094604493,
          140.71700057983398,
          141.38600006103516,
          142.1354995727539,
          142.64749984741212,
          143.2504997253418,
          143.34449996948243,
          143.99200057983398,
          144.79500045776368,
          144.90100021362304,
          145.43550033569335,
          145.9740005493164,
          145.87550048828126,
          146.06949996948242,
          146.3729995727539,
          146.80949935913085,
          147.3104995727539,
          147.55799942016603,
          147.73399963378907,
          147.51100006103516,
          147.1055000305176,
          147.0520004272461,
          147.2645004272461,
          147.35300064086914,
          147.76950073242188,
          148.34550094604492,
          149.40200119018556,
          150.34500122070312,
          151.12100143432616,
          152.26150131225586,
          153.20700149536134,
          154.37750167846679,
          156.20500106811522,
          157.84600143432618,
          159.34400177001953
         ],
         "yaxis": "y2"
        },
        {
         "legendgroup": "BOLL(Close,20)",
         "line": {
          "color": "rgba(55, 128, 191, 0.8999999999999999)",
          "dash": "solid",
          "shape": "linear",
          "width": 1.3
         },
         "mode": "lines",
         "name": "UPPER(Close,20)",
         "showlegend": false,
         "text": "",
         "type": "scatter",
         "x": [
          "2024-07-09",
          "2024-07-10",
          "2024-07-11",
          "2024-07-12",
          "2024-07-15",
          "2024-07-16",
          "2024-07-17",
          "2024-07-18",
          "2024-07-19",
          "2024-07-22",
          "2024-07-23",
          "2024-07-24",
          "2024-07-25",
          "2024-07-26",
          "2024-07-29",
          "2024-07-30",
          "2024-07-31",
          "2024-08-01",
          "2024-08-02",
          "2024-08-05",
          "2024-08-06",
          "2024-08-07",
          "2024-08-08",
          "2024-08-09",
          "2024-08-12",
          "2024-08-13",
          "2024-08-14",
          "2024-08-15",
          "2024-08-16",
          "2024-08-19",
          "2024-08-20",
          "2024-08-21",
          "2024-08-22",
          "2024-08-23",
          "2024-08-26",
          "2024-08-27",
          "2024-08-28",
          "2024-08-29",
          "2024-08-30",
          "2024-09-03",
          "2024-09-04",
          "2024-09-05",
          "2024-09-06",
          "2024-09-09",
          "2024-09-10",
          "2024-09-11",
          "2024-09-12",
          "2024-09-13",
          "2024-09-16",
          "2024-09-17",
          "2024-09-18",
          "2024-09-19",
          "2024-09-20",
          "2024-09-23",
          "2024-09-24",
          "2024-09-25",
          "2024-09-26",
          "2024-09-27",
          "2024-09-30",
          "2024-10-01",
          "2024-10-02",
          "2024-10-03",
          "2024-10-04",
          "2024-10-07",
          "2024-10-08"
         ],
         "y": [
          "",
          "",
          "",
          "",
          "",
          "",
          "",
          "",
          "",
          "",
          "",
          "",
          "",
          "",
          "",
          "",
          "",
          "",
          "",
          192.38292979227387,
          190.14106946782675,
          185.83422928805138,
          180.7052932765239,
          174.7114676489496,
          167.86756047255525,
          160.01582526112355,
          157.04319318371816,
          155.36973633185463,
          154.79484177010303,
          154.63389052809453,
          155.267574885806,
          157.78878379798283,
          159.09889689160548,
          160.84046552809988,
          161.63597052401923,
          162.44126579267046,
          162.57899064643493,
          162.55522080059882,
          162.64066501499536,
          162.52095044015965,
          161.77740449569782,
          160.61057321741765,
          160.80912626102148,
          160.4592316346704,
          160.18117888743524,
          160.47098704557553,
          160.76975747039194,
          161.20187305021227,
          161.52234406542638,
          160.92465660916685,
          159.86195043600569,
          159.62711002837264,
          160.30533433229107,
          160.63607333643688,
          161.89631056036842,
          163.81654548308512,
          167.0367383095184,
          169.08155675107116,
          170.80775046154824,
          171.11435254917683,
          171.5440475624244,
          171.98868436423632,
          172.60992605882464,
          173.1773709290067,
          174.35314709139752
         ],
         "yaxis": "y2"
        },
        {
         "fill": "tonexty",
         "fillcolor": "rgba(55, 128, 191, 0.1)",
         "legendgroup": "BOLL(Close,20)",
         "line": {
          "color": "rgba(55, 128, 191, 0.7999999999999998)",
          "dash": "solid",
          "shape": "linear",
          "width": 1.3
         },
         "mode": "lines",
         "name": "LOWER(Close,20)",
         "showlegend": false,
         "text": "",
         "type": "scatter",
         "x": [
          "2024-07-09",
          "2024-07-10",
          "2024-07-11",
          "2024-07-12",
          "2024-07-15",
          "2024-07-16",
          "2024-07-17",
          "2024-07-18",
          "2024-07-19",
          "2024-07-22",
          "2024-07-23",
          "2024-07-24",
          "2024-07-25",
          "2024-07-26",
          "2024-07-29",
          "2024-07-30",
          "2024-07-31",
          "2024-08-01",
          "2024-08-02",
          "2024-08-05",
          "2024-08-06",
          "2024-08-07",
          "2024-08-08",
          "2024-08-09",
          "2024-08-12",
          "2024-08-13",
          "2024-08-14",
          "2024-08-15",
          "2024-08-16",
          "2024-08-19",
          "2024-08-20",
          "2024-08-21",
          "2024-08-22",
          "2024-08-23",
          "2024-08-26",
          "2024-08-27",
          "2024-08-28",
          "2024-08-29",
          "2024-08-30",
          "2024-09-03",
          "2024-09-04",
          "2024-09-05",
          "2024-09-06",
          "2024-09-09",
          "2024-09-10",
          "2024-09-11",
          "2024-09-12",
          "2024-09-13",
          "2024-09-16",
          "2024-09-17",
          "2024-09-18",
          "2024-09-19",
          "2024-09-20",
          "2024-09-23",
          "2024-09-24",
          "2024-09-25",
          "2024-09-26",
          "2024-09-27",
          "2024-09-30",
          "2024-10-01",
          "2024-10-02",
          "2024-10-03",
          "2024-10-04",
          "2024-10-07",
          "2024-10-08"
         ],
         "y": [
          "",
          "",
          "",
          "",
          "",
          "",
          "",
          "",
          "",
          "",
          "",
          "",
          "",
          "",
          "",
          "",
          "",
          "",
          "",
          118.0280733205191,
          115.57793230219279,
          114.35577162747595,
          114.9227081272847,
          116.18253412106995,
          118.72044154160491,
          122.93017693614206,
          124.03480974596934,
          124.86726623162191,
          125.14016036612743,
          125.24211197434687,
          124.84842700628386,
          123.64521736168513,
          123.67310323046486,
          123.43053361740792,
          123.65902917080501,
          124.05973365801314,
          124.11000929252992,
          125.42878035906914,
          126.949335900532,
          127.28104998708642,
          129.09359617568887,
          131.33742788121515,
          130.94187471554105,
          131.67976830429444,
          132.5648202580726,
          133.14801167268618,
          133.8512416751159,
          133.91412579011978,
          133.94565520215176,
          134.09734351290348,
          134.3490496250295,
          134.47689082611956,
          134.22366652220114,
          134.0699279453014,
          133.64269090447533,
          132.87445640900472,
          131.76726407085272,
          131.6084456903351,
          131.43425240710408,
          133.4086500753349,
          134.86995542829828,
          136.76631899269725,
          139.8000760774058,
          142.51463193964565,
          144.33485644864155
         ],
         "yaxis": "y2"
        },
        {
         "marker": {
          "color": [
           "#808080",
           "#17BECF",
           "#808080",
           "#808080",
           "#808080",
           "#808080",
           "#808080",
           "#808080",
           "#808080",
           "#17BECF",
           "#808080",
           "#808080",
           "#808080",
           "#17BECF",
           "#808080",
           "#808080",
           "#17BECF",
           "#808080",
           "#808080",
           "#17BECF",
           "#808080",
           "#808080",
           "#17BECF",
           "#808080",
           "#17BECF",
           "#17BECF",
           "#808080",
           "#17BECF",
           "#17BECF",
           "#17BECF",
           "#17BECF",
           "#17BECF",
           "#808080",
           "#17BECF",
           "#808080",
           "#17BECF",
           "#808080",
           "#808080",
           "#17BECF",
           "#808080",
           "#17BECF",
           "#808080",
           "#808080",
           "#17BECF",
           "#17BECF",
           "#17BECF",
           "#17BECF",
           "#17BECF",
           "#808080",
           "#808080",
           "#808080",
           "#17BECF",
           "#808080",
           "#17BECF",
           "#17BECF",
           "#17BECF",
           "#17BECF",
           "#808080",
           "#808080",
           "#808080",
           "#17BECF",
           "#17BECF",
           "#17BECF",
           "#17BECF",
           "#17BECF"
          ],
          "line": {
           "color": [
            "#808080",
            "#17BECF",
            "#808080",
            "#808080",
            "#808080",
            "#808080",
            "#808080",
            "#808080",
            "#808080",
            "#17BECF",
            "#808080",
            "#808080",
            "#808080",
            "#17BECF",
            "#808080",
            "#808080",
            "#17BECF",
            "#808080",
            "#808080",
            "#17BECF",
            "#808080",
            "#808080",
            "#17BECF",
            "#808080",
            "#17BECF",
            "#17BECF",
            "#808080",
            "#17BECF",
            "#17BECF",
            "#17BECF",
            "#17BECF",
            "#17BECF",
            "#808080",
            "#17BECF",
            "#808080",
            "#17BECF",
            "#808080",
            "#808080",
            "#17BECF",
            "#808080",
            "#17BECF",
            "#808080",
            "#808080",
            "#17BECF",
            "#17BECF",
            "#17BECF",
            "#17BECF",
            "#17BECF",
            "#808080",
            "#808080",
            "#808080",
            "#17BECF",
            "#808080",
            "#17BECF",
            "#17BECF",
            "#17BECF",
            "#17BECF",
            "#808080",
            "#808080",
            "#808080",
            "#17BECF",
            "#17BECF",
            "#17BECF",
            "#17BECF",
            "#17BECF"
           ],
           "width": 1
          }
         },
         "name": "Volume",
         "opacity": 0.8,
         "orientation": "v",
         "text": "",
         "type": "bar",
         "x": [
          "2024-07-09",
          "2024-07-10",
          "2024-07-11",
          "2024-07-12",
          "2024-07-15",
          "2024-07-16",
          "2024-07-17",
          "2024-07-18",
          "2024-07-19",
          "2024-07-22",
          "2024-07-23",
          "2024-07-24",
          "2024-07-25",
          "2024-07-26",
          "2024-07-29",
          "2024-07-30",
          "2024-07-31",
          "2024-08-01",
          "2024-08-02",
          "2024-08-05",
          "2024-08-06",
          "2024-08-07",
          "2024-08-08",
          "2024-08-09",
          "2024-08-12",
          "2024-08-13",
          "2024-08-14",
          "2024-08-15",
          "2024-08-16",
          "2024-08-19",
          "2024-08-20",
          "2024-08-21",
          "2024-08-22",
          "2024-08-23",
          "2024-08-26",
          "2024-08-27",
          "2024-08-28",
          "2024-08-29",
          "2024-08-30",
          "2024-09-03",
          "2024-09-04",
          "2024-09-05",
          "2024-09-06",
          "2024-09-09",
          "2024-09-10",
          "2024-09-11",
          "2024-09-12",
          "2024-09-13",
          "2024-09-16",
          "2024-09-17",
          "2024-09-18",
          "2024-09-19",
          "2024-09-20",
          "2024-09-23",
          "2024-09-24",
          "2024-09-25",
          "2024-09-26",
          "2024-09-27",
          "2024-09-30",
          "2024-10-01",
          "2024-10-02",
          "2024-10-03",
          "2024-10-04",
          "2024-10-07",
          "2024-10-08"
         ],
         "y": [
          43395600,
          90247000,
          59231400,
          50827400,
          42202700,
          40633100,
          76954200,
          69420300,
          47513100,
          43912500,
          31950600,
          49203100,
          60578500,
          49435800,
          47447200,
          68801700,
          114306800,
          94731900,
          78562000,
          76089400,
          64455600,
          54676500,
          49037500,
          40583000,
          39724300,
          42218000,
          35506400,
          43582400,
          31123900,
          60766900,
          76851200,
          42791200,
          45737300,
          43694600,
          49893300,
          35102700,
          34075800,
          31602100,
          31169100,
          42172700,
          42130600,
          25023000,
          39993500,
          27194500,
          37217500,
          50935400,
          29286200,
          25117200,
          27677800,
          29889000,
          26320100,
          44500000,
          40248200,
          21728500,
          27531200,
          35233300,
          38044900,
          27876000,
          21881600,
          31831900,
          24630400,
          29598800,
          44556500,
          38379900,
          34672900
         ],
         "yaxis": "y3"
        },
        {
         "close": [
          177.10000610351562,
          183.9600067138672,
          181.94000244140625,
          181.61000061035156,
          179.8300018310547,
          177.5500030517578,
          159.42999267578125,
          155.77000427246094,
          151.5800018310547,
          155.8699951171875,
          154,
          144.6300048828125,
          138.32000732421875,
          139.99000549316406,
          139.75,
          138.44000244140625,
          144.47999572753906,
          132.5399932861328,
          132.5,
          134.82000732421875,
          130.17999267578125,
          128.6699981689453,
          136.32000732421875,
          134.27000427246094,
          136.77000427246094,
          141.1300048828125,
          140.75,
          147.36000061035156,
          148.55999755859375,
          155.27999877929688,
          156.39999389648438,
          157.80999755859375,
          151.6999969482422,
          154.97999572753906,
          149.99000549316406,
          150.5,
          146.36000061035156,
          145.49000549316406,
          148.55999755859375,
          136.94000244140625,
          140.8699951171875,
          139.44000244140625,
          134.35000610351562,
          138.14999389648438,
          142.83999633789062,
          149.86000061035156,
          150.77000427246094,
          152.30999755859375,
          152.0800018310547,
          150.82000732421875,
          148.2899932861328,
          156.74000549316406,
          155.9499969482422,
          156.75,
          158.32000732421875,
          162.02000427246094,
          167.49000549316406,
          164.35000610351562,
          164.0800018310547,
          159.75,
          159.77999877929688,
          162.85000610351562,
          170.89999389648438,
          170.97000122070312,
          172.8000030517578
         ],
         "decreasing": {
          "line": {
           "color": "#808080"
          }
         },
         "high": [
          180.41000366210938,
          187.27999877929688,
          187.11000061035156,
          186.99000549316406,
          185.5,
          179.75,
          169.8000030517578,
          163.41000366210938,
          155.80999755859375,
          156.6999969482422,
          157.0500030517578,
          153.67999267578125,
          144.75,
          141.2899932861328,
          144.58999633789062,
          141.6999969482422,
          153.60000610351562,
          147.2899932861328,
          137.10000610351562,
          139.13999938964844,
          136.44000244140625,
          136.24000549316406,
          136.47999572753906,
          135.5,
          137.99000549316406,
          141.19000244140625,
          143.25,
          147.9600067138672,
          149.3699951171875,
          155.3699951171875,
          162.0399932861328,
          158.64999389648438,
          159.83999633789062,
          156.39999389648438,
          158.27999877929688,
          151.6999969482422,
          150.42999267578125,
          149.49000549316406,
          148.99000549316406,
          146.49000549316406,
          143.3699951171875,
          141.7100067138672,
          139.1300048828125,
          138.4499969482422,
          143.0800018310547,
          150.16000366210938,
          151.5399932861328,
          153.02999877929688,
          154.44000244140625,
          154.0399932861328,
          152.82000732421875,
          159.25,
          157.4499969482422,
          157.19000244140625,
          159.63999938964844,
          162.9499969482422,
          168.67999267578125,
          168.72999572753906,
          165.0800018310547,
          165.39999389648438,
          163.10000610351562,
          166.7899932861328,
          171.2100067138672,
          172.41000366210938,
          173.60000610351562
         ],
         "increasing": {
          "line": {
           "color": "#17BECF"
          }
         },
         "low": [
          174.6999969482422,
          177.8000030517578,
          177.25,
          179.69000244140625,
          178.5399932861328,
          174.52999877929688,
          159.3699951171875,
          153.1999969482422,
          150.6199951171875,
          152.5399932861328,
          153.8000030517578,
          144.52999877929688,
          136.80999755859375,
          138.27000427246094,
          138.75,
          134.0500030517578,
          140.02999877929688,
          130.24000549316406,
          131.3300018310547,
          121.83000183105469,
          129.10000610351562,
          128.3699951171875,
          128.94000244140625,
          132.44000244140625,
          133.22999572753906,
          137.52000427246094,
          137.63999938964844,
          141.80999755859375,
          145.1999969482422,
          147.72000122070312,
          154.50999450683594,
          155.07000732421875,
          151.00999450683594,
          151.8300018310547,
          148.91000366210938,
          148.44000244140625,
          144.72000122070312,
          144.47000122070312,
          145.25,
          136.10000610351562,
          138.50999450683594,
          137.8300018310547,
          132.11000061035156,
          134.86000061035156,
          137.25,
          140.7100067138672,
          147.64999389648438,
          150.6999969482422,
          150.91000366210938,
          149.22999572753906,
          148.00999450683594,
          152.77000427246094,
          152.47000122070312,
          154.97000122070312,
          154.5800018310547,
          158.17999267578125,
          164.0500030517578,
          163.74000549316406,
          162.17999267578125,
          158.0800018310547,
          158.6699981689453,
          159.39999389648438,
          164.4199981689453,
          168.2100067138672,
          170
         ],
         "name": "AMD",
         "open": [
          177.97000122070312,
          179.99000549316406,
          184.07000732421875,
          182.02000427246094,
          184.4499969482422,
          179.69000244140625,
          169.8000030517578,
          163.41000366210938,
          154.86000061035156,
          154.22999572753906,
          154.9499969482422,
          152.72000122070312,
          144.07000732421875,
          140.32000732421875,
          141.19000244140625,
          139.8800048828125,
          150.72999572753906,
          145,
          133.5,
          122.16000366210938,
          135.14999389648438,
          133.75,
          131.97000122070312,
          134.69000244140625,
          134.44000244140625,
          138.1199951171875,
          143,
          143,
          145.6999969482422,
          148.42999267578125,
          156.49000549316406,
          156.1199951171875,
          158.8699951171875,
          153.60000610351562,
          154.6999969482422,
          150.1300048828125,
          149.39999389648438,
          146.58999633789062,
          147.52000427246094,
          146.41000366210938,
          140.50999450683594,
          138.1999969482422,
          138.6999969482422,
          136.10000610351562,
          139.05999755859375,
          145.32000732421875,
          148.42999267578125,
          152.32000732421875,
          151.6999969482422,
          153.5500030517578,
          150.89999389648438,
          153.80999755859375,
          156,
          156.4499969482422,
          157.4600067138672,
          158.5,
          167.05999755859375,
          167.47999572753906,
          163.10000610351562,
          164.47999572753906,
          159.30999755859375,
          159.7100067138672,
          166.52999877929688,
          171.0800018310547,
          171.75
         ],
         "showlegend": true,
         "type": "candlestick",
         "x": [
          "2024-07-09",
          "2024-07-10",
          "2024-07-11",
          "2024-07-12",
          "2024-07-15",
          "2024-07-16",
          "2024-07-17",
          "2024-07-18",
          "2024-07-19",
          "2024-07-22",
          "2024-07-23",
          "2024-07-24",
          "2024-07-25",
          "2024-07-26",
          "2024-07-29",
          "2024-07-30",
          "2024-07-31",
          "2024-08-01",
          "2024-08-02",
          "2024-08-05",
          "2024-08-06",
          "2024-08-07",
          "2024-08-08",
          "2024-08-09",
          "2024-08-12",
          "2024-08-13",
          "2024-08-14",
          "2024-08-15",
          "2024-08-16",
          "2024-08-19",
          "2024-08-20",
          "2024-08-21",
          "2024-08-22",
          "2024-08-23",
          "2024-08-26",
          "2024-08-27",
          "2024-08-28",
          "2024-08-29",
          "2024-08-30",
          "2024-09-03",
          "2024-09-04",
          "2024-09-05",
          "2024-09-06",
          "2024-09-09",
          "2024-09-10",
          "2024-09-11",
          "2024-09-12",
          "2024-09-13",
          "2024-09-16",
          "2024-09-17",
          "2024-09-18",
          "2024-09-19",
          "2024-09-20",
          "2024-09-23",
          "2024-09-24",
          "2024-09-25",
          "2024-09-26",
          "2024-09-27",
          "2024-09-30",
          "2024-10-01",
          "2024-10-02",
          "2024-10-03",
          "2024-10-04",
          "2024-10-07",
          "2024-10-08"
         ],
         "yaxis": "y2"
        }
       ],
       "layout": {
        "legend": {
         "bgcolor": "#F5F6F9",
         "font": {
          "color": "#4D5663"
         },
         "orientation": "h",
         "x": 0.01,
         "y": 0.9,
         "yanchor": "bottom"
        },
        "margin": {
         "b": 30,
         "l": 30,
         "r": 30,
         "t": 30
        },
        "paper_bgcolor": "#F5F6F9",
        "plot_bgcolor": "#F5F6F9",
        "showlegend": true,
        "template": {
         "data": {
          "bar": [
           {
            "error_x": {
             "color": "#2a3f5f"
            },
            "error_y": {
             "color": "#2a3f5f"
            },
            "marker": {
             "line": {
              "color": "#E5ECF6",
              "width": 0.5
             },
             "pattern": {
              "fillmode": "overlay",
              "size": 10,
              "solidity": 0.2
             }
            },
            "type": "bar"
           }
          ],
          "barpolar": [
           {
            "marker": {
             "line": {
              "color": "#E5ECF6",
              "width": 0.5
             },
             "pattern": {
              "fillmode": "overlay",
              "size": 10,
              "solidity": 0.2
             }
            },
            "type": "barpolar"
           }
          ],
          "carpet": [
           {
            "aaxis": {
             "endlinecolor": "#2a3f5f",
             "gridcolor": "white",
             "linecolor": "white",
             "minorgridcolor": "white",
             "startlinecolor": "#2a3f5f"
            },
            "baxis": {
             "endlinecolor": "#2a3f5f",
             "gridcolor": "white",
             "linecolor": "white",
             "minorgridcolor": "white",
             "startlinecolor": "#2a3f5f"
            },
            "type": "carpet"
           }
          ],
          "choropleth": [
           {
            "colorbar": {
             "outlinewidth": 0,
             "ticks": ""
            },
            "type": "choropleth"
           }
          ],
          "contour": [
           {
            "colorbar": {
             "outlinewidth": 0,
             "ticks": ""
            },
            "colorscale": [
             [
              0,
              "#0d0887"
             ],
             [
              0.1111111111111111,
              "#46039f"
             ],
             [
              0.2222222222222222,
              "#7201a8"
             ],
             [
              0.3333333333333333,
              "#9c179e"
             ],
             [
              0.4444444444444444,
              "#bd3786"
             ],
             [
              0.5555555555555556,
              "#d8576b"
             ],
             [
              0.6666666666666666,
              "#ed7953"
             ],
             [
              0.7777777777777778,
              "#fb9f3a"
             ],
             [
              0.8888888888888888,
              "#fdca26"
             ],
             [
              1,
              "#f0f921"
             ]
            ],
            "type": "contour"
           }
          ],
          "contourcarpet": [
           {
            "colorbar": {
             "outlinewidth": 0,
             "ticks": ""
            },
            "type": "contourcarpet"
           }
          ],
          "heatmap": [
           {
            "colorbar": {
             "outlinewidth": 0,
             "ticks": ""
            },
            "colorscale": [
             [
              0,
              "#0d0887"
             ],
             [
              0.1111111111111111,
              "#46039f"
             ],
             [
              0.2222222222222222,
              "#7201a8"
             ],
             [
              0.3333333333333333,
              "#9c179e"
             ],
             [
              0.4444444444444444,
              "#bd3786"
             ],
             [
              0.5555555555555556,
              "#d8576b"
             ],
             [
              0.6666666666666666,
              "#ed7953"
             ],
             [
              0.7777777777777778,
              "#fb9f3a"
             ],
             [
              0.8888888888888888,
              "#fdca26"
             ],
             [
              1,
              "#f0f921"
             ]
            ],
            "type": "heatmap"
           }
          ],
          "heatmapgl": [
           {
            "colorbar": {
             "outlinewidth": 0,
             "ticks": ""
            },
            "colorscale": [
             [
              0,
              "#0d0887"
             ],
             [
              0.1111111111111111,
              "#46039f"
             ],
             [
              0.2222222222222222,
              "#7201a8"
             ],
             [
              0.3333333333333333,
              "#9c179e"
             ],
             [
              0.4444444444444444,
              "#bd3786"
             ],
             [
              0.5555555555555556,
              "#d8576b"
             ],
             [
              0.6666666666666666,
              "#ed7953"
             ],
             [
              0.7777777777777778,
              "#fb9f3a"
             ],
             [
              0.8888888888888888,
              "#fdca26"
             ],
             [
              1,
              "#f0f921"
             ]
            ],
            "type": "heatmapgl"
           }
          ],
          "histogram": [
           {
            "marker": {
             "pattern": {
              "fillmode": "overlay",
              "size": 10,
              "solidity": 0.2
             }
            },
            "type": "histogram"
           }
          ],
          "histogram2d": [
           {
            "colorbar": {
             "outlinewidth": 0,
             "ticks": ""
            },
            "colorscale": [
             [
              0,
              "#0d0887"
             ],
             [
              0.1111111111111111,
              "#46039f"
             ],
             [
              0.2222222222222222,
              "#7201a8"
             ],
             [
              0.3333333333333333,
              "#9c179e"
             ],
             [
              0.4444444444444444,
              "#bd3786"
             ],
             [
              0.5555555555555556,
              "#d8576b"
             ],
             [
              0.6666666666666666,
              "#ed7953"
             ],
             [
              0.7777777777777778,
              "#fb9f3a"
             ],
             [
              0.8888888888888888,
              "#fdca26"
             ],
             [
              1,
              "#f0f921"
             ]
            ],
            "type": "histogram2d"
           }
          ],
          "histogram2dcontour": [
           {
            "colorbar": {
             "outlinewidth": 0,
             "ticks": ""
            },
            "colorscale": [
             [
              0,
              "#0d0887"
             ],
             [
              0.1111111111111111,
              "#46039f"
             ],
             [
              0.2222222222222222,
              "#7201a8"
             ],
             [
              0.3333333333333333,
              "#9c179e"
             ],
             [
              0.4444444444444444,
              "#bd3786"
             ],
             [
              0.5555555555555556,
              "#d8576b"
             ],
             [
              0.6666666666666666,
              "#ed7953"
             ],
             [
              0.7777777777777778,
              "#fb9f3a"
             ],
             [
              0.8888888888888888,
              "#fdca26"
             ],
             [
              1,
              "#f0f921"
             ]
            ],
            "type": "histogram2dcontour"
           }
          ],
          "mesh3d": [
           {
            "colorbar": {
             "outlinewidth": 0,
             "ticks": ""
            },
            "type": "mesh3d"
           }
          ],
          "parcoords": [
           {
            "line": {
             "colorbar": {
              "outlinewidth": 0,
              "ticks": ""
             }
            },
            "type": "parcoords"
           }
          ],
          "pie": [
           {
            "automargin": true,
            "type": "pie"
           }
          ],
          "scatter": [
           {
            "fillpattern": {
             "fillmode": "overlay",
             "size": 10,
             "solidity": 0.2
            },
            "type": "scatter"
           }
          ],
          "scatter3d": [
           {
            "line": {
             "colorbar": {
              "outlinewidth": 0,
              "ticks": ""
             }
            },
            "marker": {
             "colorbar": {
              "outlinewidth": 0,
              "ticks": ""
             }
            },
            "type": "scatter3d"
           }
          ],
          "scattercarpet": [
           {
            "marker": {
             "colorbar": {
              "outlinewidth": 0,
              "ticks": ""
             }
            },
            "type": "scattercarpet"
           }
          ],
          "scattergeo": [
           {
            "marker": {
             "colorbar": {
              "outlinewidth": 0,
              "ticks": ""
             }
            },
            "type": "scattergeo"
           }
          ],
          "scattergl": [
           {
            "marker": {
             "colorbar": {
              "outlinewidth": 0,
              "ticks": ""
             }
            },
            "type": "scattergl"
           }
          ],
          "scattermapbox": [
           {
            "marker": {
             "colorbar": {
              "outlinewidth": 0,
              "ticks": ""
             }
            },
            "type": "scattermapbox"
           }
          ],
          "scatterpolar": [
           {
            "marker": {
             "colorbar": {
              "outlinewidth": 0,
              "ticks": ""
             }
            },
            "type": "scatterpolar"
           }
          ],
          "scatterpolargl": [
           {
            "marker": {
             "colorbar": {
              "outlinewidth": 0,
              "ticks": ""
             }
            },
            "type": "scatterpolargl"
           }
          ],
          "scatterternary": [
           {
            "marker": {
             "colorbar": {
              "outlinewidth": 0,
              "ticks": ""
             }
            },
            "type": "scatterternary"
           }
          ],
          "surface": [
           {
            "colorbar": {
             "outlinewidth": 0,
             "ticks": ""
            },
            "colorscale": [
             [
              0,
              "#0d0887"
             ],
             [
              0.1111111111111111,
              "#46039f"
             ],
             [
              0.2222222222222222,
              "#7201a8"
             ],
             [
              0.3333333333333333,
              "#9c179e"
             ],
             [
              0.4444444444444444,
              "#bd3786"
             ],
             [
              0.5555555555555556,
              "#d8576b"
             ],
             [
              0.6666666666666666,
              "#ed7953"
             ],
             [
              0.7777777777777778,
              "#fb9f3a"
             ],
             [
              0.8888888888888888,
              "#fdca26"
             ],
             [
              1,
              "#f0f921"
             ]
            ],
            "type": "surface"
           }
          ],
          "table": [
           {
            "cells": {
             "fill": {
              "color": "#EBF0F8"
             },
             "line": {
              "color": "white"
             }
            },
            "header": {
             "fill": {
              "color": "#C8D4E3"
             },
             "line": {
              "color": "white"
             }
            },
            "type": "table"
           }
          ]
         },
         "layout": {
          "annotationdefaults": {
           "arrowcolor": "#2a3f5f",
           "arrowhead": 0,
           "arrowwidth": 1
          },
          "autotypenumbers": "strict",
          "coloraxis": {
           "colorbar": {
            "outlinewidth": 0,
            "ticks": ""
           }
          },
          "colorscale": {
           "diverging": [
            [
             0,
             "#8e0152"
            ],
            [
             0.1,
             "#c51b7d"
            ],
            [
             0.2,
             "#de77ae"
            ],
            [
             0.3,
             "#f1b6da"
            ],
            [
             0.4,
             "#fde0ef"
            ],
            [
             0.5,
             "#f7f7f7"
            ],
            [
             0.6,
             "#e6f5d0"
            ],
            [
             0.7,
             "#b8e186"
            ],
            [
             0.8,
             "#7fbc41"
            ],
            [
             0.9,
             "#4d9221"
            ],
            [
             1,
             "#276419"
            ]
           ],
           "sequential": [
            [
             0,
             "#0d0887"
            ],
            [
             0.1111111111111111,
             "#46039f"
            ],
            [
             0.2222222222222222,
             "#7201a8"
            ],
            [
             0.3333333333333333,
             "#9c179e"
            ],
            [
             0.4444444444444444,
             "#bd3786"
            ],
            [
             0.5555555555555556,
             "#d8576b"
            ],
            [
             0.6666666666666666,
             "#ed7953"
            ],
            [
             0.7777777777777778,
             "#fb9f3a"
            ],
            [
             0.8888888888888888,
             "#fdca26"
            ],
            [
             1,
             "#f0f921"
            ]
           ],
           "sequentialminus": [
            [
             0,
             "#0d0887"
            ],
            [
             0.1111111111111111,
             "#46039f"
            ],
            [
             0.2222222222222222,
             "#7201a8"
            ],
            [
             0.3333333333333333,
             "#9c179e"
            ],
            [
             0.4444444444444444,
             "#bd3786"
            ],
            [
             0.5555555555555556,
             "#d8576b"
            ],
            [
             0.6666666666666666,
             "#ed7953"
            ],
            [
             0.7777777777777778,
             "#fb9f3a"
            ],
            [
             0.8888888888888888,
             "#fdca26"
            ],
            [
             1,
             "#f0f921"
            ]
           ]
          },
          "colorway": [
           "#636efa",
           "#EF553B",
           "#00cc96",
           "#ab63fa",
           "#FFA15A",
           "#19d3f3",
           "#FF6692",
           "#B6E880",
           "#FF97FF",
           "#FECB52"
          ],
          "font": {
           "color": "#2a3f5f"
          },
          "geo": {
           "bgcolor": "white",
           "lakecolor": "white",
           "landcolor": "#E5ECF6",
           "showlakes": true,
           "showland": true,
           "subunitcolor": "white"
          },
          "hoverlabel": {
           "align": "left"
          },
          "hovermode": "closest",
          "mapbox": {
           "style": "light"
          },
          "paper_bgcolor": "white",
          "plot_bgcolor": "#E5ECF6",
          "polar": {
           "angularaxis": {
            "gridcolor": "white",
            "linecolor": "white",
            "ticks": ""
           },
           "bgcolor": "#E5ECF6",
           "radialaxis": {
            "gridcolor": "white",
            "linecolor": "white",
            "ticks": ""
           }
          },
          "scene": {
           "xaxis": {
            "backgroundcolor": "#E5ECF6",
            "gridcolor": "white",
            "gridwidth": 2,
            "linecolor": "white",
            "showbackground": true,
            "ticks": "",
            "zerolinecolor": "white"
           },
           "yaxis": {
            "backgroundcolor": "#E5ECF6",
            "gridcolor": "white",
            "gridwidth": 2,
            "linecolor": "white",
            "showbackground": true,
            "ticks": "",
            "zerolinecolor": "white"
           },
           "zaxis": {
            "backgroundcolor": "#E5ECF6",
            "gridcolor": "white",
            "gridwidth": 2,
            "linecolor": "white",
            "showbackground": true,
            "ticks": "",
            "zerolinecolor": "white"
           }
          },
          "shapedefaults": {
           "line": {
            "color": "#2a3f5f"
           }
          },
          "ternary": {
           "aaxis": {
            "gridcolor": "white",
            "linecolor": "white",
            "ticks": ""
           },
           "baxis": {
            "gridcolor": "white",
            "linecolor": "white",
            "ticks": ""
           },
           "bgcolor": "#E5ECF6",
           "caxis": {
            "gridcolor": "white",
            "linecolor": "white",
            "ticks": ""
           }
          },
          "title": {
           "x": 0.05
          },
          "xaxis": {
           "automargin": true,
           "gridcolor": "white",
           "linecolor": "white",
           "ticks": "",
           "title": {
            "standoff": 15
           },
           "zerolinecolor": "white",
           "zerolinewidth": 2
          },
          "yaxis": {
           "automargin": true,
           "gridcolor": "white",
           "linecolor": "white",
           "ticks": "",
           "title": {
            "standoff": 15
           },
           "zerolinecolor": "white",
           "zerolinewidth": 2
          }
         }
        },
        "title": {
         "font": {
          "color": "#4D5663"
         },
         "text": "Quantitative Figure"
        },
        "xaxis": {
         "anchor": "y2",
         "gridcolor": "#E1E5ED",
         "rangeselector": {
          "bgcolor": "rgba(150, 200, 250, 1)",
          "buttons": [
           {
            "count": 1,
            "label": "1m",
            "step": "month",
            "stepmode": "backward"
           },
           {
            "count": 1,
            "label": "1y",
            "step": "year",
            "stepmode": "backward"
           }
          ],
          "font": {
           "size": 13
          },
          "visible": false,
          "x": 0,
          "y": 0.9
         },
         "rangeslider": {
          "visible": false
         },
         "showgrid": true,
         "tickfont": {
          "color": "#4D5663"
         },
         "title": {
          "font": {
           "color": "#4D5663"
          },
          "text": ""
         },
         "zerolinecolor": "#E1E5ED"
        },
        "yaxis": {
         "gridcolor": "#E1E5ED",
         "showgrid": true,
         "showticklabels": false,
         "tickfont": {
          "color": "#4D5663"
         },
         "title": {
          "font": {
           "color": "#4D5663"
          },
          "text": ""
         },
         "zerolinecolor": "#E1E5ED"
        },
        "yaxis2": {
         "domain": [
          0.23,
          0.9
         ],
         "gridcolor": "#E1E5ED",
         "showgrid": true,
         "tickfont": {
          "color": "#4D5663"
         },
         "title": {
          "font": {
           "color": "#4D5663"
          },
          "text": ""
         },
         "zerolinecolor": "#E1E5ED"
        },
        "yaxis3": {
         "domain": [
          0,
          0.15
         ],
         "gridcolor": "#E1E5ED",
         "showgrid": true,
         "tickfont": {
          "color": "#4D5663"
         },
         "title": {
          "font": {
           "color": "#4D5663"
          },
          "text": ""
         },
         "zerolinecolor": "#E1E5ED"
        }
       }
      },
      "text/html": [
       "<div>                            <div id=\"6b1c8260-dac9-485d-85da-17f99b631682\" class=\"plotly-graph-div\" style=\"height:525px; width:100%;\"></div>            <script type=\"text/javascript\">                require([\"plotly\"], function(Plotly) {                    window.PLOTLYENV=window.PLOTLYENV || {};                                    if (document.getElementById(\"6b1c8260-dac9-485d-85da-17f99b631682\")) {                    Plotly.newPlot(                        \"6b1c8260-dac9-485d-85da-17f99b631682\",                        [{\"legendgroup\":\" SMA([10, 20])\",\"line\":{\"color\":\"rgba(0, 128, 0, 1.0)\",\"dash\":\"solid\",\"shape\":\"linear\",\"width\":2},\"mode\":\"lines\",\"name\":\" SMA([10, 20])\",\"showlegend\":true,\"text\":\"\",\"x\":[\"2024-07-09\",\"2024-07-10\",\"2024-07-11\",\"2024-07-12\",\"2024-07-15\",\"2024-07-16\",\"2024-07-17\",\"2024-07-18\",\"2024-07-19\",\"2024-07-22\",\"2024-07-23\",\"2024-07-24\",\"2024-07-25\",\"2024-07-26\",\"2024-07-29\",\"2024-07-30\",\"2024-07-31\",\"2024-08-01\",\"2024-08-02\",\"2024-08-05\",\"2024-08-06\",\"2024-08-07\",\"2024-08-08\",\"2024-08-09\",\"2024-08-12\",\"2024-08-13\",\"2024-08-14\",\"2024-08-15\",\"2024-08-16\",\"2024-08-19\",\"2024-08-20\",\"2024-08-21\",\"2024-08-22\",\"2024-08-23\",\"2024-08-26\",\"2024-08-27\",\"2024-08-28\",\"2024-08-29\",\"2024-08-30\",\"2024-09-03\",\"2024-09-04\",\"2024-09-05\",\"2024-09-06\",\"2024-09-09\",\"2024-09-10\",\"2024-09-11\",\"2024-09-12\",\"2024-09-13\",\"2024-09-16\",\"2024-09-17\",\"2024-09-18\",\"2024-09-19\",\"2024-09-20\",\"2024-09-23\",\"2024-09-24\",\"2024-09-25\",\"2024-09-26\",\"2024-09-27\",\"2024-09-30\",\"2024-10-01\",\"2024-10-02\",\"2024-10-03\",\"2024-10-04\",\"2024-10-07\",\"2024-10-08\"],\"y\":[\"\",\"\",\"\",\"\",\"\",\"\",\"\",\"\",\"\",170.46400146484376,168.15400085449218,164.22100067138672,159.85900115966797,155.6970016479492,151.68900146484376,147.7780014038086,146.2830017089844,143.96000061035156,142.0520004272461,139.9470016479492,137.56500091552735,135.96900024414063,135.7690002441406,135.1970001220703,134.8990005493164,135.16800079345703,134.7950012207031,136.277001953125,137.88300170898438,139.9290008544922,142.5510009765625,145.46500091552736,147.00299987792968,149.0739990234375,150.3959991455078,151.33299865722657,151.8939987182617,151.70699920654297,151.70699920654297,149.8729995727539,148.31999969482422,146.48300018310547,144.7480010986328,143.06500091552735,142.35,142.28600006103517,142.72700042724608,143.40899963378905,143.76100006103516,145.1490005493164,145.89100036621093,147.62100067138672,149.78099975585937,151.64100036621093,153.18900146484376,154.40500183105468,156.077001953125,157.2810028076172,158.4810028076172,159.3740020751953,160.52300262451172,161.13400268554688,162.6290023803711,164.0510025024414,165.4990020751953],\"yaxis\":\"y2\",\"type\":\"scatter\"},{\"legendgroup\":\" SMA([10, 20])\",\"line\":{\"color\":\"rgba(144, 238, 144, 1.0)\",\"dash\":\"solid\",\"shape\":\"linear\",\"width\":2},\"mode\":\"lines\",\"name\":\" SMA(20)\",\"showlegend\":false,\"text\":\"\",\"x\":[\"2024-07-09\",\"2024-07-10\",\"2024-07-11\",\"2024-07-12\",\"2024-07-15\",\"2024-07-16\",\"2024-07-17\",\"2024-07-18\",\"2024-07-19\",\"2024-07-22\",\"2024-07-23\",\"2024-07-24\",\"2024-07-25\",\"2024-07-26\",\"2024-07-29\",\"2024-07-30\",\"2024-07-31\",\"2024-08-01\",\"2024-08-02\",\"2024-08-05\",\"2024-08-06\",\"2024-08-07\",\"2024-08-08\",\"2024-08-09\",\"2024-08-12\",\"2024-08-13\",\"2024-08-14\",\"2024-08-15\",\"2024-08-16\",\"2024-08-19\",\"2024-08-20\",\"2024-08-21\",\"2024-08-22\",\"2024-08-23\",\"2024-08-26\",\"2024-08-27\",\"2024-08-28\",\"2024-08-29\",\"2024-08-30\",\"2024-09-03\",\"2024-09-04\",\"2024-09-05\",\"2024-09-06\",\"2024-09-09\",\"2024-09-10\",\"2024-09-11\",\"2024-09-12\",\"2024-09-13\",\"2024-09-16\",\"2024-09-17\",\"2024-09-18\",\"2024-09-19\",\"2024-09-20\",\"2024-09-23\",\"2024-09-24\",\"2024-09-25\",\"2024-09-26\",\"2024-09-27\",\"2024-09-30\",\"2024-10-01\",\"2024-10-02\",\"2024-10-03\",\"2024-10-04\",\"2024-10-07\",\"2024-10-08\"],\"y\":[\"\",\"\",\"\",\"\",\"\",\"\",\"\",\"\",\"\",\"\",\"\",\"\",\"\",\"\",\"\",\"\",\"\",\"\",\"\",155.20550155639648,152.85950088500977,150.09500045776366,147.8140007019043,145.44700088500977,143.29400100708008,141.4730010986328,140.53900146484375,140.11850128173828,139.96750106811524,139.9380012512207,140.05800094604493,140.71700057983398,141.38600006103516,142.1354995727539,142.64749984741212,143.2504997253418,143.34449996948243,143.99200057983398,144.79500045776368,144.90100021362304,145.43550033569335,145.9740005493164,145.87550048828126,146.06949996948242,146.3729995727539,146.80949935913085,147.3104995727539,147.55799942016603,147.73399963378907,147.51100006103516,147.1055000305176,147.0520004272461,147.2645004272461,147.35300064086914,147.76950073242188,148.34550094604492,149.40200119018556,150.34500122070312,151.12100143432616,152.26150131225586,153.20700149536134,154.37750167846679,156.20500106811522,157.84600143432618,159.34400177001953],\"yaxis\":\"y2\",\"type\":\"scatter\"},{\"legendgroup\":\"BOLL(Close,20)\",\"line\":{\"color\":\"rgba(55, 128, 191, 1.0)\",\"dash\":\"solid\",\"shape\":\"linear\",\"width\":1.3},\"mode\":\"lines\",\"name\":\"BOLL(Close,20)\",\"showlegend\":true,\"text\":\"\",\"x\":[\"2024-07-09\",\"2024-07-10\",\"2024-07-11\",\"2024-07-12\",\"2024-07-15\",\"2024-07-16\",\"2024-07-17\",\"2024-07-18\",\"2024-07-19\",\"2024-07-22\",\"2024-07-23\",\"2024-07-24\",\"2024-07-25\",\"2024-07-26\",\"2024-07-29\",\"2024-07-30\",\"2024-07-31\",\"2024-08-01\",\"2024-08-02\",\"2024-08-05\",\"2024-08-06\",\"2024-08-07\",\"2024-08-08\",\"2024-08-09\",\"2024-08-12\",\"2024-08-13\",\"2024-08-14\",\"2024-08-15\",\"2024-08-16\",\"2024-08-19\",\"2024-08-20\",\"2024-08-21\",\"2024-08-22\",\"2024-08-23\",\"2024-08-26\",\"2024-08-27\",\"2024-08-28\",\"2024-08-29\",\"2024-08-30\",\"2024-09-03\",\"2024-09-04\",\"2024-09-05\",\"2024-09-06\",\"2024-09-09\",\"2024-09-10\",\"2024-09-11\",\"2024-09-12\",\"2024-09-13\",\"2024-09-16\",\"2024-09-17\",\"2024-09-18\",\"2024-09-19\",\"2024-09-20\",\"2024-09-23\",\"2024-09-24\",\"2024-09-25\",\"2024-09-26\",\"2024-09-27\",\"2024-09-30\",\"2024-10-01\",\"2024-10-02\",\"2024-10-03\",\"2024-10-04\",\"2024-10-07\",\"2024-10-08\"],\"y\":[\"\",\"\",\"\",\"\",\"\",\"\",\"\",\"\",\"\",\"\",\"\",\"\",\"\",\"\",\"\",\"\",\"\",\"\",\"\",155.20550155639648,152.85950088500977,150.09500045776366,147.8140007019043,145.44700088500977,143.29400100708008,141.4730010986328,140.53900146484375,140.11850128173828,139.96750106811524,139.9380012512207,140.05800094604493,140.71700057983398,141.38600006103516,142.1354995727539,142.64749984741212,143.2504997253418,143.34449996948243,143.99200057983398,144.79500045776368,144.90100021362304,145.43550033569335,145.9740005493164,145.87550048828126,146.06949996948242,146.3729995727539,146.80949935913085,147.3104995727539,147.55799942016603,147.73399963378907,147.51100006103516,147.1055000305176,147.0520004272461,147.2645004272461,147.35300064086914,147.76950073242188,148.34550094604492,149.40200119018556,150.34500122070312,151.12100143432616,152.26150131225586,153.20700149536134,154.37750167846679,156.20500106811522,157.84600143432618,159.34400177001953],\"yaxis\":\"y2\",\"type\":\"scatter\"},{\"legendgroup\":\"BOLL(Close,20)\",\"line\":{\"color\":\"rgba(55, 128, 191, 0.8999999999999999)\",\"dash\":\"solid\",\"shape\":\"linear\",\"width\":1.3},\"mode\":\"lines\",\"name\":\"UPPER(Close,20)\",\"showlegend\":false,\"text\":\"\",\"x\":[\"2024-07-09\",\"2024-07-10\",\"2024-07-11\",\"2024-07-12\",\"2024-07-15\",\"2024-07-16\",\"2024-07-17\",\"2024-07-18\",\"2024-07-19\",\"2024-07-22\",\"2024-07-23\",\"2024-07-24\",\"2024-07-25\",\"2024-07-26\",\"2024-07-29\",\"2024-07-30\",\"2024-07-31\",\"2024-08-01\",\"2024-08-02\",\"2024-08-05\",\"2024-08-06\",\"2024-08-07\",\"2024-08-08\",\"2024-08-09\",\"2024-08-12\",\"2024-08-13\",\"2024-08-14\",\"2024-08-15\",\"2024-08-16\",\"2024-08-19\",\"2024-08-20\",\"2024-08-21\",\"2024-08-22\",\"2024-08-23\",\"2024-08-26\",\"2024-08-27\",\"2024-08-28\",\"2024-08-29\",\"2024-08-30\",\"2024-09-03\",\"2024-09-04\",\"2024-09-05\",\"2024-09-06\",\"2024-09-09\",\"2024-09-10\",\"2024-09-11\",\"2024-09-12\",\"2024-09-13\",\"2024-09-16\",\"2024-09-17\",\"2024-09-18\",\"2024-09-19\",\"2024-09-20\",\"2024-09-23\",\"2024-09-24\",\"2024-09-25\",\"2024-09-26\",\"2024-09-27\",\"2024-09-30\",\"2024-10-01\",\"2024-10-02\",\"2024-10-03\",\"2024-10-04\",\"2024-10-07\",\"2024-10-08\"],\"y\":[\"\",\"\",\"\",\"\",\"\",\"\",\"\",\"\",\"\",\"\",\"\",\"\",\"\",\"\",\"\",\"\",\"\",\"\",\"\",192.38292979227387,190.14106946782675,185.83422928805138,180.7052932765239,174.7114676489496,167.86756047255525,160.01582526112355,157.04319318371816,155.36973633185463,154.79484177010303,154.63389052809453,155.267574885806,157.78878379798283,159.09889689160548,160.84046552809988,161.63597052401923,162.44126579267046,162.57899064643493,162.55522080059882,162.64066501499536,162.52095044015965,161.77740449569782,160.61057321741765,160.80912626102148,160.4592316346704,160.18117888743524,160.47098704557553,160.76975747039194,161.20187305021227,161.52234406542638,160.92465660916685,159.86195043600569,159.62711002837264,160.30533433229107,160.63607333643688,161.89631056036842,163.81654548308512,167.0367383095184,169.08155675107116,170.80775046154824,171.11435254917683,171.5440475624244,171.98868436423632,172.60992605882464,173.1773709290067,174.35314709139752],\"yaxis\":\"y2\",\"type\":\"scatter\"},{\"fill\":\"tonexty\",\"fillcolor\":\"rgba(55, 128, 191, 0.1)\",\"legendgroup\":\"BOLL(Close,20)\",\"line\":{\"color\":\"rgba(55, 128, 191, 0.7999999999999998)\",\"dash\":\"solid\",\"shape\":\"linear\",\"width\":1.3},\"mode\":\"lines\",\"name\":\"LOWER(Close,20)\",\"showlegend\":false,\"text\":\"\",\"x\":[\"2024-07-09\",\"2024-07-10\",\"2024-07-11\",\"2024-07-12\",\"2024-07-15\",\"2024-07-16\",\"2024-07-17\",\"2024-07-18\",\"2024-07-19\",\"2024-07-22\",\"2024-07-23\",\"2024-07-24\",\"2024-07-25\",\"2024-07-26\",\"2024-07-29\",\"2024-07-30\",\"2024-07-31\",\"2024-08-01\",\"2024-08-02\",\"2024-08-05\",\"2024-08-06\",\"2024-08-07\",\"2024-08-08\",\"2024-08-09\",\"2024-08-12\",\"2024-08-13\",\"2024-08-14\",\"2024-08-15\",\"2024-08-16\",\"2024-08-19\",\"2024-08-20\",\"2024-08-21\",\"2024-08-22\",\"2024-08-23\",\"2024-08-26\",\"2024-08-27\",\"2024-08-28\",\"2024-08-29\",\"2024-08-30\",\"2024-09-03\",\"2024-09-04\",\"2024-09-05\",\"2024-09-06\",\"2024-09-09\",\"2024-09-10\",\"2024-09-11\",\"2024-09-12\",\"2024-09-13\",\"2024-09-16\",\"2024-09-17\",\"2024-09-18\",\"2024-09-19\",\"2024-09-20\",\"2024-09-23\",\"2024-09-24\",\"2024-09-25\",\"2024-09-26\",\"2024-09-27\",\"2024-09-30\",\"2024-10-01\",\"2024-10-02\",\"2024-10-03\",\"2024-10-04\",\"2024-10-07\",\"2024-10-08\"],\"y\":[\"\",\"\",\"\",\"\",\"\",\"\",\"\",\"\",\"\",\"\",\"\",\"\",\"\",\"\",\"\",\"\",\"\",\"\",\"\",118.0280733205191,115.57793230219279,114.35577162747595,114.9227081272847,116.18253412106995,118.72044154160491,122.93017693614206,124.03480974596934,124.86726623162191,125.14016036612743,125.24211197434687,124.84842700628386,123.64521736168513,123.67310323046486,123.43053361740792,123.65902917080501,124.05973365801314,124.11000929252992,125.42878035906914,126.949335900532,127.28104998708642,129.09359617568887,131.33742788121515,130.94187471554105,131.67976830429444,132.5648202580726,133.14801167268618,133.8512416751159,133.91412579011978,133.94565520215176,134.09734351290348,134.3490496250295,134.47689082611956,134.22366652220114,134.0699279453014,133.64269090447533,132.87445640900472,131.76726407085272,131.6084456903351,131.43425240710408,133.4086500753349,134.86995542829828,136.76631899269725,139.8000760774058,142.51463193964565,144.33485644864155],\"yaxis\":\"y2\",\"type\":\"scatter\"},{\"marker\":{\"color\":[\"#808080\",\"#17BECF\",\"#808080\",\"#808080\",\"#808080\",\"#808080\",\"#808080\",\"#808080\",\"#808080\",\"#17BECF\",\"#808080\",\"#808080\",\"#808080\",\"#17BECF\",\"#808080\",\"#808080\",\"#17BECF\",\"#808080\",\"#808080\",\"#17BECF\",\"#808080\",\"#808080\",\"#17BECF\",\"#808080\",\"#17BECF\",\"#17BECF\",\"#808080\",\"#17BECF\",\"#17BECF\",\"#17BECF\",\"#17BECF\",\"#17BECF\",\"#808080\",\"#17BECF\",\"#808080\",\"#17BECF\",\"#808080\",\"#808080\",\"#17BECF\",\"#808080\",\"#17BECF\",\"#808080\",\"#808080\",\"#17BECF\",\"#17BECF\",\"#17BECF\",\"#17BECF\",\"#17BECF\",\"#808080\",\"#808080\",\"#808080\",\"#17BECF\",\"#808080\",\"#17BECF\",\"#17BECF\",\"#17BECF\",\"#17BECF\",\"#808080\",\"#808080\",\"#808080\",\"#17BECF\",\"#17BECF\",\"#17BECF\",\"#17BECF\",\"#17BECF\"],\"line\":{\"color\":[\"#808080\",\"#17BECF\",\"#808080\",\"#808080\",\"#808080\",\"#808080\",\"#808080\",\"#808080\",\"#808080\",\"#17BECF\",\"#808080\",\"#808080\",\"#808080\",\"#17BECF\",\"#808080\",\"#808080\",\"#17BECF\",\"#808080\",\"#808080\",\"#17BECF\",\"#808080\",\"#808080\",\"#17BECF\",\"#808080\",\"#17BECF\",\"#17BECF\",\"#808080\",\"#17BECF\",\"#17BECF\",\"#17BECF\",\"#17BECF\",\"#17BECF\",\"#808080\",\"#17BECF\",\"#808080\",\"#17BECF\",\"#808080\",\"#808080\",\"#17BECF\",\"#808080\",\"#17BECF\",\"#808080\",\"#808080\",\"#17BECF\",\"#17BECF\",\"#17BECF\",\"#17BECF\",\"#17BECF\",\"#808080\",\"#808080\",\"#808080\",\"#17BECF\",\"#808080\",\"#17BECF\",\"#17BECF\",\"#17BECF\",\"#17BECF\",\"#808080\",\"#808080\",\"#808080\",\"#17BECF\",\"#17BECF\",\"#17BECF\",\"#17BECF\",\"#17BECF\"],\"width\":1}},\"name\":\"Volume\",\"opacity\":0.8,\"orientation\":\"v\",\"text\":\"\",\"x\":[\"2024-07-09\",\"2024-07-10\",\"2024-07-11\",\"2024-07-12\",\"2024-07-15\",\"2024-07-16\",\"2024-07-17\",\"2024-07-18\",\"2024-07-19\",\"2024-07-22\",\"2024-07-23\",\"2024-07-24\",\"2024-07-25\",\"2024-07-26\",\"2024-07-29\",\"2024-07-30\",\"2024-07-31\",\"2024-08-01\",\"2024-08-02\",\"2024-08-05\",\"2024-08-06\",\"2024-08-07\",\"2024-08-08\",\"2024-08-09\",\"2024-08-12\",\"2024-08-13\",\"2024-08-14\",\"2024-08-15\",\"2024-08-16\",\"2024-08-19\",\"2024-08-20\",\"2024-08-21\",\"2024-08-22\",\"2024-08-23\",\"2024-08-26\",\"2024-08-27\",\"2024-08-28\",\"2024-08-29\",\"2024-08-30\",\"2024-09-03\",\"2024-09-04\",\"2024-09-05\",\"2024-09-06\",\"2024-09-09\",\"2024-09-10\",\"2024-09-11\",\"2024-09-12\",\"2024-09-13\",\"2024-09-16\",\"2024-09-17\",\"2024-09-18\",\"2024-09-19\",\"2024-09-20\",\"2024-09-23\",\"2024-09-24\",\"2024-09-25\",\"2024-09-26\",\"2024-09-27\",\"2024-09-30\",\"2024-10-01\",\"2024-10-02\",\"2024-10-03\",\"2024-10-04\",\"2024-10-07\",\"2024-10-08\"],\"y\":[43395600,90247000,59231400,50827400,42202700,40633100,76954200,69420300,47513100,43912500,31950600,49203100,60578500,49435800,47447200,68801700,114306800,94731900,78562000,76089400,64455600,54676500,49037500,40583000,39724300,42218000,35506400,43582400,31123900,60766900,76851200,42791200,45737300,43694600,49893300,35102700,34075800,31602100,31169100,42172700,42130600,25023000,39993500,27194500,37217500,50935400,29286200,25117200,27677800,29889000,26320100,44500000,40248200,21728500,27531200,35233300,38044900,27876000,21881600,31831900,24630400,29598800,44556500,38379900,34672900],\"yaxis\":\"y3\",\"type\":\"bar\"},{\"close\":[177.10000610351562,183.9600067138672,181.94000244140625,181.61000061035156,179.8300018310547,177.5500030517578,159.42999267578125,155.77000427246094,151.5800018310547,155.8699951171875,154.0,144.6300048828125,138.32000732421875,139.99000549316406,139.75,138.44000244140625,144.47999572753906,132.5399932861328,132.5,134.82000732421875,130.17999267578125,128.6699981689453,136.32000732421875,134.27000427246094,136.77000427246094,141.1300048828125,140.75,147.36000061035156,148.55999755859375,155.27999877929688,156.39999389648438,157.80999755859375,151.6999969482422,154.97999572753906,149.99000549316406,150.5,146.36000061035156,145.49000549316406,148.55999755859375,136.94000244140625,140.8699951171875,139.44000244140625,134.35000610351562,138.14999389648438,142.83999633789062,149.86000061035156,150.77000427246094,152.30999755859375,152.0800018310547,150.82000732421875,148.2899932861328,156.74000549316406,155.9499969482422,156.75,158.32000732421875,162.02000427246094,167.49000549316406,164.35000610351562,164.0800018310547,159.75,159.77999877929688,162.85000610351562,170.89999389648438,170.97000122070312,172.8000030517578],\"decreasing\":{\"line\":{\"color\":\"#808080\"}},\"high\":[180.41000366210938,187.27999877929688,187.11000061035156,186.99000549316406,185.5,179.75,169.8000030517578,163.41000366210938,155.80999755859375,156.6999969482422,157.0500030517578,153.67999267578125,144.75,141.2899932861328,144.58999633789062,141.6999969482422,153.60000610351562,147.2899932861328,137.10000610351562,139.13999938964844,136.44000244140625,136.24000549316406,136.47999572753906,135.5,137.99000549316406,141.19000244140625,143.25,147.9600067138672,149.3699951171875,155.3699951171875,162.0399932861328,158.64999389648438,159.83999633789062,156.39999389648438,158.27999877929688,151.6999969482422,150.42999267578125,149.49000549316406,148.99000549316406,146.49000549316406,143.3699951171875,141.7100067138672,139.1300048828125,138.4499969482422,143.0800018310547,150.16000366210938,151.5399932861328,153.02999877929688,154.44000244140625,154.0399932861328,152.82000732421875,159.25,157.4499969482422,157.19000244140625,159.63999938964844,162.9499969482422,168.67999267578125,168.72999572753906,165.0800018310547,165.39999389648438,163.10000610351562,166.7899932861328,171.2100067138672,172.41000366210938,173.60000610351562],\"increasing\":{\"line\":{\"color\":\"#17BECF\"}},\"low\":[174.6999969482422,177.8000030517578,177.25,179.69000244140625,178.5399932861328,174.52999877929688,159.3699951171875,153.1999969482422,150.6199951171875,152.5399932861328,153.8000030517578,144.52999877929688,136.80999755859375,138.27000427246094,138.75,134.0500030517578,140.02999877929688,130.24000549316406,131.3300018310547,121.83000183105469,129.10000610351562,128.3699951171875,128.94000244140625,132.44000244140625,133.22999572753906,137.52000427246094,137.63999938964844,141.80999755859375,145.1999969482422,147.72000122070312,154.50999450683594,155.07000732421875,151.00999450683594,151.8300018310547,148.91000366210938,148.44000244140625,144.72000122070312,144.47000122070312,145.25,136.10000610351562,138.50999450683594,137.8300018310547,132.11000061035156,134.86000061035156,137.25,140.7100067138672,147.64999389648438,150.6999969482422,150.91000366210938,149.22999572753906,148.00999450683594,152.77000427246094,152.47000122070312,154.97000122070312,154.5800018310547,158.17999267578125,164.0500030517578,163.74000549316406,162.17999267578125,158.0800018310547,158.6699981689453,159.39999389648438,164.4199981689453,168.2100067138672,170.0],\"name\":\"AMD\",\"open\":[177.97000122070312,179.99000549316406,184.07000732421875,182.02000427246094,184.4499969482422,179.69000244140625,169.8000030517578,163.41000366210938,154.86000061035156,154.22999572753906,154.9499969482422,152.72000122070312,144.07000732421875,140.32000732421875,141.19000244140625,139.8800048828125,150.72999572753906,145.0,133.5,122.16000366210938,135.14999389648438,133.75,131.97000122070312,134.69000244140625,134.44000244140625,138.1199951171875,143.0,143.0,145.6999969482422,148.42999267578125,156.49000549316406,156.1199951171875,158.8699951171875,153.60000610351562,154.6999969482422,150.1300048828125,149.39999389648438,146.58999633789062,147.52000427246094,146.41000366210938,140.50999450683594,138.1999969482422,138.6999969482422,136.10000610351562,139.05999755859375,145.32000732421875,148.42999267578125,152.32000732421875,151.6999969482422,153.5500030517578,150.89999389648438,153.80999755859375,156.0,156.4499969482422,157.4600067138672,158.5,167.05999755859375,167.47999572753906,163.10000610351562,164.47999572753906,159.30999755859375,159.7100067138672,166.52999877929688,171.0800018310547,171.75],\"showlegend\":true,\"x\":[\"2024-07-09\",\"2024-07-10\",\"2024-07-11\",\"2024-07-12\",\"2024-07-15\",\"2024-07-16\",\"2024-07-17\",\"2024-07-18\",\"2024-07-19\",\"2024-07-22\",\"2024-07-23\",\"2024-07-24\",\"2024-07-25\",\"2024-07-26\",\"2024-07-29\",\"2024-07-30\",\"2024-07-31\",\"2024-08-01\",\"2024-08-02\",\"2024-08-05\",\"2024-08-06\",\"2024-08-07\",\"2024-08-08\",\"2024-08-09\",\"2024-08-12\",\"2024-08-13\",\"2024-08-14\",\"2024-08-15\",\"2024-08-16\",\"2024-08-19\",\"2024-08-20\",\"2024-08-21\",\"2024-08-22\",\"2024-08-23\",\"2024-08-26\",\"2024-08-27\",\"2024-08-28\",\"2024-08-29\",\"2024-08-30\",\"2024-09-03\",\"2024-09-04\",\"2024-09-05\",\"2024-09-06\",\"2024-09-09\",\"2024-09-10\",\"2024-09-11\",\"2024-09-12\",\"2024-09-13\",\"2024-09-16\",\"2024-09-17\",\"2024-09-18\",\"2024-09-19\",\"2024-09-20\",\"2024-09-23\",\"2024-09-24\",\"2024-09-25\",\"2024-09-26\",\"2024-09-27\",\"2024-09-30\",\"2024-10-01\",\"2024-10-02\",\"2024-10-03\",\"2024-10-04\",\"2024-10-07\",\"2024-10-08\"],\"yaxis\":\"y2\",\"type\":\"candlestick\"}],                        {\"legend\":{\"bgcolor\":\"#F5F6F9\",\"font\":{\"color\":\"#4D5663\"},\"orientation\":\"h\",\"x\":0.01,\"y\":0.9,\"yanchor\":\"bottom\"},\"margin\":{\"b\":30,\"l\":30,\"r\":30,\"t\":30},\"paper_bgcolor\":\"#F5F6F9\",\"plot_bgcolor\":\"#F5F6F9\",\"showlegend\":true,\"template\":{\"data\":{\"barpolar\":[{\"marker\":{\"line\":{\"color\":\"#E5ECF6\",\"width\":0.5},\"pattern\":{\"fillmode\":\"overlay\",\"size\":10,\"solidity\":0.2}},\"type\":\"barpolar\"}],\"bar\":[{\"error_x\":{\"color\":\"#2a3f5f\"},\"error_y\":{\"color\":\"#2a3f5f\"},\"marker\":{\"line\":{\"color\":\"#E5ECF6\",\"width\":0.5},\"pattern\":{\"fillmode\":\"overlay\",\"size\":10,\"solidity\":0.2}},\"type\":\"bar\"}],\"carpet\":[{\"aaxis\":{\"endlinecolor\":\"#2a3f5f\",\"gridcolor\":\"white\",\"linecolor\":\"white\",\"minorgridcolor\":\"white\",\"startlinecolor\":\"#2a3f5f\"},\"baxis\":{\"endlinecolor\":\"#2a3f5f\",\"gridcolor\":\"white\",\"linecolor\":\"white\",\"minorgridcolor\":\"white\",\"startlinecolor\":\"#2a3f5f\"},\"type\":\"carpet\"}],\"choropleth\":[{\"colorbar\":{\"outlinewidth\":0,\"ticks\":\"\"},\"type\":\"choropleth\"}],\"contourcarpet\":[{\"colorbar\":{\"outlinewidth\":0,\"ticks\":\"\"},\"type\":\"contourcarpet\"}],\"contour\":[{\"colorbar\":{\"outlinewidth\":0,\"ticks\":\"\"},\"colorscale\":[[0.0,\"#0d0887\"],[0.1111111111111111,\"#46039f\"],[0.2222222222222222,\"#7201a8\"],[0.3333333333333333,\"#9c179e\"],[0.4444444444444444,\"#bd3786\"],[0.5555555555555556,\"#d8576b\"],[0.6666666666666666,\"#ed7953\"],[0.7777777777777778,\"#fb9f3a\"],[0.8888888888888888,\"#fdca26\"],[1.0,\"#f0f921\"]],\"type\":\"contour\"}],\"heatmapgl\":[{\"colorbar\":{\"outlinewidth\":0,\"ticks\":\"\"},\"colorscale\":[[0.0,\"#0d0887\"],[0.1111111111111111,\"#46039f\"],[0.2222222222222222,\"#7201a8\"],[0.3333333333333333,\"#9c179e\"],[0.4444444444444444,\"#bd3786\"],[0.5555555555555556,\"#d8576b\"],[0.6666666666666666,\"#ed7953\"],[0.7777777777777778,\"#fb9f3a\"],[0.8888888888888888,\"#fdca26\"],[1.0,\"#f0f921\"]],\"type\":\"heatmapgl\"}],\"heatmap\":[{\"colorbar\":{\"outlinewidth\":0,\"ticks\":\"\"},\"colorscale\":[[0.0,\"#0d0887\"],[0.1111111111111111,\"#46039f\"],[0.2222222222222222,\"#7201a8\"],[0.3333333333333333,\"#9c179e\"],[0.4444444444444444,\"#bd3786\"],[0.5555555555555556,\"#d8576b\"],[0.6666666666666666,\"#ed7953\"],[0.7777777777777778,\"#fb9f3a\"],[0.8888888888888888,\"#fdca26\"],[1.0,\"#f0f921\"]],\"type\":\"heatmap\"}],\"histogram2dcontour\":[{\"colorbar\":{\"outlinewidth\":0,\"ticks\":\"\"},\"colorscale\":[[0.0,\"#0d0887\"],[0.1111111111111111,\"#46039f\"],[0.2222222222222222,\"#7201a8\"],[0.3333333333333333,\"#9c179e\"],[0.4444444444444444,\"#bd3786\"],[0.5555555555555556,\"#d8576b\"],[0.6666666666666666,\"#ed7953\"],[0.7777777777777778,\"#fb9f3a\"],[0.8888888888888888,\"#fdca26\"],[1.0,\"#f0f921\"]],\"type\":\"histogram2dcontour\"}],\"histogram2d\":[{\"colorbar\":{\"outlinewidth\":0,\"ticks\":\"\"},\"colorscale\":[[0.0,\"#0d0887\"],[0.1111111111111111,\"#46039f\"],[0.2222222222222222,\"#7201a8\"],[0.3333333333333333,\"#9c179e\"],[0.4444444444444444,\"#bd3786\"],[0.5555555555555556,\"#d8576b\"],[0.6666666666666666,\"#ed7953\"],[0.7777777777777778,\"#fb9f3a\"],[0.8888888888888888,\"#fdca26\"],[1.0,\"#f0f921\"]],\"type\":\"histogram2d\"}],\"histogram\":[{\"marker\":{\"pattern\":{\"fillmode\":\"overlay\",\"size\":10,\"solidity\":0.2}},\"type\":\"histogram\"}],\"mesh3d\":[{\"colorbar\":{\"outlinewidth\":0,\"ticks\":\"\"},\"type\":\"mesh3d\"}],\"parcoords\":[{\"line\":{\"colorbar\":{\"outlinewidth\":0,\"ticks\":\"\"}},\"type\":\"parcoords\"}],\"pie\":[{\"automargin\":true,\"type\":\"pie\"}],\"scatter3d\":[{\"line\":{\"colorbar\":{\"outlinewidth\":0,\"ticks\":\"\"}},\"marker\":{\"colorbar\":{\"outlinewidth\":0,\"ticks\":\"\"}},\"type\":\"scatter3d\"}],\"scattercarpet\":[{\"marker\":{\"colorbar\":{\"outlinewidth\":0,\"ticks\":\"\"}},\"type\":\"scattercarpet\"}],\"scattergeo\":[{\"marker\":{\"colorbar\":{\"outlinewidth\":0,\"ticks\":\"\"}},\"type\":\"scattergeo\"}],\"scattergl\":[{\"marker\":{\"colorbar\":{\"outlinewidth\":0,\"ticks\":\"\"}},\"type\":\"scattergl\"}],\"scattermapbox\":[{\"marker\":{\"colorbar\":{\"outlinewidth\":0,\"ticks\":\"\"}},\"type\":\"scattermapbox\"}],\"scatterpolargl\":[{\"marker\":{\"colorbar\":{\"outlinewidth\":0,\"ticks\":\"\"}},\"type\":\"scatterpolargl\"}],\"scatterpolar\":[{\"marker\":{\"colorbar\":{\"outlinewidth\":0,\"ticks\":\"\"}},\"type\":\"scatterpolar\"}],\"scatter\":[{\"fillpattern\":{\"fillmode\":\"overlay\",\"size\":10,\"solidity\":0.2},\"type\":\"scatter\"}],\"scatterternary\":[{\"marker\":{\"colorbar\":{\"outlinewidth\":0,\"ticks\":\"\"}},\"type\":\"scatterternary\"}],\"surface\":[{\"colorbar\":{\"outlinewidth\":0,\"ticks\":\"\"},\"colorscale\":[[0.0,\"#0d0887\"],[0.1111111111111111,\"#46039f\"],[0.2222222222222222,\"#7201a8\"],[0.3333333333333333,\"#9c179e\"],[0.4444444444444444,\"#bd3786\"],[0.5555555555555556,\"#d8576b\"],[0.6666666666666666,\"#ed7953\"],[0.7777777777777778,\"#fb9f3a\"],[0.8888888888888888,\"#fdca26\"],[1.0,\"#f0f921\"]],\"type\":\"surface\"}],\"table\":[{\"cells\":{\"fill\":{\"color\":\"#EBF0F8\"},\"line\":{\"color\":\"white\"}},\"header\":{\"fill\":{\"color\":\"#C8D4E3\"},\"line\":{\"color\":\"white\"}},\"type\":\"table\"}]},\"layout\":{\"annotationdefaults\":{\"arrowcolor\":\"#2a3f5f\",\"arrowhead\":0,\"arrowwidth\":1},\"autotypenumbers\":\"strict\",\"coloraxis\":{\"colorbar\":{\"outlinewidth\":0,\"ticks\":\"\"}},\"colorscale\":{\"diverging\":[[0,\"#8e0152\"],[0.1,\"#c51b7d\"],[0.2,\"#de77ae\"],[0.3,\"#f1b6da\"],[0.4,\"#fde0ef\"],[0.5,\"#f7f7f7\"],[0.6,\"#e6f5d0\"],[0.7,\"#b8e186\"],[0.8,\"#7fbc41\"],[0.9,\"#4d9221\"],[1,\"#276419\"]],\"sequential\":[[0.0,\"#0d0887\"],[0.1111111111111111,\"#46039f\"],[0.2222222222222222,\"#7201a8\"],[0.3333333333333333,\"#9c179e\"],[0.4444444444444444,\"#bd3786\"],[0.5555555555555556,\"#d8576b\"],[0.6666666666666666,\"#ed7953\"],[0.7777777777777778,\"#fb9f3a\"],[0.8888888888888888,\"#fdca26\"],[1.0,\"#f0f921\"]],\"sequentialminus\":[[0.0,\"#0d0887\"],[0.1111111111111111,\"#46039f\"],[0.2222222222222222,\"#7201a8\"],[0.3333333333333333,\"#9c179e\"],[0.4444444444444444,\"#bd3786\"],[0.5555555555555556,\"#d8576b\"],[0.6666666666666666,\"#ed7953\"],[0.7777777777777778,\"#fb9f3a\"],[0.8888888888888888,\"#fdca26\"],[1.0,\"#f0f921\"]]},\"colorway\":[\"#636efa\",\"#EF553B\",\"#00cc96\",\"#ab63fa\",\"#FFA15A\",\"#19d3f3\",\"#FF6692\",\"#B6E880\",\"#FF97FF\",\"#FECB52\"],\"font\":{\"color\":\"#2a3f5f\"},\"geo\":{\"bgcolor\":\"white\",\"lakecolor\":\"white\",\"landcolor\":\"#E5ECF6\",\"showlakes\":true,\"showland\":true,\"subunitcolor\":\"white\"},\"hoverlabel\":{\"align\":\"left\"},\"hovermode\":\"closest\",\"mapbox\":{\"style\":\"light\"},\"paper_bgcolor\":\"white\",\"plot_bgcolor\":\"#E5ECF6\",\"polar\":{\"angularaxis\":{\"gridcolor\":\"white\",\"linecolor\":\"white\",\"ticks\":\"\"},\"bgcolor\":\"#E5ECF6\",\"radialaxis\":{\"gridcolor\":\"white\",\"linecolor\":\"white\",\"ticks\":\"\"}},\"scene\":{\"xaxis\":{\"backgroundcolor\":\"#E5ECF6\",\"gridcolor\":\"white\",\"gridwidth\":2,\"linecolor\":\"white\",\"showbackground\":true,\"ticks\":\"\",\"zerolinecolor\":\"white\"},\"yaxis\":{\"backgroundcolor\":\"#E5ECF6\",\"gridcolor\":\"white\",\"gridwidth\":2,\"linecolor\":\"white\",\"showbackground\":true,\"ticks\":\"\",\"zerolinecolor\":\"white\"},\"zaxis\":{\"backgroundcolor\":\"#E5ECF6\",\"gridcolor\":\"white\",\"gridwidth\":2,\"linecolor\":\"white\",\"showbackground\":true,\"ticks\":\"\",\"zerolinecolor\":\"white\"}},\"shapedefaults\":{\"line\":{\"color\":\"#2a3f5f\"}},\"ternary\":{\"aaxis\":{\"gridcolor\":\"white\",\"linecolor\":\"white\",\"ticks\":\"\"},\"baxis\":{\"gridcolor\":\"white\",\"linecolor\":\"white\",\"ticks\":\"\"},\"bgcolor\":\"#E5ECF6\",\"caxis\":{\"gridcolor\":\"white\",\"linecolor\":\"white\",\"ticks\":\"\"}},\"title\":{\"x\":0.05},\"xaxis\":{\"automargin\":true,\"gridcolor\":\"white\",\"linecolor\":\"white\",\"ticks\":\"\",\"title\":{\"standoff\":15},\"zerolinecolor\":\"white\",\"zerolinewidth\":2},\"yaxis\":{\"automargin\":true,\"gridcolor\":\"white\",\"linecolor\":\"white\",\"ticks\":\"\",\"title\":{\"standoff\":15},\"zerolinecolor\":\"white\",\"zerolinewidth\":2}}},\"title\":{\"font\":{\"color\":\"#4D5663\"},\"text\":\"Quantitative Figure\"},\"xaxis\":{\"anchor\":\"y2\",\"gridcolor\":\"#E1E5ED\",\"rangeselector\":{\"bgcolor\":\"rgba(150, 200, 250, 1)\",\"buttons\":[{\"count\":1,\"label\":\"1m\",\"step\":\"month\",\"stepmode\":\"backward\"},{\"count\":1,\"label\":\"1y\",\"step\":\"year\",\"stepmode\":\"backward\"}],\"font\":{\"size\":13},\"visible\":false,\"x\":0,\"y\":0.9},\"rangeslider\":{\"visible\":false},\"showgrid\":true,\"tickfont\":{\"color\":\"#4D5663\"},\"title\":{\"font\":{\"color\":\"#4D5663\"},\"text\":\"\"},\"zerolinecolor\":\"#E1E5ED\"},\"yaxis\":{\"gridcolor\":\"#E1E5ED\",\"showgrid\":true,\"showticklabels\":false,\"tickfont\":{\"color\":\"#4D5663\"},\"title\":{\"font\":{\"color\":\"#4D5663\"},\"text\":\"\"},\"zerolinecolor\":\"#E1E5ED\"},\"yaxis2\":{\"domain\":[0.23,0.9],\"gridcolor\":\"#E1E5ED\",\"showgrid\":true,\"tickfont\":{\"color\":\"#4D5663\"},\"title\":{\"font\":{\"color\":\"#4D5663\"},\"text\":\"\"},\"zerolinecolor\":\"#E1E5ED\"},\"yaxis3\":{\"domain\":[0.0,0.15],\"gridcolor\":\"#E1E5ED\",\"showgrid\":true,\"tickfont\":{\"color\":\"#4D5663\"},\"title\":{\"font\":{\"color\":\"#4D5663\"},\"text\":\"\"},\"zerolinecolor\":\"#E1E5ED\"}},                        {\"responsive\": true}                    ).then(function(){\n",
       "                            \n",
       "var gd = document.getElementById('6b1c8260-dac9-485d-85da-17f99b631682');\n",
       "var x = new MutationObserver(function (mutations, observer) {{\n",
       "        var display = window.getComputedStyle(gd).display;\n",
       "        if (!display || display === 'none') {{\n",
       "            console.log([gd, 'removed!']);\n",
       "            Plotly.purge(gd);\n",
       "            observer.disconnect();\n",
       "        }}\n",
       "}});\n",
       "\n",
       "// Listen for the removal of the full notebook cells\n",
       "var notebookContainer = gd.closest('#notebook-container');\n",
       "if (notebookContainer) {{\n",
       "    x.observe(notebookContainer, {childList: true});\n",
       "}}\n",
       "\n",
       "// Listen for the clearing of the current output cell\n",
       "var outputEl = gd.closest('.output');\n",
       "if (outputEl) {{\n",
       "    x.observe(outputEl, {childList: true});\n",
       "}}\n",
       "\n",
       "                        })                };                });            </script>        </div>"
      ]
     },
     "metadata": {},
     "output_type": "display_data"
    }
   ],
   "source": [
    "qf = cf.QuantFig(stock_data, title='Quantitative Figure', legend='top', name=ticker.value)\n",
    "qf.add_sma([10,20], width=2, color=['green','lightgreen'], legendgroup=True)\n",
    "qf.add_bollinger_bands()\n",
    "qf.add_volume()\n",
    "\n",
    "fig = qf.iplot(asFigure=True)\n",
    "fig.update_layout(\n",
    "    legend=dict(\n",
    "        x=0.01,\n",
    "        y=0.9,\n",
    "        )\n",
    ")\n",
    "fig.show()"
   ]
  },
  {
   "cell_type": "markdown",
   "metadata": {},
   "source": [
    "Downloading stock data for semiconductor companies"
   ]
  },
  {
   "cell_type": "code",
   "execution_count": 60,
   "metadata": {},
   "outputs": [
    {
     "name": "stderr",
     "output_type": "stream",
     "text": [
      "[*********************100%***********************]  5 of 5 completed\n"
     ]
    },
    {
     "data": {
      "text/html": [
       "<div>\n",
       "<style scoped>\n",
       "    .dataframe tbody tr th:only-of-type {\n",
       "        vertical-align: middle;\n",
       "    }\n",
       "\n",
       "    .dataframe tbody tr th {\n",
       "        vertical-align: top;\n",
       "    }\n",
       "\n",
       "    .dataframe thead tr th {\n",
       "        text-align: left;\n",
       "    }\n",
       "\n",
       "    .dataframe thead tr:last-of-type th {\n",
       "        text-align: right;\n",
       "    }\n",
       "</style>\n",
       "<table border=\"1\" class=\"dataframe\">\n",
       "  <thead>\n",
       "    <tr>\n",
       "      <th>Price</th>\n",
       "      <th colspan=\"5\" halign=\"left\">Adj Close</th>\n",
       "      <th colspan=\"5\" halign=\"left\">Close</th>\n",
       "      <th>...</th>\n",
       "      <th colspan=\"5\" halign=\"left\">Open</th>\n",
       "      <th colspan=\"5\" halign=\"left\">Volume</th>\n",
       "    </tr>\n",
       "    <tr>\n",
       "      <th>Ticker</th>\n",
       "      <th>AMD</th>\n",
       "      <th>INTC</th>\n",
       "      <th>MU</th>\n",
       "      <th>NVDA</th>\n",
       "      <th>TSM</th>\n",
       "      <th>AMD</th>\n",
       "      <th>INTC</th>\n",
       "      <th>MU</th>\n",
       "      <th>NVDA</th>\n",
       "      <th>TSM</th>\n",
       "      <th>...</th>\n",
       "      <th>AMD</th>\n",
       "      <th>INTC</th>\n",
       "      <th>MU</th>\n",
       "      <th>NVDA</th>\n",
       "      <th>TSM</th>\n",
       "      <th>AMD</th>\n",
       "      <th>INTC</th>\n",
       "      <th>MU</th>\n",
       "      <th>NVDA</th>\n",
       "      <th>TSM</th>\n",
       "    </tr>\n",
       "    <tr>\n",
       "      <th>Date</th>\n",
       "      <th></th>\n",
       "      <th></th>\n",
       "      <th></th>\n",
       "      <th></th>\n",
       "      <th></th>\n",
       "      <th></th>\n",
       "      <th></th>\n",
       "      <th></th>\n",
       "      <th></th>\n",
       "      <th></th>\n",
       "      <th></th>\n",
       "      <th></th>\n",
       "      <th></th>\n",
       "      <th></th>\n",
       "      <th></th>\n",
       "      <th></th>\n",
       "      <th></th>\n",
       "      <th></th>\n",
       "      <th></th>\n",
       "      <th></th>\n",
       "      <th></th>\n",
       "    </tr>\n",
       "  </thead>\n",
       "  <tbody>\n",
       "    <tr>\n",
       "      <th>2024-07-09 00:00:00+00:00</th>\n",
       "      <td>177.100006</td>\n",
       "      <td>34.371960</td>\n",
       "      <td>130.992508</td>\n",
       "      <td>131.368774</td>\n",
       "      <td>183.841461</td>\n",
       "      <td>177.100006</td>\n",
       "      <td>34.590000</td>\n",
       "      <td>131.139999</td>\n",
       "      <td>131.380005</td>\n",
       "      <td>184.520004</td>\n",
       "      <td>...</td>\n",
       "      <td>177.970001</td>\n",
       "      <td>35.020000</td>\n",
       "      <td>131.750000</td>\n",
       "      <td>130.350006</td>\n",
       "      <td>188.089996</td>\n",
       "      <td>43395600</td>\n",
       "      <td>97546900</td>\n",
       "      <td>21850900</td>\n",
       "      <td>285366600</td>\n",
       "      <td>19935200</td>\n",
       "    </tr>\n",
       "    <tr>\n",
       "      <th>2024-07-10 00:00:00+00:00</th>\n",
       "      <td>183.960007</td>\n",
       "      <td>34.650192</td>\n",
       "      <td>136.236603</td>\n",
       "      <td>134.898468</td>\n",
       "      <td>190.347443</td>\n",
       "      <td>183.960007</td>\n",
       "      <td>34.869999</td>\n",
       "      <td>136.389999</td>\n",
       "      <td>134.910004</td>\n",
       "      <td>191.050003</td>\n",
       "      <td>...</td>\n",
       "      <td>179.990005</td>\n",
       "      <td>34.439999</td>\n",
       "      <td>133.100006</td>\n",
       "      <td>134.029999</td>\n",
       "      <td>188.279999</td>\n",
       "      <td>90247000</td>\n",
       "      <td>52256200</td>\n",
       "      <td>22460200</td>\n",
       "      <td>248978600</td>\n",
       "      <td>19293500</td>\n",
       "    </tr>\n",
       "    <tr>\n",
       "      <th>2024-07-11 00:00:00+00:00</th>\n",
       "      <td>181.940002</td>\n",
       "      <td>33.288830</td>\n",
       "      <td>130.083527</td>\n",
       "      <td>127.389107</td>\n",
       "      <td>183.821533</td>\n",
       "      <td>181.940002</td>\n",
       "      <td>33.500000</td>\n",
       "      <td>130.229996</td>\n",
       "      <td>127.400002</td>\n",
       "      <td>184.500000</td>\n",
       "      <td>...</td>\n",
       "      <td>184.070007</td>\n",
       "      <td>35.029999</td>\n",
       "      <td>136.360001</td>\n",
       "      <td>135.750000</td>\n",
       "      <td>193.089996</td>\n",
       "      <td>59231400</td>\n",
       "      <td>55213700</td>\n",
       "      <td>25401500</td>\n",
       "      <td>374782700</td>\n",
       "      <td>21584200</td>\n",
       "    </tr>\n",
       "    <tr>\n",
       "      <th>2024-07-12 00:00:00+00:00</th>\n",
       "      <td>181.610001</td>\n",
       "      <td>34.272591</td>\n",
       "      <td>133.399796</td>\n",
       "      <td>129.228958</td>\n",
       "      <td>186.661057</td>\n",
       "      <td>181.610001</td>\n",
       "      <td>34.490002</td>\n",
       "      <td>133.550003</td>\n",
       "      <td>129.240005</td>\n",
       "      <td>187.350006</td>\n",
       "      <td>...</td>\n",
       "      <td>182.020004</td>\n",
       "      <td>33.770000</td>\n",
       "      <td>131.750000</td>\n",
       "      <td>128.259995</td>\n",
       "      <td>183.070007</td>\n",
       "      <td>50827400</td>\n",
       "      <td>62792600</td>\n",
       "      <td>20726900</td>\n",
       "      <td>252680500</td>\n",
       "      <td>19220300</td>\n",
       "    </tr>\n",
       "    <tr>\n",
       "      <th>2024-07-15 00:00:00+00:00</th>\n",
       "      <td>179.830002</td>\n",
       "      <td>34.242775</td>\n",
       "      <td>130.722809</td>\n",
       "      <td>128.429016</td>\n",
       "      <td>184.538879</td>\n",
       "      <td>179.830002</td>\n",
       "      <td>34.459999</td>\n",
       "      <td>130.869995</td>\n",
       "      <td>128.440002</td>\n",
       "      <td>185.220001</td>\n",
       "      <td>...</td>\n",
       "      <td>184.449997</td>\n",
       "      <td>34.700001</td>\n",
       "      <td>133.910004</td>\n",
       "      <td>130.559998</td>\n",
       "      <td>188.679993</td>\n",
       "      <td>42202700</td>\n",
       "      <td>39847900</td>\n",
       "      <td>20416000</td>\n",
       "      <td>208326200</td>\n",
       "      <td>15683100</td>\n",
       "    </tr>\n",
       "    <tr>\n",
       "      <th>...</th>\n",
       "      <td>...</td>\n",
       "      <td>...</td>\n",
       "      <td>...</td>\n",
       "      <td>...</td>\n",
       "      <td>...</td>\n",
       "      <td>...</td>\n",
       "      <td>...</td>\n",
       "      <td>...</td>\n",
       "      <td>...</td>\n",
       "      <td>...</td>\n",
       "      <td>...</td>\n",
       "      <td>...</td>\n",
       "      <td>...</td>\n",
       "      <td>...</td>\n",
       "      <td>...</td>\n",
       "      <td>...</td>\n",
       "      <td>...</td>\n",
       "      <td>...</td>\n",
       "      <td>...</td>\n",
       "      <td>...</td>\n",
       "      <td>...</td>\n",
       "    </tr>\n",
       "    <tr>\n",
       "      <th>2024-10-02 00:00:00+00:00</th>\n",
       "      <td>159.779999</td>\n",
       "      <td>22.389999</td>\n",
       "      <td>99.737701</td>\n",
       "      <td>118.849998</td>\n",
       "      <td>175.800003</td>\n",
       "      <td>159.779999</td>\n",
       "      <td>22.389999</td>\n",
       "      <td>99.849998</td>\n",
       "      <td>118.849998</td>\n",
       "      <td>175.800003</td>\n",
       "      <td>...</td>\n",
       "      <td>159.309998</td>\n",
       "      <td>22.670000</td>\n",
       "      <td>100.589996</td>\n",
       "      <td>116.440002</td>\n",
       "      <td>172.960007</td>\n",
       "      <td>24630400</td>\n",
       "      <td>59033900</td>\n",
       "      <td>26334900</td>\n",
       "      <td>221845900</td>\n",
       "      <td>11164400</td>\n",
       "    </tr>\n",
       "    <tr>\n",
       "      <th>2024-10-03 00:00:00+00:00</th>\n",
       "      <td>162.850006</td>\n",
       "      <td>22.260000</td>\n",
       "      <td>101.705482</td>\n",
       "      <td>122.849998</td>\n",
       "      <td>179.479996</td>\n",
       "      <td>162.850006</td>\n",
       "      <td>22.260000</td>\n",
       "      <td>101.820000</td>\n",
       "      <td>122.849998</td>\n",
       "      <td>179.479996</td>\n",
       "      <td>...</td>\n",
       "      <td>159.710007</td>\n",
       "      <td>22.139999</td>\n",
       "      <td>99.470001</td>\n",
       "      <td>120.919998</td>\n",
       "      <td>175.800003</td>\n",
       "      <td>29598800</td>\n",
       "      <td>49565900</td>\n",
       "      <td>22176700</td>\n",
       "      <td>277118000</td>\n",
       "      <td>12555000</td>\n",
       "    </tr>\n",
       "    <tr>\n",
       "      <th>2024-10-04 00:00:00+00:00</th>\n",
       "      <td>170.899994</td>\n",
       "      <td>22.590000</td>\n",
       "      <td>102.135002</td>\n",
       "      <td>124.919998</td>\n",
       "      <td>181.160004</td>\n",
       "      <td>170.899994</td>\n",
       "      <td>22.590000</td>\n",
       "      <td>102.250000</td>\n",
       "      <td>124.919998</td>\n",
       "      <td>181.160004</td>\n",
       "      <td>...</td>\n",
       "      <td>166.529999</td>\n",
       "      <td>22.700001</td>\n",
       "      <td>103.650002</td>\n",
       "      <td>124.940002</td>\n",
       "      <td>179.699997</td>\n",
       "      <td>44556500</td>\n",
       "      <td>49845500</td>\n",
       "      <td>21911200</td>\n",
       "      <td>243678100</td>\n",
       "      <td>9993800</td>\n",
       "    </tr>\n",
       "    <tr>\n",
       "      <th>2024-10-07 00:00:00+00:00</th>\n",
       "      <td>170.970001</td>\n",
       "      <td>22.379999</td>\n",
       "      <td>102.910004</td>\n",
       "      <td>127.720001</td>\n",
       "      <td>184.509995</td>\n",
       "      <td>170.970001</td>\n",
       "      <td>22.379999</td>\n",
       "      <td>102.910004</td>\n",
       "      <td>127.720001</td>\n",
       "      <td>184.509995</td>\n",
       "      <td>...</td>\n",
       "      <td>171.080002</td>\n",
       "      <td>22.400000</td>\n",
       "      <td>102.160004</td>\n",
       "      <td>124.989998</td>\n",
       "      <td>181.600006</td>\n",
       "      <td>38379900</td>\n",
       "      <td>54928700</td>\n",
       "      <td>21749300</td>\n",
       "      <td>346250200</td>\n",
       "      <td>12054200</td>\n",
       "    </tr>\n",
       "    <tr>\n",
       "      <th>2024-10-08 00:00:00+00:00</th>\n",
       "      <td>172.800003</td>\n",
       "      <td>23.320000</td>\n",
       "      <td>102.540001</td>\n",
       "      <td>132.889999</td>\n",
       "      <td>186.050003</td>\n",
       "      <td>172.800003</td>\n",
       "      <td>23.320000</td>\n",
       "      <td>102.540001</td>\n",
       "      <td>132.889999</td>\n",
       "      <td>186.050003</td>\n",
       "      <td>...</td>\n",
       "      <td>171.750000</td>\n",
       "      <td>22.250000</td>\n",
       "      <td>102.180000</td>\n",
       "      <td>130.259995</td>\n",
       "      <td>184.960007</td>\n",
       "      <td>34672900</td>\n",
       "      <td>58480600</td>\n",
       "      <td>18823600</td>\n",
       "      <td>284485800</td>\n",
       "      <td>10378900</td>\n",
       "    </tr>\n",
       "  </tbody>\n",
       "</table>\n",
       "<p>65 rows × 30 columns</p>\n",
       "</div>"
      ],
      "text/plain": [
       "Price                       Adj Close                                     \\\n",
       "Ticker                            AMD       INTC          MU        NVDA   \n",
       "Date                                                                       \n",
       "2024-07-09 00:00:00+00:00  177.100006  34.371960  130.992508  131.368774   \n",
       "2024-07-10 00:00:00+00:00  183.960007  34.650192  136.236603  134.898468   \n",
       "2024-07-11 00:00:00+00:00  181.940002  33.288830  130.083527  127.389107   \n",
       "2024-07-12 00:00:00+00:00  181.610001  34.272591  133.399796  129.228958   \n",
       "2024-07-15 00:00:00+00:00  179.830002  34.242775  130.722809  128.429016   \n",
       "...                               ...        ...         ...         ...   \n",
       "2024-10-02 00:00:00+00:00  159.779999  22.389999   99.737701  118.849998   \n",
       "2024-10-03 00:00:00+00:00  162.850006  22.260000  101.705482  122.849998   \n",
       "2024-10-04 00:00:00+00:00  170.899994  22.590000  102.135002  124.919998   \n",
       "2024-10-07 00:00:00+00:00  170.970001  22.379999  102.910004  127.720001   \n",
       "2024-10-08 00:00:00+00:00  172.800003  23.320000  102.540001  132.889999   \n",
       "\n",
       "Price                                       Close                         \\\n",
       "Ticker                            TSM         AMD       INTC          MU   \n",
       "Date                                                                       \n",
       "2024-07-09 00:00:00+00:00  183.841461  177.100006  34.590000  131.139999   \n",
       "2024-07-10 00:00:00+00:00  190.347443  183.960007  34.869999  136.389999   \n",
       "2024-07-11 00:00:00+00:00  183.821533  181.940002  33.500000  130.229996   \n",
       "2024-07-12 00:00:00+00:00  186.661057  181.610001  34.490002  133.550003   \n",
       "2024-07-15 00:00:00+00:00  184.538879  179.830002  34.459999  130.869995   \n",
       "...                               ...         ...        ...         ...   \n",
       "2024-10-02 00:00:00+00:00  175.800003  159.779999  22.389999   99.849998   \n",
       "2024-10-03 00:00:00+00:00  179.479996  162.850006  22.260000  101.820000   \n",
       "2024-10-04 00:00:00+00:00  181.160004  170.899994  22.590000  102.250000   \n",
       "2024-10-07 00:00:00+00:00  184.509995  170.970001  22.379999  102.910004   \n",
       "2024-10-08 00:00:00+00:00  186.050003  172.800003  23.320000  102.540001   \n",
       "\n",
       "Price                                              ...        Open             \\\n",
       "Ticker                           NVDA         TSM  ...         AMD       INTC   \n",
       "Date                                               ...                          \n",
       "2024-07-09 00:00:00+00:00  131.380005  184.520004  ...  177.970001  35.020000   \n",
       "2024-07-10 00:00:00+00:00  134.910004  191.050003  ...  179.990005  34.439999   \n",
       "2024-07-11 00:00:00+00:00  127.400002  184.500000  ...  184.070007  35.029999   \n",
       "2024-07-12 00:00:00+00:00  129.240005  187.350006  ...  182.020004  33.770000   \n",
       "2024-07-15 00:00:00+00:00  128.440002  185.220001  ...  184.449997  34.700001   \n",
       "...                               ...         ...  ...         ...        ...   \n",
       "2024-10-02 00:00:00+00:00  118.849998  175.800003  ...  159.309998  22.670000   \n",
       "2024-10-03 00:00:00+00:00  122.849998  179.479996  ...  159.710007  22.139999   \n",
       "2024-10-04 00:00:00+00:00  124.919998  181.160004  ...  166.529999  22.700001   \n",
       "2024-10-07 00:00:00+00:00  127.720001  184.509995  ...  171.080002  22.400000   \n",
       "2024-10-08 00:00:00+00:00  132.889999  186.050003  ...  171.750000  22.250000   \n",
       "\n",
       "Price                                                            Volume  \\\n",
       "Ticker                             MU        NVDA         TSM       AMD   \n",
       "Date                                                                      \n",
       "2024-07-09 00:00:00+00:00  131.750000  130.350006  188.089996  43395600   \n",
       "2024-07-10 00:00:00+00:00  133.100006  134.029999  188.279999  90247000   \n",
       "2024-07-11 00:00:00+00:00  136.360001  135.750000  193.089996  59231400   \n",
       "2024-07-12 00:00:00+00:00  131.750000  128.259995  183.070007  50827400   \n",
       "2024-07-15 00:00:00+00:00  133.910004  130.559998  188.679993  42202700   \n",
       "...                               ...         ...         ...       ...   \n",
       "2024-10-02 00:00:00+00:00  100.589996  116.440002  172.960007  24630400   \n",
       "2024-10-03 00:00:00+00:00   99.470001  120.919998  175.800003  29598800   \n",
       "2024-10-04 00:00:00+00:00  103.650002  124.940002  179.699997  44556500   \n",
       "2024-10-07 00:00:00+00:00  102.160004  124.989998  181.600006  38379900   \n",
       "2024-10-08 00:00:00+00:00  102.180000  130.259995  184.960007  34672900   \n",
       "\n",
       "Price                                                               \n",
       "Ticker                         INTC        MU       NVDA       TSM  \n",
       "Date                                                                \n",
       "2024-07-09 00:00:00+00:00  97546900  21850900  285366600  19935200  \n",
       "2024-07-10 00:00:00+00:00  52256200  22460200  248978600  19293500  \n",
       "2024-07-11 00:00:00+00:00  55213700  25401500  374782700  21584200  \n",
       "2024-07-12 00:00:00+00:00  62792600  20726900  252680500  19220300  \n",
       "2024-07-15 00:00:00+00:00  39847900  20416000  208326200  15683100  \n",
       "...                             ...       ...        ...       ...  \n",
       "2024-10-02 00:00:00+00:00  59033900  26334900  221845900  11164400  \n",
       "2024-10-03 00:00:00+00:00  49565900  22176700  277118000  12555000  \n",
       "2024-10-04 00:00:00+00:00  49845500  21911200  243678100   9993800  \n",
       "2024-10-07 00:00:00+00:00  54928700  21749300  346250200  12054200  \n",
       "2024-10-08 00:00:00+00:00  58480600  18823600  284485800  10378900  \n",
       "\n",
       "[65 rows x 30 columns]"
      ]
     },
     "execution_count": 60,
     "metadata": {},
     "output_type": "execute_result"
    }
   ],
   "source": [
    "semiconductor_tickers = ['NVDA', 'INTC', 'AMD', 'TSM', 'MU']\n",
    "semiconductor_data = yf.download(semiconductor_tickers, start=date.today() - relativedelta(months=+period.value), end=date.today())\n",
    "semiconductor_data"
   ]
  },
  {
   "cell_type": "markdown",
   "metadata": {},
   "source": [
    "Creating and displaying an interactive line plot of Adjusted Close Prices for semiconductor companies"
   ]
  },
  {
   "cell_type": "code",
   "execution_count": 61,
   "metadata": {},
   "outputs": [
    {
     "data": {
      "application/vnd.plotly.v1+json": {
       "config": {
        "linkText": "Export to plot.ly",
        "plotlyServerURL": "https://plot.ly",
        "showLink": true
       },
       "data": [
        {
         "line": {
          "color": "rgba(255, 153, 51, 1.0)",
          "dash": "solid",
          "shape": "linear",
          "width": 1.3
         },
         "mode": "lines",
         "name": "AMD",
         "text": "",
         "type": "scatter",
         "x": [
          "2024-07-09 00:00:00+00:00",
          "2024-07-10 00:00:00+00:00",
          "2024-07-11 00:00:00+00:00",
          "2024-07-12 00:00:00+00:00",
          "2024-07-15 00:00:00+00:00",
          "2024-07-16 00:00:00+00:00",
          "2024-07-17 00:00:00+00:00",
          "2024-07-18 00:00:00+00:00",
          "2024-07-19 00:00:00+00:00",
          "2024-07-22 00:00:00+00:00",
          "2024-07-23 00:00:00+00:00",
          "2024-07-24 00:00:00+00:00",
          "2024-07-25 00:00:00+00:00",
          "2024-07-26 00:00:00+00:00",
          "2024-07-29 00:00:00+00:00",
          "2024-07-30 00:00:00+00:00",
          "2024-07-31 00:00:00+00:00",
          "2024-08-01 00:00:00+00:00",
          "2024-08-02 00:00:00+00:00",
          "2024-08-05 00:00:00+00:00",
          "2024-08-06 00:00:00+00:00",
          "2024-08-07 00:00:00+00:00",
          "2024-08-08 00:00:00+00:00",
          "2024-08-09 00:00:00+00:00",
          "2024-08-12 00:00:00+00:00",
          "2024-08-13 00:00:00+00:00",
          "2024-08-14 00:00:00+00:00",
          "2024-08-15 00:00:00+00:00",
          "2024-08-16 00:00:00+00:00",
          "2024-08-19 00:00:00+00:00",
          "2024-08-20 00:00:00+00:00",
          "2024-08-21 00:00:00+00:00",
          "2024-08-22 00:00:00+00:00",
          "2024-08-23 00:00:00+00:00",
          "2024-08-26 00:00:00+00:00",
          "2024-08-27 00:00:00+00:00",
          "2024-08-28 00:00:00+00:00",
          "2024-08-29 00:00:00+00:00",
          "2024-08-30 00:00:00+00:00",
          "2024-09-03 00:00:00+00:00",
          "2024-09-04 00:00:00+00:00",
          "2024-09-05 00:00:00+00:00",
          "2024-09-06 00:00:00+00:00",
          "2024-09-09 00:00:00+00:00",
          "2024-09-10 00:00:00+00:00",
          "2024-09-11 00:00:00+00:00",
          "2024-09-12 00:00:00+00:00",
          "2024-09-13 00:00:00+00:00",
          "2024-09-16 00:00:00+00:00",
          "2024-09-17 00:00:00+00:00",
          "2024-09-18 00:00:00+00:00",
          "2024-09-19 00:00:00+00:00",
          "2024-09-20 00:00:00+00:00",
          "2024-09-23 00:00:00+00:00",
          "2024-09-24 00:00:00+00:00",
          "2024-09-25 00:00:00+00:00",
          "2024-09-26 00:00:00+00:00",
          "2024-09-27 00:00:00+00:00",
          "2024-09-30 00:00:00+00:00",
          "2024-10-01 00:00:00+00:00",
          "2024-10-02 00:00:00+00:00",
          "2024-10-03 00:00:00+00:00",
          "2024-10-04 00:00:00+00:00",
          "2024-10-07 00:00:00+00:00",
          "2024-10-08 00:00:00+00:00"
         ],
         "y": [
          177.10000610351562,
          183.9600067138672,
          181.94000244140625,
          181.61000061035156,
          179.8300018310547,
          177.5500030517578,
          159.42999267578125,
          155.77000427246094,
          151.5800018310547,
          155.8699951171875,
          154,
          144.6300048828125,
          138.32000732421875,
          139.99000549316406,
          139.75,
          138.44000244140625,
          144.47999572753906,
          132.5399932861328,
          132.5,
          134.82000732421875,
          130.17999267578125,
          128.6699981689453,
          136.32000732421875,
          134.27000427246094,
          136.77000427246094,
          141.1300048828125,
          140.75,
          147.36000061035156,
          148.55999755859375,
          155.27999877929688,
          156.39999389648438,
          157.80999755859375,
          151.6999969482422,
          154.97999572753906,
          149.99000549316406,
          150.5,
          146.36000061035156,
          145.49000549316406,
          148.55999755859375,
          136.94000244140625,
          140.8699951171875,
          139.44000244140625,
          134.35000610351562,
          138.14999389648438,
          142.83999633789062,
          149.86000061035156,
          150.77000427246094,
          152.30999755859375,
          152.0800018310547,
          150.82000732421875,
          148.2899932861328,
          156.74000549316406,
          155.9499969482422,
          156.75,
          158.32000732421875,
          162.02000427246094,
          167.49000549316406,
          164.35000610351562,
          164.0800018310547,
          159.75,
          159.77999877929688,
          162.85000610351562,
          170.89999389648438,
          170.97000122070312,
          172.8000030517578
         ]
        },
        {
         "line": {
          "color": "rgba(55, 128, 191, 1.0)",
          "dash": "solid",
          "shape": "linear",
          "width": 1.3
         },
         "mode": "lines",
         "name": "INTC",
         "text": "",
         "type": "scatter",
         "x": [
          "2024-07-09 00:00:00+00:00",
          "2024-07-10 00:00:00+00:00",
          "2024-07-11 00:00:00+00:00",
          "2024-07-12 00:00:00+00:00",
          "2024-07-15 00:00:00+00:00",
          "2024-07-16 00:00:00+00:00",
          "2024-07-17 00:00:00+00:00",
          "2024-07-18 00:00:00+00:00",
          "2024-07-19 00:00:00+00:00",
          "2024-07-22 00:00:00+00:00",
          "2024-07-23 00:00:00+00:00",
          "2024-07-24 00:00:00+00:00",
          "2024-07-25 00:00:00+00:00",
          "2024-07-26 00:00:00+00:00",
          "2024-07-29 00:00:00+00:00",
          "2024-07-30 00:00:00+00:00",
          "2024-07-31 00:00:00+00:00",
          "2024-08-01 00:00:00+00:00",
          "2024-08-02 00:00:00+00:00",
          "2024-08-05 00:00:00+00:00",
          "2024-08-06 00:00:00+00:00",
          "2024-08-07 00:00:00+00:00",
          "2024-08-08 00:00:00+00:00",
          "2024-08-09 00:00:00+00:00",
          "2024-08-12 00:00:00+00:00",
          "2024-08-13 00:00:00+00:00",
          "2024-08-14 00:00:00+00:00",
          "2024-08-15 00:00:00+00:00",
          "2024-08-16 00:00:00+00:00",
          "2024-08-19 00:00:00+00:00",
          "2024-08-20 00:00:00+00:00",
          "2024-08-21 00:00:00+00:00",
          "2024-08-22 00:00:00+00:00",
          "2024-08-23 00:00:00+00:00",
          "2024-08-26 00:00:00+00:00",
          "2024-08-27 00:00:00+00:00",
          "2024-08-28 00:00:00+00:00",
          "2024-08-29 00:00:00+00:00",
          "2024-08-30 00:00:00+00:00",
          "2024-09-03 00:00:00+00:00",
          "2024-09-04 00:00:00+00:00",
          "2024-09-05 00:00:00+00:00",
          "2024-09-06 00:00:00+00:00",
          "2024-09-09 00:00:00+00:00",
          "2024-09-10 00:00:00+00:00",
          "2024-09-11 00:00:00+00:00",
          "2024-09-12 00:00:00+00:00",
          "2024-09-13 00:00:00+00:00",
          "2024-09-16 00:00:00+00:00",
          "2024-09-17 00:00:00+00:00",
          "2024-09-18 00:00:00+00:00",
          "2024-09-19 00:00:00+00:00",
          "2024-09-20 00:00:00+00:00",
          "2024-09-23 00:00:00+00:00",
          "2024-09-24 00:00:00+00:00",
          "2024-09-25 00:00:00+00:00",
          "2024-09-26 00:00:00+00:00",
          "2024-09-27 00:00:00+00:00",
          "2024-09-30 00:00:00+00:00",
          "2024-10-01 00:00:00+00:00",
          "2024-10-02 00:00:00+00:00",
          "2024-10-03 00:00:00+00:00",
          "2024-10-04 00:00:00+00:00",
          "2024-10-07 00:00:00+00:00",
          "2024-10-08 00:00:00+00:00"
         ],
         "y": [
          34.3719596862793,
          34.65019226074219,
          33.2888298034668,
          34.27259063720703,
          34.242774963378906,
          34.12353515625,
          34.242774963378906,
          34.65019226074219,
          32.7721061706543,
          33.15964889526367,
          32.7422981262207,
          31.50017547607422,
          30.90395736694336,
          31.152381896972656,
          30.63566017150879,
          29.94007110595703,
          30.546226501464844,
          28.866878509521484,
          21.3445987701416,
          19.983234405517578,
          19.704999923706055,
          18.989999771118164,
          20.489999771118164,
          19.709999084472656,
          19.360000610351562,
          20.469999313354492,
          19.920000076293945,
          20.690000534057617,
          20.8700008392334,
          21.520000457763672,
          20.989999771118164,
          21.40999984741211,
          20.100000381469727,
          20.540000915527344,
          20.1299991607666,
          20.06999969482422,
          19.610000610351562,
          20.1299991607666,
          22.040000915527344,
          20.100000381469727,
          19.43000030517578,
          19.399999618530273,
          18.889999389648438,
          19.06999969482422,
          18.979999542236328,
          19.639999389648438,
          19.360000610351562,
          19.65999984741211,
          20.90999984741211,
          21.469999313354492,
          20.770000457763672,
          21.139999389648438,
          21.84000015258789,
          22.559999465942383,
          22.809999465942383,
          23.540000915527344,
          23.920000076293945,
          23.90999984741211,
          23.459999084472656,
          22.690000534057617,
          22.389999389648438,
          22.260000228881836,
          22.59000015258789,
          22.3799991607666,
          23.31999969482422
         ]
        },
        {
         "line": {
          "color": "rgba(50, 171, 96, 1.0)",
          "dash": "solid",
          "shape": "linear",
          "width": 1.3
         },
         "mode": "lines",
         "name": "MU",
         "text": "",
         "type": "scatter",
         "x": [
          "2024-07-09 00:00:00+00:00",
          "2024-07-10 00:00:00+00:00",
          "2024-07-11 00:00:00+00:00",
          "2024-07-12 00:00:00+00:00",
          "2024-07-15 00:00:00+00:00",
          "2024-07-16 00:00:00+00:00",
          "2024-07-17 00:00:00+00:00",
          "2024-07-18 00:00:00+00:00",
          "2024-07-19 00:00:00+00:00",
          "2024-07-22 00:00:00+00:00",
          "2024-07-23 00:00:00+00:00",
          "2024-07-24 00:00:00+00:00",
          "2024-07-25 00:00:00+00:00",
          "2024-07-26 00:00:00+00:00",
          "2024-07-29 00:00:00+00:00",
          "2024-07-30 00:00:00+00:00",
          "2024-07-31 00:00:00+00:00",
          "2024-08-01 00:00:00+00:00",
          "2024-08-02 00:00:00+00:00",
          "2024-08-05 00:00:00+00:00",
          "2024-08-06 00:00:00+00:00",
          "2024-08-07 00:00:00+00:00",
          "2024-08-08 00:00:00+00:00",
          "2024-08-09 00:00:00+00:00",
          "2024-08-12 00:00:00+00:00",
          "2024-08-13 00:00:00+00:00",
          "2024-08-14 00:00:00+00:00",
          "2024-08-15 00:00:00+00:00",
          "2024-08-16 00:00:00+00:00",
          "2024-08-19 00:00:00+00:00",
          "2024-08-20 00:00:00+00:00",
          "2024-08-21 00:00:00+00:00",
          "2024-08-22 00:00:00+00:00",
          "2024-08-23 00:00:00+00:00",
          "2024-08-26 00:00:00+00:00",
          "2024-08-27 00:00:00+00:00",
          "2024-08-28 00:00:00+00:00",
          "2024-08-29 00:00:00+00:00",
          "2024-08-30 00:00:00+00:00",
          "2024-09-03 00:00:00+00:00",
          "2024-09-04 00:00:00+00:00",
          "2024-09-05 00:00:00+00:00",
          "2024-09-06 00:00:00+00:00",
          "2024-09-09 00:00:00+00:00",
          "2024-09-10 00:00:00+00:00",
          "2024-09-11 00:00:00+00:00",
          "2024-09-12 00:00:00+00:00",
          "2024-09-13 00:00:00+00:00",
          "2024-09-16 00:00:00+00:00",
          "2024-09-17 00:00:00+00:00",
          "2024-09-18 00:00:00+00:00",
          "2024-09-19 00:00:00+00:00",
          "2024-09-20 00:00:00+00:00",
          "2024-09-23 00:00:00+00:00",
          "2024-09-24 00:00:00+00:00",
          "2024-09-25 00:00:00+00:00",
          "2024-09-26 00:00:00+00:00",
          "2024-09-27 00:00:00+00:00",
          "2024-09-30 00:00:00+00:00",
          "2024-10-01 00:00:00+00:00",
          "2024-10-02 00:00:00+00:00",
          "2024-10-03 00:00:00+00:00",
          "2024-10-04 00:00:00+00:00",
          "2024-10-07 00:00:00+00:00",
          "2024-10-08 00:00:00+00:00"
         ],
         "y": [
          130.9925079345703,
          136.23660278320312,
          130.08352661132812,
          133.39979553222656,
          130.72280883789062,
          127.34661102294922,
          119.3656005859375,
          117.31790161132812,
          114.1314926147461,
          115.15034484863281,
          114.12150573730469,
          110.15596771240234,
          107.32914733886719,
          109.28694915771484,
          107.72869873046875,
          102.44464874267578,
          109.69648742675781,
          101.39583587646484,
          92.59574127197266,
          90.31830596923828,
          88.89990234375,
          86.70237731933594,
          91.9664535522461,
          92.9753189086914,
          94.53356170654297,
          97.33041381835938,
          100.29707336425781,
          106.8297119140625,
          107.86854553222656,
          108.50782012939453,
          107.86854553222656,
          108.20816802978516,
          104.14274597167969,
          102.73432159423828,
          98.79875946044922,
          97.74993896484375,
          94.75331115722656,
          95.46251678466797,
          96.13175964355469,
          88.48037719726562,
          89.1895751953125,
          89.28946685791016,
          86.28284454345703,
          86.1729736328125,
          86.7523193359375,
          90.54804992675781,
          87.1119155883789,
          91.1174087524414,
          87.08194732666016,
          88.63021087646484,
          87.25175476074219,
          89.14962005615234,
          90.79776763916016,
          93.46475982666016,
          93.89427947998047,
          95.66228485107422,
          109.75641632080078,
          107.37909698486328,
          103.5933609008789,
          100.19718170166016,
          99.73770141601562,
          101.70548248291016,
          102.13500213623047,
          102.91000366210938,
          102.54000091552734
         ]
        },
        {
         "line": {
          "color": "rgba(128, 0, 128, 1.0)",
          "dash": "solid",
          "shape": "linear",
          "width": 1.3
         },
         "mode": "lines",
         "name": "NVDA",
         "text": "",
         "type": "scatter",
         "x": [
          "2024-07-09 00:00:00+00:00",
          "2024-07-10 00:00:00+00:00",
          "2024-07-11 00:00:00+00:00",
          "2024-07-12 00:00:00+00:00",
          "2024-07-15 00:00:00+00:00",
          "2024-07-16 00:00:00+00:00",
          "2024-07-17 00:00:00+00:00",
          "2024-07-18 00:00:00+00:00",
          "2024-07-19 00:00:00+00:00",
          "2024-07-22 00:00:00+00:00",
          "2024-07-23 00:00:00+00:00",
          "2024-07-24 00:00:00+00:00",
          "2024-07-25 00:00:00+00:00",
          "2024-07-26 00:00:00+00:00",
          "2024-07-29 00:00:00+00:00",
          "2024-07-30 00:00:00+00:00",
          "2024-07-31 00:00:00+00:00",
          "2024-08-01 00:00:00+00:00",
          "2024-08-02 00:00:00+00:00",
          "2024-08-05 00:00:00+00:00",
          "2024-08-06 00:00:00+00:00",
          "2024-08-07 00:00:00+00:00",
          "2024-08-08 00:00:00+00:00",
          "2024-08-09 00:00:00+00:00",
          "2024-08-12 00:00:00+00:00",
          "2024-08-13 00:00:00+00:00",
          "2024-08-14 00:00:00+00:00",
          "2024-08-15 00:00:00+00:00",
          "2024-08-16 00:00:00+00:00",
          "2024-08-19 00:00:00+00:00",
          "2024-08-20 00:00:00+00:00",
          "2024-08-21 00:00:00+00:00",
          "2024-08-22 00:00:00+00:00",
          "2024-08-23 00:00:00+00:00",
          "2024-08-26 00:00:00+00:00",
          "2024-08-27 00:00:00+00:00",
          "2024-08-28 00:00:00+00:00",
          "2024-08-29 00:00:00+00:00",
          "2024-08-30 00:00:00+00:00",
          "2024-09-03 00:00:00+00:00",
          "2024-09-04 00:00:00+00:00",
          "2024-09-05 00:00:00+00:00",
          "2024-09-06 00:00:00+00:00",
          "2024-09-09 00:00:00+00:00",
          "2024-09-10 00:00:00+00:00",
          "2024-09-11 00:00:00+00:00",
          "2024-09-12 00:00:00+00:00",
          "2024-09-13 00:00:00+00:00",
          "2024-09-16 00:00:00+00:00",
          "2024-09-17 00:00:00+00:00",
          "2024-09-18 00:00:00+00:00",
          "2024-09-19 00:00:00+00:00",
          "2024-09-20 00:00:00+00:00",
          "2024-09-23 00:00:00+00:00",
          "2024-09-24 00:00:00+00:00",
          "2024-09-25 00:00:00+00:00",
          "2024-09-26 00:00:00+00:00",
          "2024-09-27 00:00:00+00:00",
          "2024-09-30 00:00:00+00:00",
          "2024-10-01 00:00:00+00:00",
          "2024-10-02 00:00:00+00:00",
          "2024-10-03 00:00:00+00:00",
          "2024-10-04 00:00:00+00:00",
          "2024-10-07 00:00:00+00:00",
          "2024-10-08 00:00:00+00:00"
         ],
         "y": [
          131.3687744140625,
          134.89846801757812,
          127.38910675048828,
          129.2289581298828,
          128.42901611328125,
          126.34918975830078,
          117.97990417480469,
          121.07963562011719,
          117.91991424560547,
          123.52943420410156,
          122.57951354980469,
          114.24022674560547,
          112.27039337158203,
          113.05032348632812,
          111.58045196533203,
          103.72113037109375,
          117.0099868774414,
          109.2006607055664,
          107.26081848144531,
          100.44140625,
          104.24108123779297,
          98.90154266357422,
          104.96102142333984,
          104.74104309082031,
          109.01067352294922,
          116.13006591796875,
          118.06990051269531,
          122.84949493408203,
          124.56934356689453,
          129.98887634277344,
          127.2391128540039,
          128.489013671875,
          123.72941589355469,
          129.3589324951172,
          126.44918060302734,
          128.28903198242188,
          125.59925842285156,
          117.57994079589844,
          119.35979461669922,
          107.99076080322266,
          106.20091247558594,
          107.2008285522461,
          102.82120513916016,
          106.46089172363281,
          108.09075164794922,
          116.9000015258789,
          119.13999938964844,
          119.0999984741211,
          116.77999877929688,
          115.58999633789062,
          113.37000274658203,
          117.87000274658203,
          116,
          116.26000213623047,
          120.87000274658203,
          123.51000213623047,
          124.04000091552734,
          121.4000015258789,
          121.44000244140625,
          117,
          118.8499984741211,
          122.8499984741211,
          124.91999816894531,
          127.72000122070312,
          132.88999938964844
         ]
        },
        {
         "line": {
          "color": "rgba(219, 64, 82, 1.0)",
          "dash": "solid",
          "shape": "linear",
          "width": 1.3
         },
         "mode": "lines",
         "name": "TSM",
         "text": "",
         "type": "scatter",
         "x": [
          "2024-07-09 00:00:00+00:00",
          "2024-07-10 00:00:00+00:00",
          "2024-07-11 00:00:00+00:00",
          "2024-07-12 00:00:00+00:00",
          "2024-07-15 00:00:00+00:00",
          "2024-07-16 00:00:00+00:00",
          "2024-07-17 00:00:00+00:00",
          "2024-07-18 00:00:00+00:00",
          "2024-07-19 00:00:00+00:00",
          "2024-07-22 00:00:00+00:00",
          "2024-07-23 00:00:00+00:00",
          "2024-07-24 00:00:00+00:00",
          "2024-07-25 00:00:00+00:00",
          "2024-07-26 00:00:00+00:00",
          "2024-07-29 00:00:00+00:00",
          "2024-07-30 00:00:00+00:00",
          "2024-07-31 00:00:00+00:00",
          "2024-08-01 00:00:00+00:00",
          "2024-08-02 00:00:00+00:00",
          "2024-08-05 00:00:00+00:00",
          "2024-08-06 00:00:00+00:00",
          "2024-08-07 00:00:00+00:00",
          "2024-08-08 00:00:00+00:00",
          "2024-08-09 00:00:00+00:00",
          "2024-08-12 00:00:00+00:00",
          "2024-08-13 00:00:00+00:00",
          "2024-08-14 00:00:00+00:00",
          "2024-08-15 00:00:00+00:00",
          "2024-08-16 00:00:00+00:00",
          "2024-08-19 00:00:00+00:00",
          "2024-08-20 00:00:00+00:00",
          "2024-08-21 00:00:00+00:00",
          "2024-08-22 00:00:00+00:00",
          "2024-08-23 00:00:00+00:00",
          "2024-08-26 00:00:00+00:00",
          "2024-08-27 00:00:00+00:00",
          "2024-08-28 00:00:00+00:00",
          "2024-08-29 00:00:00+00:00",
          "2024-08-30 00:00:00+00:00",
          "2024-09-03 00:00:00+00:00",
          "2024-09-04 00:00:00+00:00",
          "2024-09-05 00:00:00+00:00",
          "2024-09-06 00:00:00+00:00",
          "2024-09-09 00:00:00+00:00",
          "2024-09-10 00:00:00+00:00",
          "2024-09-11 00:00:00+00:00",
          "2024-09-12 00:00:00+00:00",
          "2024-09-13 00:00:00+00:00",
          "2024-09-16 00:00:00+00:00",
          "2024-09-17 00:00:00+00:00",
          "2024-09-18 00:00:00+00:00",
          "2024-09-19 00:00:00+00:00",
          "2024-09-20 00:00:00+00:00",
          "2024-09-23 00:00:00+00:00",
          "2024-09-24 00:00:00+00:00",
          "2024-09-25 00:00:00+00:00",
          "2024-09-26 00:00:00+00:00",
          "2024-09-27 00:00:00+00:00",
          "2024-09-30 00:00:00+00:00",
          "2024-10-01 00:00:00+00:00",
          "2024-10-02 00:00:00+00:00",
          "2024-10-03 00:00:00+00:00",
          "2024-10-04 00:00:00+00:00",
          "2024-10-07 00:00:00+00:00",
          "2024-10-08 00:00:00+00:00"
         ],
         "y": [
          183.84146118164062,
          190.34744262695312,
          183.821533203125,
          186.6610565185547,
          184.53887939453125,
          185.35585021972656,
          170.5704345703125,
          171.2379608154297,
          165.160400390625,
          168.7272491455078,
          169.1955108642578,
          159.2123565673828,
          159.6905975341797,
          161.344482421875,
          159.4215850830078,
          153.97169494628906,
          165.19029235839844,
          157.5983123779297,
          149.3089141845703,
          147.4059295654297,
          154.81857299804688,
          154.4698486328125,
          163.94488525390625,
          166.50543212890625,
          167.01356506347656,
          171.70623779296875,
          169.34495544433594,
          173.32029724121094,
          173.8981475830078,
          174.8048095703125,
          171.40733337402344,
          170.80955505371094,
          165.82794189453125,
          170.650146484375,
          168.44827270507812,
          169.92282104492188,
          168.57778930664062,
          168.52796936035156,
          171.06858825683594,
          159.8998260498047,
          160.27841186523438,
          163.09800720214844,
          156.24331665039062,
          162.181396484375,
          161.83267211914062,
          169.60400390625,
          171.42999267578125,
          172.5,
          169.0800018310547,
          167.35000610351562,
          167.27999877929688,
          176.22000122070312,
          174.0800018310547,
          174.75999450683594,
          181.97000122070312,
          182.35000610351562,
          186.8300018310547,
          177.97000122070312,
          173.6699981689453,
          172.07000732421875,
          175.8000030517578,
          179.47999572753906,
          181.16000366210938,
          184.50999450683594,
          186.0500030517578
         ]
        }
       ],
       "layout": {
        "legend": {
         "bgcolor": "#F5F6F9",
         "font": {
          "color": "#4D5663"
         }
        },
        "paper_bgcolor": "#F5F6F9",
        "plot_bgcolor": "#F5F6F9",
        "template": {
         "data": {
          "bar": [
           {
            "error_x": {
             "color": "#2a3f5f"
            },
            "error_y": {
             "color": "#2a3f5f"
            },
            "marker": {
             "line": {
              "color": "#E5ECF6",
              "width": 0.5
             },
             "pattern": {
              "fillmode": "overlay",
              "size": 10,
              "solidity": 0.2
             }
            },
            "type": "bar"
           }
          ],
          "barpolar": [
           {
            "marker": {
             "line": {
              "color": "#E5ECF6",
              "width": 0.5
             },
             "pattern": {
              "fillmode": "overlay",
              "size": 10,
              "solidity": 0.2
             }
            },
            "type": "barpolar"
           }
          ],
          "carpet": [
           {
            "aaxis": {
             "endlinecolor": "#2a3f5f",
             "gridcolor": "white",
             "linecolor": "white",
             "minorgridcolor": "white",
             "startlinecolor": "#2a3f5f"
            },
            "baxis": {
             "endlinecolor": "#2a3f5f",
             "gridcolor": "white",
             "linecolor": "white",
             "minorgridcolor": "white",
             "startlinecolor": "#2a3f5f"
            },
            "type": "carpet"
           }
          ],
          "choropleth": [
           {
            "colorbar": {
             "outlinewidth": 0,
             "ticks": ""
            },
            "type": "choropleth"
           }
          ],
          "contour": [
           {
            "colorbar": {
             "outlinewidth": 0,
             "ticks": ""
            },
            "colorscale": [
             [
              0,
              "#0d0887"
             ],
             [
              0.1111111111111111,
              "#46039f"
             ],
             [
              0.2222222222222222,
              "#7201a8"
             ],
             [
              0.3333333333333333,
              "#9c179e"
             ],
             [
              0.4444444444444444,
              "#bd3786"
             ],
             [
              0.5555555555555556,
              "#d8576b"
             ],
             [
              0.6666666666666666,
              "#ed7953"
             ],
             [
              0.7777777777777778,
              "#fb9f3a"
             ],
             [
              0.8888888888888888,
              "#fdca26"
             ],
             [
              1,
              "#f0f921"
             ]
            ],
            "type": "contour"
           }
          ],
          "contourcarpet": [
           {
            "colorbar": {
             "outlinewidth": 0,
             "ticks": ""
            },
            "type": "contourcarpet"
           }
          ],
          "heatmap": [
           {
            "colorbar": {
             "outlinewidth": 0,
             "ticks": ""
            },
            "colorscale": [
             [
              0,
              "#0d0887"
             ],
             [
              0.1111111111111111,
              "#46039f"
             ],
             [
              0.2222222222222222,
              "#7201a8"
             ],
             [
              0.3333333333333333,
              "#9c179e"
             ],
             [
              0.4444444444444444,
              "#bd3786"
             ],
             [
              0.5555555555555556,
              "#d8576b"
             ],
             [
              0.6666666666666666,
              "#ed7953"
             ],
             [
              0.7777777777777778,
              "#fb9f3a"
             ],
             [
              0.8888888888888888,
              "#fdca26"
             ],
             [
              1,
              "#f0f921"
             ]
            ],
            "type": "heatmap"
           }
          ],
          "heatmapgl": [
           {
            "colorbar": {
             "outlinewidth": 0,
             "ticks": ""
            },
            "colorscale": [
             [
              0,
              "#0d0887"
             ],
             [
              0.1111111111111111,
              "#46039f"
             ],
             [
              0.2222222222222222,
              "#7201a8"
             ],
             [
              0.3333333333333333,
              "#9c179e"
             ],
             [
              0.4444444444444444,
              "#bd3786"
             ],
             [
              0.5555555555555556,
              "#d8576b"
             ],
             [
              0.6666666666666666,
              "#ed7953"
             ],
             [
              0.7777777777777778,
              "#fb9f3a"
             ],
             [
              0.8888888888888888,
              "#fdca26"
             ],
             [
              1,
              "#f0f921"
             ]
            ],
            "type": "heatmapgl"
           }
          ],
          "histogram": [
           {
            "marker": {
             "pattern": {
              "fillmode": "overlay",
              "size": 10,
              "solidity": 0.2
             }
            },
            "type": "histogram"
           }
          ],
          "histogram2d": [
           {
            "colorbar": {
             "outlinewidth": 0,
             "ticks": ""
            },
            "colorscale": [
             [
              0,
              "#0d0887"
             ],
             [
              0.1111111111111111,
              "#46039f"
             ],
             [
              0.2222222222222222,
              "#7201a8"
             ],
             [
              0.3333333333333333,
              "#9c179e"
             ],
             [
              0.4444444444444444,
              "#bd3786"
             ],
             [
              0.5555555555555556,
              "#d8576b"
             ],
             [
              0.6666666666666666,
              "#ed7953"
             ],
             [
              0.7777777777777778,
              "#fb9f3a"
             ],
             [
              0.8888888888888888,
              "#fdca26"
             ],
             [
              1,
              "#f0f921"
             ]
            ],
            "type": "histogram2d"
           }
          ],
          "histogram2dcontour": [
           {
            "colorbar": {
             "outlinewidth": 0,
             "ticks": ""
            },
            "colorscale": [
             [
              0,
              "#0d0887"
             ],
             [
              0.1111111111111111,
              "#46039f"
             ],
             [
              0.2222222222222222,
              "#7201a8"
             ],
             [
              0.3333333333333333,
              "#9c179e"
             ],
             [
              0.4444444444444444,
              "#bd3786"
             ],
             [
              0.5555555555555556,
              "#d8576b"
             ],
             [
              0.6666666666666666,
              "#ed7953"
             ],
             [
              0.7777777777777778,
              "#fb9f3a"
             ],
             [
              0.8888888888888888,
              "#fdca26"
             ],
             [
              1,
              "#f0f921"
             ]
            ],
            "type": "histogram2dcontour"
           }
          ],
          "mesh3d": [
           {
            "colorbar": {
             "outlinewidth": 0,
             "ticks": ""
            },
            "type": "mesh3d"
           }
          ],
          "parcoords": [
           {
            "line": {
             "colorbar": {
              "outlinewidth": 0,
              "ticks": ""
             }
            },
            "type": "parcoords"
           }
          ],
          "pie": [
           {
            "automargin": true,
            "type": "pie"
           }
          ],
          "scatter": [
           {
            "fillpattern": {
             "fillmode": "overlay",
             "size": 10,
             "solidity": 0.2
            },
            "type": "scatter"
           }
          ],
          "scatter3d": [
           {
            "line": {
             "colorbar": {
              "outlinewidth": 0,
              "ticks": ""
             }
            },
            "marker": {
             "colorbar": {
              "outlinewidth": 0,
              "ticks": ""
             }
            },
            "type": "scatter3d"
           }
          ],
          "scattercarpet": [
           {
            "marker": {
             "colorbar": {
              "outlinewidth": 0,
              "ticks": ""
             }
            },
            "type": "scattercarpet"
           }
          ],
          "scattergeo": [
           {
            "marker": {
             "colorbar": {
              "outlinewidth": 0,
              "ticks": ""
             }
            },
            "type": "scattergeo"
           }
          ],
          "scattergl": [
           {
            "marker": {
             "colorbar": {
              "outlinewidth": 0,
              "ticks": ""
             }
            },
            "type": "scattergl"
           }
          ],
          "scattermapbox": [
           {
            "marker": {
             "colorbar": {
              "outlinewidth": 0,
              "ticks": ""
             }
            },
            "type": "scattermapbox"
           }
          ],
          "scatterpolar": [
           {
            "marker": {
             "colorbar": {
              "outlinewidth": 0,
              "ticks": ""
             }
            },
            "type": "scatterpolar"
           }
          ],
          "scatterpolargl": [
           {
            "marker": {
             "colorbar": {
              "outlinewidth": 0,
              "ticks": ""
             }
            },
            "type": "scatterpolargl"
           }
          ],
          "scatterternary": [
           {
            "marker": {
             "colorbar": {
              "outlinewidth": 0,
              "ticks": ""
             }
            },
            "type": "scatterternary"
           }
          ],
          "surface": [
           {
            "colorbar": {
             "outlinewidth": 0,
             "ticks": ""
            },
            "colorscale": [
             [
              0,
              "#0d0887"
             ],
             [
              0.1111111111111111,
              "#46039f"
             ],
             [
              0.2222222222222222,
              "#7201a8"
             ],
             [
              0.3333333333333333,
              "#9c179e"
             ],
             [
              0.4444444444444444,
              "#bd3786"
             ],
             [
              0.5555555555555556,
              "#d8576b"
             ],
             [
              0.6666666666666666,
              "#ed7953"
             ],
             [
              0.7777777777777778,
              "#fb9f3a"
             ],
             [
              0.8888888888888888,
              "#fdca26"
             ],
             [
              1,
              "#f0f921"
             ]
            ],
            "type": "surface"
           }
          ],
          "table": [
           {
            "cells": {
             "fill": {
              "color": "#EBF0F8"
             },
             "line": {
              "color": "white"
             }
            },
            "header": {
             "fill": {
              "color": "#C8D4E3"
             },
             "line": {
              "color": "white"
             }
            },
            "type": "table"
           }
          ]
         },
         "layout": {
          "annotationdefaults": {
           "arrowcolor": "#2a3f5f",
           "arrowhead": 0,
           "arrowwidth": 1
          },
          "autotypenumbers": "strict",
          "coloraxis": {
           "colorbar": {
            "outlinewidth": 0,
            "ticks": ""
           }
          },
          "colorscale": {
           "diverging": [
            [
             0,
             "#8e0152"
            ],
            [
             0.1,
             "#c51b7d"
            ],
            [
             0.2,
             "#de77ae"
            ],
            [
             0.3,
             "#f1b6da"
            ],
            [
             0.4,
             "#fde0ef"
            ],
            [
             0.5,
             "#f7f7f7"
            ],
            [
             0.6,
             "#e6f5d0"
            ],
            [
             0.7,
             "#b8e186"
            ],
            [
             0.8,
             "#7fbc41"
            ],
            [
             0.9,
             "#4d9221"
            ],
            [
             1,
             "#276419"
            ]
           ],
           "sequential": [
            [
             0,
             "#0d0887"
            ],
            [
             0.1111111111111111,
             "#46039f"
            ],
            [
             0.2222222222222222,
             "#7201a8"
            ],
            [
             0.3333333333333333,
             "#9c179e"
            ],
            [
             0.4444444444444444,
             "#bd3786"
            ],
            [
             0.5555555555555556,
             "#d8576b"
            ],
            [
             0.6666666666666666,
             "#ed7953"
            ],
            [
             0.7777777777777778,
             "#fb9f3a"
            ],
            [
             0.8888888888888888,
             "#fdca26"
            ],
            [
             1,
             "#f0f921"
            ]
           ],
           "sequentialminus": [
            [
             0,
             "#0d0887"
            ],
            [
             0.1111111111111111,
             "#46039f"
            ],
            [
             0.2222222222222222,
             "#7201a8"
            ],
            [
             0.3333333333333333,
             "#9c179e"
            ],
            [
             0.4444444444444444,
             "#bd3786"
            ],
            [
             0.5555555555555556,
             "#d8576b"
            ],
            [
             0.6666666666666666,
             "#ed7953"
            ],
            [
             0.7777777777777778,
             "#fb9f3a"
            ],
            [
             0.8888888888888888,
             "#fdca26"
            ],
            [
             1,
             "#f0f921"
            ]
           ]
          },
          "colorway": [
           "#636efa",
           "#EF553B",
           "#00cc96",
           "#ab63fa",
           "#FFA15A",
           "#19d3f3",
           "#FF6692",
           "#B6E880",
           "#FF97FF",
           "#FECB52"
          ],
          "font": {
           "color": "#2a3f5f"
          },
          "geo": {
           "bgcolor": "white",
           "lakecolor": "white",
           "landcolor": "#E5ECF6",
           "showlakes": true,
           "showland": true,
           "subunitcolor": "white"
          },
          "hoverlabel": {
           "align": "left"
          },
          "hovermode": "closest",
          "mapbox": {
           "style": "light"
          },
          "paper_bgcolor": "white",
          "plot_bgcolor": "#E5ECF6",
          "polar": {
           "angularaxis": {
            "gridcolor": "white",
            "linecolor": "white",
            "ticks": ""
           },
           "bgcolor": "#E5ECF6",
           "radialaxis": {
            "gridcolor": "white",
            "linecolor": "white",
            "ticks": ""
           }
          },
          "scene": {
           "xaxis": {
            "backgroundcolor": "#E5ECF6",
            "gridcolor": "white",
            "gridwidth": 2,
            "linecolor": "white",
            "showbackground": true,
            "ticks": "",
            "zerolinecolor": "white"
           },
           "yaxis": {
            "backgroundcolor": "#E5ECF6",
            "gridcolor": "white",
            "gridwidth": 2,
            "linecolor": "white",
            "showbackground": true,
            "ticks": "",
            "zerolinecolor": "white"
           },
           "zaxis": {
            "backgroundcolor": "#E5ECF6",
            "gridcolor": "white",
            "gridwidth": 2,
            "linecolor": "white",
            "showbackground": true,
            "ticks": "",
            "zerolinecolor": "white"
           }
          },
          "shapedefaults": {
           "line": {
            "color": "#2a3f5f"
           }
          },
          "ternary": {
           "aaxis": {
            "gridcolor": "white",
            "linecolor": "white",
            "ticks": ""
           },
           "baxis": {
            "gridcolor": "white",
            "linecolor": "white",
            "ticks": ""
           },
           "bgcolor": "#E5ECF6",
           "caxis": {
            "gridcolor": "white",
            "linecolor": "white",
            "ticks": ""
           }
          },
          "title": {
           "x": 0.05
          },
          "xaxis": {
           "automargin": true,
           "gridcolor": "white",
           "linecolor": "white",
           "ticks": "",
           "title": {
            "standoff": 15
           },
           "zerolinecolor": "white",
           "zerolinewidth": 2
          },
          "yaxis": {
           "automargin": true,
           "gridcolor": "white",
           "linecolor": "white",
           "ticks": "",
           "title": {
            "standoff": 15
           },
           "zerolinecolor": "white",
           "zerolinewidth": 2
          }
         }
        },
        "title": {
         "font": {
          "color": "#4D5663"
         },
         "text": "Semiconductor Adjusted Close Prices"
        },
        "xaxis": {
         "gridcolor": "#E1E5ED",
         "showgrid": true,
         "tickfont": {
          "color": "#4D5663"
         },
         "title": {
          "font": {
           "color": "#4D5663"
          },
          "text": "Dates"
         },
         "zerolinecolor": "#E1E5ED"
        },
        "yaxis": {
         "gridcolor": "#E1E5ED",
         "showgrid": true,
         "tickfont": {
          "color": "#4D5663"
         },
         "title": {
          "font": {
           "color": "#4D5663"
          },
          "text": "Adjusted Close Prices"
         },
         "zerolinecolor": "#E1E5ED"
        }
       }
      },
      "text/html": [
       "<div>                            <div id=\"e9460d7b-7165-4a19-bd57-0f0521af0f19\" class=\"plotly-graph-div\" style=\"height:525px; width:100%;\"></div>            <script type=\"text/javascript\">                require([\"plotly\"], function(Plotly) {                    window.PLOTLYENV=window.PLOTLYENV || {};\n",
       "                    window.PLOTLYENV.BASE_URL='https://plot.ly';                                    if (document.getElementById(\"e9460d7b-7165-4a19-bd57-0f0521af0f19\")) {                    Plotly.newPlot(                        \"e9460d7b-7165-4a19-bd57-0f0521af0f19\",                        [{\"line\":{\"color\":\"rgba(255, 153, 51, 1.0)\",\"dash\":\"solid\",\"shape\":\"linear\",\"width\":1.3},\"mode\":\"lines\",\"name\":\"AMD\",\"text\":\"\",\"x\":[\"2024-07-09 00:00:00+00:00\",\"2024-07-10 00:00:00+00:00\",\"2024-07-11 00:00:00+00:00\",\"2024-07-12 00:00:00+00:00\",\"2024-07-15 00:00:00+00:00\",\"2024-07-16 00:00:00+00:00\",\"2024-07-17 00:00:00+00:00\",\"2024-07-18 00:00:00+00:00\",\"2024-07-19 00:00:00+00:00\",\"2024-07-22 00:00:00+00:00\",\"2024-07-23 00:00:00+00:00\",\"2024-07-24 00:00:00+00:00\",\"2024-07-25 00:00:00+00:00\",\"2024-07-26 00:00:00+00:00\",\"2024-07-29 00:00:00+00:00\",\"2024-07-30 00:00:00+00:00\",\"2024-07-31 00:00:00+00:00\",\"2024-08-01 00:00:00+00:00\",\"2024-08-02 00:00:00+00:00\",\"2024-08-05 00:00:00+00:00\",\"2024-08-06 00:00:00+00:00\",\"2024-08-07 00:00:00+00:00\",\"2024-08-08 00:00:00+00:00\",\"2024-08-09 00:00:00+00:00\",\"2024-08-12 00:00:00+00:00\",\"2024-08-13 00:00:00+00:00\",\"2024-08-14 00:00:00+00:00\",\"2024-08-15 00:00:00+00:00\",\"2024-08-16 00:00:00+00:00\",\"2024-08-19 00:00:00+00:00\",\"2024-08-20 00:00:00+00:00\",\"2024-08-21 00:00:00+00:00\",\"2024-08-22 00:00:00+00:00\",\"2024-08-23 00:00:00+00:00\",\"2024-08-26 00:00:00+00:00\",\"2024-08-27 00:00:00+00:00\",\"2024-08-28 00:00:00+00:00\",\"2024-08-29 00:00:00+00:00\",\"2024-08-30 00:00:00+00:00\",\"2024-09-03 00:00:00+00:00\",\"2024-09-04 00:00:00+00:00\",\"2024-09-05 00:00:00+00:00\",\"2024-09-06 00:00:00+00:00\",\"2024-09-09 00:00:00+00:00\",\"2024-09-10 00:00:00+00:00\",\"2024-09-11 00:00:00+00:00\",\"2024-09-12 00:00:00+00:00\",\"2024-09-13 00:00:00+00:00\",\"2024-09-16 00:00:00+00:00\",\"2024-09-17 00:00:00+00:00\",\"2024-09-18 00:00:00+00:00\",\"2024-09-19 00:00:00+00:00\",\"2024-09-20 00:00:00+00:00\",\"2024-09-23 00:00:00+00:00\",\"2024-09-24 00:00:00+00:00\",\"2024-09-25 00:00:00+00:00\",\"2024-09-26 00:00:00+00:00\",\"2024-09-27 00:00:00+00:00\",\"2024-09-30 00:00:00+00:00\",\"2024-10-01 00:00:00+00:00\",\"2024-10-02 00:00:00+00:00\",\"2024-10-03 00:00:00+00:00\",\"2024-10-04 00:00:00+00:00\",\"2024-10-07 00:00:00+00:00\",\"2024-10-08 00:00:00+00:00\"],\"y\":[177.10000610351562,183.9600067138672,181.94000244140625,181.61000061035156,179.8300018310547,177.5500030517578,159.42999267578125,155.77000427246094,151.5800018310547,155.8699951171875,154.0,144.6300048828125,138.32000732421875,139.99000549316406,139.75,138.44000244140625,144.47999572753906,132.5399932861328,132.5,134.82000732421875,130.17999267578125,128.6699981689453,136.32000732421875,134.27000427246094,136.77000427246094,141.1300048828125,140.75,147.36000061035156,148.55999755859375,155.27999877929688,156.39999389648438,157.80999755859375,151.6999969482422,154.97999572753906,149.99000549316406,150.5,146.36000061035156,145.49000549316406,148.55999755859375,136.94000244140625,140.8699951171875,139.44000244140625,134.35000610351562,138.14999389648438,142.83999633789062,149.86000061035156,150.77000427246094,152.30999755859375,152.0800018310547,150.82000732421875,148.2899932861328,156.74000549316406,155.9499969482422,156.75,158.32000732421875,162.02000427246094,167.49000549316406,164.35000610351562,164.0800018310547,159.75,159.77999877929688,162.85000610351562,170.89999389648438,170.97000122070312,172.8000030517578],\"type\":\"scatter\"},{\"line\":{\"color\":\"rgba(55, 128, 191, 1.0)\",\"dash\":\"solid\",\"shape\":\"linear\",\"width\":1.3},\"mode\":\"lines\",\"name\":\"INTC\",\"text\":\"\",\"x\":[\"2024-07-09 00:00:00+00:00\",\"2024-07-10 00:00:00+00:00\",\"2024-07-11 00:00:00+00:00\",\"2024-07-12 00:00:00+00:00\",\"2024-07-15 00:00:00+00:00\",\"2024-07-16 00:00:00+00:00\",\"2024-07-17 00:00:00+00:00\",\"2024-07-18 00:00:00+00:00\",\"2024-07-19 00:00:00+00:00\",\"2024-07-22 00:00:00+00:00\",\"2024-07-23 00:00:00+00:00\",\"2024-07-24 00:00:00+00:00\",\"2024-07-25 00:00:00+00:00\",\"2024-07-26 00:00:00+00:00\",\"2024-07-29 00:00:00+00:00\",\"2024-07-30 00:00:00+00:00\",\"2024-07-31 00:00:00+00:00\",\"2024-08-01 00:00:00+00:00\",\"2024-08-02 00:00:00+00:00\",\"2024-08-05 00:00:00+00:00\",\"2024-08-06 00:00:00+00:00\",\"2024-08-07 00:00:00+00:00\",\"2024-08-08 00:00:00+00:00\",\"2024-08-09 00:00:00+00:00\",\"2024-08-12 00:00:00+00:00\",\"2024-08-13 00:00:00+00:00\",\"2024-08-14 00:00:00+00:00\",\"2024-08-15 00:00:00+00:00\",\"2024-08-16 00:00:00+00:00\",\"2024-08-19 00:00:00+00:00\",\"2024-08-20 00:00:00+00:00\",\"2024-08-21 00:00:00+00:00\",\"2024-08-22 00:00:00+00:00\",\"2024-08-23 00:00:00+00:00\",\"2024-08-26 00:00:00+00:00\",\"2024-08-27 00:00:00+00:00\",\"2024-08-28 00:00:00+00:00\",\"2024-08-29 00:00:00+00:00\",\"2024-08-30 00:00:00+00:00\",\"2024-09-03 00:00:00+00:00\",\"2024-09-04 00:00:00+00:00\",\"2024-09-05 00:00:00+00:00\",\"2024-09-06 00:00:00+00:00\",\"2024-09-09 00:00:00+00:00\",\"2024-09-10 00:00:00+00:00\",\"2024-09-11 00:00:00+00:00\",\"2024-09-12 00:00:00+00:00\",\"2024-09-13 00:00:00+00:00\",\"2024-09-16 00:00:00+00:00\",\"2024-09-17 00:00:00+00:00\",\"2024-09-18 00:00:00+00:00\",\"2024-09-19 00:00:00+00:00\",\"2024-09-20 00:00:00+00:00\",\"2024-09-23 00:00:00+00:00\",\"2024-09-24 00:00:00+00:00\",\"2024-09-25 00:00:00+00:00\",\"2024-09-26 00:00:00+00:00\",\"2024-09-27 00:00:00+00:00\",\"2024-09-30 00:00:00+00:00\",\"2024-10-01 00:00:00+00:00\",\"2024-10-02 00:00:00+00:00\",\"2024-10-03 00:00:00+00:00\",\"2024-10-04 00:00:00+00:00\",\"2024-10-07 00:00:00+00:00\",\"2024-10-08 00:00:00+00:00\"],\"y\":[34.3719596862793,34.65019226074219,33.2888298034668,34.27259063720703,34.242774963378906,34.12353515625,34.242774963378906,34.65019226074219,32.7721061706543,33.15964889526367,32.7422981262207,31.50017547607422,30.90395736694336,31.152381896972656,30.63566017150879,29.94007110595703,30.546226501464844,28.866878509521484,21.3445987701416,19.983234405517578,19.704999923706055,18.989999771118164,20.489999771118164,19.709999084472656,19.360000610351562,20.469999313354492,19.920000076293945,20.690000534057617,20.8700008392334,21.520000457763672,20.989999771118164,21.40999984741211,20.100000381469727,20.540000915527344,20.1299991607666,20.06999969482422,19.610000610351562,20.1299991607666,22.040000915527344,20.100000381469727,19.43000030517578,19.399999618530273,18.889999389648438,19.06999969482422,18.979999542236328,19.639999389648438,19.360000610351562,19.65999984741211,20.90999984741211,21.469999313354492,20.770000457763672,21.139999389648438,21.84000015258789,22.559999465942383,22.809999465942383,23.540000915527344,23.920000076293945,23.90999984741211,23.459999084472656,22.690000534057617,22.389999389648438,22.260000228881836,22.59000015258789,22.3799991607666,23.31999969482422],\"type\":\"scatter\"},{\"line\":{\"color\":\"rgba(50, 171, 96, 1.0)\",\"dash\":\"solid\",\"shape\":\"linear\",\"width\":1.3},\"mode\":\"lines\",\"name\":\"MU\",\"text\":\"\",\"x\":[\"2024-07-09 00:00:00+00:00\",\"2024-07-10 00:00:00+00:00\",\"2024-07-11 00:00:00+00:00\",\"2024-07-12 00:00:00+00:00\",\"2024-07-15 00:00:00+00:00\",\"2024-07-16 00:00:00+00:00\",\"2024-07-17 00:00:00+00:00\",\"2024-07-18 00:00:00+00:00\",\"2024-07-19 00:00:00+00:00\",\"2024-07-22 00:00:00+00:00\",\"2024-07-23 00:00:00+00:00\",\"2024-07-24 00:00:00+00:00\",\"2024-07-25 00:00:00+00:00\",\"2024-07-26 00:00:00+00:00\",\"2024-07-29 00:00:00+00:00\",\"2024-07-30 00:00:00+00:00\",\"2024-07-31 00:00:00+00:00\",\"2024-08-01 00:00:00+00:00\",\"2024-08-02 00:00:00+00:00\",\"2024-08-05 00:00:00+00:00\",\"2024-08-06 00:00:00+00:00\",\"2024-08-07 00:00:00+00:00\",\"2024-08-08 00:00:00+00:00\",\"2024-08-09 00:00:00+00:00\",\"2024-08-12 00:00:00+00:00\",\"2024-08-13 00:00:00+00:00\",\"2024-08-14 00:00:00+00:00\",\"2024-08-15 00:00:00+00:00\",\"2024-08-16 00:00:00+00:00\",\"2024-08-19 00:00:00+00:00\",\"2024-08-20 00:00:00+00:00\",\"2024-08-21 00:00:00+00:00\",\"2024-08-22 00:00:00+00:00\",\"2024-08-23 00:00:00+00:00\",\"2024-08-26 00:00:00+00:00\",\"2024-08-27 00:00:00+00:00\",\"2024-08-28 00:00:00+00:00\",\"2024-08-29 00:00:00+00:00\",\"2024-08-30 00:00:00+00:00\",\"2024-09-03 00:00:00+00:00\",\"2024-09-04 00:00:00+00:00\",\"2024-09-05 00:00:00+00:00\",\"2024-09-06 00:00:00+00:00\",\"2024-09-09 00:00:00+00:00\",\"2024-09-10 00:00:00+00:00\",\"2024-09-11 00:00:00+00:00\",\"2024-09-12 00:00:00+00:00\",\"2024-09-13 00:00:00+00:00\",\"2024-09-16 00:00:00+00:00\",\"2024-09-17 00:00:00+00:00\",\"2024-09-18 00:00:00+00:00\",\"2024-09-19 00:00:00+00:00\",\"2024-09-20 00:00:00+00:00\",\"2024-09-23 00:00:00+00:00\",\"2024-09-24 00:00:00+00:00\",\"2024-09-25 00:00:00+00:00\",\"2024-09-26 00:00:00+00:00\",\"2024-09-27 00:00:00+00:00\",\"2024-09-30 00:00:00+00:00\",\"2024-10-01 00:00:00+00:00\",\"2024-10-02 00:00:00+00:00\",\"2024-10-03 00:00:00+00:00\",\"2024-10-04 00:00:00+00:00\",\"2024-10-07 00:00:00+00:00\",\"2024-10-08 00:00:00+00:00\"],\"y\":[130.9925079345703,136.23660278320312,130.08352661132812,133.39979553222656,130.72280883789062,127.34661102294922,119.3656005859375,117.31790161132812,114.1314926147461,115.15034484863281,114.12150573730469,110.15596771240234,107.32914733886719,109.28694915771484,107.72869873046875,102.44464874267578,109.69648742675781,101.39583587646484,92.59574127197266,90.31830596923828,88.89990234375,86.70237731933594,91.9664535522461,92.9753189086914,94.53356170654297,97.33041381835938,100.29707336425781,106.8297119140625,107.86854553222656,108.50782012939453,107.86854553222656,108.20816802978516,104.14274597167969,102.73432159423828,98.79875946044922,97.74993896484375,94.75331115722656,95.46251678466797,96.13175964355469,88.48037719726562,89.1895751953125,89.28946685791016,86.28284454345703,86.1729736328125,86.7523193359375,90.54804992675781,87.1119155883789,91.1174087524414,87.08194732666016,88.63021087646484,87.25175476074219,89.14962005615234,90.79776763916016,93.46475982666016,93.89427947998047,95.66228485107422,109.75641632080078,107.37909698486328,103.5933609008789,100.19718170166016,99.73770141601562,101.70548248291016,102.13500213623047,102.91000366210938,102.54000091552734],\"type\":\"scatter\"},{\"line\":{\"color\":\"rgba(128, 0, 128, 1.0)\",\"dash\":\"solid\",\"shape\":\"linear\",\"width\":1.3},\"mode\":\"lines\",\"name\":\"NVDA\",\"text\":\"\",\"x\":[\"2024-07-09 00:00:00+00:00\",\"2024-07-10 00:00:00+00:00\",\"2024-07-11 00:00:00+00:00\",\"2024-07-12 00:00:00+00:00\",\"2024-07-15 00:00:00+00:00\",\"2024-07-16 00:00:00+00:00\",\"2024-07-17 00:00:00+00:00\",\"2024-07-18 00:00:00+00:00\",\"2024-07-19 00:00:00+00:00\",\"2024-07-22 00:00:00+00:00\",\"2024-07-23 00:00:00+00:00\",\"2024-07-24 00:00:00+00:00\",\"2024-07-25 00:00:00+00:00\",\"2024-07-26 00:00:00+00:00\",\"2024-07-29 00:00:00+00:00\",\"2024-07-30 00:00:00+00:00\",\"2024-07-31 00:00:00+00:00\",\"2024-08-01 00:00:00+00:00\",\"2024-08-02 00:00:00+00:00\",\"2024-08-05 00:00:00+00:00\",\"2024-08-06 00:00:00+00:00\",\"2024-08-07 00:00:00+00:00\",\"2024-08-08 00:00:00+00:00\",\"2024-08-09 00:00:00+00:00\",\"2024-08-12 00:00:00+00:00\",\"2024-08-13 00:00:00+00:00\",\"2024-08-14 00:00:00+00:00\",\"2024-08-15 00:00:00+00:00\",\"2024-08-16 00:00:00+00:00\",\"2024-08-19 00:00:00+00:00\",\"2024-08-20 00:00:00+00:00\",\"2024-08-21 00:00:00+00:00\",\"2024-08-22 00:00:00+00:00\",\"2024-08-23 00:00:00+00:00\",\"2024-08-26 00:00:00+00:00\",\"2024-08-27 00:00:00+00:00\",\"2024-08-28 00:00:00+00:00\",\"2024-08-29 00:00:00+00:00\",\"2024-08-30 00:00:00+00:00\",\"2024-09-03 00:00:00+00:00\",\"2024-09-04 00:00:00+00:00\",\"2024-09-05 00:00:00+00:00\",\"2024-09-06 00:00:00+00:00\",\"2024-09-09 00:00:00+00:00\",\"2024-09-10 00:00:00+00:00\",\"2024-09-11 00:00:00+00:00\",\"2024-09-12 00:00:00+00:00\",\"2024-09-13 00:00:00+00:00\",\"2024-09-16 00:00:00+00:00\",\"2024-09-17 00:00:00+00:00\",\"2024-09-18 00:00:00+00:00\",\"2024-09-19 00:00:00+00:00\",\"2024-09-20 00:00:00+00:00\",\"2024-09-23 00:00:00+00:00\",\"2024-09-24 00:00:00+00:00\",\"2024-09-25 00:00:00+00:00\",\"2024-09-26 00:00:00+00:00\",\"2024-09-27 00:00:00+00:00\",\"2024-09-30 00:00:00+00:00\",\"2024-10-01 00:00:00+00:00\",\"2024-10-02 00:00:00+00:00\",\"2024-10-03 00:00:00+00:00\",\"2024-10-04 00:00:00+00:00\",\"2024-10-07 00:00:00+00:00\",\"2024-10-08 00:00:00+00:00\"],\"y\":[131.3687744140625,134.89846801757812,127.38910675048828,129.2289581298828,128.42901611328125,126.34918975830078,117.97990417480469,121.07963562011719,117.91991424560547,123.52943420410156,122.57951354980469,114.24022674560547,112.27039337158203,113.05032348632812,111.58045196533203,103.72113037109375,117.0099868774414,109.2006607055664,107.26081848144531,100.44140625,104.24108123779297,98.90154266357422,104.96102142333984,104.74104309082031,109.01067352294922,116.13006591796875,118.06990051269531,122.84949493408203,124.56934356689453,129.98887634277344,127.2391128540039,128.489013671875,123.72941589355469,129.3589324951172,126.44918060302734,128.28903198242188,125.59925842285156,117.57994079589844,119.35979461669922,107.99076080322266,106.20091247558594,107.2008285522461,102.82120513916016,106.46089172363281,108.09075164794922,116.9000015258789,119.13999938964844,119.0999984741211,116.77999877929688,115.58999633789062,113.37000274658203,117.87000274658203,116.0,116.26000213623047,120.87000274658203,123.51000213623047,124.04000091552734,121.4000015258789,121.44000244140625,117.0,118.8499984741211,122.8499984741211,124.91999816894531,127.72000122070312,132.88999938964844],\"type\":\"scatter\"},{\"line\":{\"color\":\"rgba(219, 64, 82, 1.0)\",\"dash\":\"solid\",\"shape\":\"linear\",\"width\":1.3},\"mode\":\"lines\",\"name\":\"TSM\",\"text\":\"\",\"x\":[\"2024-07-09 00:00:00+00:00\",\"2024-07-10 00:00:00+00:00\",\"2024-07-11 00:00:00+00:00\",\"2024-07-12 00:00:00+00:00\",\"2024-07-15 00:00:00+00:00\",\"2024-07-16 00:00:00+00:00\",\"2024-07-17 00:00:00+00:00\",\"2024-07-18 00:00:00+00:00\",\"2024-07-19 00:00:00+00:00\",\"2024-07-22 00:00:00+00:00\",\"2024-07-23 00:00:00+00:00\",\"2024-07-24 00:00:00+00:00\",\"2024-07-25 00:00:00+00:00\",\"2024-07-26 00:00:00+00:00\",\"2024-07-29 00:00:00+00:00\",\"2024-07-30 00:00:00+00:00\",\"2024-07-31 00:00:00+00:00\",\"2024-08-01 00:00:00+00:00\",\"2024-08-02 00:00:00+00:00\",\"2024-08-05 00:00:00+00:00\",\"2024-08-06 00:00:00+00:00\",\"2024-08-07 00:00:00+00:00\",\"2024-08-08 00:00:00+00:00\",\"2024-08-09 00:00:00+00:00\",\"2024-08-12 00:00:00+00:00\",\"2024-08-13 00:00:00+00:00\",\"2024-08-14 00:00:00+00:00\",\"2024-08-15 00:00:00+00:00\",\"2024-08-16 00:00:00+00:00\",\"2024-08-19 00:00:00+00:00\",\"2024-08-20 00:00:00+00:00\",\"2024-08-21 00:00:00+00:00\",\"2024-08-22 00:00:00+00:00\",\"2024-08-23 00:00:00+00:00\",\"2024-08-26 00:00:00+00:00\",\"2024-08-27 00:00:00+00:00\",\"2024-08-28 00:00:00+00:00\",\"2024-08-29 00:00:00+00:00\",\"2024-08-30 00:00:00+00:00\",\"2024-09-03 00:00:00+00:00\",\"2024-09-04 00:00:00+00:00\",\"2024-09-05 00:00:00+00:00\",\"2024-09-06 00:00:00+00:00\",\"2024-09-09 00:00:00+00:00\",\"2024-09-10 00:00:00+00:00\",\"2024-09-11 00:00:00+00:00\",\"2024-09-12 00:00:00+00:00\",\"2024-09-13 00:00:00+00:00\",\"2024-09-16 00:00:00+00:00\",\"2024-09-17 00:00:00+00:00\",\"2024-09-18 00:00:00+00:00\",\"2024-09-19 00:00:00+00:00\",\"2024-09-20 00:00:00+00:00\",\"2024-09-23 00:00:00+00:00\",\"2024-09-24 00:00:00+00:00\",\"2024-09-25 00:00:00+00:00\",\"2024-09-26 00:00:00+00:00\",\"2024-09-27 00:00:00+00:00\",\"2024-09-30 00:00:00+00:00\",\"2024-10-01 00:00:00+00:00\",\"2024-10-02 00:00:00+00:00\",\"2024-10-03 00:00:00+00:00\",\"2024-10-04 00:00:00+00:00\",\"2024-10-07 00:00:00+00:00\",\"2024-10-08 00:00:00+00:00\"],\"y\":[183.84146118164062,190.34744262695312,183.821533203125,186.6610565185547,184.53887939453125,185.35585021972656,170.5704345703125,171.2379608154297,165.160400390625,168.7272491455078,169.1955108642578,159.2123565673828,159.6905975341797,161.344482421875,159.4215850830078,153.97169494628906,165.19029235839844,157.5983123779297,149.3089141845703,147.4059295654297,154.81857299804688,154.4698486328125,163.94488525390625,166.50543212890625,167.01356506347656,171.70623779296875,169.34495544433594,173.32029724121094,173.8981475830078,174.8048095703125,171.40733337402344,170.80955505371094,165.82794189453125,170.650146484375,168.44827270507812,169.92282104492188,168.57778930664062,168.52796936035156,171.06858825683594,159.8998260498047,160.27841186523438,163.09800720214844,156.24331665039062,162.181396484375,161.83267211914062,169.60400390625,171.42999267578125,172.5,169.0800018310547,167.35000610351562,167.27999877929688,176.22000122070312,174.0800018310547,174.75999450683594,181.97000122070312,182.35000610351562,186.8300018310547,177.97000122070312,173.6699981689453,172.07000732421875,175.8000030517578,179.47999572753906,181.16000366210938,184.50999450683594,186.0500030517578],\"type\":\"scatter\"}],                        {\"legend\":{\"bgcolor\":\"#F5F6F9\",\"font\":{\"color\":\"#4D5663\"}},\"paper_bgcolor\":\"#F5F6F9\",\"plot_bgcolor\":\"#F5F6F9\",\"template\":{\"data\":{\"barpolar\":[{\"marker\":{\"line\":{\"color\":\"#E5ECF6\",\"width\":0.5},\"pattern\":{\"fillmode\":\"overlay\",\"size\":10,\"solidity\":0.2}},\"type\":\"barpolar\"}],\"bar\":[{\"error_x\":{\"color\":\"#2a3f5f\"},\"error_y\":{\"color\":\"#2a3f5f\"},\"marker\":{\"line\":{\"color\":\"#E5ECF6\",\"width\":0.5},\"pattern\":{\"fillmode\":\"overlay\",\"size\":10,\"solidity\":0.2}},\"type\":\"bar\"}],\"carpet\":[{\"aaxis\":{\"endlinecolor\":\"#2a3f5f\",\"gridcolor\":\"white\",\"linecolor\":\"white\",\"minorgridcolor\":\"white\",\"startlinecolor\":\"#2a3f5f\"},\"baxis\":{\"endlinecolor\":\"#2a3f5f\",\"gridcolor\":\"white\",\"linecolor\":\"white\",\"minorgridcolor\":\"white\",\"startlinecolor\":\"#2a3f5f\"},\"type\":\"carpet\"}],\"choropleth\":[{\"colorbar\":{\"outlinewidth\":0,\"ticks\":\"\"},\"type\":\"choropleth\"}],\"contourcarpet\":[{\"colorbar\":{\"outlinewidth\":0,\"ticks\":\"\"},\"type\":\"contourcarpet\"}],\"contour\":[{\"colorbar\":{\"outlinewidth\":0,\"ticks\":\"\"},\"colorscale\":[[0.0,\"#0d0887\"],[0.1111111111111111,\"#46039f\"],[0.2222222222222222,\"#7201a8\"],[0.3333333333333333,\"#9c179e\"],[0.4444444444444444,\"#bd3786\"],[0.5555555555555556,\"#d8576b\"],[0.6666666666666666,\"#ed7953\"],[0.7777777777777778,\"#fb9f3a\"],[0.8888888888888888,\"#fdca26\"],[1.0,\"#f0f921\"]],\"type\":\"contour\"}],\"heatmapgl\":[{\"colorbar\":{\"outlinewidth\":0,\"ticks\":\"\"},\"colorscale\":[[0.0,\"#0d0887\"],[0.1111111111111111,\"#46039f\"],[0.2222222222222222,\"#7201a8\"],[0.3333333333333333,\"#9c179e\"],[0.4444444444444444,\"#bd3786\"],[0.5555555555555556,\"#d8576b\"],[0.6666666666666666,\"#ed7953\"],[0.7777777777777778,\"#fb9f3a\"],[0.8888888888888888,\"#fdca26\"],[1.0,\"#f0f921\"]],\"type\":\"heatmapgl\"}],\"heatmap\":[{\"colorbar\":{\"outlinewidth\":0,\"ticks\":\"\"},\"colorscale\":[[0.0,\"#0d0887\"],[0.1111111111111111,\"#46039f\"],[0.2222222222222222,\"#7201a8\"],[0.3333333333333333,\"#9c179e\"],[0.4444444444444444,\"#bd3786\"],[0.5555555555555556,\"#d8576b\"],[0.6666666666666666,\"#ed7953\"],[0.7777777777777778,\"#fb9f3a\"],[0.8888888888888888,\"#fdca26\"],[1.0,\"#f0f921\"]],\"type\":\"heatmap\"}],\"histogram2dcontour\":[{\"colorbar\":{\"outlinewidth\":0,\"ticks\":\"\"},\"colorscale\":[[0.0,\"#0d0887\"],[0.1111111111111111,\"#46039f\"],[0.2222222222222222,\"#7201a8\"],[0.3333333333333333,\"#9c179e\"],[0.4444444444444444,\"#bd3786\"],[0.5555555555555556,\"#d8576b\"],[0.6666666666666666,\"#ed7953\"],[0.7777777777777778,\"#fb9f3a\"],[0.8888888888888888,\"#fdca26\"],[1.0,\"#f0f921\"]],\"type\":\"histogram2dcontour\"}],\"histogram2d\":[{\"colorbar\":{\"outlinewidth\":0,\"ticks\":\"\"},\"colorscale\":[[0.0,\"#0d0887\"],[0.1111111111111111,\"#46039f\"],[0.2222222222222222,\"#7201a8\"],[0.3333333333333333,\"#9c179e\"],[0.4444444444444444,\"#bd3786\"],[0.5555555555555556,\"#d8576b\"],[0.6666666666666666,\"#ed7953\"],[0.7777777777777778,\"#fb9f3a\"],[0.8888888888888888,\"#fdca26\"],[1.0,\"#f0f921\"]],\"type\":\"histogram2d\"}],\"histogram\":[{\"marker\":{\"pattern\":{\"fillmode\":\"overlay\",\"size\":10,\"solidity\":0.2}},\"type\":\"histogram\"}],\"mesh3d\":[{\"colorbar\":{\"outlinewidth\":0,\"ticks\":\"\"},\"type\":\"mesh3d\"}],\"parcoords\":[{\"line\":{\"colorbar\":{\"outlinewidth\":0,\"ticks\":\"\"}},\"type\":\"parcoords\"}],\"pie\":[{\"automargin\":true,\"type\":\"pie\"}],\"scatter3d\":[{\"line\":{\"colorbar\":{\"outlinewidth\":0,\"ticks\":\"\"}},\"marker\":{\"colorbar\":{\"outlinewidth\":0,\"ticks\":\"\"}},\"type\":\"scatter3d\"}],\"scattercarpet\":[{\"marker\":{\"colorbar\":{\"outlinewidth\":0,\"ticks\":\"\"}},\"type\":\"scattercarpet\"}],\"scattergeo\":[{\"marker\":{\"colorbar\":{\"outlinewidth\":0,\"ticks\":\"\"}},\"type\":\"scattergeo\"}],\"scattergl\":[{\"marker\":{\"colorbar\":{\"outlinewidth\":0,\"ticks\":\"\"}},\"type\":\"scattergl\"}],\"scattermapbox\":[{\"marker\":{\"colorbar\":{\"outlinewidth\":0,\"ticks\":\"\"}},\"type\":\"scattermapbox\"}],\"scatterpolargl\":[{\"marker\":{\"colorbar\":{\"outlinewidth\":0,\"ticks\":\"\"}},\"type\":\"scatterpolargl\"}],\"scatterpolar\":[{\"marker\":{\"colorbar\":{\"outlinewidth\":0,\"ticks\":\"\"}},\"type\":\"scatterpolar\"}],\"scatter\":[{\"fillpattern\":{\"fillmode\":\"overlay\",\"size\":10,\"solidity\":0.2},\"type\":\"scatter\"}],\"scatterternary\":[{\"marker\":{\"colorbar\":{\"outlinewidth\":0,\"ticks\":\"\"}},\"type\":\"scatterternary\"}],\"surface\":[{\"colorbar\":{\"outlinewidth\":0,\"ticks\":\"\"},\"colorscale\":[[0.0,\"#0d0887\"],[0.1111111111111111,\"#46039f\"],[0.2222222222222222,\"#7201a8\"],[0.3333333333333333,\"#9c179e\"],[0.4444444444444444,\"#bd3786\"],[0.5555555555555556,\"#d8576b\"],[0.6666666666666666,\"#ed7953\"],[0.7777777777777778,\"#fb9f3a\"],[0.8888888888888888,\"#fdca26\"],[1.0,\"#f0f921\"]],\"type\":\"surface\"}],\"table\":[{\"cells\":{\"fill\":{\"color\":\"#EBF0F8\"},\"line\":{\"color\":\"white\"}},\"header\":{\"fill\":{\"color\":\"#C8D4E3\"},\"line\":{\"color\":\"white\"}},\"type\":\"table\"}]},\"layout\":{\"annotationdefaults\":{\"arrowcolor\":\"#2a3f5f\",\"arrowhead\":0,\"arrowwidth\":1},\"autotypenumbers\":\"strict\",\"coloraxis\":{\"colorbar\":{\"outlinewidth\":0,\"ticks\":\"\"}},\"colorscale\":{\"diverging\":[[0,\"#8e0152\"],[0.1,\"#c51b7d\"],[0.2,\"#de77ae\"],[0.3,\"#f1b6da\"],[0.4,\"#fde0ef\"],[0.5,\"#f7f7f7\"],[0.6,\"#e6f5d0\"],[0.7,\"#b8e186\"],[0.8,\"#7fbc41\"],[0.9,\"#4d9221\"],[1,\"#276419\"]],\"sequential\":[[0.0,\"#0d0887\"],[0.1111111111111111,\"#46039f\"],[0.2222222222222222,\"#7201a8\"],[0.3333333333333333,\"#9c179e\"],[0.4444444444444444,\"#bd3786\"],[0.5555555555555556,\"#d8576b\"],[0.6666666666666666,\"#ed7953\"],[0.7777777777777778,\"#fb9f3a\"],[0.8888888888888888,\"#fdca26\"],[1.0,\"#f0f921\"]],\"sequentialminus\":[[0.0,\"#0d0887\"],[0.1111111111111111,\"#46039f\"],[0.2222222222222222,\"#7201a8\"],[0.3333333333333333,\"#9c179e\"],[0.4444444444444444,\"#bd3786\"],[0.5555555555555556,\"#d8576b\"],[0.6666666666666666,\"#ed7953\"],[0.7777777777777778,\"#fb9f3a\"],[0.8888888888888888,\"#fdca26\"],[1.0,\"#f0f921\"]]},\"colorway\":[\"#636efa\",\"#EF553B\",\"#00cc96\",\"#ab63fa\",\"#FFA15A\",\"#19d3f3\",\"#FF6692\",\"#B6E880\",\"#FF97FF\",\"#FECB52\"],\"font\":{\"color\":\"#2a3f5f\"},\"geo\":{\"bgcolor\":\"white\",\"lakecolor\":\"white\",\"landcolor\":\"#E5ECF6\",\"showlakes\":true,\"showland\":true,\"subunitcolor\":\"white\"},\"hoverlabel\":{\"align\":\"left\"},\"hovermode\":\"closest\",\"mapbox\":{\"style\":\"light\"},\"paper_bgcolor\":\"white\",\"plot_bgcolor\":\"#E5ECF6\",\"polar\":{\"angularaxis\":{\"gridcolor\":\"white\",\"linecolor\":\"white\",\"ticks\":\"\"},\"bgcolor\":\"#E5ECF6\",\"radialaxis\":{\"gridcolor\":\"white\",\"linecolor\":\"white\",\"ticks\":\"\"}},\"scene\":{\"xaxis\":{\"backgroundcolor\":\"#E5ECF6\",\"gridcolor\":\"white\",\"gridwidth\":2,\"linecolor\":\"white\",\"showbackground\":true,\"ticks\":\"\",\"zerolinecolor\":\"white\"},\"yaxis\":{\"backgroundcolor\":\"#E5ECF6\",\"gridcolor\":\"white\",\"gridwidth\":2,\"linecolor\":\"white\",\"showbackground\":true,\"ticks\":\"\",\"zerolinecolor\":\"white\"},\"zaxis\":{\"backgroundcolor\":\"#E5ECF6\",\"gridcolor\":\"white\",\"gridwidth\":2,\"linecolor\":\"white\",\"showbackground\":true,\"ticks\":\"\",\"zerolinecolor\":\"white\"}},\"shapedefaults\":{\"line\":{\"color\":\"#2a3f5f\"}},\"ternary\":{\"aaxis\":{\"gridcolor\":\"white\",\"linecolor\":\"white\",\"ticks\":\"\"},\"baxis\":{\"gridcolor\":\"white\",\"linecolor\":\"white\",\"ticks\":\"\"},\"bgcolor\":\"#E5ECF6\",\"caxis\":{\"gridcolor\":\"white\",\"linecolor\":\"white\",\"ticks\":\"\"}},\"title\":{\"x\":0.05},\"xaxis\":{\"automargin\":true,\"gridcolor\":\"white\",\"linecolor\":\"white\",\"ticks\":\"\",\"title\":{\"standoff\":15},\"zerolinecolor\":\"white\",\"zerolinewidth\":2},\"yaxis\":{\"automargin\":true,\"gridcolor\":\"white\",\"linecolor\":\"white\",\"ticks\":\"\",\"title\":{\"standoff\":15},\"zerolinecolor\":\"white\",\"zerolinewidth\":2}}},\"title\":{\"font\":{\"color\":\"#4D5663\"},\"text\":\"Semiconductor Adjusted Close Prices\"},\"xaxis\":{\"gridcolor\":\"#E1E5ED\",\"showgrid\":true,\"tickfont\":{\"color\":\"#4D5663\"},\"title\":{\"font\":{\"color\":\"#4D5663\"},\"text\":\"Dates\"},\"zerolinecolor\":\"#E1E5ED\"},\"yaxis\":{\"gridcolor\":\"#E1E5ED\",\"showgrid\":true,\"tickfont\":{\"color\":\"#4D5663\"},\"title\":{\"font\":{\"color\":\"#4D5663\"},\"text\":\"Adjusted Close Prices\"},\"zerolinecolor\":\"#E1E5ED\"}},                        {\"showLink\": true, \"linkText\": \"Export to plot.ly\", \"plotlyServerURL\": \"https://plot.ly\", \"responsive\": true}                    ).then(function(){\n",
       "                            \n",
       "var gd = document.getElementById('e9460d7b-7165-4a19-bd57-0f0521af0f19');\n",
       "var x = new MutationObserver(function (mutations, observer) {{\n",
       "        var display = window.getComputedStyle(gd).display;\n",
       "        if (!display || display === 'none') {{\n",
       "            console.log([gd, 'removed!']);\n",
       "            Plotly.purge(gd);\n",
       "            observer.disconnect();\n",
       "        }}\n",
       "}});\n",
       "\n",
       "// Listen for the removal of the full notebook cells\n",
       "var notebookContainer = gd.closest('#notebook-container');\n",
       "if (notebookContainer) {{\n",
       "    x.observe(notebookContainer, {childList: true});\n",
       "}}\n",
       "\n",
       "// Listen for the clearing of the current output cell\n",
       "var outputEl = gd.closest('.output');\n",
       "if (outputEl) {{\n",
       "    x.observe(outputEl, {childList: true});\n",
       "}}\n",
       "\n",
       "                        })                };                });            </script>        </div>"
      ]
     },
     "metadata": {},
     "output_type": "display_data"
    }
   ],
   "source": [
    "semiconductor_data['Adj Close'].iplot(title='Semiconductor Adjusted Close Prices', xTitle='Dates', yTitle='Adjusted Close Prices')"
   ]
  },
  {
   "cell_type": "markdown",
   "metadata": {},
   "source": [
    "Calculating Cumulative Returns"
   ]
  },
  {
   "cell_type": "code",
   "execution_count": 62,
   "metadata": {},
   "outputs": [
    {
     "data": {
      "application/vnd.plotly.v1+json": {
       "config": {
        "linkText": "Export to plot.ly",
        "plotlyServerURL": "https://plot.ly",
        "showLink": true
       },
       "data": [
        {
         "line": {
          "color": "rgba(255, 153, 51, 1.0)",
          "dash": "solid",
          "shape": "linear",
          "width": 1.3
         },
         "mode": "lines",
         "name": "AMD",
         "text": "",
         "type": "scatter",
         "x": [
          "2024-07-09 00:00:00+00:00",
          "2024-07-10 00:00:00+00:00",
          "2024-07-11 00:00:00+00:00",
          "2024-07-12 00:00:00+00:00",
          "2024-07-15 00:00:00+00:00",
          "2024-07-16 00:00:00+00:00",
          "2024-07-17 00:00:00+00:00",
          "2024-07-18 00:00:00+00:00",
          "2024-07-19 00:00:00+00:00",
          "2024-07-22 00:00:00+00:00",
          "2024-07-23 00:00:00+00:00",
          "2024-07-24 00:00:00+00:00",
          "2024-07-25 00:00:00+00:00",
          "2024-07-26 00:00:00+00:00",
          "2024-07-29 00:00:00+00:00",
          "2024-07-30 00:00:00+00:00",
          "2024-07-31 00:00:00+00:00",
          "2024-08-01 00:00:00+00:00",
          "2024-08-02 00:00:00+00:00",
          "2024-08-05 00:00:00+00:00",
          "2024-08-06 00:00:00+00:00",
          "2024-08-07 00:00:00+00:00",
          "2024-08-08 00:00:00+00:00",
          "2024-08-09 00:00:00+00:00",
          "2024-08-12 00:00:00+00:00",
          "2024-08-13 00:00:00+00:00",
          "2024-08-14 00:00:00+00:00",
          "2024-08-15 00:00:00+00:00",
          "2024-08-16 00:00:00+00:00",
          "2024-08-19 00:00:00+00:00",
          "2024-08-20 00:00:00+00:00",
          "2024-08-21 00:00:00+00:00",
          "2024-08-22 00:00:00+00:00",
          "2024-08-23 00:00:00+00:00",
          "2024-08-26 00:00:00+00:00",
          "2024-08-27 00:00:00+00:00",
          "2024-08-28 00:00:00+00:00",
          "2024-08-29 00:00:00+00:00",
          "2024-08-30 00:00:00+00:00",
          "2024-09-03 00:00:00+00:00",
          "2024-09-04 00:00:00+00:00",
          "2024-09-05 00:00:00+00:00",
          "2024-09-06 00:00:00+00:00",
          "2024-09-09 00:00:00+00:00",
          "2024-09-10 00:00:00+00:00",
          "2024-09-11 00:00:00+00:00",
          "2024-09-12 00:00:00+00:00",
          "2024-09-13 00:00:00+00:00",
          "2024-09-16 00:00:00+00:00",
          "2024-09-17 00:00:00+00:00",
          "2024-09-18 00:00:00+00:00",
          "2024-09-19 00:00:00+00:00",
          "2024-09-20 00:00:00+00:00",
          "2024-09-23 00:00:00+00:00",
          "2024-09-24 00:00:00+00:00",
          "2024-09-25 00:00:00+00:00",
          "2024-09-26 00:00:00+00:00",
          "2024-09-27 00:00:00+00:00",
          "2024-09-30 00:00:00+00:00",
          "2024-10-01 00:00:00+00:00",
          "2024-10-02 00:00:00+00:00",
          "2024-10-03 00:00:00+00:00",
          "2024-10-04 00:00:00+00:00",
          "2024-10-07 00:00:00+00:00",
          "2024-10-08 00:00:00+00:00"
         ],
         "y": [
          1,
          1.0038735179977023,
          1.0027711975359945,
          1.0025893154172327,
          1.0016066560088406,
          1.0003367555863398,
          0.9901277372370632,
          0.9878547295204643,
          0.9851975339019768,
          0.987985824411872,
          0.9868005233755105,
          0.9807964220211816,
          0.9765173493395165,
          0.9776963416030997,
          0.9775287207134479,
          0.9766123985398594,
          0.9808732568368184,
          0.9727672010313991,
          0.9727378482631917,
          0.9744410625518826,
          0.9710873905754329,
          0.969960998880913,
          0.9757278525587645,
          0.974260536707854,
          0.9760745318402494,
          0.9791860953568332,
          0.9789224409357009,
          0.9835197254345086,
          0.984320635222897,
          0.9887731365549951,
          0.9894863134571418,
          0.9903783718842699,
          0.9865438794247886,
          0.9886769465212502,
          0.9854936400016359,
          0.9858287265570833,
          0.9831168791642301,
          0.9825324934844469,
          0.9846057403365587,
          0.9769043980619985,
          0.979707981427615,
          0.9787134650036735,
          0.9751408546583702,
          0.9778989664378902,
          0.981218799042066,
          0.9860410899536396,
          0.9866398494619765,
          0.9876476220300908,
          0.9874984822907289,
          0.9866803322064217,
          0.9850251704438188,
          0.9906381417104793,
          0.9901388354903382,
          0.9906467637401344,
          0.9916389951116084,
          0.9939564920077253,
          0.9973122154253502,
          0.9954425159537287,
          0.9952789785504337,
          0.9926524794332707,
          0.992671120035868,
          0.9945784348639648,
          0.9994948266108067,
          0.999535769829578,
          1.0006056372191392
         ]
        },
        {
         "line": {
          "color": "rgba(55, 128, 191, 1.0)",
          "dash": "solid",
          "shape": "linear",
          "width": 1.3
         },
         "mode": "lines",
         "name": "INTC",
         "text": "",
         "type": "scatter",
         "x": [
          "2024-07-09 00:00:00+00:00",
          "2024-07-10 00:00:00+00:00",
          "2024-07-11 00:00:00+00:00",
          "2024-07-12 00:00:00+00:00",
          "2024-07-15 00:00:00+00:00",
          "2024-07-16 00:00:00+00:00",
          "2024-07-17 00:00:00+00:00",
          "2024-07-18 00:00:00+00:00",
          "2024-07-19 00:00:00+00:00",
          "2024-07-22 00:00:00+00:00",
          "2024-07-23 00:00:00+00:00",
          "2024-07-24 00:00:00+00:00",
          "2024-07-25 00:00:00+00:00",
          "2024-07-26 00:00:00+00:00",
          "2024-07-29 00:00:00+00:00",
          "2024-07-30 00:00:00+00:00",
          "2024-07-31 00:00:00+00:00",
          "2024-08-01 00:00:00+00:00",
          "2024-08-02 00:00:00+00:00",
          "2024-08-05 00:00:00+00:00",
          "2024-08-06 00:00:00+00:00",
          "2024-08-07 00:00:00+00:00",
          "2024-08-08 00:00:00+00:00",
          "2024-08-09 00:00:00+00:00",
          "2024-08-12 00:00:00+00:00",
          "2024-08-13 00:00:00+00:00",
          "2024-08-14 00:00:00+00:00",
          "2024-08-15 00:00:00+00:00",
          "2024-08-16 00:00:00+00:00",
          "2024-08-19 00:00:00+00:00",
          "2024-08-20 00:00:00+00:00",
          "2024-08-21 00:00:00+00:00",
          "2024-08-22 00:00:00+00:00",
          "2024-08-23 00:00:00+00:00",
          "2024-08-26 00:00:00+00:00",
          "2024-08-27 00:00:00+00:00",
          "2024-08-28 00:00:00+00:00",
          "2024-08-29 00:00:00+00:00",
          "2024-08-30 00:00:00+00:00",
          "2024-09-03 00:00:00+00:00",
          "2024-09-04 00:00:00+00:00",
          "2024-09-05 00:00:00+00:00",
          "2024-09-06 00:00:00+00:00",
          "2024-09-09 00:00:00+00:00",
          "2024-09-10 00:00:00+00:00",
          "2024-09-11 00:00:00+00:00",
          "2024-09-12 00:00:00+00:00",
          "2024-09-13 00:00:00+00:00",
          "2024-09-16 00:00:00+00:00",
          "2024-09-17 00:00:00+00:00",
          "2024-09-18 00:00:00+00:00",
          "2024-09-19 00:00:00+00:00",
          "2024-09-20 00:00:00+00:00",
          "2024-09-23 00:00:00+00:00",
          "2024-09-24 00:00:00+00:00",
          "2024-09-25 00:00:00+00:00",
          "2024-09-26 00:00:00+00:00",
          "2024-09-27 00:00:00+00:00",
          "2024-09-30 00:00:00+00:00",
          "2024-10-01 00:00:00+00:00",
          "2024-10-02 00:00:00+00:00",
          "2024-10-03 00:00:00+00:00",
          "2024-10-04 00:00:00+00:00",
          "2024-10-07 00:00:00+00:00",
          "2024-10-08 00:00:00+00:00"
         ],
         "y": [
          1,
          1.0016189508948712,
          0.9937484812248444,
          0.9996219879848569,
          0.9994480623924751,
          0.9987520090245895,
          0.9994500081995307,
          1.0018282805307062,
          0.990968197884336,
          0.9933119136858748,
          0.9908115283990115,
          0.9832939776351262,
          0.9795717274114049,
          0.9811466043316822,
          0.9778917664319674,
          0.9734511190542701,
          0.9773927439488113,
          0.9666458679521199,
          0.9162671571036082,
          0.9045792029791097,
          0.9020602401256401,
          0.8955139502313949,
          0.909661090215989,
          0.9027354066346421,
          0.8995293586434364,
          0.9098441973823711,
          0.9049549581914562,
          0.9119511000528429,
          0.913537871170076,
          0.9192283287062082,
          0.9147005254066266,
          0.9183610713298859,
          0.9071228413293393,
          0.9110943291608393,
          0.9074570335711774,
          0.9069160803704833,
          0.9027588250340864,
          0.907546517698862,
          0.924768728464874,
          0.9084887670077243,
          0.9024321746529448,
          0.9021534964803729,
          0.897410212988222,
          0.899120473627979,
          0.8982718005171622,
          0.9045190003651562,
          0.9019399349494356,
          0.9047351961460142,
          0.9162399672951491,
          0.921147608577833,
          0.915141066496263,
          0.9184015499788325,
          0.9244836862534886,
          0.9305791772302234,
          0.9326416311292917,
          0.938611203760665,
          0.9416415474806598,
          0.9415628131080058,
          0.9380186559607202,
          0.9318611705938085,
          0.9293970065477213,
          0.9283177672965933,
          0.93107019127892,
          0.9293391097180249,
          0.9371458951712344
         ]
        },
        {
         "line": {
          "color": "rgba(50, 171, 96, 1.0)",
          "dash": "solid",
          "shape": "linear",
          "width": 1.3
         },
         "mode": "lines",
         "name": "MU",
         "text": "",
         "type": "scatter",
         "x": [
          "2024-07-09 00:00:00+00:00",
          "2024-07-10 00:00:00+00:00",
          "2024-07-11 00:00:00+00:00",
          "2024-07-12 00:00:00+00:00",
          "2024-07-15 00:00:00+00:00",
          "2024-07-16 00:00:00+00:00",
          "2024-07-17 00:00:00+00:00",
          "2024-07-18 00:00:00+00:00",
          "2024-07-19 00:00:00+00:00",
          "2024-07-22 00:00:00+00:00",
          "2024-07-23 00:00:00+00:00",
          "2024-07-24 00:00:00+00:00",
          "2024-07-25 00:00:00+00:00",
          "2024-07-26 00:00:00+00:00",
          "2024-07-29 00:00:00+00:00",
          "2024-07-30 00:00:00+00:00",
          "2024-07-31 00:00:00+00:00",
          "2024-08-01 00:00:00+00:00",
          "2024-08-02 00:00:00+00:00",
          "2024-08-05 00:00:00+00:00",
          "2024-08-06 00:00:00+00:00",
          "2024-08-07 00:00:00+00:00",
          "2024-08-08 00:00:00+00:00",
          "2024-08-09 00:00:00+00:00",
          "2024-08-12 00:00:00+00:00",
          "2024-08-13 00:00:00+00:00",
          "2024-08-14 00:00:00+00:00",
          "2024-08-15 00:00:00+00:00",
          "2024-08-16 00:00:00+00:00",
          "2024-08-19 00:00:00+00:00",
          "2024-08-20 00:00:00+00:00",
          "2024-08-21 00:00:00+00:00",
          "2024-08-22 00:00:00+00:00",
          "2024-08-23 00:00:00+00:00",
          "2024-08-26 00:00:00+00:00",
          "2024-08-27 00:00:00+00:00",
          "2024-08-28 00:00:00+00:00",
          "2024-08-29 00:00:00+00:00",
          "2024-08-30 00:00:00+00:00",
          "2024-09-03 00:00:00+00:00",
          "2024-09-04 00:00:00+00:00",
          "2024-09-05 00:00:00+00:00",
          "2024-09-06 00:00:00+00:00",
          "2024-09-09 00:00:00+00:00",
          "2024-09-10 00:00:00+00:00",
          "2024-09-11 00:00:00+00:00",
          "2024-09-12 00:00:00+00:00",
          "2024-09-13 00:00:00+00:00",
          "2024-09-16 00:00:00+00:00",
          "2024-09-17 00:00:00+00:00",
          "2024-09-18 00:00:00+00:00",
          "2024-09-19 00:00:00+00:00",
          "2024-09-20 00:00:00+00:00",
          "2024-09-23 00:00:00+00:00",
          "2024-09-24 00:00:00+00:00",
          "2024-09-25 00:00:00+00:00",
          "2024-09-26 00:00:00+00:00",
          "2024-09-27 00:00:00+00:00",
          "2024-09-30 00:00:00+00:00",
          "2024-10-01 00:00:00+00:00",
          "2024-10-02 00:00:00+00:00",
          "2024-10-03 00:00:00+00:00",
          "2024-10-04 00:00:00+00:00",
          "2024-10-07 00:00:00+00:00",
          "2024-10-08 00:00:00+00:00"
         ],
         "y": [
          1,
          1.0100083869896823,
          0.9986042224472251,
          1.0049686719541069,
          0.99992689555499,
          0.9934705796490557,
          0.9779049925451824,
          0.9737110391769788,
          0.9670994275373848,
          0.9692577525306955,
          0.9670927345143091,
          0.9586915068325802,
          0.9525410259741012,
          0.956884875243888,
          0.9534739778833937,
          0.9417820976774494,
          0.9584487853271582,
          0.9403175087876194,
          0.9199150855419717,
          0.9142586507466132,
          0.9106691575344212,
          0.9050414284540622,
          0.9187786730966656,
          0.9212984070260636,
          0.925158589019175,
          0.932001480862962,
          0.9391034004519241,
          0.9543950307813668,
          0.9567152131192681,
          0.9581326878090715,
          0.9567214764159613,
          0.9574745322203322,
          0.9484813615701015,
          0.945274550911519,
          0.9362216203259277,
          0.9337369524283011,
          0.9265807788636999,
          0.9283145871460268,
          0.9299415815129604,
          0.9114374505180494,
          0.9132638148366916,
          0.9135195270111652,
          0.9058293472753762,
          0.9055409808689362,
          0.9070629814862801,
          0.9169848104730526,
          0.9082853326886414,
          0.9187263001112083,
          0.9085540273377846,
          0.9125924105123093,
          0.9090440476657339,
          0.9139873383617058,
          0.9182116581671962,
          0.9249542890227678,
          0.9260169516944929,
          0.9303761175387465,
          0.9646446992930364,
          0.9594211584450096,
          0.9509648680652923,
          0.9431708186300168,
          0.9420895297409589,
          0.9467362829587099,
          0.9477358402837306,
          0.9495336977933685,
          0.9486802091536506
         ]
        },
        {
         "line": {
          "color": "rgba(128, 0, 128, 1.0)",
          "dash": "solid",
          "shape": "linear",
          "width": 1.3
         },
         "mode": "lines",
         "name": "NVDA",
         "text": "",
         "type": "scatter",
         "x": [
          "2024-07-09 00:00:00+00:00",
          "2024-07-10 00:00:00+00:00",
          "2024-07-11 00:00:00+00:00",
          "2024-07-12 00:00:00+00:00",
          "2024-07-15 00:00:00+00:00",
          "2024-07-16 00:00:00+00:00",
          "2024-07-17 00:00:00+00:00",
          "2024-07-18 00:00:00+00:00",
          "2024-07-19 00:00:00+00:00",
          "2024-07-22 00:00:00+00:00",
          "2024-07-23 00:00:00+00:00",
          "2024-07-24 00:00:00+00:00",
          "2024-07-25 00:00:00+00:00",
          "2024-07-26 00:00:00+00:00",
          "2024-07-29 00:00:00+00:00",
          "2024-07-30 00:00:00+00:00",
          "2024-07-31 00:00:00+00:00",
          "2024-08-01 00:00:00+00:00",
          "2024-08-02 00:00:00+00:00",
          "2024-08-05 00:00:00+00:00",
          "2024-08-06 00:00:00+00:00",
          "2024-08-07 00:00:00+00:00",
          "2024-08-08 00:00:00+00:00",
          "2024-08-09 00:00:00+00:00",
          "2024-08-12 00:00:00+00:00",
          "2024-08-13 00:00:00+00:00",
          "2024-08-14 00:00:00+00:00",
          "2024-08-15 00:00:00+00:00",
          "2024-08-16 00:00:00+00:00",
          "2024-08-19 00:00:00+00:00",
          "2024-08-20 00:00:00+00:00",
          "2024-08-21 00:00:00+00:00",
          "2024-08-22 00:00:00+00:00",
          "2024-08-23 00:00:00+00:00",
          "2024-08-26 00:00:00+00:00",
          "2024-08-27 00:00:00+00:00",
          "2024-08-28 00:00:00+00:00",
          "2024-08-29 00:00:00+00:00",
          "2024-08-30 00:00:00+00:00",
          "2024-09-03 00:00:00+00:00",
          "2024-09-04 00:00:00+00:00",
          "2024-09-05 00:00:00+00:00",
          "2024-09-06 00:00:00+00:00",
          "2024-09-09 00:00:00+00:00",
          "2024-09-10 00:00:00+00:00",
          "2024-09-11 00:00:00+00:00",
          "2024-09-12 00:00:00+00:00",
          "2024-09-13 00:00:00+00:00",
          "2024-09-16 00:00:00+00:00",
          "2024-09-17 00:00:00+00:00",
          "2024-09-18 00:00:00+00:00",
          "2024-09-19 00:00:00+00:00",
          "2024-09-20 00:00:00+00:00",
          "2024-09-23 00:00:00+00:00",
          "2024-09-24 00:00:00+00:00",
          "2024-09-25 00:00:00+00:00",
          "2024-09-26 00:00:00+00:00",
          "2024-09-27 00:00:00+00:00",
          "2024-09-30 00:00:00+00:00",
          "2024-10-01 00:00:00+00:00",
          "2024-10-02 00:00:00+00:00",
          "2024-10-03 00:00:00+00:00",
          "2024-10-04 00:00:00+00:00",
          "2024-10-07 00:00:00+00:00",
          "2024-10-08 00:00:00+00:00"
         ],
         "y": [
          1,
          1.0067171472430547,
          0.992706975623765,
          0.9962913348853721,
          0.9947495455854269,
          0.9907222112957822,
          0.9743160176033085,
          0.9807156625652206,
          0.9743174184974731,
          0.9859046322432117,
          0.9840092718795687,
          0.9672733278001755,
          0.9631036772813034,
          0.9647763211969801,
          0.961640334507764,
          0.9447067217786373,
          0.9749659178107826,
          0.9586984455594166,
          0.9544408620592817,
          0.9392705375617948,
          0.9481536339400487,
          0.9360118208405672,
          0.9503486643177366,
          0.9498507268175725,
          0.9595305797422841,
          0.9751971069075525,
          0.9792695257719161,
          0.9891799922457788,
          0.9926420330506315,
          1.0034385418038947,
          0.9981318979911568,
          1.0005831212189424,
          0.9913170114857394,
          1.002592898333802,
          0.9969549100506334,
          1.0005813646818604,
          0.9953366893239374,
          0.979449013796077,
          0.983155590057479,
          0.9597441700245306,
          0.9557674490418726,
          0.9580171642645765,
          0.948232364885189,
          0.9566237969170457,
          0.9602851479634232,
          0.9798506327377975,
          0.9845445234467296,
          0.9844618839416996,
          0.9796676956554439,
          0.977171962306876,
          0.9724801300492073,
          0.982130303109103,
          0.9782349388910667,
          0.9787830922829782,
          0.9884858932676606,
          0.9938834321433194,
          0.9949496555193387,
          0.9896556647423417,
          0.9897371868431428,
          0.9806906712025194,
          0.984567329846343,
          0.9928514471579704,
          0.9970337878542459,
          1.0026207588949474,
          1.0127670700405997
         ]
        },
        {
         "line": {
          "color": "rgba(219, 64, 82, 1.0)",
          "dash": "solid",
          "shape": "linear",
          "width": 1.3
         },
         "mode": "lines",
         "name": "TSM",
         "text": "",
         "type": "scatter",
         "x": [
          "2024-07-09 00:00:00+00:00",
          "2024-07-10 00:00:00+00:00",
          "2024-07-11 00:00:00+00:00",
          "2024-07-12 00:00:00+00:00",
          "2024-07-15 00:00:00+00:00",
          "2024-07-16 00:00:00+00:00",
          "2024-07-17 00:00:00+00:00",
          "2024-07-18 00:00:00+00:00",
          "2024-07-19 00:00:00+00:00",
          "2024-07-22 00:00:00+00:00",
          "2024-07-23 00:00:00+00:00",
          "2024-07-24 00:00:00+00:00",
          "2024-07-25 00:00:00+00:00",
          "2024-07-26 00:00:00+00:00",
          "2024-07-29 00:00:00+00:00",
          "2024-07-30 00:00:00+00:00",
          "2024-07-31 00:00:00+00:00",
          "2024-08-01 00:00:00+00:00",
          "2024-08-02 00:00:00+00:00",
          "2024-08-05 00:00:00+00:00",
          "2024-08-06 00:00:00+00:00",
          "2024-08-07 00:00:00+00:00",
          "2024-08-08 00:00:00+00:00",
          "2024-08-09 00:00:00+00:00",
          "2024-08-12 00:00:00+00:00",
          "2024-08-13 00:00:00+00:00",
          "2024-08-14 00:00:00+00:00",
          "2024-08-15 00:00:00+00:00",
          "2024-08-16 00:00:00+00:00",
          "2024-08-19 00:00:00+00:00",
          "2024-08-20 00:00:00+00:00",
          "2024-08-21 00:00:00+00:00",
          "2024-08-22 00:00:00+00:00",
          "2024-08-23 00:00:00+00:00",
          "2024-08-26 00:00:00+00:00",
          "2024-08-27 00:00:00+00:00",
          "2024-08-28 00:00:00+00:00",
          "2024-08-29 00:00:00+00:00",
          "2024-08-30 00:00:00+00:00",
          "2024-09-03 00:00:00+00:00",
          "2024-09-04 00:00:00+00:00",
          "2024-09-05 00:00:00+00:00",
          "2024-09-06 00:00:00+00:00",
          "2024-09-09 00:00:00+00:00",
          "2024-09-10 00:00:00+00:00",
          "2024-09-11 00:00:00+00:00",
          "2024-09-12 00:00:00+00:00",
          "2024-09-13 00:00:00+00:00",
          "2024-09-16 00:00:00+00:00",
          "2024-09-17 00:00:00+00:00",
          "2024-09-18 00:00:00+00:00",
          "2024-09-19 00:00:00+00:00",
          "2024-09-20 00:00:00+00:00",
          "2024-09-23 00:00:00+00:00",
          "2024-09-24 00:00:00+00:00",
          "2024-09-25 00:00:00+00:00",
          "2024-09-26 00:00:00+00:00",
          "2024-09-27 00:00:00+00:00",
          "2024-09-30 00:00:00+00:00",
          "2024-10-01 00:00:00+00:00",
          "2024-10-02 00:00:00+00:00",
          "2024-10-03 00:00:00+00:00",
          "2024-10-04 00:00:00+00:00",
          "2024-10-07 00:00:00+00:00",
          "2024-10-08 00:00:00+00:00"
         ],
         "y": [
          1,
          1.007077817379709,
          1.0001724463085078,
          1.0032624139866744,
          1.000981166270557,
          1.0018674536611558,
          0.9858841148990499,
          0.9866557650657357,
          0.9796521076966408,
          0.9838834741649851,
          0.9844295803440349,
          0.972812590809523,
          0.9733970163452935,
          0.9754132735826261,
          0.9730882860033626,
          0.9664352041772285,
          0.9805183737940028,
          0.9715056457964336,
          0.961285743027689,
          0.9588353709336028,
          0.9684788157207507,
          0.9680425216073055,
          0.9799182869093204,
          0.9829792262041511,
          0.9835791875536956,
          0.9891064214990043,
          0.986386008351497,
          0.991017054509989,
          0.9916778652203216,
          0.9927119379077463,
          0.9888531022302794,
          0.9881633826776193,
          0.9823994806417895,
          0.9881130307594458,
          0.9855631352940938,
          0.9872886032512553,
          0.9857256177757903,
          0.9856673552994162,
          0.9886392122772534,
          0.975729915038074,
          0.9761919511948974,
          0.97962655756701,
          0.9713921995590881,
          0.9787758170535867,
          0.9783549019758927,
          0.9877511758546335,
          0.9898780390331687,
          0.9911137349989873,
          0.9871837556843054,
          0.9851636188719859,
          0.9850811944126379,
          0.99561040094934,
          0.9931922808317595,
          0.9939682039355099,
          1.0021697576652053,
          1.0025883205038766,
          1.0075146613231778,
          0.997958829361742,
          0.9931364143678099,
          0.9913064964921763,
          0.9956042460582939,
          0.9997724101878389,
          1.0016440678899372,
          1.0053485262574304,
          1.0070267500579344
         ]
        }
       ],
       "layout": {
        "legend": {
         "bgcolor": "#F5F6F9",
         "font": {
          "color": "#4D5663"
         }
        },
        "paper_bgcolor": "#F5F6F9",
        "plot_bgcolor": "#F5F6F9",
        "template": {
         "data": {
          "bar": [
           {
            "error_x": {
             "color": "#2a3f5f"
            },
            "error_y": {
             "color": "#2a3f5f"
            },
            "marker": {
             "line": {
              "color": "#E5ECF6",
              "width": 0.5
             },
             "pattern": {
              "fillmode": "overlay",
              "size": 10,
              "solidity": 0.2
             }
            },
            "type": "bar"
           }
          ],
          "barpolar": [
           {
            "marker": {
             "line": {
              "color": "#E5ECF6",
              "width": 0.5
             },
             "pattern": {
              "fillmode": "overlay",
              "size": 10,
              "solidity": 0.2
             }
            },
            "type": "barpolar"
           }
          ],
          "carpet": [
           {
            "aaxis": {
             "endlinecolor": "#2a3f5f",
             "gridcolor": "white",
             "linecolor": "white",
             "minorgridcolor": "white",
             "startlinecolor": "#2a3f5f"
            },
            "baxis": {
             "endlinecolor": "#2a3f5f",
             "gridcolor": "white",
             "linecolor": "white",
             "minorgridcolor": "white",
             "startlinecolor": "#2a3f5f"
            },
            "type": "carpet"
           }
          ],
          "choropleth": [
           {
            "colorbar": {
             "outlinewidth": 0,
             "ticks": ""
            },
            "type": "choropleth"
           }
          ],
          "contour": [
           {
            "colorbar": {
             "outlinewidth": 0,
             "ticks": ""
            },
            "colorscale": [
             [
              0,
              "#0d0887"
             ],
             [
              0.1111111111111111,
              "#46039f"
             ],
             [
              0.2222222222222222,
              "#7201a8"
             ],
             [
              0.3333333333333333,
              "#9c179e"
             ],
             [
              0.4444444444444444,
              "#bd3786"
             ],
             [
              0.5555555555555556,
              "#d8576b"
             ],
             [
              0.6666666666666666,
              "#ed7953"
             ],
             [
              0.7777777777777778,
              "#fb9f3a"
             ],
             [
              0.8888888888888888,
              "#fdca26"
             ],
             [
              1,
              "#f0f921"
             ]
            ],
            "type": "contour"
           }
          ],
          "contourcarpet": [
           {
            "colorbar": {
             "outlinewidth": 0,
             "ticks": ""
            },
            "type": "contourcarpet"
           }
          ],
          "heatmap": [
           {
            "colorbar": {
             "outlinewidth": 0,
             "ticks": ""
            },
            "colorscale": [
             [
              0,
              "#0d0887"
             ],
             [
              0.1111111111111111,
              "#46039f"
             ],
             [
              0.2222222222222222,
              "#7201a8"
             ],
             [
              0.3333333333333333,
              "#9c179e"
             ],
             [
              0.4444444444444444,
              "#bd3786"
             ],
             [
              0.5555555555555556,
              "#d8576b"
             ],
             [
              0.6666666666666666,
              "#ed7953"
             ],
             [
              0.7777777777777778,
              "#fb9f3a"
             ],
             [
              0.8888888888888888,
              "#fdca26"
             ],
             [
              1,
              "#f0f921"
             ]
            ],
            "type": "heatmap"
           }
          ],
          "heatmapgl": [
           {
            "colorbar": {
             "outlinewidth": 0,
             "ticks": ""
            },
            "colorscale": [
             [
              0,
              "#0d0887"
             ],
             [
              0.1111111111111111,
              "#46039f"
             ],
             [
              0.2222222222222222,
              "#7201a8"
             ],
             [
              0.3333333333333333,
              "#9c179e"
             ],
             [
              0.4444444444444444,
              "#bd3786"
             ],
             [
              0.5555555555555556,
              "#d8576b"
             ],
             [
              0.6666666666666666,
              "#ed7953"
             ],
             [
              0.7777777777777778,
              "#fb9f3a"
             ],
             [
              0.8888888888888888,
              "#fdca26"
             ],
             [
              1,
              "#f0f921"
             ]
            ],
            "type": "heatmapgl"
           }
          ],
          "histogram": [
           {
            "marker": {
             "pattern": {
              "fillmode": "overlay",
              "size": 10,
              "solidity": 0.2
             }
            },
            "type": "histogram"
           }
          ],
          "histogram2d": [
           {
            "colorbar": {
             "outlinewidth": 0,
             "ticks": ""
            },
            "colorscale": [
             [
              0,
              "#0d0887"
             ],
             [
              0.1111111111111111,
              "#46039f"
             ],
             [
              0.2222222222222222,
              "#7201a8"
             ],
             [
              0.3333333333333333,
              "#9c179e"
             ],
             [
              0.4444444444444444,
              "#bd3786"
             ],
             [
              0.5555555555555556,
              "#d8576b"
             ],
             [
              0.6666666666666666,
              "#ed7953"
             ],
             [
              0.7777777777777778,
              "#fb9f3a"
             ],
             [
              0.8888888888888888,
              "#fdca26"
             ],
             [
              1,
              "#f0f921"
             ]
            ],
            "type": "histogram2d"
           }
          ],
          "histogram2dcontour": [
           {
            "colorbar": {
             "outlinewidth": 0,
             "ticks": ""
            },
            "colorscale": [
             [
              0,
              "#0d0887"
             ],
             [
              0.1111111111111111,
              "#46039f"
             ],
             [
              0.2222222222222222,
              "#7201a8"
             ],
             [
              0.3333333333333333,
              "#9c179e"
             ],
             [
              0.4444444444444444,
              "#bd3786"
             ],
             [
              0.5555555555555556,
              "#d8576b"
             ],
             [
              0.6666666666666666,
              "#ed7953"
             ],
             [
              0.7777777777777778,
              "#fb9f3a"
             ],
             [
              0.8888888888888888,
              "#fdca26"
             ],
             [
              1,
              "#f0f921"
             ]
            ],
            "type": "histogram2dcontour"
           }
          ],
          "mesh3d": [
           {
            "colorbar": {
             "outlinewidth": 0,
             "ticks": ""
            },
            "type": "mesh3d"
           }
          ],
          "parcoords": [
           {
            "line": {
             "colorbar": {
              "outlinewidth": 0,
              "ticks": ""
             }
            },
            "type": "parcoords"
           }
          ],
          "pie": [
           {
            "automargin": true,
            "type": "pie"
           }
          ],
          "scatter": [
           {
            "fillpattern": {
             "fillmode": "overlay",
             "size": 10,
             "solidity": 0.2
            },
            "type": "scatter"
           }
          ],
          "scatter3d": [
           {
            "line": {
             "colorbar": {
              "outlinewidth": 0,
              "ticks": ""
             }
            },
            "marker": {
             "colorbar": {
              "outlinewidth": 0,
              "ticks": ""
             }
            },
            "type": "scatter3d"
           }
          ],
          "scattercarpet": [
           {
            "marker": {
             "colorbar": {
              "outlinewidth": 0,
              "ticks": ""
             }
            },
            "type": "scattercarpet"
           }
          ],
          "scattergeo": [
           {
            "marker": {
             "colorbar": {
              "outlinewidth": 0,
              "ticks": ""
             }
            },
            "type": "scattergeo"
           }
          ],
          "scattergl": [
           {
            "marker": {
             "colorbar": {
              "outlinewidth": 0,
              "ticks": ""
             }
            },
            "type": "scattergl"
           }
          ],
          "scattermapbox": [
           {
            "marker": {
             "colorbar": {
              "outlinewidth": 0,
              "ticks": ""
             }
            },
            "type": "scattermapbox"
           }
          ],
          "scatterpolar": [
           {
            "marker": {
             "colorbar": {
              "outlinewidth": 0,
              "ticks": ""
             }
            },
            "type": "scatterpolar"
           }
          ],
          "scatterpolargl": [
           {
            "marker": {
             "colorbar": {
              "outlinewidth": 0,
              "ticks": ""
             }
            },
            "type": "scatterpolargl"
           }
          ],
          "scatterternary": [
           {
            "marker": {
             "colorbar": {
              "outlinewidth": 0,
              "ticks": ""
             }
            },
            "type": "scatterternary"
           }
          ],
          "surface": [
           {
            "colorbar": {
             "outlinewidth": 0,
             "ticks": ""
            },
            "colorscale": [
             [
              0,
              "#0d0887"
             ],
             [
              0.1111111111111111,
              "#46039f"
             ],
             [
              0.2222222222222222,
              "#7201a8"
             ],
             [
              0.3333333333333333,
              "#9c179e"
             ],
             [
              0.4444444444444444,
              "#bd3786"
             ],
             [
              0.5555555555555556,
              "#d8576b"
             ],
             [
              0.6666666666666666,
              "#ed7953"
             ],
             [
              0.7777777777777778,
              "#fb9f3a"
             ],
             [
              0.8888888888888888,
              "#fdca26"
             ],
             [
              1,
              "#f0f921"
             ]
            ],
            "type": "surface"
           }
          ],
          "table": [
           {
            "cells": {
             "fill": {
              "color": "#EBF0F8"
             },
             "line": {
              "color": "white"
             }
            },
            "header": {
             "fill": {
              "color": "#C8D4E3"
             },
             "line": {
              "color": "white"
             }
            },
            "type": "table"
           }
          ]
         },
         "layout": {
          "annotationdefaults": {
           "arrowcolor": "#2a3f5f",
           "arrowhead": 0,
           "arrowwidth": 1
          },
          "autotypenumbers": "strict",
          "coloraxis": {
           "colorbar": {
            "outlinewidth": 0,
            "ticks": ""
           }
          },
          "colorscale": {
           "diverging": [
            [
             0,
             "#8e0152"
            ],
            [
             0.1,
             "#c51b7d"
            ],
            [
             0.2,
             "#de77ae"
            ],
            [
             0.3,
             "#f1b6da"
            ],
            [
             0.4,
             "#fde0ef"
            ],
            [
             0.5,
             "#f7f7f7"
            ],
            [
             0.6,
             "#e6f5d0"
            ],
            [
             0.7,
             "#b8e186"
            ],
            [
             0.8,
             "#7fbc41"
            ],
            [
             0.9,
             "#4d9221"
            ],
            [
             1,
             "#276419"
            ]
           ],
           "sequential": [
            [
             0,
             "#0d0887"
            ],
            [
             0.1111111111111111,
             "#46039f"
            ],
            [
             0.2222222222222222,
             "#7201a8"
            ],
            [
             0.3333333333333333,
             "#9c179e"
            ],
            [
             0.4444444444444444,
             "#bd3786"
            ],
            [
             0.5555555555555556,
             "#d8576b"
            ],
            [
             0.6666666666666666,
             "#ed7953"
            ],
            [
             0.7777777777777778,
             "#fb9f3a"
            ],
            [
             0.8888888888888888,
             "#fdca26"
            ],
            [
             1,
             "#f0f921"
            ]
           ],
           "sequentialminus": [
            [
             0,
             "#0d0887"
            ],
            [
             0.1111111111111111,
             "#46039f"
            ],
            [
             0.2222222222222222,
             "#7201a8"
            ],
            [
             0.3333333333333333,
             "#9c179e"
            ],
            [
             0.4444444444444444,
             "#bd3786"
            ],
            [
             0.5555555555555556,
             "#d8576b"
            ],
            [
             0.6666666666666666,
             "#ed7953"
            ],
            [
             0.7777777777777778,
             "#fb9f3a"
            ],
            [
             0.8888888888888888,
             "#fdca26"
            ],
            [
             1,
             "#f0f921"
            ]
           ]
          },
          "colorway": [
           "#636efa",
           "#EF553B",
           "#00cc96",
           "#ab63fa",
           "#FFA15A",
           "#19d3f3",
           "#FF6692",
           "#B6E880",
           "#FF97FF",
           "#FECB52"
          ],
          "font": {
           "color": "#2a3f5f"
          },
          "geo": {
           "bgcolor": "white",
           "lakecolor": "white",
           "landcolor": "#E5ECF6",
           "showlakes": true,
           "showland": true,
           "subunitcolor": "white"
          },
          "hoverlabel": {
           "align": "left"
          },
          "hovermode": "closest",
          "mapbox": {
           "style": "light"
          },
          "paper_bgcolor": "white",
          "plot_bgcolor": "#E5ECF6",
          "polar": {
           "angularaxis": {
            "gridcolor": "white",
            "linecolor": "white",
            "ticks": ""
           },
           "bgcolor": "#E5ECF6",
           "radialaxis": {
            "gridcolor": "white",
            "linecolor": "white",
            "ticks": ""
           }
          },
          "scene": {
           "xaxis": {
            "backgroundcolor": "#E5ECF6",
            "gridcolor": "white",
            "gridwidth": 2,
            "linecolor": "white",
            "showbackground": true,
            "ticks": "",
            "zerolinecolor": "white"
           },
           "yaxis": {
            "backgroundcolor": "#E5ECF6",
            "gridcolor": "white",
            "gridwidth": 2,
            "linecolor": "white",
            "showbackground": true,
            "ticks": "",
            "zerolinecolor": "white"
           },
           "zaxis": {
            "backgroundcolor": "#E5ECF6",
            "gridcolor": "white",
            "gridwidth": 2,
            "linecolor": "white",
            "showbackground": true,
            "ticks": "",
            "zerolinecolor": "white"
           }
          },
          "shapedefaults": {
           "line": {
            "color": "#2a3f5f"
           }
          },
          "ternary": {
           "aaxis": {
            "gridcolor": "white",
            "linecolor": "white",
            "ticks": ""
           },
           "baxis": {
            "gridcolor": "white",
            "linecolor": "white",
            "ticks": ""
           },
           "bgcolor": "#E5ECF6",
           "caxis": {
            "gridcolor": "white",
            "linecolor": "white",
            "ticks": ""
           }
          },
          "title": {
           "x": 0.05
          },
          "xaxis": {
           "automargin": true,
           "gridcolor": "white",
           "linecolor": "white",
           "ticks": "",
           "title": {
            "standoff": 15
           },
           "zerolinecolor": "white",
           "zerolinewidth": 2
          },
          "yaxis": {
           "automargin": true,
           "gridcolor": "white",
           "linecolor": "white",
           "ticks": "",
           "title": {
            "standoff": 15
           },
           "zerolinecolor": "white",
           "zerolinewidth": 2
          }
         }
        },
        "title": {
         "font": {
          "color": "#4D5663"
         },
         "text": "Cumulative Semiconductor Returns"
        },
        "xaxis": {
         "gridcolor": "#E1E5ED",
         "showgrid": true,
         "tickfont": {
          "color": "#4D5663"
         },
         "title": {
          "font": {
           "color": "#4D5663"
          },
          "text": "Dates"
         },
         "zerolinecolor": "#E1E5ED"
        },
        "yaxis": {
         "gridcolor": "#E1E5ED",
         "showgrid": true,
         "tickfont": {
          "color": "#4D5663"
         },
         "title": {
          "font": {
           "color": "#4D5663"
          },
          "text": "Cumulative Returns"
         },
         "zerolinecolor": "#E1E5ED"
        }
       }
      },
      "text/html": [
       "<div>                            <div id=\"e547d66a-0e7c-48d4-b439-f950c9dcc7eb\" class=\"plotly-graph-div\" style=\"height:525px; width:100%;\"></div>            <script type=\"text/javascript\">                require([\"plotly\"], function(Plotly) {                    window.PLOTLYENV=window.PLOTLYENV || {};\n",
       "                    window.PLOTLYENV.BASE_URL='https://plot.ly';                                    if (document.getElementById(\"e547d66a-0e7c-48d4-b439-f950c9dcc7eb\")) {                    Plotly.newPlot(                        \"e547d66a-0e7c-48d4-b439-f950c9dcc7eb\",                        [{\"line\":{\"color\":\"rgba(255, 153, 51, 1.0)\",\"dash\":\"solid\",\"shape\":\"linear\",\"width\":1.3},\"mode\":\"lines\",\"name\":\"AMD\",\"text\":\"\",\"x\":[\"2024-07-09 00:00:00+00:00\",\"2024-07-10 00:00:00+00:00\",\"2024-07-11 00:00:00+00:00\",\"2024-07-12 00:00:00+00:00\",\"2024-07-15 00:00:00+00:00\",\"2024-07-16 00:00:00+00:00\",\"2024-07-17 00:00:00+00:00\",\"2024-07-18 00:00:00+00:00\",\"2024-07-19 00:00:00+00:00\",\"2024-07-22 00:00:00+00:00\",\"2024-07-23 00:00:00+00:00\",\"2024-07-24 00:00:00+00:00\",\"2024-07-25 00:00:00+00:00\",\"2024-07-26 00:00:00+00:00\",\"2024-07-29 00:00:00+00:00\",\"2024-07-30 00:00:00+00:00\",\"2024-07-31 00:00:00+00:00\",\"2024-08-01 00:00:00+00:00\",\"2024-08-02 00:00:00+00:00\",\"2024-08-05 00:00:00+00:00\",\"2024-08-06 00:00:00+00:00\",\"2024-08-07 00:00:00+00:00\",\"2024-08-08 00:00:00+00:00\",\"2024-08-09 00:00:00+00:00\",\"2024-08-12 00:00:00+00:00\",\"2024-08-13 00:00:00+00:00\",\"2024-08-14 00:00:00+00:00\",\"2024-08-15 00:00:00+00:00\",\"2024-08-16 00:00:00+00:00\",\"2024-08-19 00:00:00+00:00\",\"2024-08-20 00:00:00+00:00\",\"2024-08-21 00:00:00+00:00\",\"2024-08-22 00:00:00+00:00\",\"2024-08-23 00:00:00+00:00\",\"2024-08-26 00:00:00+00:00\",\"2024-08-27 00:00:00+00:00\",\"2024-08-28 00:00:00+00:00\",\"2024-08-29 00:00:00+00:00\",\"2024-08-30 00:00:00+00:00\",\"2024-09-03 00:00:00+00:00\",\"2024-09-04 00:00:00+00:00\",\"2024-09-05 00:00:00+00:00\",\"2024-09-06 00:00:00+00:00\",\"2024-09-09 00:00:00+00:00\",\"2024-09-10 00:00:00+00:00\",\"2024-09-11 00:00:00+00:00\",\"2024-09-12 00:00:00+00:00\",\"2024-09-13 00:00:00+00:00\",\"2024-09-16 00:00:00+00:00\",\"2024-09-17 00:00:00+00:00\",\"2024-09-18 00:00:00+00:00\",\"2024-09-19 00:00:00+00:00\",\"2024-09-20 00:00:00+00:00\",\"2024-09-23 00:00:00+00:00\",\"2024-09-24 00:00:00+00:00\",\"2024-09-25 00:00:00+00:00\",\"2024-09-26 00:00:00+00:00\",\"2024-09-27 00:00:00+00:00\",\"2024-09-30 00:00:00+00:00\",\"2024-10-01 00:00:00+00:00\",\"2024-10-02 00:00:00+00:00\",\"2024-10-03 00:00:00+00:00\",\"2024-10-04 00:00:00+00:00\",\"2024-10-07 00:00:00+00:00\",\"2024-10-08 00:00:00+00:00\"],\"y\":[1.0,1.0038735179977023,1.0027711975359945,1.0025893154172327,1.0016066560088406,1.0003367555863398,0.9901277372370632,0.9878547295204643,0.9851975339019768,0.987985824411872,0.9868005233755105,0.9807964220211816,0.9765173493395165,0.9776963416030997,0.9775287207134479,0.9766123985398594,0.9808732568368184,0.9727672010313991,0.9727378482631917,0.9744410625518826,0.9710873905754329,0.969960998880913,0.9757278525587645,0.974260536707854,0.9760745318402494,0.9791860953568332,0.9789224409357009,0.9835197254345086,0.984320635222897,0.9887731365549951,0.9894863134571418,0.9903783718842699,0.9865438794247886,0.9886769465212502,0.9854936400016359,0.9858287265570833,0.9831168791642301,0.9825324934844469,0.9846057403365587,0.9769043980619985,0.979707981427615,0.9787134650036735,0.9751408546583702,0.9778989664378902,0.981218799042066,0.9860410899536396,0.9866398494619765,0.9876476220300908,0.9874984822907289,0.9866803322064217,0.9850251704438188,0.9906381417104793,0.9901388354903382,0.9906467637401344,0.9916389951116084,0.9939564920077253,0.9973122154253502,0.9954425159537287,0.9952789785504337,0.9926524794332707,0.992671120035868,0.9945784348639648,0.9994948266108067,0.999535769829578,1.0006056372191392],\"type\":\"scatter\"},{\"line\":{\"color\":\"rgba(55, 128, 191, 1.0)\",\"dash\":\"solid\",\"shape\":\"linear\",\"width\":1.3},\"mode\":\"lines\",\"name\":\"INTC\",\"text\":\"\",\"x\":[\"2024-07-09 00:00:00+00:00\",\"2024-07-10 00:00:00+00:00\",\"2024-07-11 00:00:00+00:00\",\"2024-07-12 00:00:00+00:00\",\"2024-07-15 00:00:00+00:00\",\"2024-07-16 00:00:00+00:00\",\"2024-07-17 00:00:00+00:00\",\"2024-07-18 00:00:00+00:00\",\"2024-07-19 00:00:00+00:00\",\"2024-07-22 00:00:00+00:00\",\"2024-07-23 00:00:00+00:00\",\"2024-07-24 00:00:00+00:00\",\"2024-07-25 00:00:00+00:00\",\"2024-07-26 00:00:00+00:00\",\"2024-07-29 00:00:00+00:00\",\"2024-07-30 00:00:00+00:00\",\"2024-07-31 00:00:00+00:00\",\"2024-08-01 00:00:00+00:00\",\"2024-08-02 00:00:00+00:00\",\"2024-08-05 00:00:00+00:00\",\"2024-08-06 00:00:00+00:00\",\"2024-08-07 00:00:00+00:00\",\"2024-08-08 00:00:00+00:00\",\"2024-08-09 00:00:00+00:00\",\"2024-08-12 00:00:00+00:00\",\"2024-08-13 00:00:00+00:00\",\"2024-08-14 00:00:00+00:00\",\"2024-08-15 00:00:00+00:00\",\"2024-08-16 00:00:00+00:00\",\"2024-08-19 00:00:00+00:00\",\"2024-08-20 00:00:00+00:00\",\"2024-08-21 00:00:00+00:00\",\"2024-08-22 00:00:00+00:00\",\"2024-08-23 00:00:00+00:00\",\"2024-08-26 00:00:00+00:00\",\"2024-08-27 00:00:00+00:00\",\"2024-08-28 00:00:00+00:00\",\"2024-08-29 00:00:00+00:00\",\"2024-08-30 00:00:00+00:00\",\"2024-09-03 00:00:00+00:00\",\"2024-09-04 00:00:00+00:00\",\"2024-09-05 00:00:00+00:00\",\"2024-09-06 00:00:00+00:00\",\"2024-09-09 00:00:00+00:00\",\"2024-09-10 00:00:00+00:00\",\"2024-09-11 00:00:00+00:00\",\"2024-09-12 00:00:00+00:00\",\"2024-09-13 00:00:00+00:00\",\"2024-09-16 00:00:00+00:00\",\"2024-09-17 00:00:00+00:00\",\"2024-09-18 00:00:00+00:00\",\"2024-09-19 00:00:00+00:00\",\"2024-09-20 00:00:00+00:00\",\"2024-09-23 00:00:00+00:00\",\"2024-09-24 00:00:00+00:00\",\"2024-09-25 00:00:00+00:00\",\"2024-09-26 00:00:00+00:00\",\"2024-09-27 00:00:00+00:00\",\"2024-09-30 00:00:00+00:00\",\"2024-10-01 00:00:00+00:00\",\"2024-10-02 00:00:00+00:00\",\"2024-10-03 00:00:00+00:00\",\"2024-10-04 00:00:00+00:00\",\"2024-10-07 00:00:00+00:00\",\"2024-10-08 00:00:00+00:00\"],\"y\":[1.0,1.0016189508948712,0.9937484812248444,0.9996219879848569,0.9994480623924751,0.9987520090245895,0.9994500081995307,1.0018282805307062,0.990968197884336,0.9933119136858748,0.9908115283990115,0.9832939776351262,0.9795717274114049,0.9811466043316822,0.9778917664319674,0.9734511190542701,0.9773927439488113,0.9666458679521199,0.9162671571036082,0.9045792029791097,0.9020602401256401,0.8955139502313949,0.909661090215989,0.9027354066346421,0.8995293586434364,0.9098441973823711,0.9049549581914562,0.9119511000528429,0.913537871170076,0.9192283287062082,0.9147005254066266,0.9183610713298859,0.9071228413293393,0.9110943291608393,0.9074570335711774,0.9069160803704833,0.9027588250340864,0.907546517698862,0.924768728464874,0.9084887670077243,0.9024321746529448,0.9021534964803729,0.897410212988222,0.899120473627979,0.8982718005171622,0.9045190003651562,0.9019399349494356,0.9047351961460142,0.9162399672951491,0.921147608577833,0.915141066496263,0.9184015499788325,0.9244836862534886,0.9305791772302234,0.9326416311292917,0.938611203760665,0.9416415474806598,0.9415628131080058,0.9380186559607202,0.9318611705938085,0.9293970065477213,0.9283177672965933,0.93107019127892,0.9293391097180249,0.9371458951712344],\"type\":\"scatter\"},{\"line\":{\"color\":\"rgba(50, 171, 96, 1.0)\",\"dash\":\"solid\",\"shape\":\"linear\",\"width\":1.3},\"mode\":\"lines\",\"name\":\"MU\",\"text\":\"\",\"x\":[\"2024-07-09 00:00:00+00:00\",\"2024-07-10 00:00:00+00:00\",\"2024-07-11 00:00:00+00:00\",\"2024-07-12 00:00:00+00:00\",\"2024-07-15 00:00:00+00:00\",\"2024-07-16 00:00:00+00:00\",\"2024-07-17 00:00:00+00:00\",\"2024-07-18 00:00:00+00:00\",\"2024-07-19 00:00:00+00:00\",\"2024-07-22 00:00:00+00:00\",\"2024-07-23 00:00:00+00:00\",\"2024-07-24 00:00:00+00:00\",\"2024-07-25 00:00:00+00:00\",\"2024-07-26 00:00:00+00:00\",\"2024-07-29 00:00:00+00:00\",\"2024-07-30 00:00:00+00:00\",\"2024-07-31 00:00:00+00:00\",\"2024-08-01 00:00:00+00:00\",\"2024-08-02 00:00:00+00:00\",\"2024-08-05 00:00:00+00:00\",\"2024-08-06 00:00:00+00:00\",\"2024-08-07 00:00:00+00:00\",\"2024-08-08 00:00:00+00:00\",\"2024-08-09 00:00:00+00:00\",\"2024-08-12 00:00:00+00:00\",\"2024-08-13 00:00:00+00:00\",\"2024-08-14 00:00:00+00:00\",\"2024-08-15 00:00:00+00:00\",\"2024-08-16 00:00:00+00:00\",\"2024-08-19 00:00:00+00:00\",\"2024-08-20 00:00:00+00:00\",\"2024-08-21 00:00:00+00:00\",\"2024-08-22 00:00:00+00:00\",\"2024-08-23 00:00:00+00:00\",\"2024-08-26 00:00:00+00:00\",\"2024-08-27 00:00:00+00:00\",\"2024-08-28 00:00:00+00:00\",\"2024-08-29 00:00:00+00:00\",\"2024-08-30 00:00:00+00:00\",\"2024-09-03 00:00:00+00:00\",\"2024-09-04 00:00:00+00:00\",\"2024-09-05 00:00:00+00:00\",\"2024-09-06 00:00:00+00:00\",\"2024-09-09 00:00:00+00:00\",\"2024-09-10 00:00:00+00:00\",\"2024-09-11 00:00:00+00:00\",\"2024-09-12 00:00:00+00:00\",\"2024-09-13 00:00:00+00:00\",\"2024-09-16 00:00:00+00:00\",\"2024-09-17 00:00:00+00:00\",\"2024-09-18 00:00:00+00:00\",\"2024-09-19 00:00:00+00:00\",\"2024-09-20 00:00:00+00:00\",\"2024-09-23 00:00:00+00:00\",\"2024-09-24 00:00:00+00:00\",\"2024-09-25 00:00:00+00:00\",\"2024-09-26 00:00:00+00:00\",\"2024-09-27 00:00:00+00:00\",\"2024-09-30 00:00:00+00:00\",\"2024-10-01 00:00:00+00:00\",\"2024-10-02 00:00:00+00:00\",\"2024-10-03 00:00:00+00:00\",\"2024-10-04 00:00:00+00:00\",\"2024-10-07 00:00:00+00:00\",\"2024-10-08 00:00:00+00:00\"],\"y\":[1.0,1.0100083869896823,0.9986042224472251,1.0049686719541069,0.99992689555499,0.9934705796490557,0.9779049925451824,0.9737110391769788,0.9670994275373848,0.9692577525306955,0.9670927345143091,0.9586915068325802,0.9525410259741012,0.956884875243888,0.9534739778833937,0.9417820976774494,0.9584487853271582,0.9403175087876194,0.9199150855419717,0.9142586507466132,0.9106691575344212,0.9050414284540622,0.9187786730966656,0.9212984070260636,0.925158589019175,0.932001480862962,0.9391034004519241,0.9543950307813668,0.9567152131192681,0.9581326878090715,0.9567214764159613,0.9574745322203322,0.9484813615701015,0.945274550911519,0.9362216203259277,0.9337369524283011,0.9265807788636999,0.9283145871460268,0.9299415815129604,0.9114374505180494,0.9132638148366916,0.9135195270111652,0.9058293472753762,0.9055409808689362,0.9070629814862801,0.9169848104730526,0.9082853326886414,0.9187263001112083,0.9085540273377846,0.9125924105123093,0.9090440476657339,0.9139873383617058,0.9182116581671962,0.9249542890227678,0.9260169516944929,0.9303761175387465,0.9646446992930364,0.9594211584450096,0.9509648680652923,0.9431708186300168,0.9420895297409589,0.9467362829587099,0.9477358402837306,0.9495336977933685,0.9486802091536506],\"type\":\"scatter\"},{\"line\":{\"color\":\"rgba(128, 0, 128, 1.0)\",\"dash\":\"solid\",\"shape\":\"linear\",\"width\":1.3},\"mode\":\"lines\",\"name\":\"NVDA\",\"text\":\"\",\"x\":[\"2024-07-09 00:00:00+00:00\",\"2024-07-10 00:00:00+00:00\",\"2024-07-11 00:00:00+00:00\",\"2024-07-12 00:00:00+00:00\",\"2024-07-15 00:00:00+00:00\",\"2024-07-16 00:00:00+00:00\",\"2024-07-17 00:00:00+00:00\",\"2024-07-18 00:00:00+00:00\",\"2024-07-19 00:00:00+00:00\",\"2024-07-22 00:00:00+00:00\",\"2024-07-23 00:00:00+00:00\",\"2024-07-24 00:00:00+00:00\",\"2024-07-25 00:00:00+00:00\",\"2024-07-26 00:00:00+00:00\",\"2024-07-29 00:00:00+00:00\",\"2024-07-30 00:00:00+00:00\",\"2024-07-31 00:00:00+00:00\",\"2024-08-01 00:00:00+00:00\",\"2024-08-02 00:00:00+00:00\",\"2024-08-05 00:00:00+00:00\",\"2024-08-06 00:00:00+00:00\",\"2024-08-07 00:00:00+00:00\",\"2024-08-08 00:00:00+00:00\",\"2024-08-09 00:00:00+00:00\",\"2024-08-12 00:00:00+00:00\",\"2024-08-13 00:00:00+00:00\",\"2024-08-14 00:00:00+00:00\",\"2024-08-15 00:00:00+00:00\",\"2024-08-16 00:00:00+00:00\",\"2024-08-19 00:00:00+00:00\",\"2024-08-20 00:00:00+00:00\",\"2024-08-21 00:00:00+00:00\",\"2024-08-22 00:00:00+00:00\",\"2024-08-23 00:00:00+00:00\",\"2024-08-26 00:00:00+00:00\",\"2024-08-27 00:00:00+00:00\",\"2024-08-28 00:00:00+00:00\",\"2024-08-29 00:00:00+00:00\",\"2024-08-30 00:00:00+00:00\",\"2024-09-03 00:00:00+00:00\",\"2024-09-04 00:00:00+00:00\",\"2024-09-05 00:00:00+00:00\",\"2024-09-06 00:00:00+00:00\",\"2024-09-09 00:00:00+00:00\",\"2024-09-10 00:00:00+00:00\",\"2024-09-11 00:00:00+00:00\",\"2024-09-12 00:00:00+00:00\",\"2024-09-13 00:00:00+00:00\",\"2024-09-16 00:00:00+00:00\",\"2024-09-17 00:00:00+00:00\",\"2024-09-18 00:00:00+00:00\",\"2024-09-19 00:00:00+00:00\",\"2024-09-20 00:00:00+00:00\",\"2024-09-23 00:00:00+00:00\",\"2024-09-24 00:00:00+00:00\",\"2024-09-25 00:00:00+00:00\",\"2024-09-26 00:00:00+00:00\",\"2024-09-27 00:00:00+00:00\",\"2024-09-30 00:00:00+00:00\",\"2024-10-01 00:00:00+00:00\",\"2024-10-02 00:00:00+00:00\",\"2024-10-03 00:00:00+00:00\",\"2024-10-04 00:00:00+00:00\",\"2024-10-07 00:00:00+00:00\",\"2024-10-08 00:00:00+00:00\"],\"y\":[1.0,1.0067171472430547,0.992706975623765,0.9962913348853721,0.9947495455854269,0.9907222112957822,0.9743160176033085,0.9807156625652206,0.9743174184974731,0.9859046322432117,0.9840092718795687,0.9672733278001755,0.9631036772813034,0.9647763211969801,0.961640334507764,0.9447067217786373,0.9749659178107826,0.9586984455594166,0.9544408620592817,0.9392705375617948,0.9481536339400487,0.9360118208405672,0.9503486643177366,0.9498507268175725,0.9595305797422841,0.9751971069075525,0.9792695257719161,0.9891799922457788,0.9926420330506315,1.0034385418038947,0.9981318979911568,1.0005831212189424,0.9913170114857394,1.002592898333802,0.9969549100506334,1.0005813646818604,0.9953366893239374,0.979449013796077,0.983155590057479,0.9597441700245306,0.9557674490418726,0.9580171642645765,0.948232364885189,0.9566237969170457,0.9602851479634232,0.9798506327377975,0.9845445234467296,0.9844618839416996,0.9796676956554439,0.977171962306876,0.9724801300492073,0.982130303109103,0.9782349388910667,0.9787830922829782,0.9884858932676606,0.9938834321433194,0.9949496555193387,0.9896556647423417,0.9897371868431428,0.9806906712025194,0.984567329846343,0.9928514471579704,0.9970337878542459,1.0026207588949474,1.0127670700405997],\"type\":\"scatter\"},{\"line\":{\"color\":\"rgba(219, 64, 82, 1.0)\",\"dash\":\"solid\",\"shape\":\"linear\",\"width\":1.3},\"mode\":\"lines\",\"name\":\"TSM\",\"text\":\"\",\"x\":[\"2024-07-09 00:00:00+00:00\",\"2024-07-10 00:00:00+00:00\",\"2024-07-11 00:00:00+00:00\",\"2024-07-12 00:00:00+00:00\",\"2024-07-15 00:00:00+00:00\",\"2024-07-16 00:00:00+00:00\",\"2024-07-17 00:00:00+00:00\",\"2024-07-18 00:00:00+00:00\",\"2024-07-19 00:00:00+00:00\",\"2024-07-22 00:00:00+00:00\",\"2024-07-23 00:00:00+00:00\",\"2024-07-24 00:00:00+00:00\",\"2024-07-25 00:00:00+00:00\",\"2024-07-26 00:00:00+00:00\",\"2024-07-29 00:00:00+00:00\",\"2024-07-30 00:00:00+00:00\",\"2024-07-31 00:00:00+00:00\",\"2024-08-01 00:00:00+00:00\",\"2024-08-02 00:00:00+00:00\",\"2024-08-05 00:00:00+00:00\",\"2024-08-06 00:00:00+00:00\",\"2024-08-07 00:00:00+00:00\",\"2024-08-08 00:00:00+00:00\",\"2024-08-09 00:00:00+00:00\",\"2024-08-12 00:00:00+00:00\",\"2024-08-13 00:00:00+00:00\",\"2024-08-14 00:00:00+00:00\",\"2024-08-15 00:00:00+00:00\",\"2024-08-16 00:00:00+00:00\",\"2024-08-19 00:00:00+00:00\",\"2024-08-20 00:00:00+00:00\",\"2024-08-21 00:00:00+00:00\",\"2024-08-22 00:00:00+00:00\",\"2024-08-23 00:00:00+00:00\",\"2024-08-26 00:00:00+00:00\",\"2024-08-27 00:00:00+00:00\",\"2024-08-28 00:00:00+00:00\",\"2024-08-29 00:00:00+00:00\",\"2024-08-30 00:00:00+00:00\",\"2024-09-03 00:00:00+00:00\",\"2024-09-04 00:00:00+00:00\",\"2024-09-05 00:00:00+00:00\",\"2024-09-06 00:00:00+00:00\",\"2024-09-09 00:00:00+00:00\",\"2024-09-10 00:00:00+00:00\",\"2024-09-11 00:00:00+00:00\",\"2024-09-12 00:00:00+00:00\",\"2024-09-13 00:00:00+00:00\",\"2024-09-16 00:00:00+00:00\",\"2024-09-17 00:00:00+00:00\",\"2024-09-18 00:00:00+00:00\",\"2024-09-19 00:00:00+00:00\",\"2024-09-20 00:00:00+00:00\",\"2024-09-23 00:00:00+00:00\",\"2024-09-24 00:00:00+00:00\",\"2024-09-25 00:00:00+00:00\",\"2024-09-26 00:00:00+00:00\",\"2024-09-27 00:00:00+00:00\",\"2024-09-30 00:00:00+00:00\",\"2024-10-01 00:00:00+00:00\",\"2024-10-02 00:00:00+00:00\",\"2024-10-03 00:00:00+00:00\",\"2024-10-04 00:00:00+00:00\",\"2024-10-07 00:00:00+00:00\",\"2024-10-08 00:00:00+00:00\"],\"y\":[1.0,1.007077817379709,1.0001724463085078,1.0032624139866744,1.000981166270557,1.0018674536611558,0.9858841148990499,0.9866557650657357,0.9796521076966408,0.9838834741649851,0.9844295803440349,0.972812590809523,0.9733970163452935,0.9754132735826261,0.9730882860033626,0.9664352041772285,0.9805183737940028,0.9715056457964336,0.961285743027689,0.9588353709336028,0.9684788157207507,0.9680425216073055,0.9799182869093204,0.9829792262041511,0.9835791875536956,0.9891064214990043,0.986386008351497,0.991017054509989,0.9916778652203216,0.9927119379077463,0.9888531022302794,0.9881633826776193,0.9823994806417895,0.9881130307594458,0.9855631352940938,0.9872886032512553,0.9857256177757903,0.9856673552994162,0.9886392122772534,0.975729915038074,0.9761919511948974,0.97962655756701,0.9713921995590881,0.9787758170535867,0.9783549019758927,0.9877511758546335,0.9898780390331687,0.9911137349989873,0.9871837556843054,0.9851636188719859,0.9850811944126379,0.99561040094934,0.9931922808317595,0.9939682039355099,1.0021697576652053,1.0025883205038766,1.0075146613231778,0.997958829361742,0.9931364143678099,0.9913064964921763,0.9956042460582939,0.9997724101878389,1.0016440678899372,1.0053485262574304,1.0070267500579344],\"type\":\"scatter\"}],                        {\"legend\":{\"bgcolor\":\"#F5F6F9\",\"font\":{\"color\":\"#4D5663\"}},\"paper_bgcolor\":\"#F5F6F9\",\"plot_bgcolor\":\"#F5F6F9\",\"template\":{\"data\":{\"barpolar\":[{\"marker\":{\"line\":{\"color\":\"#E5ECF6\",\"width\":0.5},\"pattern\":{\"fillmode\":\"overlay\",\"size\":10,\"solidity\":0.2}},\"type\":\"barpolar\"}],\"bar\":[{\"error_x\":{\"color\":\"#2a3f5f\"},\"error_y\":{\"color\":\"#2a3f5f\"},\"marker\":{\"line\":{\"color\":\"#E5ECF6\",\"width\":0.5},\"pattern\":{\"fillmode\":\"overlay\",\"size\":10,\"solidity\":0.2}},\"type\":\"bar\"}],\"carpet\":[{\"aaxis\":{\"endlinecolor\":\"#2a3f5f\",\"gridcolor\":\"white\",\"linecolor\":\"white\",\"minorgridcolor\":\"white\",\"startlinecolor\":\"#2a3f5f\"},\"baxis\":{\"endlinecolor\":\"#2a3f5f\",\"gridcolor\":\"white\",\"linecolor\":\"white\",\"minorgridcolor\":\"white\",\"startlinecolor\":\"#2a3f5f\"},\"type\":\"carpet\"}],\"choropleth\":[{\"colorbar\":{\"outlinewidth\":0,\"ticks\":\"\"},\"type\":\"choropleth\"}],\"contourcarpet\":[{\"colorbar\":{\"outlinewidth\":0,\"ticks\":\"\"},\"type\":\"contourcarpet\"}],\"contour\":[{\"colorbar\":{\"outlinewidth\":0,\"ticks\":\"\"},\"colorscale\":[[0.0,\"#0d0887\"],[0.1111111111111111,\"#46039f\"],[0.2222222222222222,\"#7201a8\"],[0.3333333333333333,\"#9c179e\"],[0.4444444444444444,\"#bd3786\"],[0.5555555555555556,\"#d8576b\"],[0.6666666666666666,\"#ed7953\"],[0.7777777777777778,\"#fb9f3a\"],[0.8888888888888888,\"#fdca26\"],[1.0,\"#f0f921\"]],\"type\":\"contour\"}],\"heatmapgl\":[{\"colorbar\":{\"outlinewidth\":0,\"ticks\":\"\"},\"colorscale\":[[0.0,\"#0d0887\"],[0.1111111111111111,\"#46039f\"],[0.2222222222222222,\"#7201a8\"],[0.3333333333333333,\"#9c179e\"],[0.4444444444444444,\"#bd3786\"],[0.5555555555555556,\"#d8576b\"],[0.6666666666666666,\"#ed7953\"],[0.7777777777777778,\"#fb9f3a\"],[0.8888888888888888,\"#fdca26\"],[1.0,\"#f0f921\"]],\"type\":\"heatmapgl\"}],\"heatmap\":[{\"colorbar\":{\"outlinewidth\":0,\"ticks\":\"\"},\"colorscale\":[[0.0,\"#0d0887\"],[0.1111111111111111,\"#46039f\"],[0.2222222222222222,\"#7201a8\"],[0.3333333333333333,\"#9c179e\"],[0.4444444444444444,\"#bd3786\"],[0.5555555555555556,\"#d8576b\"],[0.6666666666666666,\"#ed7953\"],[0.7777777777777778,\"#fb9f3a\"],[0.8888888888888888,\"#fdca26\"],[1.0,\"#f0f921\"]],\"type\":\"heatmap\"}],\"histogram2dcontour\":[{\"colorbar\":{\"outlinewidth\":0,\"ticks\":\"\"},\"colorscale\":[[0.0,\"#0d0887\"],[0.1111111111111111,\"#46039f\"],[0.2222222222222222,\"#7201a8\"],[0.3333333333333333,\"#9c179e\"],[0.4444444444444444,\"#bd3786\"],[0.5555555555555556,\"#d8576b\"],[0.6666666666666666,\"#ed7953\"],[0.7777777777777778,\"#fb9f3a\"],[0.8888888888888888,\"#fdca26\"],[1.0,\"#f0f921\"]],\"type\":\"histogram2dcontour\"}],\"histogram2d\":[{\"colorbar\":{\"outlinewidth\":0,\"ticks\":\"\"},\"colorscale\":[[0.0,\"#0d0887\"],[0.1111111111111111,\"#46039f\"],[0.2222222222222222,\"#7201a8\"],[0.3333333333333333,\"#9c179e\"],[0.4444444444444444,\"#bd3786\"],[0.5555555555555556,\"#d8576b\"],[0.6666666666666666,\"#ed7953\"],[0.7777777777777778,\"#fb9f3a\"],[0.8888888888888888,\"#fdca26\"],[1.0,\"#f0f921\"]],\"type\":\"histogram2d\"}],\"histogram\":[{\"marker\":{\"pattern\":{\"fillmode\":\"overlay\",\"size\":10,\"solidity\":0.2}},\"type\":\"histogram\"}],\"mesh3d\":[{\"colorbar\":{\"outlinewidth\":0,\"ticks\":\"\"},\"type\":\"mesh3d\"}],\"parcoords\":[{\"line\":{\"colorbar\":{\"outlinewidth\":0,\"ticks\":\"\"}},\"type\":\"parcoords\"}],\"pie\":[{\"automargin\":true,\"type\":\"pie\"}],\"scatter3d\":[{\"line\":{\"colorbar\":{\"outlinewidth\":0,\"ticks\":\"\"}},\"marker\":{\"colorbar\":{\"outlinewidth\":0,\"ticks\":\"\"}},\"type\":\"scatter3d\"}],\"scattercarpet\":[{\"marker\":{\"colorbar\":{\"outlinewidth\":0,\"ticks\":\"\"}},\"type\":\"scattercarpet\"}],\"scattergeo\":[{\"marker\":{\"colorbar\":{\"outlinewidth\":0,\"ticks\":\"\"}},\"type\":\"scattergeo\"}],\"scattergl\":[{\"marker\":{\"colorbar\":{\"outlinewidth\":0,\"ticks\":\"\"}},\"type\":\"scattergl\"}],\"scattermapbox\":[{\"marker\":{\"colorbar\":{\"outlinewidth\":0,\"ticks\":\"\"}},\"type\":\"scattermapbox\"}],\"scatterpolargl\":[{\"marker\":{\"colorbar\":{\"outlinewidth\":0,\"ticks\":\"\"}},\"type\":\"scatterpolargl\"}],\"scatterpolar\":[{\"marker\":{\"colorbar\":{\"outlinewidth\":0,\"ticks\":\"\"}},\"type\":\"scatterpolar\"}],\"scatter\":[{\"fillpattern\":{\"fillmode\":\"overlay\",\"size\":10,\"solidity\":0.2},\"type\":\"scatter\"}],\"scatterternary\":[{\"marker\":{\"colorbar\":{\"outlinewidth\":0,\"ticks\":\"\"}},\"type\":\"scatterternary\"}],\"surface\":[{\"colorbar\":{\"outlinewidth\":0,\"ticks\":\"\"},\"colorscale\":[[0.0,\"#0d0887\"],[0.1111111111111111,\"#46039f\"],[0.2222222222222222,\"#7201a8\"],[0.3333333333333333,\"#9c179e\"],[0.4444444444444444,\"#bd3786\"],[0.5555555555555556,\"#d8576b\"],[0.6666666666666666,\"#ed7953\"],[0.7777777777777778,\"#fb9f3a\"],[0.8888888888888888,\"#fdca26\"],[1.0,\"#f0f921\"]],\"type\":\"surface\"}],\"table\":[{\"cells\":{\"fill\":{\"color\":\"#EBF0F8\"},\"line\":{\"color\":\"white\"}},\"header\":{\"fill\":{\"color\":\"#C8D4E3\"},\"line\":{\"color\":\"white\"}},\"type\":\"table\"}]},\"layout\":{\"annotationdefaults\":{\"arrowcolor\":\"#2a3f5f\",\"arrowhead\":0,\"arrowwidth\":1},\"autotypenumbers\":\"strict\",\"coloraxis\":{\"colorbar\":{\"outlinewidth\":0,\"ticks\":\"\"}},\"colorscale\":{\"diverging\":[[0,\"#8e0152\"],[0.1,\"#c51b7d\"],[0.2,\"#de77ae\"],[0.3,\"#f1b6da\"],[0.4,\"#fde0ef\"],[0.5,\"#f7f7f7\"],[0.6,\"#e6f5d0\"],[0.7,\"#b8e186\"],[0.8,\"#7fbc41\"],[0.9,\"#4d9221\"],[1,\"#276419\"]],\"sequential\":[[0.0,\"#0d0887\"],[0.1111111111111111,\"#46039f\"],[0.2222222222222222,\"#7201a8\"],[0.3333333333333333,\"#9c179e\"],[0.4444444444444444,\"#bd3786\"],[0.5555555555555556,\"#d8576b\"],[0.6666666666666666,\"#ed7953\"],[0.7777777777777778,\"#fb9f3a\"],[0.8888888888888888,\"#fdca26\"],[1.0,\"#f0f921\"]],\"sequentialminus\":[[0.0,\"#0d0887\"],[0.1111111111111111,\"#46039f\"],[0.2222222222222222,\"#7201a8\"],[0.3333333333333333,\"#9c179e\"],[0.4444444444444444,\"#bd3786\"],[0.5555555555555556,\"#d8576b\"],[0.6666666666666666,\"#ed7953\"],[0.7777777777777778,\"#fb9f3a\"],[0.8888888888888888,\"#fdca26\"],[1.0,\"#f0f921\"]]},\"colorway\":[\"#636efa\",\"#EF553B\",\"#00cc96\",\"#ab63fa\",\"#FFA15A\",\"#19d3f3\",\"#FF6692\",\"#B6E880\",\"#FF97FF\",\"#FECB52\"],\"font\":{\"color\":\"#2a3f5f\"},\"geo\":{\"bgcolor\":\"white\",\"lakecolor\":\"white\",\"landcolor\":\"#E5ECF6\",\"showlakes\":true,\"showland\":true,\"subunitcolor\":\"white\"},\"hoverlabel\":{\"align\":\"left\"},\"hovermode\":\"closest\",\"mapbox\":{\"style\":\"light\"},\"paper_bgcolor\":\"white\",\"plot_bgcolor\":\"#E5ECF6\",\"polar\":{\"angularaxis\":{\"gridcolor\":\"white\",\"linecolor\":\"white\",\"ticks\":\"\"},\"bgcolor\":\"#E5ECF6\",\"radialaxis\":{\"gridcolor\":\"white\",\"linecolor\":\"white\",\"ticks\":\"\"}},\"scene\":{\"xaxis\":{\"backgroundcolor\":\"#E5ECF6\",\"gridcolor\":\"white\",\"gridwidth\":2,\"linecolor\":\"white\",\"showbackground\":true,\"ticks\":\"\",\"zerolinecolor\":\"white\"},\"yaxis\":{\"backgroundcolor\":\"#E5ECF6\",\"gridcolor\":\"white\",\"gridwidth\":2,\"linecolor\":\"white\",\"showbackground\":true,\"ticks\":\"\",\"zerolinecolor\":\"white\"},\"zaxis\":{\"backgroundcolor\":\"#E5ECF6\",\"gridcolor\":\"white\",\"gridwidth\":2,\"linecolor\":\"white\",\"showbackground\":true,\"ticks\":\"\",\"zerolinecolor\":\"white\"}},\"shapedefaults\":{\"line\":{\"color\":\"#2a3f5f\"}},\"ternary\":{\"aaxis\":{\"gridcolor\":\"white\",\"linecolor\":\"white\",\"ticks\":\"\"},\"baxis\":{\"gridcolor\":\"white\",\"linecolor\":\"white\",\"ticks\":\"\"},\"bgcolor\":\"#E5ECF6\",\"caxis\":{\"gridcolor\":\"white\",\"linecolor\":\"white\",\"ticks\":\"\"}},\"title\":{\"x\":0.05},\"xaxis\":{\"automargin\":true,\"gridcolor\":\"white\",\"linecolor\":\"white\",\"ticks\":\"\",\"title\":{\"standoff\":15},\"zerolinecolor\":\"white\",\"zerolinewidth\":2},\"yaxis\":{\"automargin\":true,\"gridcolor\":\"white\",\"linecolor\":\"white\",\"ticks\":\"\",\"title\":{\"standoff\":15},\"zerolinecolor\":\"white\",\"zerolinewidth\":2}}},\"title\":{\"font\":{\"color\":\"#4D5663\"},\"text\":\"Cumulative Semiconductor Returns\"},\"xaxis\":{\"gridcolor\":\"#E1E5ED\",\"showgrid\":true,\"tickfont\":{\"color\":\"#4D5663\"},\"title\":{\"font\":{\"color\":\"#4D5663\"},\"text\":\"Dates\"},\"zerolinecolor\":\"#E1E5ED\"},\"yaxis\":{\"gridcolor\":\"#E1E5ED\",\"showgrid\":true,\"tickfont\":{\"color\":\"#4D5663\"},\"title\":{\"font\":{\"color\":\"#4D5663\"},\"text\":\"Cumulative Returns\"},\"zerolinecolor\":\"#E1E5ED\"}},                        {\"showLink\": true, \"linkText\": \"Export to plot.ly\", \"plotlyServerURL\": \"https://plot.ly\", \"responsive\": true}                    ).then(function(){\n",
       "                            \n",
       "var gd = document.getElementById('e547d66a-0e7c-48d4-b439-f950c9dcc7eb');\n",
       "var x = new MutationObserver(function (mutations, observer) {{\n",
       "        var display = window.getComputedStyle(gd).display;\n",
       "        if (!display || display === 'none') {{\n",
       "            console.log([gd, 'removed!']);\n",
       "            Plotly.purge(gd);\n",
       "            observer.disconnect();\n",
       "        }}\n",
       "}});\n",
       "\n",
       "// Listen for the removal of the full notebook cells\n",
       "var notebookContainer = gd.closest('#notebook-container');\n",
       "if (notebookContainer) {{\n",
       "    x.observe(notebookContainer, {childList: true});\n",
       "}}\n",
       "\n",
       "// Listen for the clearing of the current output cell\n",
       "var outputEl = gd.closest('.output');\n",
       "if (outputEl) {{\n",
       "    x.observe(outputEl, {childList: true});\n",
       "}}\n",
       "\n",
       "                        })                };                });            </script>        </div>"
      ]
     },
     "metadata": {},
     "output_type": "display_data"
    }
   ],
   "source": [
    "semiconductor_returns = semiconductor_data['Adj Close'].pct_change()\n",
    "semiconductor_returns.iloc[0, :] = 0\n",
    "weights = np.array([0.1, 0.2, 0.25, 0.25, 0.2])\n",
    "weighted_returns = weights * semiconductor_returns\n",
    "cumulative_returns = (weighted_returns + 1).cumprod()\n",
    "cumulative_returns.iplot(title='Cumulative Semiconductor Returns', xTitle='Dates', yTitle='Cumulative Returns')"
   ]
  },
  {
   "cell_type": "code",
   "execution_count": null,
   "metadata": {},
   "outputs": [],
   "source": []
  }
 ],
 "metadata": {
  "kernelspec": {
   "display_name": "Python 3",
   "language": "python",
   "name": "python3"
  },
  "language_info": {
   "codemirror_mode": {
    "name": "ipython",
    "version": 3
   },
   "file_extension": ".py",
   "mimetype": "text/x-python",
   "name": "python",
   "nbconvert_exporter": "python",
   "pygments_lexer": "ipython3",
   "version": "3.11.4"
  }
 },
 "nbformat": 4,
 "nbformat_minor": 2
}
